{
 "metadata": {
  "kernelspec": {
   "display_name": "Python 2",
   "language": "python",
   "name": "python2"
  },
  "language_info": {
   "codemirror_mode": {
    "name": "ipython",
    "version": 2
   },
   "file_extension": ".py",
   "mimetype": "text/x-python",
   "name": "python",
   "nbconvert_exporter": "python",
   "pygments_lexer": "ipython2",
   "version": "2.7.9"
  },
  "name": "",
  "signature": "sha256:1c1c8340ebb45770904c660dc02f21940d289262b8d4b3d09117df342552167e"
 },
 "nbformat": 3,
 "nbformat_minor": 0,
 "worksheets": [
  {
   "cells": [
    {
     "cell_type": "markdown",
     "metadata": {},
     "source": [
      "+ Author: Ren Zhang   \n",
      "+ email: zhang_ren@bentley.edu"
     ]
    },
    {
     "cell_type": "markdown",
     "metadata": {},
     "source": [
      "## Reference\n",
      "1. Dataset: \n",
      "    + I am using the improved data set downloaded from the Udacity website. A [link](https://s3.amazonaws.com/uploads.hipchat.com/23756/665149/05bgLZqSsMycnkg/turnstile-weather-variables.pdf) to a description of the variables in the data set \n",
      "2. Forum Posts:\n",
      "    + [Mann-Whitney U Test on improved dataset yields p=NaN?](https://discussions.udacity.com/t/mann-whitney-u-test-on-improved-dataset-yields-p-nan/4470) \n",
      "    + [Project Mann-Whitney U Test p-value](https://discussions.udacity.com/t/project-mann-whitney-u-test-p-value/18145/6)\n",
      "3. Wikipedia Articles:\n",
      "    + [Mann\u2013Whitney U test](https://en.wikipedia.org/wiki/Mann%E2%80%93Whitney_U_test)\n",
      "4. Book: \n",
      "    + [Elements of Statistical Learning: data mining, inference and prediction](http://www-stat.stanford.edu/~tibs/ElemStatLearn/index.html) by Hastie, Tibshirani and Friedman"
     ]
    },
    {
     "cell_type": "markdown",
     "metadata": {},
     "source": [
      "## Statistical Test\n",
      "\n",
      "The variable we are interested in analyzing is `ENTRIESn_hourly` in the dataset. We want to investigate whether the `ENTRIESn_hourly` on rainny days and the `ENTRIESn_hourly` on days without rain are drawn from the same population.   \n",
      "\n",
      "Judging from the two histograms(see Appendix) of `ENTRIESn_hourly` in these two situations, we find out that the distributions are not normal. We decide to perform a one-tail Mann-Whitney U test, because this test does not make any assumptions on distributions whereas t-test can only be applied on normal distributions.   \n",
      "\n",
      "+ The null hypothesis is: the mean value of `ENTRIESn_hourly` on rainny days is the same as that on days without rain.  \n",
      "+ The alternative hypothesis is: the mean value of `ENTRIESn_hourly` on rainny days is higher than that on days without rain.  \n",
      "\n",
      "The mean value of `ENTRIESn_hourly` on rainny days is 2028.1960 and the mean value of `ENTRIESn_hourly` on days without rain is 1845.5394. The U value is 153635120.5 and the associated p value is 5.4827e-06. The p value is very small, even if we use a very small critical value 0.0001, we can still reject the null hypothesis and conclude that the mean value of `ENTRIESn_hourly` on rainny days is significantly higher than that on days without rain.  "
     ]
    },
    {
     "cell_type": "markdown",
     "metadata": {},
     "source": [
      "## Linear Regression\n",
      "\n",
      "We used lasso regression to perform feature selection and model fitting at the same time. \n",
      "\n",
      "> The Lasso is a shrinkage and selection method for linear regression. It minimizes the usual sum of squared errors, with a bound on the sum of the absolute values of the coefficients.     \n",
      "\n",
      "Lasso regression uses a $l_1$ penlty that has the effect of forcing some of the coefficient estimates to be exactly equal to zero when the tuning parameter $\\lambda$ is sufficiently large. Thus, in the resulting model, only subset of the features are used.   \n",
      "\n",
      "Since lasso will perform feature selection for us, we can put as many features as possible into the fitting. The features entered to fit a lasso regression model are: `precipi`, `pressurei`, `tempi`, `wspdi`, `meanprecipi`, `meanpressurei`, `meantempi`, `meanwspdi`, `hour`, `day_week`, `weekday`, `conds`, `rain`, `fog` and `UNIT`. Among them, we performed dummy variable transformations on `hour`, `day_week`, `weekday`, `conds`, `rain`, `fog` and `UNIT`, becasue these variables are categorical rather than numerical.   \n",
      "\n",
      "We fitted the lasso regression model using a tuning parameter of 0.2 and the resulting $R^2$ value is 0.5125. The features selected in the model and the associated coefficients are shown in the Appendix. Unfortuntly, only the dummy variables remained in the model.   \n",
      "\n",
      "The $R^2$ value 0.5125 means that 51.25% of variability in the dependent variable `ENTRIESn_hourly` in the sample we have is explained by the lasso regression model. This $R^2$ value is moderate and the model is not appropriate for making perdictions on ridership. Also notice that the $R^2$ is not an estimate for the whole population, so making perdictions using this model for out of sample data points might be even more inaccurate. "
     ]
    },
    {
     "cell_type": "markdown",
     "metadata": {},
     "source": [
      "## Visualization\n",
      "\n",
      "The first visualization is the histograms of the dependent variable `ENTRIESn_hourly` on rainny days and on days without rain (see Appendix for the plots). Judging from the histograms, the distributions are not normally distributed but rather following a power law distribution. \n",
      "\n",
      "The second visualization is a bar plot of the average value of the dependent variable `ENTRIESn_hourly` faceted by the day of week. We can clearly see that the ridership during weekend is much less than the ridership during weekdays.  "
     ]
    },
    {
     "cell_type": "markdown",
     "metadata": {},
     "source": [
      "## Conclusion\n",
      "Based on the result of the statistical test, we conclude that more people ride the NYC subway when it is raining than when it is not raining. If indeed there is no difference in ridership between rainny days and days without rain, the chance that we obtain the data we have in hand is too small that no reasonable people would attribute that to chance of sampling.   \n",
      "\n",
      "Since the lasso regression model we built did not include the variable `rain` as a explanatory variable, so the previous conclusion we have is based solely on the statistical test. Also, we construced a random forest regression model and looked at the feature importance provided by the model (see Appendix), `rain` is not among the 20 most important variabels. "
     ]
    },
    {
     "cell_type": "markdown",
     "metadata": {},
     "source": [
      "## Reflection \n",
      "\n",
      "One potential shortcomming of this analysis is that, I did not perform any test about the outliers. Outliers may have great impact on model fitting.  \n",
      "\n",
      "The second thing is that, $R^2$ is not a good measure when comparing models with different numbers of features. Adding more explanatory variables into a model will never causing the $R^2$ value to decrease. "
     ]
    },
    {
     "cell_type": "markdown",
     "metadata": {},
     "source": [
      "## Appendix Python Code for the project\n",
      "### Load libraries and set ipython notebook inline plotting"
     ]
    },
    {
     "cell_type": "code",
     "collapsed": false,
     "input": [
      "import os\n",
      "import pandas as pd\n",
      "import numpy as np\n",
      "import scipy\n",
      "from sklearn import linear_model\n",
      "from sklearn.metrics import r2_score\n",
      "from sklearn.ensemble.forest import RandomForestRegressor\n",
      "from ggplot import *\n",
      "%matplotlib inline"
     ],
     "language": "python",
     "metadata": {},
     "outputs": [],
     "prompt_number": 1
    },
    {
     "cell_type": "heading",
     "level": 3,
     "metadata": {},
     "source": [
      "Read in data set"
     ]
    },
    {
     "cell_type": "code",
     "collapsed": false,
     "input": [
      "filename = \"turnstile_weather_v2.csv\"\n",
      "path = \"d:\\GithubRepos\\Udacity\\P2\"\n",
      "df = pd.read_csv(os.path.join(path,filename))"
     ],
     "language": "python",
     "metadata": {},
     "outputs": [],
     "prompt_number": 2
    },
    {
     "cell_type": "heading",
     "level": 3,
     "metadata": {},
     "source": [
      "Statistical Test"
     ]
    },
    {
     "cell_type": "markdown",
     "metadata": {},
     "source": [
      "get *ENTRIESn_hourly* in two situations"
     ]
    },
    {
     "cell_type": "code",
     "collapsed": false,
     "input": [
      "rain_ENTRIESn_hourly = df[df[\"rain\"] == 1][\"ENTRIESn_hourly\"]\n",
      "nonrain_ENTRIESn_hourly = df[df[\"rain\"] == 0][\"ENTRIESn_hourly\"]"
     ],
     "language": "python",
     "metadata": {},
     "outputs": [],
     "prompt_number": 3
    },
    {
     "cell_type": "markdown",
     "metadata": {},
     "source": [
      "Calculating the mean values of *ENTRIESn_hourly* in rainy days and in days without rain.  "
     ]
    },
    {
     "cell_type": "code",
     "collapsed": false,
     "input": [
      "print \"rainny days    |  days without rain\"\n",
      "print np.mean(rain_ENTRIESn_hourly),\" | \", np.mean(nonrain_ENTRIESn_hourly)"
     ],
     "language": "python",
     "metadata": {},
     "outputs": [
      {
       "output_type": "stream",
       "stream": "stdout",
       "text": [
        "rainny days    |  days without rain\n",
        "2028.19603547  |  1845.53943866\n"
       ]
      }
     ],
     "prompt_number": 4
    },
    {
     "cell_type": "markdown",
     "metadata": {},
     "source": [
      "There is strange behavior of the `mannwhitneyu()` function from the scipy library when used in windows machines against the improved data set. This is discussed in a couple of posts (see the Reference part).  \n",
      "I used the formula for p value as described in the wikipeida page to calculate it."
     ]
    },
    {
     "cell_type": "code",
     "collapsed": false,
     "input": [
      "U, _ = scipy.stats.mannwhitneyu(rain_ENTRIESn_hourly, nonrain_ENTRIESn_hourly)\n",
      "mu_u = len(rain_ENTRIESn_hourly)*len(nonrain_ENTRIESn_hourly)/2\n",
      "sigma_u = np.sqrt(len(rain_ENTRIESn_hourly)*len(nonrain_ENTRIESn_hourly)*\n",
      "                  (len(rain_ENTRIESn_hourly)+len(nonrain_ENTRIESn_hourly)+1)/12)\n",
      "z = (U - mu_u)/sigma_u\n",
      "p = 2*scipy.stats.norm.cdf(z)\n",
      "print \"U value      |  p value\"\n",
      "print U,\" | \", p"
     ],
     "language": "python",
     "metadata": {},
     "outputs": [
      {
       "output_type": "stream",
       "stream": "stdout",
       "text": [
        "U value      |  p value\n",
        "153635120.5  |  5.48269387142e-06\n"
       ]
      }
     ],
     "prompt_number": 5
    },
    {
     "cell_type": "markdown",
     "metadata": {},
     "source": [
      "### Linear regression\n",
      "Prepare the features and training labels. "
     ]
    },
    {
     "cell_type": "code",
     "collapsed": false,
     "input": [
      "features_start_with = [\"precipi\",\"pressurei\",\"tempi\",\"wspdi\",\n",
      "                        \"meanprecipi\",\"meanpressurei\",\"meantempi\",\"meanwspdi\",]\n",
      "\n",
      "categorical_features_to_dummies = [\"hour\",\"day_week\",\"weekday\",\"conds\",\"rain\",\"fog\",\"UNIT\"]\n",
      "\n",
      "X = df[features_start_with]\n",
      "\n",
      "for feature in categorical_features_to_dummies:\n",
      "    dummy = pd.get_dummies(df[feature], prefix = feature)\n",
      "    X = X.join(dummy)\n",
      "    \n",
      "y = df['ENTRIESn_hourly']"
     ],
     "language": "python",
     "metadata": {},
     "outputs": [],
     "prompt_number": 6
    },
    {
     "cell_type": "markdown",
     "metadata": {},
     "source": [
      "Fit lasso regression model"
     ]
    },
    {
     "cell_type": "code",
     "collapsed": false,
     "input": [
      "clf = linear_model.Lasso(alpha=0.2, fit_intercept = True, normalize = True)\n",
      "clf.fit(X,y)"
     ],
     "language": "python",
     "metadata": {},
     "outputs": [
      {
       "metadata": {},
       "output_type": "pyout",
       "prompt_number": 7,
       "text": [
        "Lasso(alpha=0.2, copy_X=True, fit_intercept=True, max_iter=1000,\n",
        "   normalize=True, positive=False, precompute=False, random_state=None,\n",
        "   selection='cyclic', tol=0.0001, warm_start=False)"
       ]
      }
     ],
     "prompt_number": 7
    },
    {
     "cell_type": "markdown",
     "metadata": {},
     "source": [
      "Make prediction on the sample data and calculate the R Squared value"
     ]
    },
    {
     "cell_type": "code",
     "collapsed": false,
     "input": [
      "y_pred = clf.predict(X)\n",
      "r2_score(y,clf.predict(X))"
     ],
     "language": "python",
     "metadata": {},
     "outputs": [
      {
       "metadata": {},
       "output_type": "pyout",
       "prompt_number": 8,
       "text": [
        "0.51248812846310254"
       ]
      }
     ],
     "prompt_number": 8
    },
    {
     "cell_type": "markdown",
     "metadata": {},
     "source": [
      "See the variables used in the model as well as the coefficients"
     ]
    },
    {
     "cell_type": "code",
     "collapsed": false,
     "input": [
      "names = X.columns[clf.coef_ > 0.01]\n",
      "coefficients = clf.coef_[clf.coef_ > 0.01]\n",
      "row_name, coef_value = \"\",\"\"\n",
      "for i in range(len(names)):\n",
      "    row_name += names[i].rjust(12)\n",
      "    coef_value += str(round(coefficients[i],5)).rjust(12)\n",
      "    if len(row_name) > 80:\n",
      "        print row_name\n",
      "        print coef_value\n",
      "        print \n",
      "        row_name, coef_value = \"\",\"\""
     ],
     "language": "python",
     "metadata": {},
     "outputs": [
      {
       "output_type": "stream",
       "stream": "stdout",
       "text": [
        "     hour_12     hour_20  day_week_3 conds_Clear   UNIT_R011   UNIT_R012   UNIT_R013\n",
        "   705.82337   912.87137     0.75025    42.73925  5401.16449  6753.92547    652.3663\n",
        "\n",
        "   UNIT_R017   UNIT_R018   UNIT_R019   UNIT_R020   UNIT_R021   UNIT_R022   UNIT_R023\n",
        "  2267.36089  5913.86907   1398.4282  4443.45774  2752.76777  7587.85015  4223.02754\n",
        "\n",
        "   UNIT_R024   UNIT_R025   UNIT_R027   UNIT_R029   UNIT_R030   UNIT_R031   UNIT_R032\n",
        "  1358.29953  3495.32068  1037.46312   5299.4362  1169.62972  2421.39851  2515.19138\n",
        "\n",
        "   UNIT_R033   UNIT_R035   UNIT_R041   UNIT_R043   UNIT_R044   UNIT_R046   UNIT_R049\n",
        "  6304.40921   866.38262  1169.44144    956.5758  2747.98437  6414.43595   842.24775\n",
        "\n",
        "   UNIT_R050   UNIT_R051   UNIT_R053   UNIT_R055   UNIT_R057   UNIT_R062   UNIT_R080\n",
        "  2093.80474  3203.98963   1308.7658  6473.91472  2952.37678   806.23692  1681.54336\n",
        "\n",
        "   UNIT_R081   UNIT_R083   UNIT_R084   UNIT_R085   UNIT_R086   UNIT_R092   UNIT_R093\n",
        "  1628.34557  1195.95191  8100.22607   678.76364   669.54322   122.42588   155.24393\n",
        "\n",
        "   UNIT_R095   UNIT_R096   UNIT_R097   UNIT_R099   UNIT_R101   UNIT_R102   UNIT_R105\n",
        "   312.92751   499.53521  1122.90662   461.12943   895.52192   1784.3606   1434.0595\n",
        "\n",
        "   UNIT_R108   UNIT_R111   UNIT_R116   UNIT_R119   UNIT_R122   UNIT_R127   UNIT_R137\n",
        "  3323.22618  1320.34981  1299.49494     4.28494   727.18736  2902.11328   619.82327\n",
        "\n",
        "   UNIT_R139   UNIT_R163   UNIT_R172   UNIT_R179   UNIT_R188   UNIT_R194   UNIT_R198\n",
        "   635.79067  1437.84983     3.88743   4884.6616   436.89373    91.82522   219.21858\n",
        "\n",
        "   UNIT_R202   UNIT_R207   UNIT_R208   UNIT_R211   UNIT_R218   UNIT_R223   UNIT_R235\n",
        "   401.42173   112.64656   684.90573   522.81744   165.34377   303.48108   688.61001\n",
        "\n"
       ]
      }
     ],
     "prompt_number": 9
    },
    {
     "cell_type": "markdown",
     "metadata": {},
     "source": [
      "### Visualization"
     ]
    },
    {
     "cell_type": "markdown",
     "metadata": {},
     "source": [
      "create histogram for *ENTRIESn_hourly* on rainy days and on days without rain."
     ]
    },
    {
     "cell_type": "code",
     "collapsed": false,
     "input": [
      "ggplot(aes(x=\"ENTRIESn_hourly\", color = \"rain\") , data = df) + \\\n",
      "    geom_histogram(binwidth = 300, alpha = 0.9) + \\\n",
      "    ylab(\"Count\") + \\\n",
      "    ggtitle(\"Ridership on Rainny Days\") + \\\n",
      "    xlim(0,15000)"
     ],
     "language": "python",
     "metadata": {},
     "outputs": [
      {
       "metadata": {},
       "output_type": "display_data",
       "png": "[encoded data removed]",
       "text": [
        "<matplotlib.figure.Figure at 0x144a15c0>"
       ]
      },
      {
       "metadata": {},
       "output_type": "pyout",
       "prompt_number": 11,
       "text": [
        "<ggplot: (21003019)>"
       ]
      }
     ],
     "prompt_number": 11
    },
    {
     "cell_type": "markdown",
     "metadata": {},
     "source": [
      "Both distributions are more likly following the power law distribution rather than normal distribution. "
     ]
    },
    {
     "cell_type": "code",
     "collapsed": false,
     "input": [
      "grouped = df.groupby(\"day_week\")\n",
      "avg_entri_by_weekday = grouped[\"ENTRIESn_hourly\"].mean()\n",
      "avg_entri_by_weekday.plot(kind = \"bar\")"
     ],
     "language": "python",
     "metadata": {},
     "outputs": [
      {
       "metadata": {},
       "output_type": "pyout",
       "prompt_number": 12,
       "text": [
        "<matplotlib.axes._subplots.AxesSubplot at 0x142b3da0>"
       ]
      },
      {
       "metadata": {},
       "output_type": "display_data",
       "png": "[encoded data removed]",
       "text": [
        "<matplotlib.figure.Figure at 0x1443a240>"
       ]
      }
     ],
     "prompt_number": 12
    },
    {
     "cell_type": "markdown",
     "metadata": {},
     "source": [
      "The two bars on the right hand side are the average value of *ENTRIESn_hourly* on saturday and sunday. The bars are relatively shorter than the bars on weekdays."
     ]
    },
    {
     "cell_type": "code",
     "collapsed": false,
     "input": [
      "RF_model = RandomForestRegressor(random_state=0, n_estimators=10)\n",
      "RF_model.fit(X,y)"
     ],
     "language": "python",
     "metadata": {},
     "outputs": [
      {
       "metadata": {},
       "output_type": "pyout",
       "prompt_number": 13,
       "text": [
        "RandomForestRegressor(bootstrap=True, criterion='mse', max_depth=None,\n",
        "           max_features='auto', max_leaf_nodes=None, min_samples_leaf=1,\n",
        "           min_samples_split=2, min_weight_fraction_leaf=0.0,\n",
        "           n_estimators=10, n_jobs=1, oob_score=False, random_state=0,\n",
        "           verbose=0, warm_start=False)"
       ]
      }
     ],
     "prompt_number": 13
    },
    {
     "cell_type": "markdown",
     "metadata": {},
     "source": [
      "The most important 20 features based on random forest model. "
     ]
    },
    {
     "cell_type": "code",
     "collapsed": false,
     "input": [
      "names = X.columns[RF_model.feature_importances_ >= np.sort(RF_model.feature_importances_)[::-1][20]]\n",
      "print names"
     ],
     "language": "python",
     "metadata": {},
     "outputs": [
      {
       "output_type": "stream",
       "stream": "stdout",
       "text": [
        "Index([u'meantempi', u'hour_0', u'hour_4', u'hour_8', u'hour_12', u'hour_16',\n",
        "       u'hour_20', u'weekday_0', u'weekday_1', u'UNIT_R011', u'UNIT_R012',\n",
        "       u'UNIT_R018', u'UNIT_R020', u'UNIT_R022', u'UNIT_R023', u'UNIT_R029',\n",
        "       u'UNIT_R033', u'UNIT_R046', u'UNIT_R055', u'UNIT_R084', u'UNIT_R179'],\n",
        "      dtype='object')\n"
       ]
      }
     ],
     "prompt_number": 15
    }
   ],
   "metadata": {}
  }
 ]
}