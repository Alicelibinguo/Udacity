{
 "metadata": {
  "name": "",
  "signature": "sha256:4a25e0f390f3682d8320adee5ede9703d28f56267d2516e6fd8d63a1f6e01fe3"
 },
 "nbformat": 3,
 "nbformat_minor": 0,
 "worksheets": [
  {
   "cells": [
    {
     "cell_type": "code",
     "collapsed": false,
     "input": [
      "#!/usr/bin/python\n",
      "\n",
      "import os\n",
      "import pickle\n",
      "import re\n",
      "import sys\n",
      "\n",
      "sys.path.append( \"../tools/\" )\n",
      "from parse_out_email_text import parseOutText\n",
      "\n",
      "\"\"\"\n",
      "    Starter code to process the emails from Sara and Chris to extract\n",
      "    the features and get the documents ready for classification.\n",
      "\n",
      "    The list of all the emails from Sara are in the from_sara list\n",
      "    likewise for emails from Chris (from_chris)\n",
      "\n",
      "    The actual documents are in the Enron email dataset, which\n",
      "    you downloaded/unpacked in Part 0 of the first mini-project. If you have\n",
      "    not obtained the Enron email corpus, run startup.py in the tools folder.\n",
      "\n",
      "    The data is stored in lists and packed away in pickle files at the end.\n",
      "\"\"\"\n",
      "\n",
      "\n",
      "from_sara  = open(\"from_sara.txt\", \"r\")\n",
      "from_chris = open(\"from_chris.txt\", \"r\")\n",
      "\n",
      "from_data = []\n",
      "word_data = []\n",
      "\n",
      "### temp_counter is a way to speed up the development--there are\n",
      "### thousands of emails from Sara and Chris, so running over all of them\n",
      "### can take a long time\n",
      "### temp_counter helps you only look at the first 200 emails in the list so you\n",
      "### can iterate your modifications quicker\n",
      "temp_counter = 0\n",
      "\n",
      "\n",
      "for name, from_person in [(\"sara\", from_sara), (\"chris\", from_chris)]:\n",
      "    for path in from_person:\n",
      "        ### only look at first 200 emails when developing\n",
      "        ### once everything is working, remove this line to run over full dataset\n",
      "        # temp_counter += 1\n",
      "        if temp_counter < 200:\n",
      "            path = os.path.join('..', path[:-1])\n",
      "            print path\n",
      "            email = open(path, \"r\")\n",
      "\n",
      "            ### use parseOutText to extract the text from the opened email\n",
      "\n",
      "            ### use str.replace() to remove any instances of the words\n",
      "            ### [\"sara\", \"shackleton\", \"chris\", \"germani\"]\n",
      "\n",
      "            ### append the text to word_data\n",
      "\n",
      "            ### append a 0 to from_data if email is from Sara, and 1 if email is from Chris\n",
      "\n",
      "            text = parseOutText(email)\n",
      "            for w in [\"sara\", \"shackleton\", \"chris\", \"germani\"]:\n",
      "                text.replace(w, \"\")\n",
      "\n",
      "            word_data.append(text)\n",
      "            if name == \"sara\":\n",
      "                from_data.append(0)\n",
      "            else:\n",
      "                from_data.append(1)\n",
      "\n",
      "            email.close()\n",
      "\n",
      "print \"emails processed\"\n",
      "from_sara.close()\n",
      "from_chris.close()\n",
      "\n",
      "pickle.dump( word_data, open(\"your_word_data.pkl\", \"w\") )\n",
      "pickle.dump( from_data, open(\"your_email_authors.pkl\", \"w\") )\n",
      "\n",
      "\n",
      "\n",
      "\n",
      "\n",
      "### in Part 4, do TfIdf vectorization here\n",
      "\n",
      "from sklearn.feature_extraction.text import TfidfVectorizer\n",
      "\n",
      "vectorizer = TfidfVectorizer()\n",
      "vectorizer.fit_transform(word_data)\n",
      "\n",
      "feature_names = vectorizer.get_feature_names()\n",
      "print len(feature_names)"
     ],
     "language": "python",
     "metadata": {},
     "outputs": [
      {
       "output_type": "stream",
       "stream": "stdout",
       "text": [
        "..\\maildir/bailey-s/deleted_items/101.\n",
        "..\\maildir/bailey-s/deleted_items/106.\n",
        "..\\maildir/bailey-s/deleted_items/132.\n",
        "..\\maildir/bailey-s/deleted_items/185.\n",
        "..\\maildir/bailey-s/deleted_items/186.\n",
        "..\\maildir/bailey-s/deleted_items/187."
       ]
      },
      {
       "output_type": "stream",
       "stream": "stdout",
       "text": [
        "\n",
        "..\\maildir/bailey-s/deleted_items/193.\n",
        "..\\maildir/bailey-s/deleted_items/195.\n",
        "..\\maildir/bailey-s/deleted_items/214.\n",
        "..\\maildir/bailey-s/deleted_items/215.\n",
        "..\\maildir/bailey-s/deleted_items/233."
       ]
      },
      {
       "output_type": "stream",
       "stream": "stdout",
       "text": [
        "\n",
        "..\\maildir/bailey-s/deleted_items/242.\n",
        "..\\maildir/bailey-s/deleted_items/243.\n",
        "..\\maildir/bailey-s/deleted_items/244.\n",
        "..\\maildir/bailey-s/deleted_items/246.\n",
        "..\\maildir/bailey-s/deleted_items/247.\n",
        "..\\maildir/bailey-s/deleted_items/254.\n",
        "..\\maildir/bailey-s/deleted_items/259."
       ]
      },
      {
       "output_type": "stream",
       "stream": "stdout",
       "text": [
        "\n",
        "..\\maildir/bailey-s/deleted_items/260.\n",
        "..\\maildir/bailey-s/deleted_items/261.\n",
        "..\\maildir/bailey-s/deleted_items/263.\n",
        "..\\maildir/bailey-s/deleted_items/278.\n",
        "..\\maildir/bailey-s/deleted_items/290.\n",
        "..\\maildir/bailey-s/deleted_items/296.\n",
        "..\\maildir/bailey-s/deleted_items/302.\n",
        "..\\maildir/bailey-s/deleted_items/306.\n",
        "..\\maildir/bailey-s/deleted_items/307.\n",
        "..\\maildir/bailey-s/deleted_items/317."
       ]
      },
      {
       "output_type": "stream",
       "stream": "stdout",
       "text": [
        "\n",
        "..\\maildir/bailey-s/deleted_items/320.\n",
        "..\\maildir/bailey-s/deleted_items/335.\n",
        "..\\maildir/bailey-s/deleted_items/70.\n",
        "..\\maildir/heard-m/brokerage_agreements/1."
       ]
      },
      {
       "output_type": "stream",
       "stream": "stdout",
       "text": [
        "\n",
        "..\\maildir/heard-m/brokerage_agreements/16."
       ]
      },
      {
       "output_type": "stream",
       "stream": "stdout",
       "text": [
        "\n",
        "..\\maildir/heard-m/brokerage_agreements/17.\n",
        "..\\maildir/heard-m/brokerage_agreements/2.\n",
        "..\\maildir/heard-m/brokerage_agreements/24.\n",
        "..\\maildir/heard-m/brokerage_agreements/26."
       ]
      },
      {
       "output_type": "stream",
       "stream": "stdout",
       "text": [
        "\n",
        "..\\maildir/heard-m/brokerage_agreements/27.\n",
        "..\\maildir/heard-m/brokerage_agreements/33.\n",
        "..\\maildir/heard-m/brokerage_agreements/35.\n",
        "..\\maildir/heard-m/brokerage_agreements/36.\n",
        "..\\maildir/heard-m/brokerage_agreements/4."
       ]
      },
      {
       "output_type": "stream",
       "stream": "stdout",
       "text": [
        "\n",
        "..\\maildir/heard-m/brokerage_agreements/52.\n",
        "..\\maildir/heard-m/brokerage_agreements/73.\n",
        "..\\maildir/heard-m/brokerage_agreements/8.\n",
        "..\\maildir/heard-m/brokerage_agreements/87.\n",
        "..\\maildir/heard-m/deleted_items/122.\n",
        "..\\maildir/heard-m/deleted_items/134."
       ]
      },
      {
       "output_type": "stream",
       "stream": "stdout",
       "text": [
        "\n",
        "..\\maildir/heard-m/deleted_items/38.\n",
        "..\\maildir/heard-m/deleted_items/48."
       ]
      },
      {
       "output_type": "stream",
       "stream": "stdout",
       "text": [
        "\n",
        "..\\maildir/heard-m/deleted_items/49.\n",
        "..\\maildir/heard-m/deleted_items/50."
       ]
      },
      {
       "output_type": "stream",
       "stream": "stdout",
       "text": [
        "\n",
        "..\\maildir/heard-m/deleted_items/60.\n",
        "..\\maildir/heard-m/deleted_items/66.\n",
        "..\\maildir/heard-m/deleted_items/71.\n",
        "..\\maildir/heard-m/deleted_items/79.\n",
        "..\\maildir/heard-m/inbox/102."
       ]
      },
      {
       "output_type": "stream",
       "stream": "stdout",
       "text": [
        "\n",
        "..\\maildir/heard-m/inbox/104.\n",
        "..\\maildir/heard-m/inbox/105."
       ]
      },
      {
       "output_type": "stream",
       "stream": "stdout",
       "text": [
        "\n",
        "..\\maildir/heard-m/inbox/106.\n",
        "..\\maildir/heard-m/inbox/112.\n",
        "..\\maildir/heard-m/inbox/133.\n",
        "..\\maildir/heard-m/inbox/160.\n",
        "..\\maildir/heard-m/inbox/161."
       ]
      },
      {
       "output_type": "stream",
       "stream": "stdout",
       "text": [
        "\n",
        "..\\maildir/heard-m/inbox/166.\n",
        "..\\maildir/heard-m/inbox/177.\n",
        "..\\maildir/heard-m/inbox/182.\n",
        "..\\maildir/heard-m/inbox/19.\n",
        "..\\maildir/heard-m/inbox/21."
       ]
      },
      {
       "output_type": "stream",
       "stream": "stdout",
       "text": [
        "\n",
        "..\\maildir/heard-m/inbox/22.\n",
        "..\\maildir/heard-m/inbox/23.\n",
        "..\\maildir/heard-m/inbox/26.\n",
        "..\\maildir/heard-m/inbox/275.\n",
        "..\\maildir/heard-m/inbox/34.\n",
        "..\\maildir/heard-m/inbox/35."
       ]
      },
      {
       "output_type": "stream",
       "stream": "stdout",
       "text": [
        "\n",
        "..\\maildir/heard-m/inbox/41.\n",
        "..\\maildir/heard-m/inbox/48."
       ]
      },
      {
       "output_type": "stream",
       "stream": "stdout",
       "text": [
        "\n",
        "..\\maildir/heard-m/inbox/67.\n",
        "..\\maildir/heard-m/inbox/69.\n",
        "..\\maildir/heard-m/inbox/76."
       ]
      },
      {
       "output_type": "stream",
       "stream": "stdout",
       "text": [
        "\n",
        "..\\maildir/hodge-j/deleted_items/206.\n",
        "..\\maildir/hodge-j/inbox/436."
       ]
      },
      {
       "output_type": "stream",
       "stream": "stdout",
       "text": [
        "\n",
        "..\\maildir/jones-t/all_documents/10126.\n",
        "..\\maildir/jones-t/all_documents/10138."
       ]
      },
      {
       "output_type": "stream",
       "stream": "stdout",
       "text": [
        "\n",
        "..\\maildir/jones-t/all_documents/10347.\n",
        "..\\maildir/jones-t/all_documents/10602."
       ]
      },
      {
       "output_type": "stream",
       "stream": "stdout",
       "text": [
        "\n",
        "..\\maildir/jones-t/all_documents/10865.\n",
        "..\\maildir/jones-t/all_documents/10946."
       ]
      },
      {
       "output_type": "stream",
       "stream": "stdout",
       "text": [
        "\n",
        "..\\maildir/jones-t/all_documents/11004.\n",
        "..\\maildir/jones-t/all_documents/11404."
       ]
      },
      {
       "output_type": "stream",
       "stream": "stdout",
       "text": [
        "\n",
        "..\\maildir/jones-t/all_documents/11696.\n",
        "..\\maildir/jones-t/all_documents/11799."
       ]
      },
      {
       "output_type": "stream",
       "stream": "stdout",
       "text": [
        "\n",
        "..\\maildir/jones-t/all_documents/12130.\n",
        "..\\maildir/jones-t/all_documents/12231.\n",
        "..\\maildir/jones-t/all_documents/1238."
       ]
      },
      {
       "output_type": "stream",
       "stream": "stdout",
       "text": [
        "\n",
        "..\\maildir/jones-t/all_documents/1334.\n",
        "..\\maildir/jones-t/all_documents/1373.\n",
        "..\\maildir/jones-t/all_documents/1397.\n",
        "..\\maildir/jones-t/all_documents/1465.\n",
        "..\\maildir/jones-t/all_documents/1469."
       ]
      },
      {
       "output_type": "stream",
       "stream": "stdout",
       "text": [
        "\n",
        "..\\maildir/jones-t/all_documents/1534.\n",
        "..\\maildir/jones-t/all_documents/1566.\n",
        "..\\maildir/jones-t/all_documents/1607.\n",
        "..\\maildir/jones-t/all_documents/1608.\n",
        "..\\maildir/jones-t/all_documents/1661."
       ]
      },
      {
       "output_type": "stream",
       "stream": "stdout",
       "text": [
        "\n",
        "..\\maildir/jones-t/all_documents/1693.\n",
        "..\\maildir/jones-t/all_documents/1727.\n",
        "..\\maildir/jones-t/all_documents/1746.\n",
        "..\\maildir/jones-t/all_documents/1760."
       ]
      },
      {
       "output_type": "stream",
       "stream": "stdout",
       "text": [
        "\n",
        "..\\maildir/jones-t/all_documents/1848.\n",
        "..\\maildir/jones-t/all_documents/1936.\n",
        "..\\maildir/jones-t/all_documents/1970.\n",
        "..\\maildir/jones-t/all_documents/1976."
       ]
      },
      {
       "output_type": "stream",
       "stream": "stdout",
       "text": [
        "\n",
        "..\\maildir/jones-t/all_documents/2035.\n",
        "..\\maildir/jones-t/all_documents/2091.\n",
        "..\\maildir/jones-t/all_documents/2117."
       ]
      },
      {
       "output_type": "stream",
       "stream": "stdout",
       "text": [
        "\n",
        "..\\maildir/jones-t/all_documents/2172.\n",
        "..\\maildir/jones-t/all_documents/2189.\n",
        "..\\maildir/jones-t/all_documents/2205.\n",
        "..\\maildir/jones-t/all_documents/2313."
       ]
      },
      {
       "output_type": "stream",
       "stream": "stdout",
       "text": [
        "\n",
        "..\\maildir/jones-t/all_documents/2316.\n",
        "..\\maildir/jones-t/all_documents/2344.\n",
        "..\\maildir/jones-t/all_documents/2448.\n",
        "..\\maildir/jones-t/all_documents/2759.\n",
        "..\\maildir/jones-t/all_documents/2798.\n",
        "..\\maildir/jones-t/all_documents/2827."
       ]
      },
      {
       "output_type": "stream",
       "stream": "stdout",
       "text": [
        "\n",
        "..\\maildir/jones-t/all_documents/2847.\n",
        "..\\maildir/jones-t/all_documents/2859.\n",
        "..\\maildir/jones-t/all_documents/2910."
       ]
      },
      {
       "output_type": "stream",
       "stream": "stdout",
       "text": [
        "\n",
        "..\\maildir/jones-t/all_documents/2983.\n",
        "..\\maildir/jones-t/all_documents/3028.\n",
        "..\\maildir/jones-t/all_documents/3058."
       ]
      },
      {
       "output_type": "stream",
       "stream": "stdout",
       "text": [
        "\n",
        "..\\maildir/jones-t/all_documents/3081.\n",
        "..\\maildir/jones-t/all_documents/3101.\n",
        "..\\maildir/jones-t/all_documents/3321.\n",
        "..\\maildir/jones-t/all_documents/3333."
       ]
      },
      {
       "output_type": "stream",
       "stream": "stdout",
       "text": [
        "\n",
        "..\\maildir/jones-t/all_documents/3362.\n",
        "..\\maildir/jones-t/all_documents/3642.\n",
        "..\\maildir/jones-t/all_documents/3794.\n",
        "..\\maildir/jones-t/all_documents/3816."
       ]
      },
      {
       "output_type": "stream",
       "stream": "stdout",
       "text": [
        "\n",
        "..\\maildir/jones-t/all_documents/3829.\n",
        "..\\maildir/jones-t/all_documents/3840."
       ]
      },
      {
       "output_type": "stream",
       "stream": "stdout",
       "text": [
        "\n",
        "..\\maildir/jones-t/all_documents/3841.\n",
        "..\\maildir/jones-t/all_documents/3857.\n",
        "..\\maildir/jones-t/all_documents/3858.\n",
        "..\\maildir/jones-t/all_documents/3873.\n",
        "..\\maildir/jones-t/all_documents/3921.\n",
        "..\\maildir/jones-t/all_documents/3961."
       ]
      },
      {
       "output_type": "stream",
       "stream": "stdout",
       "text": [
        "\n",
        "..\\maildir/jones-t/all_documents/3973.\n",
        "..\\maildir/jones-t/all_documents/3993.\n",
        "..\\maildir/jones-t/all_documents/3997."
       ]
      },
      {
       "output_type": "stream",
       "stream": "stdout",
       "text": [
        "\n",
        "..\\maildir/jones-t/all_documents/4046.\n",
        "..\\maildir/jones-t/all_documents/4056.\n",
        "..\\maildir/jones-t/all_documents/4136.\n",
        "..\\maildir/jones-t/all_documents/4161.\n",
        "..\\maildir/jones-t/all_documents/4212.\n",
        "..\\maildir/jones-t/all_documents/4244."
       ]
      },
      {
       "output_type": "stream",
       "stream": "stdout",
       "text": [
        "\n",
        "..\\maildir/jones-t/all_documents/4249.\n",
        "..\\maildir/jones-t/all_documents/4251.\n",
        "..\\maildir/jones-t/all_documents/4255."
       ]
      },
      {
       "output_type": "stream",
       "stream": "stdout",
       "text": [
        "\n",
        "..\\maildir/jones-t/all_documents/4496.\n",
        "..\\maildir/jones-t/all_documents/4650.\n",
        "..\\maildir/jones-t/all_documents/4654.\n",
        "..\\maildir/jones-t/all_documents/4710.\n",
        "..\\maildir/jones-t/all_documents/4741."
       ]
      },
      {
       "output_type": "stream",
       "stream": "stdout",
       "text": [
        "\n",
        "..\\maildir/jones-t/all_documents/4743.\n",
        "..\\maildir/jones-t/all_documents/4757.\n",
        "..\\maildir/jones-t/all_documents/4819."
       ]
      },
      {
       "output_type": "stream",
       "stream": "stdout",
       "text": [
        "\n",
        "..\\maildir/jones-t/all_documents/4895.\n",
        "..\\maildir/jones-t/all_documents/4938."
       ]
      },
      {
       "output_type": "stream",
       "stream": "stdout",
       "text": [
        "\n",
        "..\\maildir/jones-t/all_documents/4968.\n",
        "..\\maildir/jones-t/all_documents/5035.\n",
        "..\\maildir/jones-t/all_documents/5055."
       ]
      },
      {
       "output_type": "stream",
       "stream": "stdout",
       "text": [
        "\n",
        "..\\maildir/jones-t/all_documents/5063.\n",
        "..\\maildir/jones-t/all_documents/5419.\n",
        "..\\maildir/jones-t/all_documents/5519."
       ]
      },
      {
       "output_type": "stream",
       "stream": "stdout",
       "text": [
        "\n",
        "..\\maildir/jones-t/all_documents/5523.\n",
        "..\\maildir/jones-t/all_documents/5555.\n",
        "..\\maildir/jones-t/all_documents/5575.\n",
        "..\\maildir/jones-t/all_documents/5588.\n",
        "..\\maildir/jones-t/all_documents/5589."
       ]
      },
      {
       "output_type": "stream",
       "stream": "stdout",
       "text": [
        "\n",
        "..\\maildir/jones-t/all_documents/5646.\n",
        "..\\maildir/jones-t/all_documents/5654.\n",
        "..\\maildir/jones-t/all_documents/5691.\n",
        "..\\maildir/jones-t/all_documents/5693."
       ]
      },
      {
       "output_type": "stream",
       "stream": "stdout",
       "text": [
        "\n",
        "..\\maildir/jones-t/all_documents/5751.\n",
        "..\\maildir/jones-t/all_documents/5859.\n",
        "..\\maildir/jones-t/all_documents/5884."
       ]
      },
      {
       "output_type": "stream",
       "stream": "stdout",
       "text": [
        "\n",
        "..\\maildir/jones-t/all_documents/5928.\n",
        "..\\maildir/jones-t/all_documents/5936.\n",
        "..\\maildir/jones-t/all_documents/5948.\n",
        "..\\maildir/jones-t/all_documents/9401.\n",
        "..\\maildir/jones-t/all_documents/9408."
       ]
      },
      {
       "output_type": "stream",
       "stream": "stdout",
       "text": [
        "\n",
        "..\\maildir/jones-t/all_documents/9430.\n",
        "..\\maildir/jones-t/all_documents/9550."
       ]
      },
      {
       "output_type": "stream",
       "stream": "stdout",
       "text": [
        "\n",
        "..\\maildir/jones-t/all_documents/9627.\n",
        "..\\maildir/jones-t/all_documents/9808.\n",
        "..\\maildir/jones-t/deleted_items/45."
       ]
      },
      {
       "output_type": "stream",
       "stream": "stdout",
       "text": [
        "\n",
        "..\\maildir/jones-t/inbox/742.\n",
        "..\\maildir/jones-t/inbox/778."
       ]
      },
      {
       "output_type": "stream",
       "stream": "stdout",
       "text": [
        "\n",
        "..\\maildir/jones-t/inbox/870.\n",
        "..\\maildir/jones-t/inbox/879.\n",
        "..\\maildir/jones-t/inbox/880.\n",
        "..\\maildir/jones-t/inbox/883.\n",
        "..\\maildir/jones-t/inbox/887.\n",
        "..\\maildir/jones-t/inbox/888."
       ]
      },
      {
       "output_type": "stream",
       "stream": "stdout",
       "text": [
        "\n",
        "..\\maildir/jones-t/inbox/889.\n",
        "..\\maildir/jones-t/inbox/901.\n",
        "..\\maildir/jones-t/inbox/903."
       ]
      },
      {
       "output_type": "stream",
       "stream": "stdout",
       "text": [
        "\n",
        "..\\maildir/jones-t/inbox/931.\n",
        "..\\maildir/jones-t/inbox/986.\n",
        "..\\maildir/jones-t/notes_inbox/100.\n",
        "..\\maildir/jones-t/notes_inbox/1022."
       ]
      },
      {
       "output_type": "stream",
       "stream": "stdout",
       "text": [
        "\n",
        "..\\maildir/jones-t/notes_inbox/1043.\n",
        "..\\maildir/jones-t/notes_inbox/1064."
       ]
      },
      {
       "output_type": "stream",
       "stream": "stdout",
       "text": [
        "\n",
        "..\\maildir/jones-t/notes_inbox/1077.\n",
        "..\\maildir/jones-t/notes_inbox/1084."
       ]
      },
      {
       "output_type": "stream",
       "stream": "stdout",
       "text": [
        "\n",
        "..\\maildir/jones-t/notes_inbox/1110.\n",
        "..\\maildir/jones-t/notes_inbox/1159.\n",
        "..\\maildir/jones-t/notes_inbox/1187.\n",
        "..\\maildir/jones-t/notes_inbox/1205."
       ]
      },
      {
       "output_type": "stream",
       "stream": "stdout",
       "text": [
        "\n",
        "..\\maildir/jones-t/notes_inbox/1217.\n",
        "..\\maildir/jones-t/notes_inbox/1225."
       ]
      },
      {
       "output_type": "stream",
       "stream": "stdout",
       "text": [
        "\n",
        "..\\maildir/jones-t/notes_inbox/1355.\n",
        "..\\maildir/jones-t/notes_inbox/1360.\n",
        "..\\maildir/jones-t/notes_inbox/1378."
       ]
      },
      {
       "output_type": "stream",
       "stream": "stdout",
       "text": [
        "\n",
        "..\\maildir/jones-t/notes_inbox/1540.\n",
        "..\\maildir/jones-t/notes_inbox/1637.\n",
        "..\\maildir/jones-t/notes_inbox/1647."
       ]
      },
      {
       "output_type": "stream",
       "stream": "stdout",
       "text": [
        "\n",
        "..\\maildir/jones-t/notes_inbox/165.\n",
        "..\\maildir/jones-t/notes_inbox/1653.\n",
        "..\\maildir/jones-t/notes_inbox/1661.\n",
        "..\\maildir/jones-t/notes_inbox/1662."
       ]
      },
      {
       "output_type": "stream",
       "stream": "stdout",
       "text": [
        "\n",
        "..\\maildir/jones-t/notes_inbox/1673.\n",
        "..\\maildir/jones-t/notes_inbox/1674.\n",
        "..\\maildir/jones-t/notes_inbox/1685."
       ]
      },
      {
       "output_type": "stream",
       "stream": "stdout",
       "text": [
        "\n",
        "..\\maildir/jones-t/notes_inbox/1717.\n",
        "..\\maildir/jones-t/notes_inbox/1741.\n",
        "..\\maildir/jones-t/notes_inbox/1750.\n",
        "..\\maildir/jones-t/notes_inbox/1760."
       ]
      },
      {
       "output_type": "stream",
       "stream": "stdout",
       "text": [
        "\n",
        "..\\maildir/jones-t/notes_inbox/1763.\n",
        "..\\maildir/jones-t/notes_inbox/1796.\n",
        "..\\maildir/jones-t/notes_inbox/1804.\n",
        "..\\maildir/jones-t/notes_inbox/1851.\n",
        "..\\maildir/jones-t/notes_inbox/1863.\n",
        "..\\maildir/jones-t/notes_inbox/189."
       ]
      },
      {
       "output_type": "stream",
       "stream": "stdout",
       "text": [
        "\n",
        "..\\maildir/jones-t/notes_inbox/1898.\n",
        "..\\maildir/jones-t/notes_inbox/1918."
       ]
      },
      {
       "output_type": "stream",
       "stream": "stdout",
       "text": [
        "\n",
        "..\\maildir/jones-t/notes_inbox/1923.\n",
        "..\\maildir/jones-t/notes_inbox/1925.\n",
        "..\\maildir/jones-t/notes_inbox/1929.\n",
        "..\\maildir/jones-t/notes_inbox/208.\n",
        "..\\maildir/jones-t/notes_inbox/2091."
       ]
      },
      {
       "output_type": "stream",
       "stream": "stdout",
       "text": [
        "\n",
        "..\\maildir/jones-t/notes_inbox/2177.\n",
        "..\\maildir/jones-t/notes_inbox/2180.\n",
        "..\\maildir/jones-t/notes_inbox/2214.\n",
        "..\\maildir/jones-t/notes_inbox/2234.\n",
        "..\\maildir/jones-t/notes_inbox/2235."
       ]
      },
      {
       "output_type": "stream",
       "stream": "stdout",
       "text": [
        "\n",
        "..\\maildir/jones-t/notes_inbox/2244.\n",
        "..\\maildir/jones-t/notes_inbox/2285.\n",
        "..\\maildir/jones-t/notes_inbox/2335.\n",
        "..\\maildir/jones-t/notes_inbox/2361.\n",
        "..\\maildir/jones-t/notes_inbox/2374."
       ]
      },
      {
       "output_type": "stream",
       "stream": "stdout",
       "text": [
        "\n",
        "..\\maildir/jones-t/notes_inbox/2414.\n",
        "..\\maildir/jones-t/notes_inbox/2431.\n",
        "..\\maildir/jones-t/notes_inbox/2433."
       ]
      },
      {
       "output_type": "stream",
       "stream": "stdout",
       "text": [
        "\n",
        "..\\maildir/jones-t/notes_inbox/247.\n",
        "..\\maildir/jones-t/notes_inbox/251.\n",
        "..\\maildir/jones-t/notes_inbox/2632.\n",
        "..\\maildir/jones-t/notes_inbox/2701.\n",
        "..\\maildir/jones-t/notes_inbox/2705."
       ]
      },
      {
       "output_type": "stream",
       "stream": "stdout",
       "text": [
        "\n",
        "..\\maildir/jones-t/notes_inbox/2720.\n",
        "..\\maildir/jones-t/notes_inbox/2730.\n",
        "..\\maildir/jones-t/notes_inbox/2740.\n",
        "..\\maildir/jones-t/notes_inbox/2741."
       ]
      },
      {
       "output_type": "stream",
       "stream": "stdout",
       "text": [
        "\n",
        "..\\maildir/jones-t/notes_inbox/2770.\n",
        "..\\maildir/jones-t/notes_inbox/2777.\n",
        "..\\maildir/jones-t/notes_inbox/2805.\n",
        "..\\maildir/jones-t/notes_inbox/2806.\n",
        "..\\maildir/jones-t/notes_inbox/283."
       ]
      },
      {
       "output_type": "stream",
       "stream": "stdout",
       "text": [
        "\n",
        "..\\maildir/jones-t/notes_inbox/2848.\n",
        "..\\maildir/jones-t/notes_inbox/2930.\n",
        "..\\maildir/jones-t/notes_inbox/2946.\n",
        "..\\maildir/jones-t/notes_inbox/296."
       ]
      },
      {
       "output_type": "stream",
       "stream": "stdout",
       "text": [
        "\n",
        "..\\maildir/jones-t/notes_inbox/2972.\n",
        "..\\maildir/jones-t/notes_inbox/2978."
       ]
      },
      {
       "output_type": "stream",
       "stream": "stdout",
       "text": [
        "\n",
        "..\\maildir/jones-t/notes_inbox/2987.\n",
        "..\\maildir/jones-t/notes_inbox/3019.\n",
        "..\\maildir/jones-t/notes_inbox/3025."
       ]
      },
      {
       "output_type": "stream",
       "stream": "stdout",
       "text": [
        "\n",
        "..\\maildir/jones-t/notes_inbox/3047.\n",
        "..\\maildir/jones-t/notes_inbox/3134.\n",
        "..\\maildir/jones-t/notes_inbox/3190.\n",
        "..\\maildir/jones-t/notes_inbox/324."
       ]
      },
      {
       "output_type": "stream",
       "stream": "stdout",
       "text": [
        "\n",
        "..\\maildir/jones-t/notes_inbox/325.\n",
        "..\\maildir/jones-t/notes_inbox/3304.\n",
        "..\\maildir/jones-t/notes_inbox/3531.\n",
        "..\\maildir/jones-t/notes_inbox/3536.\n",
        "..\\maildir/jones-t/notes_inbox/354."
       ]
      },
      {
       "output_type": "stream",
       "stream": "stdout",
       "text": [
        "\n",
        "..\\maildir/jones-t/notes_inbox/3688.\n",
        "..\\maildir/jones-t/notes_inbox/375.\n",
        "..\\maildir/jones-t/notes_inbox/3849.\n",
        "..\\maildir/jones-t/notes_inbox/399."
       ]
      },
      {
       "output_type": "stream",
       "stream": "stdout",
       "text": [
        "\n",
        "..\\maildir/jones-t/notes_inbox/4032.\n",
        "..\\maildir/jones-t/notes_inbox/4098."
       ]
      },
      {
       "output_type": "stream",
       "stream": "stdout",
       "text": [
        "\n",
        "..\\maildir/jones-t/notes_inbox/413.\n",
        "..\\maildir/jones-t/notes_inbox/4139.\n",
        "..\\maildir/jones-t/notes_inbox/422.\n",
        "..\\maildir/jones-t/notes_inbox/4426."
       ]
      },
      {
       "output_type": "stream",
       "stream": "stdout",
       "text": [
        "\n",
        "..\\maildir/jones-t/notes_inbox/4639.\n",
        "..\\maildir/jones-t/notes_inbox/4712.\n",
        "..\\maildir/jones-t/notes_inbox/486.\n",
        "..\\maildir/jones-t/notes_inbox/4960."
       ]
      },
      {
       "output_type": "stream",
       "stream": "stdout",
       "text": [
        "\n",
        "..\\maildir/jones-t/notes_inbox/5035.\n",
        "..\\maildir/jones-t/notes_inbox/539.\n",
        "..\\maildir/jones-t/notes_inbox/555."
       ]
      },
      {
       "output_type": "stream",
       "stream": "stdout",
       "text": [
        "\n",
        "..\\maildir/jones-t/notes_inbox/559.\n",
        "..\\maildir/jones-t/notes_inbox/593.\n",
        "..\\maildir/jones-t/notes_inbox/629.\n",
        "..\\maildir/jones-t/notes_inbox/644."
       ]
      },
      {
       "output_type": "stream",
       "stream": "stdout",
       "text": [
        "\n",
        "..\\maildir/jones-t/notes_inbox/676.\n",
        "..\\maildir/jones-t/notes_inbox/683.\n",
        "..\\maildir/jones-t/notes_inbox/692.\n",
        "..\\maildir/jones-t/notes_inbox/758.\n",
        "..\\maildir/jones-t/notes_inbox/759.\n",
        "..\\maildir/jones-t/notes_inbox/772.\n",
        "..\\maildir/jones-t/notes_inbox/833.\n",
        "..\\maildir/mann-k/all_documents/1187.\n",
        "..\\maildir/mann-k/all_documents/1243."
       ]
      },
      {
       "output_type": "stream",
       "stream": "stdout",
       "text": [
        "\n",
        "..\\maildir/mann-k/all_documents/1451.\n",
        "..\\maildir/mann-k/discussion_threads/1021."
       ]
      },
      {
       "output_type": "stream",
       "stream": "stdout",
       "text": [
        "\n",
        "..\\maildir/mann-k/discussion_threads/837."
       ]
      },
      {
       "output_type": "stream",
       "stream": "stdout",
       "text": [
        "\n",
        "..\\maildir/mann-k/discussion_threads/877.\n",
        "..\\maildir/mann-k/enovate/34."
       ]
      },
      {
       "output_type": "stream",
       "stream": "stdout",
       "text": [
        "\n",
        "..\\maildir/mann-k/enovate/45.\n",
        "..\\maildir/panus-s/deleted_items/1.\n",
        "..\\maildir/panus-s/deleted_items/122."
       ]
      },
      {
       "output_type": "stream",
       "stream": "stdout",
       "text": [
        "\n",
        "..\\maildir/panus-s/deleted_items/134.\n",
        "..\\maildir/panus-s/deleted_items/2.\n",
        "..\\maildir/panus-s/deleted_items/297.\n",
        "..\\maildir/panus-s/deleted_items/305.\n",
        "..\\maildir/panus-s/deleted_items/317.\n",
        "..\\maildir/panus-s/deleted_items/319."
       ]
      },
      {
       "output_type": "stream",
       "stream": "stdout",
       "text": [
        "\n",
        "..\\maildir/panus-s/deleted_items/82.\n",
        "..\\maildir/phanis-s/deleted_items/8.\n",
        "..\\maildir/phanis-s/inbox/6."
       ]
      },
      {
       "output_type": "stream",
       "stream": "stdout",
       "text": [
        "\n",
        "..\\maildir/sager-e/inbox/396.\n",
        "..\\maildir/sanders-r/all_documents/5025."
       ]
      },
      {
       "output_type": "stream",
       "stream": "stdout",
       "text": [
        "\n",
        "..\\maildir/sanders-r/all_documents/7."
       ]
      },
      {
       "output_type": "stream",
       "stream": "stdout",
       "text": [
        "\n",
        "..\\maildir/sanders-r/notes_inbox/128.\n",
        "..\\maildir/sanders-r/recruiting/22."
       ]
      },
      {
       "output_type": "stream",
       "stream": "stdout",
       "text": [
        "\n",
        "..\\maildir/shackleton-s/all_documents/10.\n",
        "..\\maildir/shackleton-s/all_documents/1000."
       ]
      },
      {
       "output_type": "stream",
       "stream": "stdout",
       "text": [
        "\n",
        "..\\maildir/shackleton-s/all_documents/10003.\n",
        "..\\maildir/shackleton-s/all_documents/10008."
       ]
      },
      {
       "output_type": "stream",
       "stream": "stdout",
       "text": [
        "\n",
        "..\\maildir/shackleton-s/all_documents/10009.\n",
        "..\\maildir/shackleton-s/all_documents/1001."
       ]
      },
      {
       "output_type": "stream",
       "stream": "stdout",
       "text": [
        "\n",
        "..\\maildir/shackleton-s/all_documents/10014.\n",
        "..\\maildir/shackleton-s/all_documents/10016.\n",
        "..\\maildir/shackleton-s/all_documents/10017."
       ]
      },
      {
       "output_type": "stream",
       "stream": "stdout",
       "text": [
        "\n",
        "..\\maildir/shackleton-s/all_documents/10019.\n",
        "..\\maildir/shackleton-s/all_documents/10022.\n",
        "..\\maildir/shackleton-s/all_documents/10024."
       ]
      },
      {
       "output_type": "stream",
       "stream": "stdout",
       "text": [
        "\n",
        "..\\maildir/shackleton-s/all_documents/10025.\n",
        "..\\maildir/shackleton-s/all_documents/10026.\n",
        "..\\maildir/shackleton-s/all_documents/10031.\n",
        "..\\maildir/shackleton-s/all_documents/10040."
       ]
      },
      {
       "output_type": "stream",
       "stream": "stdout",
       "text": [
        "\n",
        "..\\maildir/shackleton-s/all_documents/10042.\n",
        "..\\maildir/shackleton-s/all_documents/1005.\n",
        "..\\maildir/shackleton-s/all_documents/10051.\n",
        "..\\maildir/shackleton-s/all_documents/10054."
       ]
      },
      {
       "output_type": "stream",
       "stream": "stdout",
       "text": [
        "\n",
        "..\\maildir/shackleton-s/all_documents/10055.\n",
        "..\\maildir/shackleton-s/all_documents/10059.\n",
        "..\\maildir/shackleton-s/all_documents/10066."
       ]
      },
      {
       "output_type": "stream",
       "stream": "stdout",
       "text": [
        "\n",
        "..\\maildir/shackleton-s/all_documents/10067.\n",
        "..\\maildir/shackleton-s/all_documents/10077."
       ]
      },
      {
       "output_type": "stream",
       "stream": "stdout",
       "text": [
        "\n",
        "..\\maildir/shackleton-s/all_documents/10082.\n",
        "..\\maildir/shackleton-s/all_documents/10084.\n",
        "..\\maildir/shackleton-s/all_documents/10085.\n",
        "..\\maildir/shackleton-s/all_documents/10086.\n",
        "..\\maildir/shackleton-s/all_documents/10090."
       ]
      },
      {
       "output_type": "stream",
       "stream": "stdout",
       "text": [
        "\n",
        "..\\maildir/shackleton-s/all_documents/10091.\n",
        "..\\maildir/shackleton-s/all_documents/10092."
       ]
      },
      {
       "output_type": "stream",
       "stream": "stdout",
       "text": [
        "\n",
        "..\\maildir/shackleton-s/all_documents/10093.\n",
        "..\\maildir/shackleton-s/all_documents/10094.\n",
        "..\\maildir/shackleton-s/all_documents/10095."
       ]
      },
      {
       "output_type": "stream",
       "stream": "stdout",
       "text": [
        "\n",
        "..\\maildir/shackleton-s/all_documents/10097.\n",
        "..\\maildir/shackleton-s/all_documents/10098.\n",
        "..\\maildir/shackleton-s/all_documents/101."
       ]
      },
      {
       "output_type": "stream",
       "stream": "stdout",
       "text": [
        "\n",
        "..\\maildir/shackleton-s/all_documents/10100.\n",
        "..\\maildir/shackleton-s/all_documents/10107.\n",
        "..\\maildir/shackleton-s/all_documents/10108."
       ]
      },
      {
       "output_type": "stream",
       "stream": "stdout",
       "text": [
        "\n",
        "..\\maildir/shackleton-s/all_documents/10110.\n",
        "..\\maildir/shackleton-s/all_documents/10111.\n",
        "..\\maildir/shackleton-s/all_documents/10119.\n",
        "..\\maildir/shackleton-s/all_documents/10123."
       ]
      },
      {
       "output_type": "stream",
       "stream": "stdout",
       "text": [
        "\n",
        "..\\maildir/shackleton-s/all_documents/10124.\n",
        "..\\maildir/shackleton-s/all_documents/10125.\n",
        "..\\maildir/shackleton-s/all_documents/10126."
       ]
      },
      {
       "output_type": "stream",
       "stream": "stdout",
       "text": [
        "\n",
        "..\\maildir/shackleton-s/all_documents/10127.\n",
        "..\\maildir/shackleton-s/all_documents/1013."
       ]
      },
      {
       "output_type": "stream",
       "stream": "stdout",
       "text": [
        "\n",
        "..\\maildir/shackleton-s/all_documents/10131.\n",
        "..\\maildir/shackleton-s/all_documents/10132."
       ]
      },
      {
       "output_type": "stream",
       "stream": "stdout",
       "text": [
        "\n",
        "..\\maildir/shackleton-s/all_documents/10133.\n",
        "..\\maildir/shackleton-s/all_documents/10135."
       ]
      },
      {
       "output_type": "stream",
       "stream": "stdout",
       "text": [
        "\n",
        "..\\maildir/shackleton-s/all_documents/10138.\n",
        "..\\maildir/shackleton-s/all_documents/1014."
       ]
      },
      {
       "output_type": "stream",
       "stream": "stdout",
       "text": [
        "\n",
        "..\\maildir/shackleton-s/all_documents/10140.\n",
        "..\\maildir/shackleton-s/all_documents/10141.\n",
        "..\\maildir/shackleton-s/all_documents/10142.\n",
        "..\\maildir/shackleton-s/all_documents/10146."
       ]
      },
      {
       "output_type": "stream",
       "stream": "stdout",
       "text": [
        "\n",
        "..\\maildir/shackleton-s/all_documents/10147.\n",
        "..\\maildir/shackleton-s/all_documents/10148.\n",
        "..\\maildir/shackleton-s/all_documents/1015."
       ]
      },
      {
       "output_type": "stream",
       "stream": "stdout",
       "text": [
        "\n",
        "..\\maildir/shackleton-s/all_documents/10151.\n",
        "..\\maildir/shackleton-s/all_documents/1016.\n",
        "..\\maildir/shackleton-s/all_documents/10160.\n",
        "..\\maildir/shackleton-s/all_documents/10163."
       ]
      },
      {
       "output_type": "stream",
       "stream": "stdout",
       "text": [
        "\n",
        "..\\maildir/shackleton-s/all_documents/10168.\n",
        "..\\maildir/shackleton-s/all_documents/10169."
       ]
      },
      {
       "output_type": "stream",
       "stream": "stdout",
       "text": [
        "\n",
        "..\\maildir/shackleton-s/all_documents/1017.\n",
        "..\\maildir/shackleton-s/all_documents/10170."
       ]
      },
      {
       "output_type": "stream",
       "stream": "stdout",
       "text": [
        "\n",
        "..\\maildir/shackleton-s/all_documents/10177.\n",
        "..\\maildir/shackleton-s/all_documents/10179.\n",
        "..\\maildir/shackleton-s/all_documents/1018."
       ]
      },
      {
       "output_type": "stream",
       "stream": "stdout",
       "text": [
        "\n",
        "..\\maildir/shackleton-s/all_documents/1019.\n",
        "..\\maildir/shackleton-s/all_documents/10191.\n",
        "..\\maildir/shackleton-s/all_documents/10198."
       ]
      },
      {
       "output_type": "stream",
       "stream": "stdout",
       "text": [
        "\n",
        "..\\maildir/shackleton-s/all_documents/102.\n",
        "..\\maildir/shackleton-s/all_documents/1020.\n",
        "..\\maildir/shackleton-s/all_documents/10201.\n",
        "..\\maildir/shackleton-s/all_documents/10206."
       ]
      },
      {
       "output_type": "stream",
       "stream": "stdout",
       "text": [
        "\n",
        "..\\maildir/shackleton-s/all_documents/10207.\n",
        "..\\maildir/shackleton-s/all_documents/10210.\n",
        "..\\maildir/shackleton-s/all_documents/1022."
       ]
      },
      {
       "output_type": "stream",
       "stream": "stdout",
       "text": [
        "\n",
        "..\\maildir/shackleton-s/all_documents/10222.\n",
        "..\\maildir/shackleton-s/all_documents/10224.\n",
        "..\\maildir/shackleton-s/all_documents/10225.\n",
        "..\\maildir/shackleton-s/all_documents/10226."
       ]
      },
      {
       "output_type": "stream",
       "stream": "stdout",
       "text": [
        "\n",
        "..\\maildir/shackleton-s/all_documents/1023.\n",
        "..\\maildir/shackleton-s/all_documents/10239.\n",
        "..\\maildir/shackleton-s/all_documents/1024."
       ]
      },
      {
       "output_type": "stream",
       "stream": "stdout",
       "text": [
        "\n",
        "..\\maildir/shackleton-s/all_documents/10252.\n",
        "..\\maildir/shackleton-s/all_documents/10253.\n",
        "..\\maildir/shackleton-s/all_documents/10258.\n",
        "..\\maildir/shackleton-s/all_documents/10259."
       ]
      },
      {
       "output_type": "stream",
       "stream": "stdout",
       "text": [
        "\n",
        "..\\maildir/shackleton-s/all_documents/1026.\n",
        "..\\maildir/shackleton-s/all_documents/10265.\n",
        "..\\maildir/shackleton-s/all_documents/1027.\n",
        "..\\maildir/shackleton-s/all_documents/10270.\n",
        "..\\maildir/shackleton-s/all_documents/10271.\n",
        "..\\maildir/shackleton-s/all_documents/10272."
       ]
      },
      {
       "output_type": "stream",
       "stream": "stdout",
       "text": [
        "\n",
        "..\\maildir/shackleton-s/all_documents/10273.\n",
        "..\\maildir/shackleton-s/all_documents/10277.\n",
        "..\\maildir/shackleton-s/all_documents/1028."
       ]
      },
      {
       "output_type": "stream",
       "stream": "stdout",
       "text": [
        "\n",
        "..\\maildir/shackleton-s/all_documents/10280.\n",
        "..\\maildir/shackleton-s/all_documents/1029.\n",
        "..\\maildir/shackleton-s/all_documents/10292.\n",
        "..\\maildir/shackleton-s/all_documents/10298."
       ]
      },
      {
       "output_type": "stream",
       "stream": "stdout",
       "text": [
        "\n",
        "..\\maildir/shackleton-s/all_documents/10299.\n",
        "..\\maildir/shackleton-s/all_documents/103.\n",
        "..\\maildir/shackleton-s/all_documents/10309.\n",
        "..\\maildir/shackleton-s/all_documents/1031."
       ]
      },
      {
       "output_type": "stream",
       "stream": "stdout",
       "text": [
        "\n",
        "..\\maildir/shackleton-s/all_documents/10310.\n",
        "..\\maildir/shackleton-s/all_documents/1032.\n",
        "..\\maildir/shackleton-s/all_documents/10320."
       ]
      },
      {
       "output_type": "stream",
       "stream": "stdout",
       "text": [
        "\n",
        "..\\maildir/shackleton-s/all_documents/10329.\n",
        "..\\maildir/shackleton-s/all_documents/1033.\n",
        "..\\maildir/shackleton-s/all_documents/10333.\n",
        "..\\maildir/shackleton-s/all_documents/10334.\n",
        "..\\maildir/shackleton-s/all_documents/10336."
       ]
      },
      {
       "output_type": "stream",
       "stream": "stdout",
       "text": [
        "\n",
        "..\\maildir/shackleton-s/all_documents/10337.\n",
        "..\\maildir/shackleton-s/all_documents/10339.\n",
        "..\\maildir/shackleton-s/all_documents/10340."
       ]
      },
      {
       "output_type": "stream",
       "stream": "stdout",
       "text": [
        "\n",
        "..\\maildir/shackleton-s/all_documents/10341.\n",
        "..\\maildir/shackleton-s/all_documents/10345.\n",
        "..\\maildir/shackleton-s/all_documents/10347.\n",
        "..\\maildir/shackleton-s/all_documents/10351.\n",
        "..\\maildir/shackleton-s/all_documents/10354."
       ]
      },
      {
       "output_type": "stream",
       "stream": "stdout",
       "text": [
        "\n",
        "..\\maildir/shackleton-s/all_documents/10355.\n",
        "..\\maildir/shackleton-s/all_documents/10359.\n",
        "..\\maildir/shackleton-s/all_documents/1036."
       ]
      },
      {
       "output_type": "stream",
       "stream": "stdout",
       "text": [
        "\n",
        "..\\maildir/shackleton-s/all_documents/10361.\n",
        "..\\maildir/shackleton-s/all_documents/1037.\n",
        "..\\maildir/shackleton-s/all_documents/10372.\n",
        "..\\maildir/shackleton-s/all_documents/10373."
       ]
      },
      {
       "output_type": "stream",
       "stream": "stdout",
       "text": [
        "\n",
        "..\\maildir/shackleton-s/all_documents/10374.\n",
        "..\\maildir/shackleton-s/all_documents/1038.\n",
        "..\\maildir/shackleton-s/all_documents/10386."
       ]
      },
      {
       "output_type": "stream",
       "stream": "stdout",
       "text": [
        "\n",
        "..\\maildir/shackleton-s/all_documents/10387.\n",
        "..\\maildir/shackleton-s/all_documents/10389."
       ]
      },
      {
       "output_type": "stream",
       "stream": "stdout",
       "text": [
        "\n",
        "..\\maildir/shackleton-s/all_documents/1039.\n",
        "..\\maildir/shackleton-s/all_documents/104.\n",
        "..\\maildir/shackleton-s/all_documents/1040.\n",
        "..\\maildir/shackleton-s/all_documents/10403.\n",
        "..\\maildir/shackleton-s/all_documents/10405."
       ]
      },
      {
       "output_type": "stream",
       "stream": "stdout",
       "text": [
        "\n",
        "..\\maildir/shackleton-s/all_documents/1041.\n",
        "..\\maildir/shackleton-s/all_documents/10412.\n",
        "..\\maildir/shackleton-s/all_documents/10418.\n",
        "..\\maildir/shackleton-s/all_documents/1042."
       ]
      },
      {
       "output_type": "stream",
       "stream": "stdout",
       "text": [
        "\n",
        "..\\maildir/shackleton-s/all_documents/10420.\n",
        "..\\maildir/shackleton-s/all_documents/10421.\n",
        "..\\maildir/shackleton-s/all_documents/10423.\n",
        "..\\maildir/shackleton-s/all_documents/10427.\n",
        "..\\maildir/shackleton-s/all_documents/10429."
       ]
      },
      {
       "output_type": "stream",
       "stream": "stdout",
       "text": [
        "\n",
        "..\\maildir/shackleton-s/all_documents/1043.\n",
        "..\\maildir/shackleton-s/all_documents/10430.\n",
        "..\\maildir/shackleton-s/all_documents/10431."
       ]
      },
      {
       "output_type": "stream",
       "stream": "stdout",
       "text": [
        "\n",
        "..\\maildir/shackleton-s/all_documents/10432.\n",
        "..\\maildir/shackleton-s/all_documents/10433.\n",
        "..\\maildir/shackleton-s/all_documents/10435.\n",
        "..\\maildir/shackleton-s/all_documents/10437."
       ]
      },
      {
       "output_type": "stream",
       "stream": "stdout",
       "text": [
        "\n",
        "..\\maildir/shackleton-s/all_documents/10438.\n",
        "..\\maildir/shackleton-s/all_documents/10439.\n",
        "..\\maildir/shackleton-s/all_documents/1044.\n",
        "..\\maildir/shackleton-s/all_documents/10440.\n",
        "..\\maildir/shackleton-s/all_documents/10443."
       ]
      },
      {
       "output_type": "stream",
       "stream": "stdout",
       "text": [
        "\n",
        "..\\maildir/shackleton-s/all_documents/10444.\n",
        "..\\maildir/shackleton-s/all_documents/10447.\n",
        "..\\maildir/shackleton-s/all_documents/1045."
       ]
      },
      {
       "output_type": "stream",
       "stream": "stdout",
       "text": [
        "\n",
        "..\\maildir/shackleton-s/all_documents/10450.\n",
        "..\\maildir/shackleton-s/all_documents/10451.\n",
        "..\\maildir/shackleton-s/all_documents/10453."
       ]
      },
      {
       "output_type": "stream",
       "stream": "stdout",
       "text": [
        "\n",
        "..\\maildir/shackleton-s/all_documents/10455.\n",
        "..\\maildir/shackleton-s/all_documents/1046.\n",
        "..\\maildir/shackleton-s/all_documents/10462.\n",
        "..\\maildir/shackleton-s/all_documents/10463."
       ]
      },
      {
       "output_type": "stream",
       "stream": "stdout",
       "text": [
        "\n",
        "..\\maildir/shackleton-s/all_documents/10464.\n",
        "..\\maildir/shackleton-s/all_documents/10465.\n",
        "..\\maildir/shackleton-s/all_documents/10467.\n",
        "..\\maildir/shackleton-s/all_documents/1047."
       ]
      },
      {
       "output_type": "stream",
       "stream": "stdout",
       "text": [
        "\n",
        "..\\maildir/shackleton-s/all_documents/10470.\n",
        "..\\maildir/shackleton-s/all_documents/10474."
       ]
      },
      {
       "output_type": "stream",
       "stream": "stdout",
       "text": [
        "\n",
        "..\\maildir/shackleton-s/all_documents/10477.\n",
        "..\\maildir/shackleton-s/all_documents/10478.\n",
        "..\\maildir/shackleton-s/all_documents/1048.\n",
        "..\\maildir/shackleton-s/all_documents/10480."
       ]
      },
      {
       "output_type": "stream",
       "stream": "stdout",
       "text": [
        "\n",
        "..\\maildir/shackleton-s/all_documents/10485.\n",
        "..\\maildir/shackleton-s/all_documents/10486.\n",
        "..\\maildir/shackleton-s/all_documents/10487."
       ]
      },
      {
       "output_type": "stream",
       "stream": "stdout",
       "text": [
        "\n",
        "..\\maildir/shackleton-s/all_documents/1049.\n",
        "..\\maildir/shackleton-s/all_documents/10491."
       ]
      },
      {
       "output_type": "stream",
       "stream": "stdout",
       "text": [
        "\n",
        "..\\maildir/shackleton-s/all_documents/10499.\n",
        "..\\maildir/shackleton-s/all_documents/10504.\n",
        "..\\maildir/shackleton-s/all_documents/10506."
       ]
      },
      {
       "output_type": "stream",
       "stream": "stdout",
       "text": [
        "\n",
        "..\\maildir/shackleton-s/all_documents/10509.\n",
        "..\\maildir/shackleton-s/all_documents/1051.\n",
        "..\\maildir/shackleton-s/all_documents/10510."
       ]
      },
      {
       "output_type": "stream",
       "stream": "stdout",
       "text": [
        "\n",
        "..\\maildir/shackleton-s/all_documents/10511.\n",
        "..\\maildir/shackleton-s/all_documents/10513.\n",
        "..\\maildir/shackleton-s/all_documents/10514."
       ]
      },
      {
       "output_type": "stream",
       "stream": "stdout",
       "text": [
        "\n",
        "..\\maildir/shackleton-s/all_documents/10521.\n",
        "..\\maildir/shackleton-s/all_documents/10522."
       ]
      },
      {
       "output_type": "stream",
       "stream": "stdout",
       "text": [
        "\n",
        "..\\maildir/shackleton-s/all_documents/10525.\n",
        "..\\maildir/shackleton-s/all_documents/10527."
       ]
      },
      {
       "output_type": "stream",
       "stream": "stdout",
       "text": [
        "\n",
        "..\\maildir/shackleton-s/all_documents/10528.\n",
        "..\\maildir/shackleton-s/all_documents/1053.\n",
        "..\\maildir/shackleton-s/all_documents/10533.\n",
        "..\\maildir/shackleton-s/all_documents/10534."
       ]
      },
      {
       "output_type": "stream",
       "stream": "stdout",
       "text": [
        "\n",
        "..\\maildir/shackleton-s/all_documents/10536.\n",
        "..\\maildir/shackleton-s/all_documents/10538.\n",
        "..\\maildir/shackleton-s/all_documents/10539."
       ]
      },
      {
       "output_type": "stream",
       "stream": "stdout",
       "text": [
        "\n",
        "..\\maildir/shackleton-s/all_documents/1054.\n",
        "..\\maildir/shackleton-s/all_documents/10544."
       ]
      },
      {
       "output_type": "stream",
       "stream": "stdout",
       "text": [
        "\n",
        "..\\maildir/shackleton-s/all_documents/10545.\n",
        "..\\maildir/shackleton-s/all_documents/10546.\n",
        "..\\maildir/shackleton-s/all_documents/10547.\n",
        "..\\maildir/shackleton-s/all_documents/1055.\n",
        "..\\maildir/shackleton-s/all_documents/10551.\n",
        "..\\maildir/shackleton-s/all_documents/10552."
       ]
      },
      {
       "output_type": "stream",
       "stream": "stdout",
       "text": [
        "\n",
        "..\\maildir/shackleton-s/all_documents/10555.\n",
        "..\\maildir/shackleton-s/all_documents/10556."
       ]
      },
      {
       "output_type": "stream",
       "stream": "stdout",
       "text": [
        "\n",
        "..\\maildir/shackleton-s/all_documents/1056.\n",
        "..\\maildir/shackleton-s/all_documents/10562.\n",
        "..\\maildir/shackleton-s/all_documents/10565."
       ]
      },
      {
       "output_type": "stream",
       "stream": "stdout",
       "text": [
        "\n",
        "..\\maildir/shackleton-s/all_documents/10566.\n",
        "..\\maildir/shackleton-s/all_documents/10568.\n",
        "..\\maildir/shackleton-s/all_documents/1057."
       ]
      },
      {
       "output_type": "stream",
       "stream": "stdout",
       "text": [
        "\n",
        "..\\maildir/shackleton-s/all_documents/10571.\n",
        "..\\maildir/shackleton-s/all_documents/10573.\n",
        "..\\maildir/shackleton-s/all_documents/10574."
       ]
      },
      {
       "output_type": "stream",
       "stream": "stdout",
       "text": [
        "\n",
        "..\\maildir/shackleton-s/all_documents/10579.\n",
        "..\\maildir/shackleton-s/all_documents/10588."
       ]
      },
      {
       "output_type": "stream",
       "stream": "stdout",
       "text": [
        "\n",
        "..\\maildir/shackleton-s/all_documents/1059.\n",
        "..\\maildir/shackleton-s/all_documents/10591.\n",
        "..\\maildir/shackleton-s/all_documents/10596.\n",
        "..\\maildir/shackleton-s/all_documents/10598."
       ]
      },
      {
       "output_type": "stream",
       "stream": "stdout",
       "text": [
        "\n",
        "..\\maildir/shackleton-s/all_documents/106.\n",
        "..\\maildir/shackleton-s/all_documents/1060.\n",
        "..\\maildir/shackleton-s/all_documents/10605."
       ]
      },
      {
       "output_type": "stream",
       "stream": "stdout",
       "text": [
        "\n",
        "..\\maildir/shackleton-s/all_documents/10608.\n",
        "..\\maildir/shackleton-s/all_documents/1061."
       ]
      },
      {
       "output_type": "stream",
       "stream": "stdout",
       "text": [
        "\n",
        "..\\maildir/shackleton-s/all_documents/10614.\n",
        "..\\maildir/shackleton-s/all_documents/10616.\n",
        "..\\maildir/shackleton-s/all_documents/10617."
       ]
      },
      {
       "output_type": "stream",
       "stream": "stdout",
       "text": [
        "\n",
        "..\\maildir/shackleton-s/all_documents/10618.\n",
        "..\\maildir/shackleton-s/all_documents/10619.\n",
        "..\\maildir/shackleton-s/all_documents/1062."
       ]
      },
      {
       "output_type": "stream",
       "stream": "stdout",
       "text": [
        "\n",
        "..\\maildir/shackleton-s/all_documents/10620.\n",
        "..\\maildir/shackleton-s/all_documents/10621.\n",
        "..\\maildir/shackleton-s/all_documents/10622."
       ]
      },
      {
       "output_type": "stream",
       "stream": "stdout",
       "text": [
        "\n",
        "..\\maildir/shackleton-s/all_documents/10625.\n",
        "..\\maildir/shackleton-s/all_documents/10626."
       ]
      },
      {
       "output_type": "stream",
       "stream": "stdout",
       "text": [
        "\n",
        "..\\maildir/shackleton-s/all_documents/10627.\n",
        "..\\maildir/shackleton-s/all_documents/10628."
       ]
      },
      {
       "output_type": "stream",
       "stream": "stdout",
       "text": [
        "\n",
        "..\\maildir/shackleton-s/all_documents/1063.\n",
        "..\\maildir/shackleton-s/all_documents/10630.\n",
        "..\\maildir/shackleton-s/all_documents/10631."
       ]
      },
      {
       "output_type": "stream",
       "stream": "stdout",
       "text": [
        "\n",
        "..\\maildir/shackleton-s/all_documents/10632.\n",
        "..\\maildir/shackleton-s/all_documents/10633."
       ]
      },
      {
       "output_type": "stream",
       "stream": "stdout",
       "text": [
        "\n",
        "..\\maildir/shackleton-s/all_documents/10639.\n",
        "..\\maildir/shackleton-s/all_documents/1064."
       ]
      },
      {
       "output_type": "stream",
       "stream": "stdout",
       "text": [
        "\n",
        "..\\maildir/shackleton-s/all_documents/10640.\n",
        "..\\maildir/shackleton-s/all_documents/10643."
       ]
      },
      {
       "output_type": "stream",
       "stream": "stdout",
       "text": [
        "\n",
        "..\\maildir/shackleton-s/all_documents/10645.\n",
        "..\\maildir/shackleton-s/all_documents/10647.\n",
        "..\\maildir/shackleton-s/all_documents/10649."
       ]
      },
      {
       "output_type": "stream",
       "stream": "stdout",
       "text": [
        "\n",
        "..\\maildir/shackleton-s/all_documents/1065.\n",
        "..\\maildir/shackleton-s/all_documents/10650.\n",
        "..\\maildir/shackleton-s/all_documents/10651.\n",
        "..\\maildir/shackleton-s/all_documents/10665."
       ]
      },
      {
       "output_type": "stream",
       "stream": "stdout",
       "text": [
        "\n",
        "..\\maildir/shackleton-s/all_documents/10666.\n",
        "..\\maildir/shackleton-s/all_documents/10668.\n",
        "..\\maildir/shackleton-s/all_documents/1067.\n",
        "..\\maildir/shackleton-s/all_documents/10670."
       ]
      },
      {
       "output_type": "stream",
       "stream": "stdout",
       "text": [
        "\n",
        "..\\maildir/shackleton-s/all_documents/10671.\n",
        "..\\maildir/shackleton-s/all_documents/10673.\n",
        "..\\maildir/shackleton-s/all_documents/10676.\n",
        "..\\maildir/shackleton-s/all_documents/10679."
       ]
      },
      {
       "output_type": "stream",
       "stream": "stdout",
       "text": [
        "\n",
        "..\\maildir/shackleton-s/all_documents/1068.\n",
        "..\\maildir/shackleton-s/all_documents/10682.\n",
        "..\\maildir/shackleton-s/all_documents/10685."
       ]
      },
      {
       "output_type": "stream",
       "stream": "stdout",
       "text": [
        "\n",
        "..\\maildir/shackleton-s/all_documents/10686.\n",
        "..\\maildir/shackleton-s/all_documents/10689.\n",
        "..\\maildir/shackleton-s/all_documents/1069.\n",
        "..\\maildir/shackleton-s/all_documents/10690."
       ]
      },
      {
       "output_type": "stream",
       "stream": "stdout",
       "text": [
        "\n",
        "..\\maildir/shackleton-s/all_documents/10691.\n",
        "..\\maildir/shackleton-s/all_documents/10692."
       ]
      },
      {
       "output_type": "stream",
       "stream": "stdout",
       "text": [
        "\n",
        "..\\maildir/shackleton-s/all_documents/10693.\n",
        "..\\maildir/shackleton-s/all_documents/1070."
       ]
      },
      {
       "output_type": "stream",
       "stream": "stdout",
       "text": [
        "\n",
        "..\\maildir/shackleton-s/all_documents/10703.\n",
        "..\\maildir/shackleton-s/all_documents/10705.\n",
        "..\\maildir/shackleton-s/all_documents/10707."
       ]
      },
      {
       "output_type": "stream",
       "stream": "stdout",
       "text": [
        "\n",
        "..\\maildir/shackleton-s/all_documents/10709.\n",
        "..\\maildir/shackleton-s/all_documents/1071.\n",
        "..\\maildir/shackleton-s/all_documents/10715."
       ]
      },
      {
       "output_type": "stream",
       "stream": "stdout",
       "text": [
        "\n",
        "..\\maildir/shackleton-s/all_documents/10725.\n",
        "..\\maildir/shackleton-s/all_documents/10731.\n",
        "..\\maildir/shackleton-s/all_documents/10733."
       ]
      },
      {
       "output_type": "stream",
       "stream": "stdout",
       "text": [
        "\n",
        "..\\maildir/shackleton-s/all_documents/10734.\n",
        "..\\maildir/shackleton-s/all_documents/10736.\n",
        "..\\maildir/shackleton-s/all_documents/10739."
       ]
      },
      {
       "output_type": "stream",
       "stream": "stdout",
       "text": [
        "\n",
        "..\\maildir/shackleton-s/all_documents/10740.\n",
        "..\\maildir/shackleton-s/all_documents/10741.\n",
        "..\\maildir/shackleton-s/all_documents/10742.\n",
        "..\\maildir/shackleton-s/all_documents/10743."
       ]
      },
      {
       "output_type": "stream",
       "stream": "stdout",
       "text": [
        "\n",
        "..\\maildir/shackleton-s/all_documents/10747.\n",
        "..\\maildir/shackleton-s/all_documents/10748.\n",
        "..\\maildir/shackleton-s/all_documents/10749.\n",
        "..\\maildir/shackleton-s/all_documents/10751.\n",
        "..\\maildir/shackleton-s/all_documents/10752."
       ]
      },
      {
       "output_type": "stream",
       "stream": "stdout",
       "text": [
        "\n",
        "..\\maildir/shackleton-s/all_documents/10755.\n",
        "..\\maildir/shackleton-s/all_documents/10756."
       ]
      },
      {
       "output_type": "stream",
       "stream": "stdout",
       "text": [
        "\n",
        "..\\maildir/shackleton-s/all_documents/10758.\n",
        "..\\maildir/shackleton-s/all_documents/1076.\n",
        "..\\maildir/shackleton-s/all_documents/10761."
       ]
      },
      {
       "output_type": "stream",
       "stream": "stdout",
       "text": [
        "\n",
        "..\\maildir/shackleton-s/all_documents/10762.\n",
        "..\\maildir/shackleton-s/all_documents/10765.\n",
        "..\\maildir/shackleton-s/all_documents/1077.\n",
        "..\\maildir/shackleton-s/all_documents/10776."
       ]
      },
      {
       "output_type": "stream",
       "stream": "stdout",
       "text": [
        "\n",
        "..\\maildir/shackleton-s/all_documents/10777.\n",
        "..\\maildir/shackleton-s/all_documents/1078.\n",
        "..\\maildir/shackleton-s/all_documents/10788.\n",
        "..\\maildir/shackleton-s/all_documents/1079.\n",
        "..\\maildir/shackleton-s/all_documents/10793."
       ]
      },
      {
       "output_type": "stream",
       "stream": "stdout",
       "text": [
        "\n",
        "..\\maildir/shackleton-s/all_documents/10798.\n",
        "..\\maildir/shackleton-s/all_documents/10799."
       ]
      },
      {
       "output_type": "stream",
       "stream": "stdout",
       "text": [
        "\n",
        "..\\maildir/shackleton-s/all_documents/108.\n",
        "..\\maildir/shackleton-s/all_documents/1080.\n",
        "..\\maildir/shackleton-s/all_documents/10802."
       ]
      },
      {
       "output_type": "stream",
       "stream": "stdout",
       "text": [
        "\n",
        "..\\maildir/shackleton-s/all_documents/10803.\n",
        "..\\maildir/shackleton-s/all_documents/10804."
       ]
      },
      {
       "output_type": "stream",
       "stream": "stdout",
       "text": [
        "\n",
        "..\\maildir/shackleton-s/all_documents/10807.\n",
        "..\\maildir/shackleton-s/all_documents/10809."
       ]
      },
      {
       "output_type": "stream",
       "stream": "stdout",
       "text": [
        "\n",
        "..\\maildir/shackleton-s/all_documents/1081.\n",
        "..\\maildir/shackleton-s/all_documents/10810."
       ]
      },
      {
       "output_type": "stream",
       "stream": "stdout",
       "text": [
        "\n",
        "..\\maildir/shackleton-s/all_documents/10811.\n",
        "..\\maildir/shackleton-s/all_documents/10812.\n",
        "..\\maildir/shackleton-s/all_documents/10813."
       ]
      },
      {
       "output_type": "stream",
       "stream": "stdout",
       "text": [
        "\n",
        "..\\maildir/shackleton-s/all_documents/10819.\n",
        "..\\maildir/shackleton-s/all_documents/10820.\n",
        "..\\maildir/shackleton-s/all_documents/10825.\n",
        "..\\maildir/shackleton-s/all_documents/10826."
       ]
      },
      {
       "output_type": "stream",
       "stream": "stdout",
       "text": [
        "\n",
        "..\\maildir/shackleton-s/all_documents/10827.\n",
        "..\\maildir/shackleton-s/all_documents/10828.\n",
        "..\\maildir/shackleton-s/all_documents/1083.\n",
        "..\\maildir/shackleton-s/all_documents/10830."
       ]
      },
      {
       "output_type": "stream",
       "stream": "stdout",
       "text": [
        "\n",
        "..\\maildir/shackleton-s/all_documents/10831.\n",
        "..\\maildir/shackleton-s/all_documents/10832.\n",
        "..\\maildir/shackleton-s/all_documents/10839.\n",
        "..\\maildir/shackleton-s/all_documents/1084.\n",
        "..\\maildir/shackleton-s/all_documents/10845."
       ]
      },
      {
       "output_type": "stream",
       "stream": "stdout",
       "text": [
        "\n",
        "..\\maildir/shackleton-s/all_documents/10846.\n",
        "..\\maildir/shackleton-s/all_documents/10849."
       ]
      },
      {
       "output_type": "stream",
       "stream": "stdout",
       "text": [
        "\n",
        "..\\maildir/shackleton-s/all_documents/1085.\n",
        "..\\maildir/shackleton-s/all_documents/10852."
       ]
      },
      {
       "output_type": "stream",
       "stream": "stdout",
       "text": [
        "\n",
        "..\\maildir/shackleton-s/all_documents/1086.\n",
        "..\\maildir/shackleton-s/all_documents/10860.\n",
        "..\\maildir/shackleton-s/all_documents/10862.\n",
        "..\\maildir/shackleton-s/all_documents/10864.\n",
        "..\\maildir/shackleton-s/all_documents/10865.\n",
        "..\\maildir/shackleton-s/all_documents/10867."
       ]
      },
      {
       "output_type": "stream",
       "stream": "stdout",
       "text": [
        "\n",
        "..\\maildir/shackleton-s/all_documents/1087.\n",
        "..\\maildir/shackleton-s/all_documents/1088.\n",
        "..\\maildir/shackleton-s/all_documents/10882.\n",
        "..\\maildir/shackleton-s/all_documents/10886.\n",
        "..\\maildir/shackleton-s/all_documents/10887.\n",
        "..\\maildir/shackleton-s/all_documents/1089.\n",
        "..\\maildir/shackleton-s/all_documents/10893."
       ]
      },
      {
       "output_type": "stream",
       "stream": "stdout",
       "text": [
        "\n",
        "..\\maildir/shackleton-s/all_documents/10894.\n",
        "..\\maildir/shackleton-s/all_documents/10897.\n",
        "..\\maildir/shackleton-s/all_documents/10899."
       ]
      },
      {
       "output_type": "stream",
       "stream": "stdout",
       "text": [
        "\n",
        "..\\maildir/shackleton-s/all_documents/1090.\n",
        "..\\maildir/shackleton-s/all_documents/10900.\n",
        "..\\maildir/shackleton-s/all_documents/10908."
       ]
      },
      {
       "output_type": "stream",
       "stream": "stdout",
       "text": [
        "\n",
        "..\\maildir/shackleton-s/all_documents/10909.\n",
        "..\\maildir/shackleton-s/all_documents/1091.\n",
        "..\\maildir/shackleton-s/all_documents/10913.\n",
        "..\\maildir/shackleton-s/all_documents/10915.\n",
        "..\\maildir/shackleton-s/all_documents/10916."
       ]
      },
      {
       "output_type": "stream",
       "stream": "stdout",
       "text": [
        "\n",
        "..\\maildir/shackleton-s/all_documents/1092.\n",
        "..\\maildir/shackleton-s/all_documents/10920.\n",
        "..\\maildir/shackleton-s/all_documents/10923.\n",
        "..\\maildir/shackleton-s/all_documents/10924."
       ]
      },
      {
       "output_type": "stream",
       "stream": "stdout",
       "text": [
        "\n",
        "..\\maildir/shackleton-s/all_documents/10926.\n",
        "..\\maildir/shackleton-s/all_documents/10927."
       ]
      },
      {
       "output_type": "stream",
       "stream": "stdout",
       "text": [
        "\n",
        "..\\maildir/shackleton-s/all_documents/1093.\n",
        "..\\maildir/shackleton-s/all_documents/10931.\n",
        "..\\maildir/shackleton-s/all_documents/10935."
       ]
      },
      {
       "output_type": "stream",
       "stream": "stdout",
       "text": [
        "\n",
        "..\\maildir/shackleton-s/all_documents/1094.\n",
        "..\\maildir/shackleton-s/all_documents/1095.\n",
        "..\\maildir/shackleton-s/all_documents/1096."
       ]
      },
      {
       "output_type": "stream",
       "stream": "stdout",
       "text": [
        "\n",
        "..\\maildir/shackleton-s/all_documents/1097.\n",
        "..\\maildir/shackleton-s/all_documents/1098.\n",
        "..\\maildir/shackleton-s/all_documents/1099.\n",
        "..\\maildir/shackleton-s/all_documents/11.\n",
        "..\\maildir/shackleton-s/all_documents/11003."
       ]
      },
      {
       "output_type": "stream",
       "stream": "stdout",
       "text": [
        "\n",
        "..\\maildir/shackleton-s/all_documents/11004.\n",
        "..\\maildir/shackleton-s/all_documents/11007.\n",
        "..\\maildir/shackleton-s/all_documents/11008."
       ]
      },
      {
       "output_type": "stream",
       "stream": "stdout",
       "text": [
        "\n",
        "..\\maildir/shackleton-s/all_documents/11009.\n",
        "..\\maildir/shackleton-s/all_documents/11012.\n",
        "..\\maildir/shackleton-s/all_documents/11013.\n",
        "..\\maildir/shackleton-s/all_documents/11014."
       ]
      },
      {
       "output_type": "stream",
       "stream": "stdout",
       "text": [
        "\n",
        "..\\maildir/shackleton-s/all_documents/11017.\n",
        "..\\maildir/shackleton-s/all_documents/11018.\n",
        "..\\maildir/shackleton-s/all_documents/11019."
       ]
      },
      {
       "output_type": "stream",
       "stream": "stdout",
       "text": [
        "\n",
        "..\\maildir/shackleton-s/all_documents/11023.\n",
        "..\\maildir/shackleton-s/all_documents/11025."
       ]
      },
      {
       "output_type": "stream",
       "stream": "stdout",
       "text": [
        "\n",
        "..\\maildir/shackleton-s/all_documents/11026.\n",
        "..\\maildir/shackleton-s/all_documents/11027.\n",
        "..\\maildir/shackleton-s/all_documents/1103."
       ]
      },
      {
       "output_type": "stream",
       "stream": "stdout",
       "text": [
        "\n",
        "..\\maildir/shackleton-s/all_documents/11031.\n",
        "..\\maildir/shackleton-s/all_documents/11033.\n",
        "..\\maildir/shackleton-s/all_documents/11035.\n",
        "..\\maildir/shackleton-s/all_documents/11036."
       ]
      },
      {
       "output_type": "stream",
       "stream": "stdout",
       "text": [
        "\n",
        "..\\maildir/shackleton-s/all_documents/1104.\n",
        "..\\maildir/shackleton-s/all_documents/11040.\n",
        "..\\maildir/shackleton-s/all_documents/11041."
       ]
      },
      {
       "output_type": "stream",
       "stream": "stdout",
       "text": [
        "\n",
        "..\\maildir/shackleton-s/all_documents/11042.\n",
        "..\\maildir/shackleton-s/all_documents/11043.\n",
        "..\\maildir/shackleton-s/all_documents/11047."
       ]
      },
      {
       "output_type": "stream",
       "stream": "stdout",
       "text": [
        "\n",
        "..\\maildir/shackleton-s/all_documents/11048."
       ]
      },
      {
       "output_type": "stream",
       "stream": "stdout",
       "text": [
        "\n",
        "..\\maildir/shackleton-s/all_documents/1105.\n",
        "..\\maildir/shackleton-s/all_documents/11054.\n",
        "..\\maildir/shackleton-s/all_documents/11055.\n",
        "..\\maildir/shackleton-s/all_documents/11056."
       ]
      },
      {
       "output_type": "stream",
       "stream": "stdout",
       "text": [
        "\n",
        "..\\maildir/shackleton-s/all_documents/11058.\n",
        "..\\maildir/shackleton-s/all_documents/1106.\n",
        "..\\maildir/shackleton-s/all_documents/11061.\n",
        "..\\maildir/shackleton-s/all_documents/11062.\n",
        "..\\maildir/shackleton-s/all_documents/1107.\n",
        "..\\maildir/shackleton-s/all_documents/11071.\n",
        "..\\maildir/shackleton-s/all_documents/11072."
       ]
      },
      {
       "output_type": "stream",
       "stream": "stdout",
       "text": [
        "\n",
        "..\\maildir/shackleton-s/all_documents/11076.\n",
        "..\\maildir/shackleton-s/all_documents/11077.\n",
        "..\\maildir/shackleton-s/all_documents/11079.\n",
        "..\\maildir/shackleton-s/all_documents/11083.\n",
        "..\\maildir/shackleton-s/all_documents/11084."
       ]
      },
      {
       "output_type": "stream",
       "stream": "stdout",
       "text": [
        "\n",
        "..\\maildir/shackleton-s/all_documents/11086.\n",
        "..\\maildir/shackleton-s/all_documents/11087.\n",
        "..\\maildir/shackleton-s/all_documents/11089.\n",
        "..\\maildir/shackleton-s/all_documents/1109.\n",
        "..\\maildir/shackleton-s/all_documents/11094."
       ]
      },
      {
       "output_type": "stream",
       "stream": "stdout",
       "text": [
        "\n",
        "..\\maildir/shackleton-s/all_documents/1110.\n",
        "..\\maildir/shackleton-s/all_documents/11104.\n",
        "..\\maildir/shackleton-s/all_documents/1111."
       ]
      },
      {
       "output_type": "stream",
       "stream": "stdout",
       "text": [
        "\n",
        "..\\maildir/shackleton-s/all_documents/11110.\n",
        "..\\maildir/shackleton-s/all_documents/11114."
       ]
      },
      {
       "output_type": "stream",
       "stream": "stdout",
       "text": [
        "\n",
        "..\\maildir/shackleton-s/all_documents/11115.\n",
        "..\\maildir/shackleton-s/all_documents/11119."
       ]
      },
      {
       "output_type": "stream",
       "stream": "stdout",
       "text": [
        "\n",
        "..\\maildir/shackleton-s/all_documents/1112.\n",
        "..\\maildir/shackleton-s/all_documents/1113."
       ]
      },
      {
       "output_type": "stream",
       "stream": "stdout",
       "text": [
        "\n",
        "..\\maildir/shackleton-s/all_documents/11131.\n",
        "..\\maildir/shackleton-s/all_documents/11133."
       ]
      },
      {
       "output_type": "stream",
       "stream": "stdout",
       "text": [
        "\n",
        "..\\maildir/shackleton-s/all_documents/11139.\n",
        "..\\maildir/shackleton-s/all_documents/1114."
       ]
      },
      {
       "output_type": "stream",
       "stream": "stdout",
       "text": [
        "\n",
        "..\\maildir/shackleton-s/all_documents/11140.\n",
        "..\\maildir/shackleton-s/all_documents/11141."
       ]
      },
      {
       "output_type": "stream",
       "stream": "stdout",
       "text": [
        "\n",
        "..\\maildir/shackleton-s/all_documents/11144.\n",
        "..\\maildir/shackleton-s/all_documents/11145."
       ]
      },
      {
       "output_type": "stream",
       "stream": "stdout",
       "text": [
        "\n",
        "..\\maildir/shackleton-s/all_documents/11147.\n",
        "..\\maildir/shackleton-s/all_documents/1115."
       ]
      },
      {
       "output_type": "stream",
       "stream": "stdout",
       "text": [
        "\n",
        "..\\maildir/shackleton-s/all_documents/11155.\n",
        "..\\maildir/shackleton-s/all_documents/11157.\n",
        "..\\maildir/shackleton-s/all_documents/11160."
       ]
      },
      {
       "output_type": "stream",
       "stream": "stdout",
       "text": [
        "\n",
        "..\\maildir/shackleton-s/all_documents/11161.\n",
        "..\\maildir/shackleton-s/all_documents/11163."
       ]
      },
      {
       "output_type": "stream",
       "stream": "stdout",
       "text": [
        "\n",
        "..\\maildir/shackleton-s/all_documents/1117.\n",
        "..\\maildir/shackleton-s/all_documents/11170."
       ]
      },
      {
       "output_type": "stream",
       "stream": "stdout",
       "text": [
        "\n",
        "..\\maildir/shackleton-s/all_documents/11177.\n",
        "..\\maildir/shackleton-s/all_documents/11178.\n",
        "..\\maildir/shackleton-s/all_documents/11179.\n",
        "..\\maildir/shackleton-s/all_documents/1118."
       ]
      },
      {
       "output_type": "stream",
       "stream": "stdout",
       "text": [
        "\n",
        "..\\maildir/shackleton-s/all_documents/11183.\n",
        "..\\maildir/shackleton-s/all_documents/11186.\n",
        "..\\maildir/shackleton-s/all_documents/11189.\n",
        "..\\maildir/shackleton-s/all_documents/1119.\n",
        "..\\maildir/shackleton-s/all_documents/11192."
       ]
      },
      {
       "output_type": "stream",
       "stream": "stdout",
       "text": [
        "\n",
        "..\\maildir/shackleton-s/all_documents/11195.\n",
        "..\\maildir/shackleton-s/all_documents/11199.\n",
        "..\\maildir/shackleton-s/all_documents/112."
       ]
      },
      {
       "output_type": "stream",
       "stream": "stdout",
       "text": [
        "\n",
        "..\\maildir/shackleton-s/all_documents/1120.\n",
        "..\\maildir/shackleton-s/all_documents/11205.\n",
        "..\\maildir/shackleton-s/all_documents/1121.\n",
        "..\\maildir/shackleton-s/all_documents/11210."
       ]
      },
      {
       "output_type": "stream",
       "stream": "stdout",
       "text": [
        "\n",
        "..\\maildir/shackleton-s/all_documents/11211.\n",
        "..\\maildir/shackleton-s/all_documents/11214.\n",
        "..\\maildir/shackleton-s/all_documents/11217."
       ]
      },
      {
       "output_type": "stream",
       "stream": "stdout",
       "text": [
        "\n",
        "..\\maildir/shackleton-s/all_documents/1122.\n",
        "..\\maildir/shackleton-s/all_documents/11220.\n",
        "..\\maildir/shackleton-s/all_documents/11221."
       ]
      },
      {
       "output_type": "stream",
       "stream": "stdout",
       "text": [
        "\n",
        "..\\maildir/shackleton-s/all_documents/11222.\n",
        "..\\maildir/shackleton-s/all_documents/11224.\n",
        "..\\maildir/shackleton-s/all_documents/11227."
       ]
      },
      {
       "output_type": "stream",
       "stream": "stdout",
       "text": [
        "\n",
        "..\\maildir/shackleton-s/all_documents/11243.\n",
        "..\\maildir/shackleton-s/all_documents/11244.\n",
        "..\\maildir/shackleton-s/all_documents/11249.\n",
        "..\\maildir/shackleton-s/all_documents/1125."
       ]
      },
      {
       "output_type": "stream",
       "stream": "stdout",
       "text": [
        "\n",
        "..\\maildir/shackleton-s/all_documents/11250.\n",
        "..\\maildir/shackleton-s/all_documents/11257.\n",
        "..\\maildir/shackleton-s/all_documents/11258."
       ]
      },
      {
       "output_type": "stream",
       "stream": "stdout",
       "text": [
        "\n",
        "..\\maildir/shackleton-s/all_documents/1126.\n",
        "..\\maildir/shackleton-s/all_documents/11260.\n",
        "..\\maildir/shackleton-s/all_documents/11261."
       ]
      },
      {
       "output_type": "stream",
       "stream": "stdout",
       "text": [
        "\n",
        "..\\maildir/shackleton-s/all_documents/11263.\n",
        "..\\maildir/shackleton-s/all_documents/11264.\n",
        "..\\maildir/shackleton-s/all_documents/11265.\n",
        "..\\maildir/shackleton-s/all_documents/11266.\n",
        "..\\maildir/shackleton-s/all_documents/1127."
       ]
      },
      {
       "output_type": "stream",
       "stream": "stdout",
       "text": [
        "\n",
        "..\\maildir/shackleton-s/all_documents/11270.\n",
        "..\\maildir/shackleton-s/all_documents/11271.\n",
        "..\\maildir/shackleton-s/all_documents/11273."
       ]
      },
      {
       "output_type": "stream",
       "stream": "stdout",
       "text": [
        "\n",
        "..\\maildir/shackleton-s/all_documents/11274.\n",
        "..\\maildir/shackleton-s/all_documents/11277.\n",
        "..\\maildir/shackleton-s/all_documents/11279."
       ]
      },
      {
       "output_type": "stream",
       "stream": "stdout",
       "text": [
        "\n",
        "..\\maildir/shackleton-s/all_documents/11281.\n",
        "..\\maildir/shackleton-s/all_documents/11283.\n",
        "..\\maildir/shackleton-s/all_documents/11291."
       ]
      },
      {
       "output_type": "stream",
       "stream": "stdout",
       "text": [
        "\n",
        "..\\maildir/shackleton-s/all_documents/11292.\n",
        "..\\maildir/shackleton-s/all_documents/11294.\n",
        "..\\maildir/shackleton-s/all_documents/11296.\n",
        "..\\maildir/shackleton-s/all_documents/11297."
       ]
      },
      {
       "output_type": "stream",
       "stream": "stdout",
       "text": [
        "\n",
        "..\\maildir/shackleton-s/all_documents/11299.\n",
        "..\\maildir/shackleton-s/all_documents/113.\n",
        "..\\maildir/shackleton-s/all_documents/1130.\n",
        "..\\maildir/shackleton-s/all_documents/11302."
       ]
      },
      {
       "output_type": "stream",
       "stream": "stdout",
       "text": [
        "\n",
        "..\\maildir/shackleton-s/all_documents/11308.\n",
        "..\\maildir/shackleton-s/all_documents/11309.\n",
        "..\\maildir/shackleton-s/all_documents/1131.\n",
        "..\\maildir/shackleton-s/all_documents/11310.\n",
        "..\\maildir/shackleton-s/all_documents/11317.\n",
        "..\\maildir/shackleton-s/all_documents/11318."
       ]
      },
      {
       "output_type": "stream",
       "stream": "stdout",
       "text": [
        "\n",
        "..\\maildir/shackleton-s/all_documents/1132.\n",
        "..\\maildir/shackleton-s/all_documents/11320.\n",
        "..\\maildir/shackleton-s/all_documents/11326.\n",
        "..\\maildir/shackleton-s/all_documents/1133.\n",
        "..\\maildir/shackleton-s/all_documents/11333."
       ]
      },
      {
       "output_type": "stream",
       "stream": "stdout",
       "text": [
        "\n",
        "..\\maildir/shackleton-s/all_documents/11338.\n",
        "..\\maildir/shackleton-s/all_documents/1134.\n",
        "..\\maildir/shackleton-s/all_documents/11343.\n",
        "..\\maildir/shackleton-s/all_documents/11345."
       ]
      },
      {
       "output_type": "stream",
       "stream": "stdout",
       "text": [
        "\n",
        "..\\maildir/shackleton-s/all_documents/11348.\n",
        "..\\maildir/shackleton-s/all_documents/11349.\n",
        "..\\maildir/shackleton-s/all_documents/1135."
       ]
      },
      {
       "output_type": "stream",
       "stream": "stdout",
       "text": [
        "\n",
        "..\\maildir/shackleton-s/all_documents/11350.\n",
        "..\\maildir/shackleton-s/all_documents/11363.\n",
        "..\\maildir/shackleton-s/all_documents/11364.\n",
        "..\\maildir/shackleton-s/all_documents/1137."
       ]
      },
      {
       "output_type": "stream",
       "stream": "stdout",
       "text": [
        "\n",
        "..\\maildir/shackleton-s/all_documents/11372.\n",
        "..\\maildir/shackleton-s/all_documents/11374.\n",
        "..\\maildir/shackleton-s/all_documents/1138."
       ]
      },
      {
       "output_type": "stream",
       "stream": "stdout",
       "text": [
        "\n",
        "..\\maildir/shackleton-s/all_documents/11383.\n",
        "..\\maildir/shackleton-s/all_documents/11388."
       ]
      },
      {
       "output_type": "stream",
       "stream": "stdout",
       "text": [
        "\n",
        "..\\maildir/shackleton-s/all_documents/1139.\n",
        "..\\maildir/shackleton-s/all_documents/11392.\n",
        "..\\maildir/shackleton-s/all_documents/11393."
       ]
      },
      {
       "output_type": "stream",
       "stream": "stdout",
       "text": [
        "\n",
        "..\\maildir/shackleton-s/all_documents/11394.\n",
        "..\\maildir/shackleton-s/all_documents/11395.\n",
        "..\\maildir/shackleton-s/all_documents/11396.\n",
        "..\\maildir/shackleton-s/all_documents/11399."
       ]
      },
      {
       "output_type": "stream",
       "stream": "stdout",
       "text": [
        "\n",
        "..\\maildir/shackleton-s/all_documents/114.\n",
        "..\\maildir/shackleton-s/all_documents/1140.\n",
        "..\\maildir/shackleton-s/all_documents/11402.\n",
        "..\\maildir/shackleton-s/all_documents/11408."
       ]
      },
      {
       "output_type": "stream",
       "stream": "stdout",
       "text": [
        "\n",
        "..\\maildir/shackleton-s/all_documents/11409.\n",
        "..\\maildir/shackleton-s/all_documents/11410."
       ]
      },
      {
       "output_type": "stream",
       "stream": "stdout",
       "text": [
        "\n",
        "..\\maildir/shackleton-s/all_documents/11411.\n",
        "..\\maildir/shackleton-s/all_documents/11412."
       ]
      },
      {
       "output_type": "stream",
       "stream": "stdout",
       "text": [
        "\n",
        "..\\maildir/shackleton-s/all_documents/11417.\n",
        "..\\maildir/shackleton-s/all_documents/11420.\n",
        "..\\maildir/shackleton-s/all_documents/11422.\n",
        "..\\maildir/shackleton-s/all_documents/11423."
       ]
      },
      {
       "output_type": "stream",
       "stream": "stdout",
       "text": [
        "\n",
        "..\\maildir/shackleton-s/all_documents/11424.\n",
        "..\\maildir/shackleton-s/all_documents/11425.\n",
        "..\\maildir/shackleton-s/all_documents/11427.\n",
        "..\\maildir/shackleton-s/all_documents/11428."
       ]
      },
      {
       "output_type": "stream",
       "stream": "stdout",
       "text": [
        "\n",
        "..\\maildir/shackleton-s/all_documents/11430.\n",
        "..\\maildir/shackleton-s/all_documents/11432.\n",
        "..\\maildir/shackleton-s/all_documents/11434.\n",
        "..\\maildir/shackleton-s/all_documents/11437."
       ]
      },
      {
       "output_type": "stream",
       "stream": "stdout",
       "text": [
        "\n",
        "..\\maildir/shackleton-s/all_documents/11441.\n",
        "..\\maildir/shackleton-s/all_documents/11446."
       ]
      },
      {
       "output_type": "stream",
       "stream": "stdout",
       "text": [
        "\n",
        "..\\maildir/shackleton-s/all_documents/11449.\n",
        "..\\maildir/shackleton-s/all_documents/11451.\n",
        "..\\maildir/shackleton-s/all_documents/11454."
       ]
      },
      {
       "output_type": "stream",
       "stream": "stdout",
       "text": [
        "\n",
        "..\\maildir/shackleton-s/all_documents/11456.\n",
        "..\\maildir/shackleton-s/all_documents/1146."
       ]
      },
      {
       "output_type": "stream",
       "stream": "stdout",
       "text": [
        "\n",
        "..\\maildir/shackleton-s/all_documents/11461.\n",
        "..\\maildir/shackleton-s/all_documents/11467."
       ]
      },
      {
       "output_type": "stream",
       "stream": "stdout",
       "text": [
        "\n",
        "..\\maildir/shackleton-s/all_documents/11468.\n",
        "..\\maildir/shackleton-s/all_documents/1147."
       ]
      },
      {
       "output_type": "stream",
       "stream": "stdout",
       "text": [
        "\n",
        "..\\maildir/shackleton-s/all_documents/11473.\n",
        "..\\maildir/shackleton-s/all_documents/11474.\n",
        "..\\maildir/shackleton-s/all_documents/11476.\n",
        "..\\maildir/shackleton-s/all_documents/11477."
       ]
      },
      {
       "output_type": "stream",
       "stream": "stdout",
       "text": [
        "\n",
        "..\\maildir/shackleton-s/all_documents/11481.\n",
        "..\\maildir/shackleton-s/all_documents/11485.\n",
        "..\\maildir/shackleton-s/all_documents/11486."
       ]
      },
      {
       "output_type": "stream",
       "stream": "stdout",
       "text": [
        "\n",
        "..\\maildir/shackleton-s/all_documents/1149.\n",
        "..\\maildir/shackleton-s/all_documents/11494.\n",
        "..\\maildir/shackleton-s/all_documents/11496.\n",
        "..\\maildir/shackleton-s/all_documents/115."
       ]
      },
      {
       "output_type": "stream",
       "stream": "stdout",
       "text": [
        "\n",
        "..\\maildir/shackleton-s/all_documents/1150.\n",
        "..\\maildir/shackleton-s/all_documents/11509.\n",
        "..\\maildir/shackleton-s/all_documents/1151."
       ]
      },
      {
       "output_type": "stream",
       "stream": "stdout",
       "text": [
        "\n",
        "..\\maildir/shackleton-s/all_documents/11512.\n",
        "..\\maildir/shackleton-s/all_documents/1152.\n",
        "..\\maildir/shackleton-s/all_documents/11520.\n",
        "..\\maildir/shackleton-s/all_documents/11521."
       ]
      },
      {
       "output_type": "stream",
       "stream": "stdout",
       "text": [
        "\n",
        "..\\maildir/shackleton-s/all_documents/1153.\n",
        "..\\maildir/shackleton-s/all_documents/1154.\n",
        "..\\maildir/shackleton-s/all_documents/1155.\n",
        "..\\maildir/shackleton-s/all_documents/1156."
       ]
      },
      {
       "output_type": "stream",
       "stream": "stdout",
       "text": [
        "\n",
        "..\\maildir/shackleton-s/all_documents/1157.\n",
        "..\\maildir/shackleton-s/all_documents/1159.\n",
        "..\\maildir/shackleton-s/all_documents/116.\n",
        "..\\maildir/shackleton-s/all_documents/1162."
       ]
      },
      {
       "output_type": "stream",
       "stream": "stdout",
       "text": [
        "\n",
        "..\\maildir/shackleton-s/all_documents/1163.\n",
        "..\\maildir/shackleton-s/all_documents/1164.\n",
        "..\\maildir/shackleton-s/all_documents/1165."
       ]
      },
      {
       "output_type": "stream",
       "stream": "stdout",
       "text": [
        "\n",
        "..\\maildir/shackleton-s/all_documents/1168.\n",
        "..\\maildir/shackleton-s/all_documents/117."
       ]
      },
      {
       "output_type": "stream",
       "stream": "stdout",
       "text": [
        "\n",
        "..\\maildir/shackleton-s/all_documents/1170.\n",
        "..\\maildir/shackleton-s/all_documents/1172.\n",
        "..\\maildir/shackleton-s/all_documents/1173.\n",
        "..\\maildir/shackleton-s/all_documents/1174."
       ]
      },
      {
       "output_type": "stream",
       "stream": "stdout",
       "text": [
        "\n",
        "..\\maildir/shackleton-s/all_documents/1176.\n",
        "..\\maildir/shackleton-s/all_documents/1177.\n",
        "..\\maildir/shackleton-s/all_documents/1178.\n",
        "..\\maildir/shackleton-s/all_documents/1179.\n",
        "..\\maildir/shackleton-s/all_documents/118."
       ]
      },
      {
       "output_type": "stream",
       "stream": "stdout",
       "text": [
        "\n",
        "..\\maildir/shackleton-s/all_documents/1180.\n",
        "..\\maildir/shackleton-s/all_documents/1181.\n",
        "..\\maildir/shackleton-s/all_documents/1182."
       ]
      },
      {
       "output_type": "stream",
       "stream": "stdout",
       "text": [
        "\n",
        "..\\maildir/shackleton-s/all_documents/1183.\n",
        "..\\maildir/shackleton-s/all_documents/1184.\n",
        "..\\maildir/shackleton-s/all_documents/1185.\n",
        "..\\maildir/shackleton-s/all_documents/1186."
       ]
      },
      {
       "output_type": "stream",
       "stream": "stdout",
       "text": [
        "\n",
        "..\\maildir/shackleton-s/all_documents/119.\n",
        "..\\maildir/shackleton-s/all_documents/1190.\n",
        "..\\maildir/shackleton-s/all_documents/1191.\n",
        "..\\maildir/shackleton-s/all_documents/1193."
       ]
      },
      {
       "output_type": "stream",
       "stream": "stdout",
       "text": [
        "\n",
        "..\\maildir/shackleton-s/all_documents/1194.\n",
        "..\\maildir/shackleton-s/all_documents/11941.\n",
        "..\\maildir/shackleton-s/all_documents/11944.\n",
        "..\\maildir/shackleton-s/all_documents/11945."
       ]
      },
      {
       "output_type": "stream",
       "stream": "stdout",
       "text": [
        "\n",
        "..\\maildir/shackleton-s/all_documents/11946.\n",
        "..\\maildir/shackleton-s/all_documents/11947.\n",
        "..\\maildir/shackleton-s/all_documents/11949.\n",
        "..\\maildir/shackleton-s/all_documents/1195."
       ]
      },
      {
       "output_type": "stream",
       "stream": "stdout",
       "text": [
        "\n",
        "..\\maildir/shackleton-s/all_documents/11954.\n",
        "..\\maildir/shackleton-s/all_documents/11955.\n",
        "..\\maildir/shackleton-s/all_documents/11956."
       ]
      },
      {
       "output_type": "stream",
       "stream": "stdout",
       "text": [
        "\n",
        "..\\maildir/shackleton-s/all_documents/11957.\n",
        "..\\maildir/shackleton-s/all_documents/1196.\n",
        "..\\maildir/shackleton-s/all_documents/11960.\n",
        "..\\maildir/shackleton-s/all_documents/11961.\n",
        "..\\maildir/shackleton-s/all_documents/11964."
       ]
      },
      {
       "output_type": "stream",
       "stream": "stdout",
       "text": [
        "\n",
        "..\\maildir/shackleton-s/all_documents/11967.\n",
        "..\\maildir/shackleton-s/all_documents/1197."
       ]
      },
      {
       "output_type": "stream",
       "stream": "stdout",
       "text": [
        "\n",
        "..\\maildir/shackleton-s/all_documents/11970.\n",
        "..\\maildir/shackleton-s/all_documents/11972.\n",
        "..\\maildir/shackleton-s/all_documents/11973."
       ]
      },
      {
       "output_type": "stream",
       "stream": "stdout",
       "text": [
        "\n",
        "..\\maildir/shackleton-s/all_documents/11974.\n",
        "..\\maildir/shackleton-s/all_documents/1198.\n",
        "..\\maildir/shackleton-s/all_documents/1199."
       ]
      },
      {
       "output_type": "stream",
       "stream": "stdout",
       "text": [
        "\n",
        "..\\maildir/shackleton-s/all_documents/12.\n",
        "..\\maildir/shackleton-s/all_documents/1201.\n",
        "..\\maildir/shackleton-s/all_documents/1202.\n",
        "..\\maildir/shackleton-s/all_documents/1203.\n",
        "..\\maildir/shackleton-s/all_documents/1204."
       ]
      },
      {
       "output_type": "stream",
       "stream": "stdout",
       "text": [
        "\n",
        "..\\maildir/shackleton-s/all_documents/1205.\n",
        "..\\maildir/shackleton-s/all_documents/1206.\n",
        "..\\maildir/shackleton-s/all_documents/1209.\n",
        "..\\maildir/shackleton-s/all_documents/121.\n",
        "..\\maildir/shackleton-s/all_documents/1211."
       ]
      },
      {
       "output_type": "stream",
       "stream": "stdout",
       "text": [
        "\n",
        "..\\maildir/shackleton-s/all_documents/1212.\n",
        "..\\maildir/shackleton-s/all_documents/1213.\n",
        "..\\maildir/shackleton-s/all_documents/1214.\n",
        "..\\maildir/shackleton-s/all_documents/1215.\n",
        "..\\maildir/shackleton-s/all_documents/1216.\n",
        "..\\maildir/shackleton-s/all_documents/1218.\n",
        "..\\maildir/shackleton-s/all_documents/1219.\n",
        "..\\maildir/shackleton-s/all_documents/1220."
       ]
      },
      {
       "output_type": "stream",
       "stream": "stdout",
       "text": [
        "\n",
        "..\\maildir/shackleton-s/all_documents/1221.\n",
        "..\\maildir/shackleton-s/all_documents/1223.\n",
        "..\\maildir/shackleton-s/all_documents/1224.\n",
        "..\\maildir/shackleton-s/all_documents/1225."
       ]
      },
      {
       "output_type": "stream",
       "stream": "stdout",
       "text": [
        "\n",
        "..\\maildir/shackleton-s/all_documents/1226.\n",
        "..\\maildir/shackleton-s/all_documents/1227.\n",
        "..\\maildir/shackleton-s/all_documents/1228.\n",
        "..\\maildir/shackleton-s/all_documents/1229.\n",
        "..\\maildir/shackleton-s/all_documents/1230."
       ]
      },
      {
       "output_type": "stream",
       "stream": "stdout",
       "text": [
        "\n",
        "..\\maildir/shackleton-s/all_documents/1231.\n",
        "..\\maildir/shackleton-s/all_documents/1232.\n",
        "..\\maildir/shackleton-s/all_documents/1236.\n",
        "..\\maildir/shackleton-s/all_documents/1237.\n",
        "..\\maildir/shackleton-s/all_documents/1239.\n",
        "..\\maildir/shackleton-s/all_documents/124."
       ]
      },
      {
       "output_type": "stream",
       "stream": "stdout",
       "text": [
        "\n",
        "..\\maildir/shackleton-s/all_documents/1240.\n",
        "..\\maildir/shackleton-s/all_documents/1241.\n",
        "..\\maildir/shackleton-s/all_documents/1242."
       ]
      },
      {
       "output_type": "stream",
       "stream": "stdout",
       "text": [
        "\n",
        "..\\maildir/shackleton-s/all_documents/1243.\n",
        "..\\maildir/shackleton-s/all_documents/1244.\n",
        "..\\maildir/shackleton-s/all_documents/1245.\n",
        "..\\maildir/shackleton-s/all_documents/1246.\n",
        "..\\maildir/shackleton-s/all_documents/1247.\n",
        "..\\maildir/shackleton-s/all_documents/1248."
       ]
      },
      {
       "output_type": "stream",
       "stream": "stdout",
       "text": [
        "\n",
        "..\\maildir/shackleton-s/all_documents/1249.\n",
        "..\\maildir/shackleton-s/all_documents/1250.\n",
        "..\\maildir/shackleton-s/all_documents/1251.\n",
        "..\\maildir/shackleton-s/all_documents/1254.\n",
        "..\\maildir/shackleton-s/all_documents/1255."
       ]
      },
      {
       "output_type": "stream",
       "stream": "stdout",
       "text": [
        "\n",
        "..\\maildir/shackleton-s/all_documents/1257.\n",
        "..\\maildir/shackleton-s/all_documents/1258.\n",
        "..\\maildir/shackleton-s/all_documents/1259.\n",
        "..\\maildir/shackleton-s/all_documents/1260.\n",
        "..\\maildir/shackleton-s/all_documents/1261."
       ]
      },
      {
       "output_type": "stream",
       "stream": "stdout",
       "text": [
        "\n",
        "..\\maildir/shackleton-s/all_documents/1262.\n",
        "..\\maildir/shackleton-s/all_documents/1263.\n",
        "..\\maildir/shackleton-s/all_documents/1266."
       ]
      },
      {
       "output_type": "stream",
       "stream": "stdout",
       "text": [
        "\n",
        "..\\maildir/shackleton-s/all_documents/1267.\n",
        "..\\maildir/shackleton-s/all_documents/127."
       ]
      },
      {
       "output_type": "stream",
       "stream": "stdout",
       "text": [
        "\n",
        "..\\maildir/shackleton-s/all_documents/1272.\n",
        "..\\maildir/shackleton-s/all_documents/1273.\n",
        "..\\maildir/shackleton-s/all_documents/1276.\n",
        "..\\maildir/shackleton-s/all_documents/1277."
       ]
      },
      {
       "output_type": "stream",
       "stream": "stdout",
       "text": [
        "\n",
        "..\\maildir/shackleton-s/all_documents/1278.\n",
        "..\\maildir/shackleton-s/all_documents/1279.\n",
        "..\\maildir/shackleton-s/all_documents/128.\n",
        "..\\maildir/shackleton-s/all_documents/1280.\n",
        "..\\maildir/shackleton-s/all_documents/1281."
       ]
      },
      {
       "output_type": "stream",
       "stream": "stdout",
       "text": [
        "\n",
        "..\\maildir/shackleton-s/all_documents/1282.\n",
        "..\\maildir/shackleton-s/all_documents/1283.\n",
        "..\\maildir/shackleton-s/all_documents/1284."
       ]
      },
      {
       "output_type": "stream",
       "stream": "stdout",
       "text": [
        "\n",
        "..\\maildir/shackleton-s/all_documents/1287.\n",
        "..\\maildir/shackleton-s/all_documents/1288."
       ]
      },
      {
       "output_type": "stream",
       "stream": "stdout",
       "text": [
        "\n",
        "..\\maildir/shackleton-s/all_documents/129.\n",
        "..\\maildir/shackleton-s/all_documents/1290.\n",
        "..\\maildir/shackleton-s/all_documents/1291.\n",
        "..\\maildir/shackleton-s/all_documents/1292.\n",
        "..\\maildir/shackleton-s/all_documents/1293.\n",
        "..\\maildir/shackleton-s/all_documents/1294."
       ]
      },
      {
       "output_type": "stream",
       "stream": "stdout",
       "text": [
        "\n",
        "..\\maildir/shackleton-s/all_documents/1295.\n",
        "..\\maildir/shackleton-s/all_documents/1296.\n",
        "..\\maildir/shackleton-s/all_documents/1298.\n",
        "..\\maildir/shackleton-s/all_documents/13.\n",
        "..\\maildir/shackleton-s/all_documents/1300."
       ]
      },
      {
       "output_type": "stream",
       "stream": "stdout",
       "text": [
        "\n",
        "..\\maildir/shackleton-s/all_documents/1301.\n",
        "..\\maildir/shackleton-s/all_documents/1303.\n",
        "..\\maildir/shackleton-s/all_documents/1304."
       ]
      },
      {
       "output_type": "stream",
       "stream": "stdout",
       "text": [
        "\n",
        "..\\maildir/shackleton-s/all_documents/1305.\n",
        "..\\maildir/shackleton-s/all_documents/1306.\n",
        "..\\maildir/shackleton-s/all_documents/1307."
       ]
      },
      {
       "output_type": "stream",
       "stream": "stdout",
       "text": [
        "\n",
        "..\\maildir/shackleton-s/all_documents/1308.\n",
        "..\\maildir/shackleton-s/all_documents/1309.\n",
        "..\\maildir/shackleton-s/all_documents/131.\n",
        "..\\maildir/shackleton-s/all_documents/1310.\n",
        "..\\maildir/shackleton-s/all_documents/1311."
       ]
      },
      {
       "output_type": "stream",
       "stream": "stdout",
       "text": [
        "\n",
        "..\\maildir/shackleton-s/all_documents/1312.\n",
        "..\\maildir/shackleton-s/all_documents/1313.\n",
        "..\\maildir/shackleton-s/all_documents/1314.\n",
        "..\\maildir/shackleton-s/all_documents/1315.\n",
        "..\\maildir/shackleton-s/all_documents/1316."
       ]
      },
      {
       "output_type": "stream",
       "stream": "stdout",
       "text": [
        "\n",
        "..\\maildir/shackleton-s/all_documents/1317.\n",
        "..\\maildir/shackleton-s/all_documents/132.\n",
        "..\\maildir/shackleton-s/all_documents/1322.\n",
        "..\\maildir/shackleton-s/all_documents/1323.\n",
        "..\\maildir/shackleton-s/all_documents/1325."
       ]
      },
      {
       "output_type": "stream",
       "stream": "stdout",
       "text": [
        "\n",
        "..\\maildir/shackleton-s/all_documents/1326.\n",
        "..\\maildir/shackleton-s/all_documents/1327.\n",
        "..\\maildir/shackleton-s/all_documents/1328."
       ]
      },
      {
       "output_type": "stream",
       "stream": "stdout",
       "text": [
        "\n",
        "..\\maildir/shackleton-s/all_documents/133.\n",
        "..\\maildir/shackleton-s/all_documents/1331.\n",
        "..\\maildir/shackleton-s/all_documents/1332.\n",
        "..\\maildir/shackleton-s/all_documents/1333."
       ]
      },
      {
       "output_type": "stream",
       "stream": "stdout",
       "text": [
        "\n",
        "..\\maildir/shackleton-s/all_documents/1335.\n",
        "..\\maildir/shackleton-s/all_documents/1336."
       ]
      },
      {
       "output_type": "stream",
       "stream": "stdout",
       "text": [
        "\n",
        "..\\maildir/shackleton-s/all_documents/1337.\n",
        "..\\maildir/shackleton-s/all_documents/1338.\n",
        "..\\maildir/shackleton-s/all_documents/1339."
       ]
      },
      {
       "output_type": "stream",
       "stream": "stdout",
       "text": [
        "\n",
        "..\\maildir/shackleton-s/all_documents/1341.\n",
        "..\\maildir/shackleton-s/all_documents/1342.\n",
        "..\\maildir/shackleton-s/all_documents/1343."
       ]
      },
      {
       "output_type": "stream",
       "stream": "stdout",
       "text": [
        "\n",
        "..\\maildir/shackleton-s/all_documents/1344.\n",
        "..\\maildir/shackleton-s/all_documents/1345.\n",
        "..\\maildir/shackleton-s/all_documents/1346."
       ]
      },
      {
       "output_type": "stream",
       "stream": "stdout",
       "text": [
        "\n",
        "..\\maildir/shackleton-s/all_documents/1348.\n",
        "..\\maildir/shackleton-s/all_documents/1352.\n",
        "..\\maildir/shackleton-s/all_documents/1354."
       ]
      },
      {
       "output_type": "stream",
       "stream": "stdout",
       "text": [
        "\n",
        "..\\maildir/shackleton-s/all_documents/1355.\n",
        "..\\maildir/shackleton-s/all_documents/1359.\n",
        "..\\maildir/shackleton-s/all_documents/1360.\n",
        "..\\maildir/shackleton-s/all_documents/1361.\n",
        "..\\maildir/shackleton-s/all_documents/1362."
       ]
      },
      {
       "output_type": "stream",
       "stream": "stdout",
       "text": [
        "\n",
        "..\\maildir/shackleton-s/all_documents/1363.\n",
        "..\\maildir/shackleton-s/all_documents/1364.\n",
        "..\\maildir/shackleton-s/all_documents/1365.\n",
        "..\\maildir/shackleton-s/all_documents/1367."
       ]
      },
      {
       "output_type": "stream",
       "stream": "stdout",
       "text": [
        "\n",
        "..\\maildir/shackleton-s/all_documents/1368.\n",
        "..\\maildir/shackleton-s/all_documents/1369."
       ]
      },
      {
       "output_type": "stream",
       "stream": "stdout",
       "text": [
        "\n",
        "..\\maildir/shackleton-s/all_documents/1370.\n",
        "..\\maildir/shackleton-s/all_documents/1371.\n",
        "..\\maildir/shackleton-s/all_documents/1373."
       ]
      },
      {
       "output_type": "stream",
       "stream": "stdout",
       "text": [
        "\n",
        "..\\maildir/shackleton-s/all_documents/1374.\n",
        "..\\maildir/shackleton-s/all_documents/1376.\n",
        "..\\maildir/shackleton-s/all_documents/138.\n",
        "..\\maildir/shackleton-s/all_documents/1381.\n",
        "..\\maildir/shackleton-s/all_documents/1382."
       ]
      },
      {
       "output_type": "stream",
       "stream": "stdout",
       "text": [
        "\n",
        "..\\maildir/shackleton-s/all_documents/1383.\n",
        "..\\maildir/shackleton-s/all_documents/1384."
       ]
      },
      {
       "output_type": "stream",
       "stream": "stdout",
       "text": [
        "\n",
        "..\\maildir/shackleton-s/all_documents/1388.\n",
        "..\\maildir/shackleton-s/all_documents/1389.\n",
        "..\\maildir/shackleton-s/all_documents/1390."
       ]
      },
      {
       "output_type": "stream",
       "stream": "stdout",
       "text": [
        "\n",
        "..\\maildir/shackleton-s/all_documents/1391.\n",
        "..\\maildir/shackleton-s/all_documents/1393.\n",
        "..\\maildir/shackleton-s/all_documents/1394.\n",
        "..\\maildir/shackleton-s/all_documents/1395."
       ]
      },
      {
       "output_type": "stream",
       "stream": "stdout",
       "text": [
        "\n",
        "..\\maildir/shackleton-s/all_documents/1396.\n",
        "..\\maildir/shackleton-s/all_documents/1397.\n",
        "..\\maildir/shackleton-s/all_documents/1398.\n",
        "..\\maildir/shackleton-s/all_documents/1399.\n",
        "..\\maildir/shackleton-s/all_documents/140.\n",
        "..\\maildir/shackleton-s/all_documents/1401."
       ]
      },
      {
       "output_type": "stream",
       "stream": "stdout",
       "text": [
        "\n",
        "..\\maildir/shackleton-s/all_documents/1402.\n",
        "..\\maildir/shackleton-s/all_documents/1403.\n",
        "..\\maildir/shackleton-s/all_documents/1404."
       ]
      },
      {
       "output_type": "stream",
       "stream": "stdout",
       "text": [
        "\n",
        "..\\maildir/shackleton-s/all_documents/1405.\n",
        "..\\maildir/shackleton-s/all_documents/1407.\n",
        "..\\maildir/shackleton-s/all_documents/1408."
       ]
      },
      {
       "output_type": "stream",
       "stream": "stdout",
       "text": [
        "\n",
        "..\\maildir/shackleton-s/all_documents/1409.\n",
        "..\\maildir/shackleton-s/all_documents/141.\n",
        "..\\maildir/shackleton-s/all_documents/1410.\n",
        "..\\maildir/shackleton-s/all_documents/1411."
       ]
      },
      {
       "output_type": "stream",
       "stream": "stdout",
       "text": [
        "\n",
        "..\\maildir/shackleton-s/all_documents/1414.\n",
        "..\\maildir/shackleton-s/all_documents/1415.\n",
        "..\\maildir/shackleton-s/all_documents/1416.\n",
        "..\\maildir/shackleton-s/all_documents/1417.\n",
        "..\\maildir/shackleton-s/all_documents/1419."
       ]
      },
      {
       "output_type": "stream",
       "stream": "stdout",
       "text": [
        "\n",
        "..\\maildir/shackleton-s/all_documents/142."
       ]
      },
      {
       "output_type": "stream",
       "stream": "stdout",
       "text": [
        "\n",
        "..\\maildir/shackleton-s/all_documents/1420.\n",
        "..\\maildir/shackleton-s/all_documents/1421.\n",
        "..\\maildir/shackleton-s/all_documents/1422.\n",
        "..\\maildir/shackleton-s/all_documents/1423."
       ]
      },
      {
       "output_type": "stream",
       "stream": "stdout",
       "text": [
        "\n",
        "..\\maildir/shackleton-s/all_documents/1424.\n",
        "..\\maildir/shackleton-s/all_documents/1425."
       ]
      },
      {
       "output_type": "stream",
       "stream": "stdout",
       "text": [
        "\n",
        "..\\maildir/shackleton-s/all_documents/1426.\n",
        "..\\maildir/shackleton-s/all_documents/1427.\n",
        "..\\maildir/shackleton-s/all_documents/1429.\n",
        "..\\maildir/shackleton-s/all_documents/143."
       ]
      },
      {
       "output_type": "stream",
       "stream": "stdout",
       "text": [
        "\n",
        "..\\maildir/shackleton-s/all_documents/1430.\n",
        "..\\maildir/shackleton-s/all_documents/1431.\n",
        "..\\maildir/shackleton-s/all_documents/1432.\n",
        "..\\maildir/shackleton-s/all_documents/1433.\n",
        "..\\maildir/shackleton-s/all_documents/1436."
       ]
      },
      {
       "output_type": "stream",
       "stream": "stdout",
       "text": [
        "\n",
        "..\\maildir/shackleton-s/all_documents/1437.\n",
        "..\\maildir/shackleton-s/all_documents/1438.\n",
        "..\\maildir/shackleton-s/all_documents/1439."
       ]
      },
      {
       "output_type": "stream",
       "stream": "stdout",
       "text": [
        "\n",
        "..\\maildir/shackleton-s/all_documents/144.\n",
        "..\\maildir/shackleton-s/all_documents/1440.\n",
        "..\\maildir/shackleton-s/all_documents/1441.\n",
        "..\\maildir/shackleton-s/all_documents/1442.\n",
        "..\\maildir/shackleton-s/all_documents/1446."
       ]
      },
      {
       "output_type": "stream",
       "stream": "stdout",
       "text": [
        "\n",
        "..\\maildir/shackleton-s/all_documents/1448.\n",
        "..\\maildir/shackleton-s/all_documents/1449."
       ]
      },
      {
       "output_type": "stream",
       "stream": "stdout",
       "text": [
        "\n",
        "..\\maildir/shackleton-s/all_documents/145.\n",
        "..\\maildir/shackleton-s/all_documents/1450.\n",
        "..\\maildir/shackleton-s/all_documents/1451.\n",
        "..\\maildir/shackleton-s/all_documents/1452.\n",
        "..\\maildir/shackleton-s/all_documents/1453."
       ]
      },
      {
       "output_type": "stream",
       "stream": "stdout",
       "text": [
        "\n",
        "..\\maildir/shackleton-s/all_documents/1454.\n",
        "..\\maildir/shackleton-s/all_documents/1456.\n",
        "..\\maildir/shackleton-s/all_documents/1457.\n",
        "..\\maildir/shackleton-s/all_documents/146."
       ]
      },
      {
       "output_type": "stream",
       "stream": "stdout",
       "text": [
        "\n",
        "..\\maildir/shackleton-s/all_documents/1460.\n",
        "..\\maildir/shackleton-s/all_documents/1461.\n",
        "..\\maildir/shackleton-s/all_documents/1462.\n",
        "..\\maildir/shackleton-s/all_documents/1463.\n",
        "..\\maildir/shackleton-s/all_documents/1465."
       ]
      },
      {
       "output_type": "stream",
       "stream": "stdout",
       "text": [
        "\n",
        "..\\maildir/shackleton-s/all_documents/1466.\n",
        "..\\maildir/shackleton-s/all_documents/1467.\n",
        "..\\maildir/shackleton-s/all_documents/1468."
       ]
      },
      {
       "output_type": "stream",
       "stream": "stdout",
       "text": [
        "\n",
        "..\\maildir/shackleton-s/all_documents/1469.\n",
        "..\\maildir/shackleton-s/all_documents/147.\n",
        "..\\maildir/shackleton-s/all_documents/1470.\n",
        "..\\maildir/shackleton-s/all_documents/1472."
       ]
      },
      {
       "output_type": "stream",
       "stream": "stdout",
       "text": [
        "\n",
        "..\\maildir/shackleton-s/all_documents/1473.\n",
        "..\\maildir/shackleton-s/all_documents/1474.\n",
        "..\\maildir/shackleton-s/all_documents/1475.\n",
        "..\\maildir/shackleton-s/all_documents/1476.\n",
        "..\\maildir/shackleton-s/all_documents/1477."
       ]
      },
      {
       "output_type": "stream",
       "stream": "stdout",
       "text": [
        "\n",
        "..\\maildir/shackleton-s/all_documents/1479.\n",
        "..\\maildir/shackleton-s/all_documents/148.\n",
        "..\\maildir/shackleton-s/all_documents/1480.\n",
        "..\\maildir/shackleton-s/all_documents/1481.\n",
        "..\\maildir/shackleton-s/all_documents/1482."
       ]
      },
      {
       "output_type": "stream",
       "stream": "stdout",
       "text": [
        "\n",
        "..\\maildir/shackleton-s/all_documents/1483.\n",
        "..\\maildir/shackleton-s/all_documents/1484.\n",
        "..\\maildir/shackleton-s/all_documents/1485."
       ]
      },
      {
       "output_type": "stream",
       "stream": "stdout",
       "text": [
        "\n",
        "..\\maildir/shackleton-s/all_documents/1486.\n",
        "..\\maildir/shackleton-s/all_documents/1488.\n",
        "..\\maildir/shackleton-s/all_documents/1489.\n",
        "..\\maildir/shackleton-s/all_documents/149.\n",
        "..\\maildir/shackleton-s/all_documents/1490.\n",
        "..\\maildir/shackleton-s/all_documents/1495.\n",
        "..\\maildir/shackleton-s/all_documents/1496.\n",
        "..\\maildir/shackleton-s/all_documents/1497."
       ]
      },
      {
       "output_type": "stream",
       "stream": "stdout",
       "text": [
        "\n",
        "..\\maildir/shackleton-s/all_documents/1498.\n",
        "..\\maildir/shackleton-s/all_documents/1499.\n",
        "..\\maildir/shackleton-s/all_documents/1500."
       ]
      },
      {
       "output_type": "stream",
       "stream": "stdout",
       "text": [
        "\n",
        "..\\maildir/shackleton-s/all_documents/1501.\n",
        "..\\maildir/shackleton-s/all_documents/1502.\n",
        "..\\maildir/shackleton-s/all_documents/1503."
       ]
      },
      {
       "output_type": "stream",
       "stream": "stdout",
       "text": [
        "\n",
        "..\\maildir/shackleton-s/all_documents/1504.\n",
        "..\\maildir/shackleton-s/all_documents/1505.\n",
        "..\\maildir/shackleton-s/all_documents/1506."
       ]
      },
      {
       "output_type": "stream",
       "stream": "stdout",
       "text": [
        "\n",
        "..\\maildir/shackleton-s/all_documents/1508.\n",
        "..\\maildir/shackleton-s/all_documents/1509.\n",
        "..\\maildir/shackleton-s/all_documents/151.\n",
        "..\\maildir/shackleton-s/all_documents/1510.\n",
        "..\\maildir/shackleton-s/all_documents/1511."
       ]
      },
      {
       "output_type": "stream",
       "stream": "stdout",
       "text": [
        "\n",
        "..\\maildir/shackleton-s/all_documents/1512.\n",
        "..\\maildir/shackleton-s/all_documents/1514.\n",
        "..\\maildir/shackleton-s/all_documents/1515.\n",
        "..\\maildir/shackleton-s/all_documents/1516."
       ]
      },
      {
       "output_type": "stream",
       "stream": "stdout",
       "text": [
        "\n",
        "..\\maildir/shackleton-s/all_documents/1517.\n",
        "..\\maildir/shackleton-s/all_documents/1519.\n",
        "..\\maildir/shackleton-s/all_documents/152."
       ]
      },
      {
       "output_type": "stream",
       "stream": "stdout",
       "text": [
        "\n",
        "..\\maildir/shackleton-s/all_documents/1520.\n",
        "..\\maildir/shackleton-s/all_documents/1521.\n",
        "..\\maildir/shackleton-s/all_documents/1522.\n",
        "..\\maildir/shackleton-s/all_documents/1523.\n",
        "..\\maildir/shackleton-s/all_documents/1524.\n",
        "..\\maildir/shackleton-s/all_documents/1525."
       ]
      },
      {
       "output_type": "stream",
       "stream": "stdout",
       "text": [
        "\n",
        "..\\maildir/shackleton-s/all_documents/1526.\n",
        "..\\maildir/shackleton-s/all_documents/1527.\n",
        "..\\maildir/shackleton-s/all_documents/1528.\n",
        "..\\maildir/shackleton-s/all_documents/1529.\n",
        "..\\maildir/shackleton-s/all_documents/153."
       ]
      },
      {
       "output_type": "stream",
       "stream": "stdout",
       "text": [
        "\n",
        "..\\maildir/shackleton-s/all_documents/1530.\n",
        "..\\maildir/shackleton-s/all_documents/1531.\n",
        "..\\maildir/shackleton-s/all_documents/1532.\n",
        "..\\maildir/shackleton-s/all_documents/1533."
       ]
      },
      {
       "output_type": "stream",
       "stream": "stdout",
       "text": [
        "\n",
        "..\\maildir/shackleton-s/all_documents/1534.\n",
        "..\\maildir/shackleton-s/all_documents/1535.\n",
        "..\\maildir/shackleton-s/all_documents/1536.\n",
        "..\\maildir/shackleton-s/all_documents/1537."
       ]
      },
      {
       "output_type": "stream",
       "stream": "stdout",
       "text": [
        "\n",
        "..\\maildir/shackleton-s/all_documents/1538."
       ]
      },
      {
       "output_type": "stream",
       "stream": "stdout",
       "text": [
        "\n",
        "..\\maildir/shackleton-s/all_documents/154.\n",
        "..\\maildir/shackleton-s/all_documents/1540.\n",
        "..\\maildir/shackleton-s/all_documents/1541.\n",
        "..\\maildir/shackleton-s/all_documents/1542.\n",
        "..\\maildir/shackleton-s/all_documents/1544."
       ]
      },
      {
       "output_type": "stream",
       "stream": "stdout",
       "text": [
        "\n",
        "..\\maildir/shackleton-s/all_documents/1545.\n",
        "..\\maildir/shackleton-s/all_documents/1546.\n",
        "..\\maildir/shackleton-s/all_documents/1547."
       ]
      },
      {
       "output_type": "stream",
       "stream": "stdout",
       "text": [
        "\n",
        "..\\maildir/shackleton-s/all_documents/1548.\n",
        "..\\maildir/shackleton-s/all_documents/1549.\n",
        "..\\maildir/shackleton-s/all_documents/155."
       ]
      },
      {
       "output_type": "stream",
       "stream": "stdout",
       "text": [
        "\n",
        "..\\maildir/shackleton-s/all_documents/1550.\n",
        "..\\maildir/shackleton-s/all_documents/1551.\n",
        "..\\maildir/shackleton-s/all_documents/1552.\n",
        "..\\maildir/shackleton-s/all_documents/1553.\n",
        "..\\maildir/shackleton-s/all_documents/1554."
       ]
      },
      {
       "output_type": "stream",
       "stream": "stdout",
       "text": [
        "\n",
        "..\\maildir/shackleton-s/all_documents/1555.\n",
        "..\\maildir/shackleton-s/all_documents/1556.\n",
        "..\\maildir/shackleton-s/all_documents/1557.\n",
        "..\\maildir/shackleton-s/all_documents/1558.\n",
        "..\\maildir/shackleton-s/all_documents/1559.\n",
        "..\\maildir/shackleton-s/all_documents/156.\n",
        "..\\maildir/shackleton-s/all_documents/1562."
       ]
      },
      {
       "output_type": "stream",
       "stream": "stdout",
       "text": [
        "\n",
        "..\\maildir/shackleton-s/all_documents/1566.\n",
        "..\\maildir/shackleton-s/all_documents/157.\n",
        "..\\maildir/shackleton-s/all_documents/1573.\n",
        "..\\maildir/shackleton-s/all_documents/1575.\n",
        "..\\maildir/shackleton-s/all_documents/1578."
       ]
      },
      {
       "output_type": "stream",
       "stream": "stdout",
       "text": [
        "\n",
        "..\\maildir/shackleton-s/all_documents/1579.\n",
        "..\\maildir/shackleton-s/all_documents/158.\n",
        "..\\maildir/shackleton-s/all_documents/1581.\n",
        "..\\maildir/shackleton-s/all_documents/1582.\n",
        "..\\maildir/shackleton-s/all_documents/1583."
       ]
      },
      {
       "output_type": "stream",
       "stream": "stdout",
       "text": [
        "\n",
        "..\\maildir/shackleton-s/all_documents/1585.\n",
        "..\\maildir/shackleton-s/all_documents/1586.\n",
        "..\\maildir/shackleton-s/all_documents/159.\n",
        "..\\maildir/shackleton-s/all_documents/1591.\n",
        "..\\maildir/shackleton-s/all_documents/1593.\n",
        "..\\maildir/shackleton-s/all_documents/1596."
       ]
      },
      {
       "output_type": "stream",
       "stream": "stdout",
       "text": [
        "\n",
        "..\\maildir/shackleton-s/all_documents/1597.\n",
        "..\\maildir/shackleton-s/all_documents/1599.\n",
        "..\\maildir/shackleton-s/all_documents/16.\n",
        "..\\maildir/shackleton-s/all_documents/160."
       ]
      },
      {
       "output_type": "stream",
       "stream": "stdout",
       "text": [
        "\n",
        "..\\maildir/shackleton-s/all_documents/1600.\n",
        "..\\maildir/shackleton-s/all_documents/1601.\n",
        "..\\maildir/shackleton-s/all_documents/1602.\n",
        "..\\maildir/shackleton-s/all_documents/161."
       ]
      },
      {
       "output_type": "stream",
       "stream": "stdout",
       "text": [
        "\n",
        "..\\maildir/shackleton-s/all_documents/1616.\n",
        "..\\maildir/shackleton-s/all_documents/162.\n",
        "..\\maildir/shackleton-s/all_documents/1620.\n",
        "..\\maildir/shackleton-s/all_documents/1621."
       ]
      },
      {
       "output_type": "stream",
       "stream": "stdout",
       "text": [
        "\n",
        "..\\maildir/shackleton-s/all_documents/1622.\n",
        "..\\maildir/shackleton-s/all_documents/1624.\n",
        "..\\maildir/shackleton-s/all_documents/1625."
       ]
      },
      {
       "output_type": "stream",
       "stream": "stdout",
       "text": [
        "\n",
        "..\\maildir/shackleton-s/all_documents/1626.\n",
        "..\\maildir/shackleton-s/all_documents/1627.\n",
        "..\\maildir/shackleton-s/all_documents/163.\n",
        "..\\maildir/shackleton-s/all_documents/1632.\n",
        "..\\maildir/shackleton-s/all_documents/1633."
       ]
      },
      {
       "output_type": "stream",
       "stream": "stdout",
       "text": [
        "\n",
        "..\\maildir/shackleton-s/all_documents/1634.\n",
        "..\\maildir/shackleton-s/all_documents/1637.\n",
        "..\\maildir/shackleton-s/all_documents/1638.\n",
        "..\\maildir/shackleton-s/all_documents/1640."
       ]
      },
      {
       "output_type": "stream",
       "stream": "stdout",
       "text": [
        "\n",
        "..\\maildir/shackleton-s/all_documents/1645.\n",
        "..\\maildir/shackleton-s/all_documents/1649.\n",
        "..\\maildir/shackleton-s/all_documents/165.\n",
        "..\\maildir/shackleton-s/all_documents/1654.\n",
        "..\\maildir/shackleton-s/all_documents/1655."
       ]
      },
      {
       "output_type": "stream",
       "stream": "stdout",
       "text": [
        "\n",
        "..\\maildir/shackleton-s/all_documents/1659.\n",
        "..\\maildir/shackleton-s/all_documents/166.\n",
        "..\\maildir/shackleton-s/all_documents/1662.\n",
        "..\\maildir/shackleton-s/all_documents/1663."
       ]
      },
      {
       "output_type": "stream",
       "stream": "stdout",
       "text": [
        "\n",
        "..\\maildir/shackleton-s/all_documents/1664.\n",
        "..\\maildir/shackleton-s/all_documents/1665.\n",
        "..\\maildir/shackleton-s/all_documents/1668.\n",
        "..\\maildir/shackleton-s/all_documents/1669.\n",
        "..\\maildir/shackleton-s/all_documents/1670."
       ]
      },
      {
       "output_type": "stream",
       "stream": "stdout",
       "text": [
        "\n",
        "..\\maildir/shackleton-s/all_documents/1671.\n",
        "..\\maildir/shackleton-s/all_documents/1672.\n",
        "..\\maildir/shackleton-s/all_documents/1674.\n",
        "..\\maildir/shackleton-s/all_documents/1675."
       ]
      },
      {
       "output_type": "stream",
       "stream": "stdout",
       "text": [
        "\n",
        "..\\maildir/shackleton-s/all_documents/1676.\n",
        "..\\maildir/shackleton-s/all_documents/168.\n",
        "..\\maildir/shackleton-s/all_documents/1680."
       ]
      },
      {
       "output_type": "stream",
       "stream": "stdout",
       "text": [
        "\n",
        "..\\maildir/shackleton-s/all_documents/1681.\n",
        "..\\maildir/shackleton-s/all_documents/1682.\n",
        "..\\maildir/shackleton-s/all_documents/1683.\n",
        "..\\maildir/shackleton-s/all_documents/1684.\n",
        "..\\maildir/shackleton-s/all_documents/1686.\n",
        "..\\maildir/shackleton-s/all_documents/1687."
       ]
      },
      {
       "output_type": "stream",
       "stream": "stdout",
       "text": [
        "\n",
        "..\\maildir/shackleton-s/all_documents/169.\n",
        "..\\maildir/shackleton-s/all_documents/1691.\n",
        "..\\maildir/shackleton-s/all_documents/1692."
       ]
      },
      {
       "output_type": "stream",
       "stream": "stdout",
       "text": [
        "\n",
        "..\\maildir/shackleton-s/all_documents/1693.\n",
        "..\\maildir/shackleton-s/all_documents/1696."
       ]
      },
      {
       "output_type": "stream",
       "stream": "stdout",
       "text": [
        "\n",
        "..\\maildir/shackleton-s/all_documents/17.\n",
        "..\\maildir/shackleton-s/all_documents/170.\n",
        "..\\maildir/shackleton-s/all_documents/1703.\n",
        "..\\maildir/shackleton-s/all_documents/1704.\n",
        "..\\maildir/shackleton-s/all_documents/1705."
       ]
      },
      {
       "output_type": "stream",
       "stream": "stdout",
       "text": [
        "\n",
        "..\\maildir/shackleton-s/all_documents/1706.\n",
        "..\\maildir/shackleton-s/all_documents/1708.\n",
        "..\\maildir/shackleton-s/all_documents/1709.\n",
        "..\\maildir/shackleton-s/all_documents/171.\n",
        "..\\maildir/shackleton-s/all_documents/1710.\n",
        "..\\maildir/shackleton-s/all_documents/1711."
       ]
      },
      {
       "output_type": "stream",
       "stream": "stdout",
       "text": [
        "\n",
        "..\\maildir/shackleton-s/all_documents/1714.\n",
        "..\\maildir/shackleton-s/all_documents/1715.\n",
        "..\\maildir/shackleton-s/all_documents/1716."
       ]
      },
      {
       "output_type": "stream",
       "stream": "stdout",
       "text": [
        "\n",
        "..\\maildir/shackleton-s/all_documents/1717.\n",
        "..\\maildir/shackleton-s/all_documents/1718.\n",
        "..\\maildir/shackleton-s/all_documents/1719.\n",
        "..\\maildir/shackleton-s/all_documents/172."
       ]
      },
      {
       "output_type": "stream",
       "stream": "stdout",
       "text": [
        "\n",
        "..\\maildir/shackleton-s/all_documents/1720.\n",
        "..\\maildir/shackleton-s/all_documents/1721.\n",
        "..\\maildir/shackleton-s/all_documents/1722.\n",
        "..\\maildir/shackleton-s/all_documents/1726."
       ]
      },
      {
       "output_type": "stream",
       "stream": "stdout",
       "text": [
        "\n",
        "..\\maildir/shackleton-s/all_documents/1727.\n",
        "..\\maildir/shackleton-s/all_documents/1728.\n",
        "..\\maildir/shackleton-s/all_documents/1729.\n",
        "..\\maildir/shackleton-s/all_documents/173."
       ]
      },
      {
       "output_type": "stream",
       "stream": "stdout",
       "text": [
        "\n",
        "..\\maildir/shackleton-s/all_documents/1730.\n",
        "..\\maildir/shackleton-s/all_documents/1731.\n",
        "..\\maildir/shackleton-s/all_documents/1733."
       ]
      },
      {
       "output_type": "stream",
       "stream": "stdout",
       "text": [
        "\n",
        "..\\maildir/shackleton-s/all_documents/1734.\n",
        "..\\maildir/shackleton-s/all_documents/1735.\n",
        "..\\maildir/shackleton-s/all_documents/1736.\n",
        "..\\maildir/shackleton-s/all_documents/1737."
       ]
      },
      {
       "output_type": "stream",
       "stream": "stdout",
       "text": [
        "\n",
        "..\\maildir/shackleton-s/all_documents/1738.\n",
        "..\\maildir/shackleton-s/all_documents/1739.\n",
        "..\\maildir/shackleton-s/all_documents/174.\n",
        "..\\maildir/shackleton-s/all_documents/1740.\n",
        "..\\maildir/shackleton-s/all_documents/1742."
       ]
      },
      {
       "output_type": "stream",
       "stream": "stdout",
       "text": [
        "\n",
        "..\\maildir/shackleton-s/all_documents/1743.\n",
        "..\\maildir/shackleton-s/all_documents/1744.\n",
        "..\\maildir/shackleton-s/all_documents/1745.\n",
        "..\\maildir/shackleton-s/all_documents/1752."
       ]
      },
      {
       "output_type": "stream",
       "stream": "stdout",
       "text": [
        "\n",
        "..\\maildir/shackleton-s/all_documents/1754.\n",
        "..\\maildir/shackleton-s/all_documents/1756."
       ]
      },
      {
       "output_type": "stream",
       "stream": "stdout",
       "text": [
        "\n",
        "..\\maildir/shackleton-s/all_documents/1757.\n",
        "..\\maildir/shackleton-s/all_documents/1758.\n",
        "..\\maildir/shackleton-s/all_documents/1759.\n",
        "..\\maildir/shackleton-s/all_documents/176.\n",
        "..\\maildir/shackleton-s/all_documents/1760."
       ]
      },
      {
       "output_type": "stream",
       "stream": "stdout",
       "text": [
        "\n",
        "..\\maildir/shackleton-s/all_documents/1763.\n",
        "..\\maildir/shackleton-s/all_documents/1766.\n",
        "..\\maildir/shackleton-s/all_documents/1767."
       ]
      },
      {
       "output_type": "stream",
       "stream": "stdout",
       "text": [
        "\n",
        "..\\maildir/shackleton-s/all_documents/1768.\n",
        "..\\maildir/shackleton-s/all_documents/1769.\n",
        "..\\maildir/shackleton-s/all_documents/1770."
       ]
      },
      {
       "output_type": "stream",
       "stream": "stdout",
       "text": [
        "\n",
        "..\\maildir/shackleton-s/all_documents/1771.\n",
        "..\\maildir/shackleton-s/all_documents/1772.\n",
        "..\\maildir/shackleton-s/all_documents/1773."
       ]
      },
      {
       "output_type": "stream",
       "stream": "stdout",
       "text": [
        "\n",
        "..\\maildir/shackleton-s/all_documents/1775.\n",
        "..\\maildir/shackleton-s/all_documents/1776.\n",
        "..\\maildir/shackleton-s/all_documents/1777.\n",
        "..\\maildir/shackleton-s/all_documents/1778."
       ]
      },
      {
       "output_type": "stream",
       "stream": "stdout",
       "text": [
        "\n",
        "..\\maildir/shackleton-s/all_documents/1780.\n",
        "..\\maildir/shackleton-s/all_documents/1782."
       ]
      },
      {
       "output_type": "stream",
       "stream": "stdout",
       "text": [
        "\n",
        "..\\maildir/shackleton-s/all_documents/1783.\n",
        "..\\maildir/shackleton-s/all_documents/1784.\n",
        "..\\maildir/shackleton-s/all_documents/1786.\n",
        "..\\maildir/shackleton-s/all_documents/1788.\n",
        "..\\maildir/shackleton-s/all_documents/1790."
       ]
      },
      {
       "output_type": "stream",
       "stream": "stdout",
       "text": [
        "\n",
        "..\\maildir/shackleton-s/all_documents/1792.\n",
        "..\\maildir/shackleton-s/all_documents/1793.\n",
        "..\\maildir/shackleton-s/all_documents/1794.\n",
        "..\\maildir/shackleton-s/all_documents/1795."
       ]
      },
      {
       "output_type": "stream",
       "stream": "stdout",
       "text": [
        "\n",
        "..\\maildir/shackleton-s/all_documents/1797.\n",
        "..\\maildir/shackleton-s/all_documents/1798.\n",
        "..\\maildir/shackleton-s/all_documents/1799.\n",
        "..\\maildir/shackleton-s/all_documents/18."
       ]
      },
      {
       "output_type": "stream",
       "stream": "stdout",
       "text": [
        "\n",
        "..\\maildir/shackleton-s/all_documents/180.\n",
        "..\\maildir/shackleton-s/all_documents/1800.\n",
        "..\\maildir/shackleton-s/all_documents/1802.\n",
        "..\\maildir/shackleton-s/all_documents/1803.\n",
        "..\\maildir/shackleton-s/all_documents/1804."
       ]
      },
      {
       "output_type": "stream",
       "stream": "stdout",
       "text": [
        "\n",
        "..\\maildir/shackleton-s/all_documents/1805.\n",
        "..\\maildir/shackleton-s/all_documents/1806.\n",
        "..\\maildir/shackleton-s/all_documents/181."
       ]
      },
      {
       "output_type": "stream",
       "stream": "stdout",
       "text": [
        "\n",
        "..\\maildir/shackleton-s/all_documents/1811.\n",
        "..\\maildir/shackleton-s/all_documents/1812.\n",
        "..\\maildir/shackleton-s/all_documents/1815.\n",
        "..\\maildir/shackleton-s/all_documents/1816.\n",
        "..\\maildir/shackleton-s/all_documents/1818."
       ]
      },
      {
       "output_type": "stream",
       "stream": "stdout",
       "text": [
        "\n",
        "..\\maildir/shackleton-s/all_documents/182.\n",
        "..\\maildir/shackleton-s/all_documents/1820.\n",
        "..\\maildir/shackleton-s/all_documents/1822.\n",
        "..\\maildir/shackleton-s/all_documents/1823.\n",
        "..\\maildir/shackleton-s/all_documents/1825."
       ]
      },
      {
       "output_type": "stream",
       "stream": "stdout",
       "text": [
        "\n",
        "..\\maildir/shackleton-s/all_documents/1827.\n",
        "..\\maildir/shackleton-s/all_documents/1828.\n",
        "..\\maildir/shackleton-s/all_documents/1829."
       ]
      },
      {
       "output_type": "stream",
       "stream": "stdout",
       "text": [
        "\n",
        "..\\maildir/shackleton-s/all_documents/183.\n",
        "..\\maildir/shackleton-s/all_documents/1832.\n",
        "..\\maildir/shackleton-s/all_documents/1834.\n",
        "..\\maildir/shackleton-s/all_documents/1835."
       ]
      },
      {
       "output_type": "stream",
       "stream": "stdout",
       "text": [
        "\n",
        "..\\maildir/shackleton-s/all_documents/1838.\n",
        "..\\maildir/shackleton-s/all_documents/1839.\n",
        "..\\maildir/shackleton-s/all_documents/184.\n",
        "..\\maildir/shackleton-s/all_documents/1840.\n",
        "..\\maildir/shackleton-s/all_documents/1841."
       ]
      },
      {
       "output_type": "stream",
       "stream": "stdout",
       "text": [
        "\n",
        "..\\maildir/shackleton-s/all_documents/1842.\n",
        "..\\maildir/shackleton-s/all_documents/1844.\n",
        "..\\maildir/shackleton-s/all_documents/1845.\n",
        "..\\maildir/shackleton-s/all_documents/1847."
       ]
      },
      {
       "output_type": "stream",
       "stream": "stdout",
       "text": [
        "\n",
        "..\\maildir/shackleton-s/all_documents/1848.\n",
        "..\\maildir/shackleton-s/all_documents/1849.\n",
        "..\\maildir/shackleton-s/all_documents/185.\n",
        "..\\maildir/shackleton-s/all_documents/1853.\n",
        "..\\maildir/shackleton-s/all_documents/1855.\n",
        "..\\maildir/shackleton-s/all_documents/1857.\n",
        "..\\maildir/shackleton-s/all_documents/1859.\n",
        "..\\maildir/shackleton-s/all_documents/186.\n",
        "..\\maildir/shackleton-s/all_documents/1862.\n",
        "..\\maildir/shackleton-s/all_documents/1863.\n",
        "..\\maildir/shackleton-s/all_documents/1866."
       ]
      },
      {
       "output_type": "stream",
       "stream": "stdout",
       "text": [
        "\n",
        "..\\maildir/shackleton-s/all_documents/1867.\n",
        "..\\maildir/shackleton-s/all_documents/1868.\n",
        "..\\maildir/shackleton-s/all_documents/1869."
       ]
      },
      {
       "output_type": "stream",
       "stream": "stdout",
       "text": [
        "\n",
        "..\\maildir/shackleton-s/all_documents/187.\n",
        "..\\maildir/shackleton-s/all_documents/1870.\n",
        "..\\maildir/shackleton-s/all_documents/1871.\n",
        "..\\maildir/shackleton-s/all_documents/1875.\n",
        "..\\maildir/shackleton-s/all_documents/1876.\n",
        "..\\maildir/shackleton-s/all_documents/1877."
       ]
      },
      {
       "output_type": "stream",
       "stream": "stdout",
       "text": [
        "\n",
        "..\\maildir/shackleton-s/all_documents/1878.\n",
        "..\\maildir/shackleton-s/all_documents/1879.\n",
        "..\\maildir/shackleton-s/all_documents/1880."
       ]
      },
      {
       "output_type": "stream",
       "stream": "stdout",
       "text": [
        "\n",
        "..\\maildir/shackleton-s/all_documents/1881.\n",
        "..\\maildir/shackleton-s/all_documents/1882.\n",
        "..\\maildir/shackleton-s/all_documents/1885.\n",
        "..\\maildir/shackleton-s/all_documents/1886."
       ]
      },
      {
       "output_type": "stream",
       "stream": "stdout",
       "text": [
        "\n",
        "..\\maildir/shackleton-s/all_documents/1887.\n",
        "..\\maildir/shackleton-s/all_documents/1888.\n",
        "..\\maildir/shackleton-s/all_documents/1889.\n",
        "..\\maildir/shackleton-s/all_documents/1893.\n",
        "..\\maildir/shackleton-s/all_documents/1894.\n",
        "..\\maildir/shackleton-s/all_documents/1895.\n",
        "..\\maildir/shackleton-s/all_documents/1899."
       ]
      },
      {
       "output_type": "stream",
       "stream": "stdout",
       "text": [
        "\n",
        "..\\maildir/shackleton-s/all_documents/19.\n",
        "..\\maildir/shackleton-s/all_documents/190.\n",
        "..\\maildir/shackleton-s/all_documents/1900.\n",
        "..\\maildir/shackleton-s/all_documents/1902."
       ]
      },
      {
       "output_type": "stream",
       "stream": "stdout",
       "text": [
        "\n",
        "..\\maildir/shackleton-s/all_documents/1905.\n",
        "..\\maildir/shackleton-s/all_documents/1906."
       ]
      },
      {
       "output_type": "stream",
       "stream": "stdout",
       "text": [
        "\n",
        "..\\maildir/shackleton-s/all_documents/1907.\n",
        "..\\maildir/shackleton-s/all_documents/1908.\n",
        "..\\maildir/shackleton-s/all_documents/191.\n",
        "..\\maildir/shackleton-s/all_documents/1910."
       ]
      },
      {
       "output_type": "stream",
       "stream": "stdout",
       "text": [
        "\n",
        "..\\maildir/shackleton-s/all_documents/1911.\n",
        "..\\maildir/shackleton-s/all_documents/1912.\n",
        "..\\maildir/shackleton-s/all_documents/1913.\n",
        "..\\maildir/shackleton-s/all_documents/1914.\n",
        "..\\maildir/shackleton-s/all_documents/1915."
       ]
      },
      {
       "output_type": "stream",
       "stream": "stdout",
       "text": [
        "\n",
        "..\\maildir/shackleton-s/all_documents/1916.\n",
        "..\\maildir/shackleton-s/all_documents/1921."
       ]
      },
      {
       "output_type": "stream",
       "stream": "stdout",
       "text": [
        "\n",
        "..\\maildir/shackleton-s/all_documents/1922.\n",
        "..\\maildir/shackleton-s/all_documents/1925.\n",
        "..\\maildir/shackleton-s/all_documents/1927.\n",
        "..\\maildir/shackleton-s/all_documents/1928.\n",
        "..\\maildir/shackleton-s/all_documents/1930."
       ]
      },
      {
       "output_type": "stream",
       "stream": "stdout",
       "text": [
        "\n",
        "..\\maildir/shackleton-s/all_documents/1931.\n",
        "..\\maildir/shackleton-s/all_documents/1932.\n",
        "..\\maildir/shackleton-s/all_documents/1933.\n",
        "..\\maildir/shackleton-s/all_documents/1934.\n",
        "..\\maildir/shackleton-s/all_documents/1937.\n",
        "..\\maildir/shackleton-s/all_documents/194.\n",
        "..\\maildir/shackleton-s/all_documents/1942."
       ]
      },
      {
       "output_type": "stream",
       "stream": "stdout",
       "text": [
        "\n",
        "..\\maildir/shackleton-s/all_documents/1943.\n",
        "..\\maildir/shackleton-s/all_documents/1947.\n",
        "..\\maildir/shackleton-s/all_documents/1948.\n",
        "..\\maildir/shackleton-s/all_documents/195."
       ]
      },
      {
       "output_type": "stream",
       "stream": "stdout",
       "text": [
        "\n",
        "..\\maildir/shackleton-s/all_documents/1951.\n",
        "..\\maildir/shackleton-s/all_documents/1952.\n",
        "..\\maildir/shackleton-s/all_documents/1953.\n",
        "..\\maildir/shackleton-s/all_documents/1954.\n",
        "..\\maildir/shackleton-s/all_documents/1959.\n",
        "..\\maildir/shackleton-s/all_documents/196."
       ]
      },
      {
       "output_type": "stream",
       "stream": "stdout",
       "text": [
        "\n",
        "..\\maildir/shackleton-s/all_documents/1960.\n",
        "..\\maildir/shackleton-s/all_documents/1961.\n",
        "..\\maildir/shackleton-s/all_documents/1963.\n",
        "..\\maildir/shackleton-s/all_documents/1964.\n",
        "..\\maildir/shackleton-s/all_documents/1965.\n",
        "..\\maildir/shackleton-s/all_documents/1966.\n",
        "..\\maildir/shackleton-s/all_documents/1968.\n",
        "..\\maildir/shackleton-s/all_documents/1969."
       ]
      },
      {
       "output_type": "stream",
       "stream": "stdout",
       "text": [
        "\n",
        "..\\maildir/shackleton-s/all_documents/1971.\n",
        "..\\maildir/shackleton-s/all_documents/1975.\n",
        "..\\maildir/shackleton-s/all_documents/1977.\n",
        "..\\maildir/shackleton-s/all_documents/1978.\n",
        "..\\maildir/shackleton-s/all_documents/1980."
       ]
      },
      {
       "output_type": "stream",
       "stream": "stdout",
       "text": [
        "\n",
        "..\\maildir/shackleton-s/all_documents/1981.\n",
        "..\\maildir/shackleton-s/all_documents/1984.\n",
        "..\\maildir/shackleton-s/all_documents/1985.\n",
        "..\\maildir/shackleton-s/all_documents/1986.\n",
        "..\\maildir/shackleton-s/all_documents/1988."
       ]
      },
      {
       "output_type": "stream",
       "stream": "stdout",
       "text": [
        "\n",
        "..\\maildir/shackleton-s/all_documents/1991.\n",
        "..\\maildir/shackleton-s/all_documents/1992.\n",
        "..\\maildir/shackleton-s/all_documents/1993.\n",
        "..\\maildir/shackleton-s/all_documents/1995."
       ]
      },
      {
       "output_type": "stream",
       "stream": "stdout",
       "text": [
        "\n",
        "..\\maildir/shackleton-s/all_documents/1996.\n",
        "..\\maildir/shackleton-s/all_documents/1997.\n",
        "..\\maildir/shackleton-s/all_documents/1998.\n",
        "..\\maildir/shackleton-s/all_documents/2.\n",
        "..\\maildir/shackleton-s/all_documents/20.\n",
        "..\\maildir/shackleton-s/all_documents/200.\n",
        "..\\maildir/shackleton-s/all_documents/2004."
       ]
      },
      {
       "output_type": "stream",
       "stream": "stdout",
       "text": [
        "\n",
        "..\\maildir/shackleton-s/all_documents/2006.\n",
        "..\\maildir/shackleton-s/all_documents/201.\n",
        "..\\maildir/shackleton-s/all_documents/2010."
       ]
      },
      {
       "output_type": "stream",
       "stream": "stdout",
       "text": [
        "\n",
        "..\\maildir/shackleton-s/all_documents/2011.\n",
        "..\\maildir/shackleton-s/all_documents/2012.\n",
        "..\\maildir/shackleton-s/all_documents/2013.\n",
        "..\\maildir/shackleton-s/all_documents/2016.\n",
        "..\\maildir/shackleton-s/all_documents/202.\n",
        "..\\maildir/shackleton-s/all_documents/2025.\n",
        "..\\maildir/shackleton-s/all_documents/2026."
       ]
      },
      {
       "output_type": "stream",
       "stream": "stdout",
       "text": [
        "\n",
        "..\\maildir/shackleton-s/all_documents/2027.\n",
        "..\\maildir/shackleton-s/all_documents/2028.\n",
        "..\\maildir/shackleton-s/all_documents/203."
       ]
      },
      {
       "output_type": "stream",
       "stream": "stdout",
       "text": [
        "\n",
        "..\\maildir/shackleton-s/all_documents/2031.\n",
        "..\\maildir/shackleton-s/all_documents/2032.\n",
        "..\\maildir/shackleton-s/all_documents/2034.\n",
        "..\\maildir/shackleton-s/all_documents/2040."
       ]
      },
      {
       "output_type": "stream",
       "stream": "stdout",
       "text": [
        "\n",
        "..\\maildir/shackleton-s/all_documents/2041.\n",
        "..\\maildir/shackleton-s/all_documents/2042.\n",
        "..\\maildir/shackleton-s/all_documents/2046.\n",
        "..\\maildir/shackleton-s/all_documents/2047."
       ]
      },
      {
       "output_type": "stream",
       "stream": "stdout",
       "text": [
        "\n",
        "..\\maildir/shackleton-s/all_documents/2049.\n",
        "..\\maildir/shackleton-s/all_documents/2050.\n",
        "..\\maildir/shackleton-s/all_documents/2054.\n",
        "..\\maildir/shackleton-s/all_documents/2055."
       ]
      },
      {
       "output_type": "stream",
       "stream": "stdout",
       "text": [
        "\n",
        "..\\maildir/shackleton-s/all_documents/2056.\n",
        "..\\maildir/shackleton-s/all_documents/2058."
       ]
      },
      {
       "output_type": "stream",
       "stream": "stdout",
       "text": [
        "\n",
        "..\\maildir/shackleton-s/all_documents/206.\n",
        "..\\maildir/shackleton-s/all_documents/2062.\n",
        "..\\maildir/shackleton-s/all_documents/2064.\n",
        "..\\maildir/shackleton-s/all_documents/2065.\n",
        "..\\maildir/shackleton-s/all_documents/207.\n",
        "..\\maildir/shackleton-s/all_documents/2072."
       ]
      },
      {
       "output_type": "stream",
       "stream": "stdout",
       "text": [
        "\n",
        "..\\maildir/shackleton-s/all_documents/2074.\n",
        "..\\maildir/shackleton-s/all_documents/2076.\n",
        "..\\maildir/shackleton-s/all_documents/2079."
       ]
      },
      {
       "output_type": "stream",
       "stream": "stdout",
       "text": [
        "\n",
        "..\\maildir/shackleton-s/all_documents/208.\n",
        "..\\maildir/shackleton-s/all_documents/2081.\n",
        "..\\maildir/shackleton-s/all_documents/2082.\n",
        "..\\maildir/shackleton-s/all_documents/2083."
       ]
      },
      {
       "output_type": "stream",
       "stream": "stdout",
       "text": [
        "\n",
        "..\\maildir/shackleton-s/all_documents/2092.\n",
        "..\\maildir/shackleton-s/all_documents/2093.\n",
        "..\\maildir/shackleton-s/all_documents/2094.\n",
        "..\\maildir/shackleton-s/all_documents/2095."
       ]
      },
      {
       "output_type": "stream",
       "stream": "stdout",
       "text": [
        "\n",
        "..\\maildir/shackleton-s/all_documents/2096.\n",
        "..\\maildir/shackleton-s/all_documents/21.\n",
        "..\\maildir/shackleton-s/all_documents/2101.\n",
        "..\\maildir/shackleton-s/all_documents/2104."
       ]
      },
      {
       "output_type": "stream",
       "stream": "stdout",
       "text": [
        "\n",
        "..\\maildir/shackleton-s/all_documents/2107.\n",
        "..\\maildir/shackleton-s/all_documents/211.\n",
        "..\\maildir/shackleton-s/all_documents/2110.\n",
        "..\\maildir/shackleton-s/all_documents/2112.\n",
        "..\\maildir/shackleton-s/all_documents/2113."
       ]
      },
      {
       "output_type": "stream",
       "stream": "stdout",
       "text": [
        "\n",
        "..\\maildir/shackleton-s/all_documents/2115.\n",
        "..\\maildir/shackleton-s/all_documents/2118.\n",
        "..\\maildir/shackleton-s/all_documents/2121.\n",
        "..\\maildir/shackleton-s/all_documents/2122."
       ]
      },
      {
       "output_type": "stream",
       "stream": "stdout",
       "text": [
        "\n",
        "..\\maildir/shackleton-s/all_documents/2123.\n",
        "..\\maildir/shackleton-s/all_documents/2124.\n",
        "..\\maildir/shackleton-s/all_documents/2125.\n",
        "..\\maildir/shackleton-s/all_documents/2126.\n",
        "..\\maildir/shackleton-s/all_documents/2128."
       ]
      },
      {
       "output_type": "stream",
       "stream": "stdout",
       "text": [
        "\n",
        "..\\maildir/shackleton-s/all_documents/2129.\n",
        "..\\maildir/shackleton-s/all_documents/2130.\n",
        "..\\maildir/shackleton-s/all_documents/2131.\n",
        "..\\maildir/shackleton-s/all_documents/2132."
       ]
      },
      {
       "output_type": "stream",
       "stream": "stdout",
       "text": [
        "\n",
        "..\\maildir/shackleton-s/all_documents/2138.\n",
        "..\\maildir/shackleton-s/all_documents/2139.\n",
        "..\\maildir/shackleton-s/all_documents/214.\n",
        "..\\maildir/shackleton-s/all_documents/2145."
       ]
      },
      {
       "output_type": "stream",
       "stream": "stdout",
       "text": [
        "\n",
        "..\\maildir/shackleton-s/all_documents/2147.\n",
        "..\\maildir/shackleton-s/all_documents/2149.\n",
        "..\\maildir/shackleton-s/all_documents/2150.\n",
        "..\\maildir/shackleton-s/all_documents/2151."
       ]
      },
      {
       "output_type": "stream",
       "stream": "stdout",
       "text": [
        "\n",
        "..\\maildir/shackleton-s/all_documents/2152.\n",
        "..\\maildir/shackleton-s/all_documents/2154.\n",
        "..\\maildir/shackleton-s/all_documents/2157.\n",
        "..\\maildir/shackleton-s/all_documents/2158."
       ]
      },
      {
       "output_type": "stream",
       "stream": "stdout",
       "text": [
        "\n",
        "..\\maildir/shackleton-s/all_documents/216.\n",
        "..\\maildir/shackleton-s/all_documents/2161.\n",
        "..\\maildir/shackleton-s/all_documents/2163."
       ]
      },
      {
       "output_type": "stream",
       "stream": "stdout",
       "text": [
        "\n",
        "..\\maildir/shackleton-s/all_documents/2164.\n",
        "..\\maildir/shackleton-s/all_documents/2165.\n",
        "..\\maildir/shackleton-s/all_documents/2166.\n",
        "..\\maildir/shackleton-s/all_documents/2168.\n",
        "..\\maildir/shackleton-s/all_documents/2169."
       ]
      },
      {
       "output_type": "stream",
       "stream": "stdout",
       "text": [
        "\n",
        "..\\maildir/shackleton-s/all_documents/2170.\n",
        "..\\maildir/shackleton-s/all_documents/2171.\n",
        "..\\maildir/shackleton-s/all_documents/2174.\n",
        "..\\maildir/shackleton-s/all_documents/2176."
       ]
      },
      {
       "output_type": "stream",
       "stream": "stdout",
       "text": [
        "\n",
        "..\\maildir/shackleton-s/all_documents/2179.\n",
        "..\\maildir/shackleton-s/all_documents/218.\n",
        "..\\maildir/shackleton-s/all_documents/2180.\n",
        "..\\maildir/shackleton-s/all_documents/2185."
       ]
      },
      {
       "output_type": "stream",
       "stream": "stdout",
       "text": [
        "\n",
        "..\\maildir/shackleton-s/all_documents/2186.\n",
        "..\\maildir/shackleton-s/all_documents/2187.\n",
        "..\\maildir/shackleton-s/all_documents/2188."
       ]
      },
      {
       "output_type": "stream",
       "stream": "stdout",
       "text": [
        "\n",
        "..\\maildir/shackleton-s/all_documents/2189.\n",
        "..\\maildir/shackleton-s/all_documents/2190.\n",
        "..\\maildir/shackleton-s/all_documents/2191.\n",
        "..\\maildir/shackleton-s/all_documents/2192."
       ]
      },
      {
       "output_type": "stream",
       "stream": "stdout",
       "text": [
        "\n",
        "..\\maildir/shackleton-s/all_documents/2193.\n",
        "..\\maildir/shackleton-s/all_documents/22.\n",
        "..\\maildir/shackleton-s/all_documents/220.\n",
        "..\\maildir/shackleton-s/all_documents/2202.\n",
        "..\\maildir/shackleton-s/all_documents/2203.\n",
        "..\\maildir/shackleton-s/all_documents/2206."
       ]
      },
      {
       "output_type": "stream",
       "stream": "stdout",
       "text": [
        "\n",
        "..\\maildir/shackleton-s/all_documents/2207.\n",
        "..\\maildir/shackleton-s/all_documents/2208.\n",
        "..\\maildir/shackleton-s/all_documents/2209.\n",
        "..\\maildir/shackleton-s/all_documents/221."
       ]
      },
      {
       "output_type": "stream",
       "stream": "stdout",
       "text": [
        "\n",
        "..\\maildir/shackleton-s/all_documents/2211.\n",
        "..\\maildir/shackleton-s/all_documents/2214.\n",
        "..\\maildir/shackleton-s/all_documents/2216.\n",
        "..\\maildir/shackleton-s/all_documents/2217.\n",
        "..\\maildir/shackleton-s/all_documents/2218.\n",
        "..\\maildir/shackleton-s/all_documents/2220."
       ]
      },
      {
       "output_type": "stream",
       "stream": "stdout",
       "text": [
        "\n",
        "..\\maildir/shackleton-s/all_documents/2221.\n",
        "..\\maildir/shackleton-s/all_documents/2223.\n",
        "..\\maildir/shackleton-s/all_documents/2224.\n",
        "..\\maildir/shackleton-s/all_documents/2225.\n",
        "..\\maildir/shackleton-s/all_documents/223.\n",
        "..\\maildir/shackleton-s/all_documents/2232."
       ]
      },
      {
       "output_type": "stream",
       "stream": "stdout",
       "text": [
        "\n",
        "..\\maildir/shackleton-s/all_documents/2234.\n",
        "..\\maildir/shackleton-s/all_documents/2235.\n",
        "..\\maildir/shackleton-s/all_documents/2237.\n",
        "..\\maildir/shackleton-s/all_documents/2239."
       ]
      },
      {
       "output_type": "stream",
       "stream": "stdout",
       "text": [
        "\n",
        "..\\maildir/shackleton-s/all_documents/2242.\n",
        "..\\maildir/shackleton-s/all_documents/2243."
       ]
      },
      {
       "output_type": "stream",
       "stream": "stdout",
       "text": [
        "\n",
        "..\\maildir/shackleton-s/all_documents/2244.\n",
        "..\\maildir/shackleton-s/all_documents/2248.\n",
        "..\\maildir/shackleton-s/all_documents/2249.\n",
        "..\\maildir/shackleton-s/all_documents/2250.\n",
        "..\\maildir/shackleton-s/all_documents/2251.\n",
        "..\\maildir/shackleton-s/all_documents/2252.\n",
        "..\\maildir/shackleton-s/all_documents/2255."
       ]
      },
      {
       "output_type": "stream",
       "stream": "stdout",
       "text": [
        "\n",
        "..\\maildir/shackleton-s/all_documents/2260.\n",
        "..\\maildir/shackleton-s/all_documents/2261.\n",
        "..\\maildir/shackleton-s/all_documents/2262."
       ]
      },
      {
       "output_type": "stream",
       "stream": "stdout",
       "text": [
        "\n",
        "..\\maildir/shackleton-s/all_documents/2264.\n",
        "..\\maildir/shackleton-s/all_documents/2266.\n",
        "..\\maildir/shackleton-s/all_documents/2268."
       ]
      },
      {
       "output_type": "stream",
       "stream": "stdout",
       "text": [
        "\n",
        "..\\maildir/shackleton-s/all_documents/2269.\n",
        "..\\maildir/shackleton-s/all_documents/227.\n",
        "..\\maildir/shackleton-s/all_documents/2270."
       ]
      },
      {
       "output_type": "stream",
       "stream": "stdout",
       "text": [
        "\n",
        "..\\maildir/shackleton-s/all_documents/2274.\n",
        "..\\maildir/shackleton-s/all_documents/2275.\n",
        "..\\maildir/shackleton-s/all_documents/228.\n",
        "..\\maildir/shackleton-s/all_documents/2281."
       ]
      },
      {
       "output_type": "stream",
       "stream": "stdout",
       "text": [
        "\n",
        "..\\maildir/shackleton-s/all_documents/2282.\n",
        "..\\maildir/shackleton-s/all_documents/2285.\n",
        "..\\maildir/shackleton-s/all_documents/229.\n",
        "..\\maildir/shackleton-s/all_documents/230."
       ]
      },
      {
       "output_type": "stream",
       "stream": "stdout",
       "text": [
        "\n",
        "..\\maildir/shackleton-s/all_documents/2300.\n",
        "..\\maildir/shackleton-s/all_documents/2302.\n",
        "..\\maildir/shackleton-s/all_documents/2303.\n",
        "..\\maildir/shackleton-s/all_documents/231.\n",
        "..\\maildir/shackleton-s/all_documents/2311.\n",
        "..\\maildir/shackleton-s/all_documents/2312."
       ]
      },
      {
       "output_type": "stream",
       "stream": "stdout",
       "text": [
        "\n",
        "..\\maildir/shackleton-s/all_documents/2318.\n",
        "..\\maildir/shackleton-s/all_documents/232.\n",
        "..\\maildir/shackleton-s/all_documents/2323.\n",
        "..\\maildir/shackleton-s/all_documents/233."
       ]
      },
      {
       "output_type": "stream",
       "stream": "stdout",
       "text": [
        "\n",
        "..\\maildir/shackleton-s/all_documents/2330.\n",
        "..\\maildir/shackleton-s/all_documents/2335.\n",
        "..\\maildir/shackleton-s/all_documents/2336.\n",
        "..\\maildir/shackleton-s/all_documents/2337."
       ]
      },
      {
       "output_type": "stream",
       "stream": "stdout",
       "text": [
        "\n",
        "..\\maildir/shackleton-s/all_documents/2338.\n",
        "..\\maildir/shackleton-s/all_documents/2340."
       ]
      },
      {
       "output_type": "stream",
       "stream": "stdout",
       "text": [
        "\n",
        "..\\maildir/shackleton-s/all_documents/2341.\n",
        "..\\maildir/shackleton-s/all_documents/2343.\n",
        "..\\maildir/shackleton-s/all_documents/2346.\n",
        "..\\maildir/shackleton-s/all_documents/2347."
       ]
      },
      {
       "output_type": "stream",
       "stream": "stdout",
       "text": [
        "\n",
        "..\\maildir/shackleton-s/all_documents/2348.\n",
        "..\\maildir/shackleton-s/all_documents/235.\n",
        "..\\maildir/shackleton-s/all_documents/2350.\n",
        "..\\maildir/shackleton-s/all_documents/2351."
       ]
      },
      {
       "output_type": "stream",
       "stream": "stdout",
       "text": [
        "\n",
        "..\\maildir/shackleton-s/all_documents/2352.\n",
        "..\\maildir/shackleton-s/all_documents/2353.\n",
        "..\\maildir/shackleton-s/all_documents/2354.\n",
        "..\\maildir/shackleton-s/all_documents/2357."
       ]
      },
      {
       "output_type": "stream",
       "stream": "stdout",
       "text": [
        "\n",
        "..\\maildir/shackleton-s/all_documents/236.\n",
        "..\\maildir/shackleton-s/all_documents/2361.\n",
        "..\\maildir/shackleton-s/all_documents/2362.\n",
        "..\\maildir/shackleton-s/all_documents/2367."
       ]
      },
      {
       "output_type": "stream",
       "stream": "stdout",
       "text": [
        "\n",
        "..\\maildir/shackleton-s/all_documents/2373.\n",
        "..\\maildir/shackleton-s/all_documents/2375.\n",
        "..\\maildir/shackleton-s/all_documents/2376.\n",
        "..\\maildir/shackleton-s/all_documents/238.\n",
        "..\\maildir/shackleton-s/all_documents/2381.\n",
        "..\\maildir/shackleton-s/all_documents/2387."
       ]
      },
      {
       "output_type": "stream",
       "stream": "stdout",
       "text": [
        "\n",
        "..\\maildir/shackleton-s/all_documents/239.\n",
        "..\\maildir/shackleton-s/all_documents/2391.\n",
        "..\\maildir/shackleton-s/all_documents/2393.\n",
        "..\\maildir/shackleton-s/all_documents/2396."
       ]
      },
      {
       "output_type": "stream",
       "stream": "stdout",
       "text": [
        "\n",
        "..\\maildir/shackleton-s/all_documents/2397.\n",
        "..\\maildir/shackleton-s/all_documents/24.\n",
        "..\\maildir/shackleton-s/all_documents/240."
       ]
      },
      {
       "output_type": "stream",
       "stream": "stdout",
       "text": [
        "\n",
        "..\\maildir/shackleton-s/all_documents/2401.\n",
        "..\\maildir/shackleton-s/all_documents/2406.\n",
        "..\\maildir/shackleton-s/all_documents/241.\n",
        "..\\maildir/shackleton-s/all_documents/2413.\n",
        "..\\maildir/shackleton-s/all_documents/2415."
       ]
      },
      {
       "output_type": "stream",
       "stream": "stdout",
       "text": [
        "\n",
        "..\\maildir/shackleton-s/all_documents/2416.\n",
        "..\\maildir/shackleton-s/all_documents/2419.\n",
        "..\\maildir/shackleton-s/all_documents/242.\n",
        "..\\maildir/shackleton-s/all_documents/2421."
       ]
      },
      {
       "output_type": "stream",
       "stream": "stdout",
       "text": [
        "\n",
        "..\\maildir/shackleton-s/all_documents/2423.\n",
        "..\\maildir/shackleton-s/all_documents/2425.\n",
        "..\\maildir/shackleton-s/all_documents/2426."
       ]
      },
      {
       "output_type": "stream",
       "stream": "stdout",
       "text": [
        "\n",
        "..\\maildir/shackleton-s/all_documents/2428.\n",
        "..\\maildir/shackleton-s/all_documents/2429.\n",
        "..\\maildir/shackleton-s/all_documents/2430."
       ]
      },
      {
       "output_type": "stream",
       "stream": "stdout",
       "text": [
        "\n",
        "..\\maildir/shackleton-s/all_documents/2431.\n",
        "..\\maildir/shackleton-s/all_documents/2433.\n",
        "..\\maildir/shackleton-s/all_documents/2434.\n",
        "..\\maildir/shackleton-s/all_documents/2439.\n",
        "..\\maildir/shackleton-s/all_documents/2442."
       ]
      },
      {
       "output_type": "stream",
       "stream": "stdout",
       "text": [
        "\n",
        "..\\maildir/shackleton-s/all_documents/2446."
       ]
      },
      {
       "output_type": "stream",
       "stream": "stdout",
       "text": [
        "\n",
        "..\\maildir/shackleton-s/all_documents/2448.\n",
        "..\\maildir/shackleton-s/all_documents/2449.\n",
        "..\\maildir/shackleton-s/all_documents/2450."
       ]
      },
      {
       "output_type": "stream",
       "stream": "stdout",
       "text": [
        "\n",
        "..\\maildir/shackleton-s/all_documents/2452.\n",
        "..\\maildir/shackleton-s/all_documents/2455.\n",
        "..\\maildir/shackleton-s/all_documents/2456."
       ]
      },
      {
       "output_type": "stream",
       "stream": "stdout",
       "text": [
        "\n",
        "..\\maildir/shackleton-s/all_documents/2457.\n",
        "..\\maildir/shackleton-s/all_documents/2458."
       ]
      },
      {
       "output_type": "stream",
       "stream": "stdout",
       "text": [
        "\n",
        "..\\maildir/shackleton-s/all_documents/2459.\n",
        "..\\maildir/shackleton-s/all_documents/246.\n",
        "..\\maildir/shackleton-s/all_documents/2461."
       ]
      },
      {
       "output_type": "stream",
       "stream": "stdout",
       "text": [
        "\n",
        "..\\maildir/shackleton-s/all_documents/2463.\n",
        "..\\maildir/shackleton-s/all_documents/247.\n",
        "..\\maildir/shackleton-s/all_documents/2470.\n",
        "..\\maildir/shackleton-s/all_documents/2472.\n",
        "..\\maildir/shackleton-s/all_documents/2473."
       ]
      },
      {
       "output_type": "stream",
       "stream": "stdout",
       "text": [
        "\n",
        "..\\maildir/shackleton-s/all_documents/2475.\n",
        "..\\maildir/shackleton-s/all_documents/2476.\n",
        "..\\maildir/shackleton-s/all_documents/2478.\n",
        "..\\maildir/shackleton-s/all_documents/248.\n",
        "..\\maildir/shackleton-s/all_documents/2481.\n",
        "..\\maildir/shackleton-s/all_documents/2483."
       ]
      },
      {
       "output_type": "stream",
       "stream": "stdout",
       "text": [
        "\n",
        "..\\maildir/shackleton-s/all_documents/2484.\n",
        "..\\maildir/shackleton-s/all_documents/2485.\n",
        "..\\maildir/shackleton-s/all_documents/2486.\n",
        "..\\maildir/shackleton-s/all_documents/249."
       ]
      },
      {
       "output_type": "stream",
       "stream": "stdout",
       "text": [
        "\n",
        "..\\maildir/shackleton-s/all_documents/2496.\n",
        "..\\maildir/shackleton-s/all_documents/2497.\n",
        "..\\maildir/shackleton-s/all_documents/2499."
       ]
      },
      {
       "output_type": "stream",
       "stream": "stdout",
       "text": [
        "\n",
        "..\\maildir/shackleton-s/all_documents/25.\n",
        "..\\maildir/shackleton-s/all_documents/250.\n",
        "..\\maildir/shackleton-s/all_documents/2503.\n",
        "..\\maildir/shackleton-s/all_documents/2505.\n",
        "..\\maildir/shackleton-s/all_documents/2506.\n",
        "..\\maildir/shackleton-s/all_documents/2507."
       ]
      },
      {
       "output_type": "stream",
       "stream": "stdout",
       "text": [
        "\n",
        "..\\maildir/shackleton-s/all_documents/251.\n",
        "..\\maildir/shackleton-s/all_documents/2515.\n",
        "..\\maildir/shackleton-s/all_documents/2517.\n",
        "..\\maildir/shackleton-s/all_documents/2518.\n",
        "..\\maildir/shackleton-s/all_documents/2519."
       ]
      },
      {
       "output_type": "stream",
       "stream": "stdout",
       "text": [
        "\n",
        "..\\maildir/shackleton-s/all_documents/252.\n",
        "..\\maildir/shackleton-s/all_documents/2520.\n",
        "..\\maildir/shackleton-s/all_documents/2521.\n",
        "..\\maildir/shackleton-s/all_documents/2522.\n",
        "..\\maildir/shackleton-s/all_documents/2525."
       ]
      },
      {
       "output_type": "stream",
       "stream": "stdout",
       "text": [
        "\n",
        "..\\maildir/shackleton-s/all_documents/2526.\n",
        "..\\maildir/shackleton-s/all_documents/2527.\n",
        "..\\maildir/shackleton-s/all_documents/253.\n",
        "..\\maildir/shackleton-s/all_documents/2530.\n",
        "..\\maildir/shackleton-s/all_documents/2535."
       ]
      },
      {
       "output_type": "stream",
       "stream": "stdout",
       "text": [
        "\n",
        "..\\maildir/shackleton-s/all_documents/2536.\n",
        "..\\maildir/shackleton-s/all_documents/254.\n",
        "..\\maildir/shackleton-s/all_documents/2540.\n",
        "..\\maildir/shackleton-s/all_documents/2542.\n",
        "..\\maildir/shackleton-s/all_documents/2543.\n",
        "..\\maildir/shackleton-s/all_documents/2549."
       ]
      },
      {
       "output_type": "stream",
       "stream": "stdout",
       "text": [
        "\n",
        "..\\maildir/shackleton-s/all_documents/255.\n",
        "..\\maildir/shackleton-s/all_documents/2551."
       ]
      },
      {
       "output_type": "stream",
       "stream": "stdout",
       "text": [
        "\n",
        "..\\maildir/shackleton-s/all_documents/2552.\n",
        "..\\maildir/shackleton-s/all_documents/2556.\n",
        "..\\maildir/shackleton-s/all_documents/2560.\n",
        "..\\maildir/shackleton-s/all_documents/2562.\n",
        "..\\maildir/shackleton-s/all_documents/257."
       ]
      },
      {
       "output_type": "stream",
       "stream": "stdout",
       "text": [
        "\n",
        "..\\maildir/shackleton-s/all_documents/258.\n",
        "..\\maildir/shackleton-s/all_documents/2582.\n",
        "..\\maildir/shackleton-s/all_documents/2583."
       ]
      },
      {
       "output_type": "stream",
       "stream": "stdout",
       "text": [
        "\n",
        "..\\maildir/shackleton-s/all_documents/2586.\n",
        "..\\maildir/shackleton-s/all_documents/2588.\n",
        "..\\maildir/shackleton-s/all_documents/2589.\n",
        "..\\maildir/shackleton-s/all_documents/259."
       ]
      },
      {
       "output_type": "stream",
       "stream": "stdout",
       "text": [
        "\n",
        "..\\maildir/shackleton-s/all_documents/2590.\n",
        "..\\maildir/shackleton-s/all_documents/2593.\n",
        "..\\maildir/shackleton-s/all_documents/2594."
       ]
      },
      {
       "output_type": "stream",
       "stream": "stdout",
       "text": [
        "\n",
        "..\\maildir/shackleton-s/all_documents/2596.\n",
        "..\\maildir/shackleton-s/all_documents/2597.\n",
        "..\\maildir/shackleton-s/all_documents/2598.\n",
        "..\\maildir/shackleton-s/all_documents/26."
       ]
      },
      {
       "output_type": "stream",
       "stream": "stdout",
       "text": [
        "\n",
        "..\\maildir/shackleton-s/all_documents/260.\n",
        "..\\maildir/shackleton-s/all_documents/2601.\n",
        "..\\maildir/shackleton-s/all_documents/2602."
       ]
      },
      {
       "output_type": "stream",
       "stream": "stdout",
       "text": [
        "\n",
        "..\\maildir/shackleton-s/all_documents/2603.\n",
        "..\\maildir/shackleton-s/all_documents/261.\n",
        "..\\maildir/shackleton-s/all_documents/2611."
       ]
      },
      {
       "output_type": "stream",
       "stream": "stdout",
       "text": [
        "\n",
        "..\\maildir/shackleton-s/all_documents/2615.\n",
        "..\\maildir/shackleton-s/all_documents/2622.\n",
        "..\\maildir/shackleton-s/all_documents/2626."
       ]
      },
      {
       "output_type": "stream",
       "stream": "stdout",
       "text": [
        "\n",
        "..\\maildir/shackleton-s/all_documents/2627.\n",
        "..\\maildir/shackleton-s/all_documents/263.\n",
        "..\\maildir/shackleton-s/all_documents/2632.\n",
        "..\\maildir/shackleton-s/all_documents/2637."
       ]
      },
      {
       "output_type": "stream",
       "stream": "stdout",
       "text": [
        "\n",
        "..\\maildir/shackleton-s/all_documents/2638.\n",
        "..\\maildir/shackleton-s/all_documents/2639.\n",
        "..\\maildir/shackleton-s/all_documents/264."
       ]
      },
      {
       "output_type": "stream",
       "stream": "stdout",
       "text": [
        "\n",
        "..\\maildir/shackleton-s/all_documents/2643.\n",
        "..\\maildir/shackleton-s/all_documents/2645.\n",
        "..\\maildir/shackleton-s/all_documents/2647.\n",
        "..\\maildir/shackleton-s/all_documents/2649.\n",
        "..\\maildir/shackleton-s/all_documents/2650."
       ]
      },
      {
       "output_type": "stream",
       "stream": "stdout",
       "text": [
        "\n",
        "..\\maildir/shackleton-s/all_documents/2656.\n",
        "..\\maildir/shackleton-s/all_documents/266.\n",
        "..\\maildir/shackleton-s/all_documents/267."
       ]
      },
      {
       "output_type": "stream",
       "stream": "stdout",
       "text": [
        "\n",
        "..\\maildir/shackleton-s/all_documents/2675.\n",
        "..\\maildir/shackleton-s/all_documents/2676."
       ]
      },
      {
       "output_type": "stream",
       "stream": "stdout",
       "text": [
        "\n",
        "..\\maildir/shackleton-s/all_documents/268.\n",
        "..\\maildir/shackleton-s/all_documents/2681."
       ]
      },
      {
       "output_type": "stream",
       "stream": "stdout",
       "text": [
        "\n",
        "..\\maildir/shackleton-s/all_documents/2682.\n",
        "..\\maildir/shackleton-s/all_documents/2683.\n",
        "..\\maildir/shackleton-s/all_documents/2686."
       ]
      },
      {
       "output_type": "stream",
       "stream": "stdout",
       "text": [
        "\n",
        "..\\maildir/shackleton-s/all_documents/2687.\n",
        "..\\maildir/shackleton-s/all_documents/2688.\n",
        "..\\maildir/shackleton-s/all_documents/269."
       ]
      },
      {
       "output_type": "stream",
       "stream": "stdout",
       "text": [
        "\n",
        "..\\maildir/shackleton-s/all_documents/2693.\n",
        "..\\maildir/shackleton-s/all_documents/2694.\n",
        "..\\maildir/shackleton-s/all_documents/2695.\n",
        "..\\maildir/shackleton-s/all_documents/2696."
       ]
      },
      {
       "output_type": "stream",
       "stream": "stdout",
       "text": [
        "\n",
        "..\\maildir/shackleton-s/all_documents/2698.\n",
        "..\\maildir/shackleton-s/all_documents/27.\n",
        "..\\maildir/shackleton-s/all_documents/270.\n",
        "..\\maildir/shackleton-s/all_documents/2702.\n",
        "..\\maildir/shackleton-s/all_documents/2703."
       ]
      },
      {
       "output_type": "stream",
       "stream": "stdout",
       "text": [
        "\n",
        "..\\maildir/shackleton-s/all_documents/2704.\n",
        "..\\maildir/shackleton-s/all_documents/2707.\n",
        "..\\maildir/shackleton-s/all_documents/2708."
       ]
      },
      {
       "output_type": "stream",
       "stream": "stdout",
       "text": [
        "\n",
        "..\\maildir/shackleton-s/all_documents/271.\n",
        "..\\maildir/shackleton-s/all_documents/2714.\n",
        "..\\maildir/shackleton-s/all_documents/2715.\n",
        "..\\maildir/shackleton-s/all_documents/2716.\n",
        "..\\maildir/shackleton-s/all_documents/2717."
       ]
      },
      {
       "output_type": "stream",
       "stream": "stdout",
       "text": [
        "\n",
        "..\\maildir/shackleton-s/all_documents/2718.\n",
        "..\\maildir/shackleton-s/all_documents/272."
       ]
      },
      {
       "output_type": "stream",
       "stream": "stdout",
       "text": [
        "\n",
        "..\\maildir/shackleton-s/all_documents/2720.\n",
        "..\\maildir/shackleton-s/all_documents/2723.\n",
        "..\\maildir/shackleton-s/all_documents/2724.\n",
        "..\\maildir/shackleton-s/all_documents/2727."
       ]
      },
      {
       "output_type": "stream",
       "stream": "stdout",
       "text": [
        "\n",
        "..\\maildir/shackleton-s/all_documents/2729.\n",
        "..\\maildir/shackleton-s/all_documents/273."
       ]
      },
      {
       "output_type": "stream",
       "stream": "stdout",
       "text": [
        "\n",
        "..\\maildir/shackleton-s/all_documents/2731.\n",
        "..\\maildir/shackleton-s/all_documents/2732.\n",
        "..\\maildir/shackleton-s/all_documents/2733."
       ]
      },
      {
       "output_type": "stream",
       "stream": "stdout",
       "text": [
        "\n",
        "..\\maildir/shackleton-s/all_documents/2737.\n",
        "..\\maildir/shackleton-s/all_documents/2739.\n",
        "..\\maildir/shackleton-s/all_documents/2740.\n",
        "..\\maildir/shackleton-s/all_documents/2742.\n",
        "..\\maildir/shackleton-s/all_documents/2746."
       ]
      },
      {
       "output_type": "stream",
       "stream": "stdout",
       "text": [
        "\n",
        "..\\maildir/shackleton-s/all_documents/2747.\n",
        "..\\maildir/shackleton-s/all_documents/2748.\n",
        "..\\maildir/shackleton-s/all_documents/2749.\n",
        "..\\maildir/shackleton-s/all_documents/2750.\n",
        "..\\maildir/shackleton-s/all_documents/2751.\n",
        "..\\maildir/shackleton-s/all_documents/2752."
       ]
      },
      {
       "output_type": "stream",
       "stream": "stdout",
       "text": [
        "\n",
        "..\\maildir/shackleton-s/all_documents/2753.\n",
        "..\\maildir/shackleton-s/all_documents/2754.\n",
        "..\\maildir/shackleton-s/all_documents/2759.\n",
        "..\\maildir/shackleton-s/all_documents/2762."
       ]
      },
      {
       "output_type": "stream",
       "stream": "stdout",
       "text": [
        "\n",
        "..\\maildir/shackleton-s/all_documents/2764.\n",
        "..\\maildir/shackleton-s/all_documents/2765.\n",
        "..\\maildir/shackleton-s/all_documents/2766."
       ]
      },
      {
       "output_type": "stream",
       "stream": "stdout",
       "text": [
        "\n",
        "..\\maildir/shackleton-s/all_documents/2767."
       ]
      },
      {
       "output_type": "stream",
       "stream": "stdout",
       "text": [
        "\n",
        "..\\maildir/shackleton-s/all_documents/277.\n",
        "..\\maildir/shackleton-s/all_documents/2771.\n",
        "..\\maildir/shackleton-s/all_documents/2775."
       ]
      },
      {
       "output_type": "stream",
       "stream": "stdout",
       "text": [
        "\n",
        "..\\maildir/shackleton-s/all_documents/2776.\n",
        "..\\maildir/shackleton-s/all_documents/2777."
       ]
      },
      {
       "output_type": "stream",
       "stream": "stdout",
       "text": [
        "\n",
        "..\\maildir/shackleton-s/all_documents/278.\n",
        "..\\maildir/shackleton-s/all_documents/2780.\n",
        "..\\maildir/shackleton-s/all_documents/2784.\n",
        "..\\maildir/shackleton-s/all_documents/2785.\n",
        "..\\maildir/shackleton-s/all_documents/2786.\n",
        "..\\maildir/shackleton-s/all_documents/279.\n",
        "..\\maildir/shackleton-s/all_documents/2791.\n",
        "..\\maildir/shackleton-s/all_documents/2792."
       ]
      },
      {
       "output_type": "stream",
       "stream": "stdout",
       "text": [
        "\n",
        "..\\maildir/shackleton-s/all_documents/2793.\n",
        "..\\maildir/shackleton-s/all_documents/2794.\n",
        "..\\maildir/shackleton-s/all_documents/2797.\n",
        "..\\maildir/shackleton-s/all_documents/2798."
       ]
      },
      {
       "output_type": "stream",
       "stream": "stdout",
       "text": [
        "\n",
        "..\\maildir/shackleton-s/all_documents/28.\n",
        "..\\maildir/shackleton-s/all_documents/2802.\n",
        "..\\maildir/shackleton-s/all_documents/2808.\n",
        "..\\maildir/shackleton-s/all_documents/2810."
       ]
      },
      {
       "output_type": "stream",
       "stream": "stdout",
       "text": [
        "\n",
        "..\\maildir/shackleton-s/all_documents/2813.\n",
        "..\\maildir/shackleton-s/all_documents/2814.\n",
        "..\\maildir/shackleton-s/all_documents/2817.\n",
        "..\\maildir/shackleton-s/all_documents/2818."
       ]
      },
      {
       "output_type": "stream",
       "stream": "stdout",
       "text": [
        "\n",
        "..\\maildir/shackleton-s/all_documents/2819.\n",
        "..\\maildir/shackleton-s/all_documents/2820."
       ]
      },
      {
       "output_type": "stream",
       "stream": "stdout",
       "text": [
        "\n",
        "..\\maildir/shackleton-s/all_documents/2825.\n",
        "..\\maildir/shackleton-s/all_documents/2829.\n",
        "..\\maildir/shackleton-s/all_documents/283.\n",
        "..\\maildir/shackleton-s/all_documents/2830."
       ]
      },
      {
       "output_type": "stream",
       "stream": "stdout",
       "text": [
        "\n",
        "..\\maildir/shackleton-s/all_documents/2832.\n",
        "..\\maildir/shackleton-s/all_documents/2837.\n",
        "..\\maildir/shackleton-s/all_documents/284.\n",
        "..\\maildir/shackleton-s/all_documents/2841.\n",
        "..\\maildir/shackleton-s/all_documents/2842."
       ]
      },
      {
       "output_type": "stream",
       "stream": "stdout",
       "text": [
        "\n",
        "..\\maildir/shackleton-s/all_documents/2846.\n",
        "..\\maildir/shackleton-s/all_documents/2849.\n",
        "..\\maildir/shackleton-s/all_documents/285.\n",
        "..\\maildir/shackleton-s/all_documents/2850."
       ]
      },
      {
       "output_type": "stream",
       "stream": "stdout",
       "text": [
        "\n",
        "..\\maildir/shackleton-s/all_documents/2857.\n",
        "..\\maildir/shackleton-s/all_documents/2859.\n",
        "..\\maildir/shackleton-s/all_documents/286.\n",
        "..\\maildir/shackleton-s/all_documents/2860."
       ]
      },
      {
       "output_type": "stream",
       "stream": "stdout",
       "text": [
        "\n",
        "..\\maildir/shackleton-s/all_documents/2861.\n",
        "..\\maildir/shackleton-s/all_documents/2862.\n",
        "..\\maildir/shackleton-s/all_documents/2863.\n",
        "..\\maildir/shackleton-s/all_documents/2867."
       ]
      },
      {
       "output_type": "stream",
       "stream": "stdout",
       "text": [
        "\n",
        "..\\maildir/shackleton-s/all_documents/2869.\n",
        "..\\maildir/shackleton-s/all_documents/2870.\n",
        "..\\maildir/shackleton-s/all_documents/2875.\n",
        "..\\maildir/shackleton-s/all_documents/2879."
       ]
      },
      {
       "output_type": "stream",
       "stream": "stdout",
       "text": [
        "\n",
        "..\\maildir/shackleton-s/all_documents/288.\n",
        "..\\maildir/shackleton-s/all_documents/2886.\n",
        "..\\maildir/shackleton-s/all_documents/2887.\n",
        "..\\maildir/shackleton-s/all_documents/2888."
       ]
      },
      {
       "output_type": "stream",
       "stream": "stdout",
       "text": [
        "\n",
        "..\\maildir/shackleton-s/all_documents/289.\n",
        "..\\maildir/shackleton-s/all_documents/2891.\n",
        "..\\maildir/shackleton-s/all_documents/2892."
       ]
      },
      {
       "output_type": "stream",
       "stream": "stdout",
       "text": [
        "\n",
        "..\\maildir/shackleton-s/all_documents/2894.\n",
        "..\\maildir/shackleton-s/all_documents/2896.\n",
        "..\\maildir/shackleton-s/all_documents/29."
       ]
      },
      {
       "output_type": "stream",
       "stream": "stdout",
       "text": [
        "\n",
        "..\\maildir/shackleton-s/all_documents/2900.\n",
        "..\\maildir/shackleton-s/all_documents/2904.\n",
        "..\\maildir/shackleton-s/all_documents/2907.\n",
        "..\\maildir/shackleton-s/all_documents/2908.\n",
        "..\\maildir/shackleton-s/all_documents/2909."
       ]
      },
      {
       "output_type": "stream",
       "stream": "stdout",
       "text": [
        "\n",
        "..\\maildir/shackleton-s/all_documents/2916.\n",
        "..\\maildir/shackleton-s/all_documents/2918.\n",
        "..\\maildir/shackleton-s/all_documents/2919.\n",
        "..\\maildir/shackleton-s/all_documents/292.\n",
        "..\\maildir/shackleton-s/all_documents/2924."
       ]
      },
      {
       "output_type": "stream",
       "stream": "stdout",
       "text": [
        "\n",
        "..\\maildir/shackleton-s/all_documents/2925.\n",
        "..\\maildir/shackleton-s/all_documents/2926.\n",
        "..\\maildir/shackleton-s/all_documents/2931.\n",
        "..\\maildir/shackleton-s/all_documents/2932.\n",
        "..\\maildir/shackleton-s/all_documents/2933."
       ]
      },
      {
       "output_type": "stream",
       "stream": "stdout",
       "text": [
        "\n",
        "..\\maildir/shackleton-s/all_documents/2934.\n",
        "..\\maildir/shackleton-s/all_documents/294.\n",
        "..\\maildir/shackleton-s/all_documents/2940.\n",
        "..\\maildir/shackleton-s/all_documents/2941.\n",
        "..\\maildir/shackleton-s/all_documents/2948."
       ]
      },
      {
       "output_type": "stream",
       "stream": "stdout",
       "text": [
        "\n",
        "..\\maildir/shackleton-s/all_documents/295.\n",
        "..\\maildir/shackleton-s/all_documents/2950.\n",
        "..\\maildir/shackleton-s/all_documents/2951."
       ]
      },
      {
       "output_type": "stream",
       "stream": "stdout",
       "text": [
        "\n",
        "..\\maildir/shackleton-s/all_documents/2952.\n",
        "..\\maildir/shackleton-s/all_documents/2953.\n",
        "..\\maildir/shackleton-s/all_documents/2954."
       ]
      },
      {
       "output_type": "stream",
       "stream": "stdout",
       "text": [
        "\n",
        "..\\maildir/shackleton-s/all_documents/2955.\n",
        "..\\maildir/shackleton-s/all_documents/2957.\n",
        "..\\maildir/shackleton-s/all_documents/2958.\n",
        "..\\maildir/shackleton-s/all_documents/296."
       ]
      },
      {
       "output_type": "stream",
       "stream": "stdout",
       "text": [
        "\n",
        "..\\maildir/shackleton-s/all_documents/2961.\n",
        "..\\maildir/shackleton-s/all_documents/2963.\n",
        "..\\maildir/shackleton-s/all_documents/2964.\n",
        "..\\maildir/shackleton-s/all_documents/2965."
       ]
      },
      {
       "output_type": "stream",
       "stream": "stdout",
       "text": [
        "\n",
        "..\\maildir/shackleton-s/all_documents/2966.\n",
        "..\\maildir/shackleton-s/all_documents/2967.\n",
        "..\\maildir/shackleton-s/all_documents/2976."
       ]
      },
      {
       "output_type": "stream",
       "stream": "stdout",
       "text": [
        "\n",
        "..\\maildir/shackleton-s/all_documents/2978.\n",
        "..\\maildir/shackleton-s/all_documents/2979.\n",
        "..\\maildir/shackleton-s/all_documents/298.\n",
        "..\\maildir/shackleton-s/all_documents/2980.\n",
        "..\\maildir/shackleton-s/all_documents/2989."
       ]
      },
      {
       "output_type": "stream",
       "stream": "stdout",
       "text": [
        "\n",
        "..\\maildir/shackleton-s/all_documents/299.\n",
        "..\\maildir/shackleton-s/all_documents/2990.\n",
        "..\\maildir/shackleton-s/all_documents/2993.\n",
        "..\\maildir/shackleton-s/all_documents/2994.\n",
        "..\\maildir/shackleton-s/all_documents/2995.\n",
        "..\\maildir/shackleton-s/all_documents/2997."
       ]
      },
      {
       "output_type": "stream",
       "stream": "stdout",
       "text": [
        "\n",
        "..\\maildir/shackleton-s/all_documents/2999.\n",
        "..\\maildir/shackleton-s/all_documents/3.\n",
        "..\\maildir/shackleton-s/all_documents/30.\n",
        "..\\maildir/shackleton-s/all_documents/3001."
       ]
      },
      {
       "output_type": "stream",
       "stream": "stdout",
       "text": [
        "\n",
        "..\\maildir/shackleton-s/all_documents/3002.\n",
        "..\\maildir/shackleton-s/all_documents/3003."
       ]
      },
      {
       "output_type": "stream",
       "stream": "stdout",
       "text": [
        "\n",
        "..\\maildir/shackleton-s/all_documents/3004.\n",
        "..\\maildir/shackleton-s/all_documents/3007.\n",
        "..\\maildir/shackleton-s/all_documents/3008."
       ]
      },
      {
       "output_type": "stream",
       "stream": "stdout",
       "text": [
        "\n",
        "..\\maildir/shackleton-s/all_documents/3011.\n",
        "..\\maildir/shackleton-s/all_documents/3017.\n",
        "..\\maildir/shackleton-s/all_documents/3018.\n",
        "..\\maildir/shackleton-s/all_documents/3019.\n",
        "..\\maildir/shackleton-s/all_documents/3022."
       ]
      },
      {
       "output_type": "stream",
       "stream": "stdout",
       "text": [
        "\n",
        "..\\maildir/shackleton-s/all_documents/3023.\n",
        "..\\maildir/shackleton-s/all_documents/3025.\n",
        "..\\maildir/shackleton-s/all_documents/3027.\n",
        "..\\maildir/shackleton-s/all_documents/3028."
       ]
      },
      {
       "output_type": "stream",
       "stream": "stdout",
       "text": [
        "\n",
        "..\\maildir/shackleton-s/all_documents/3029.\n",
        "..\\maildir/shackleton-s/all_documents/3030.\n",
        "..\\maildir/shackleton-s/all_documents/3031.\n",
        "..\\maildir/shackleton-s/all_documents/3033.\n",
        "..\\maildir/shackleton-s/all_documents/3034."
       ]
      },
      {
       "output_type": "stream",
       "stream": "stdout",
       "text": [
        "\n",
        "..\\maildir/shackleton-s/all_documents/3038.\n",
        "..\\maildir/shackleton-s/all_documents/304.\n",
        "..\\maildir/shackleton-s/all_documents/3041.\n",
        "..\\maildir/shackleton-s/all_documents/3042."
       ]
      },
      {
       "output_type": "stream",
       "stream": "stdout",
       "text": [
        "\n",
        "..\\maildir/shackleton-s/all_documents/3044.\n",
        "..\\maildir/shackleton-s/all_documents/3045.\n",
        "..\\maildir/shackleton-s/all_documents/3049.\n",
        "..\\maildir/shackleton-s/all_documents/3050.\n",
        "..\\maildir/shackleton-s/all_documents/3054."
       ]
      },
      {
       "output_type": "stream",
       "stream": "stdout",
       "text": [
        "\n",
        "..\\maildir/shackleton-s/all_documents/3055.\n",
        "..\\maildir/shackleton-s/all_documents/3056.\n",
        "..\\maildir/shackleton-s/all_documents/3059.\n",
        "..\\maildir/shackleton-s/all_documents/3060."
       ]
      },
      {
       "output_type": "stream",
       "stream": "stdout",
       "text": [
        "\n",
        "..\\maildir/shackleton-s/all_documents/3062.\n",
        "..\\maildir/shackleton-s/all_documents/3063.\n",
        "..\\maildir/shackleton-s/all_documents/3067.\n",
        "..\\maildir/shackleton-s/all_documents/3068."
       ]
      },
      {
       "output_type": "stream",
       "stream": "stdout",
       "text": [
        "\n",
        "..\\maildir/shackleton-s/all_documents/3069.\n",
        "..\\maildir/shackleton-s/all_documents/3070.\n",
        "..\\maildir/shackleton-s/all_documents/3077."
       ]
      },
      {
       "output_type": "stream",
       "stream": "stdout",
       "text": [
        "\n",
        "..\\maildir/shackleton-s/all_documents/3079.\n",
        "..\\maildir/shackleton-s/all_documents/3080.\n",
        "..\\maildir/shackleton-s/all_documents/3081."
       ]
      },
      {
       "output_type": "stream",
       "stream": "stdout",
       "text": [
        "\n",
        "..\\maildir/shackleton-s/all_documents/3082.\n",
        "..\\maildir/shackleton-s/all_documents/3087."
       ]
      },
      {
       "output_type": "stream",
       "stream": "stdout",
       "text": [
        "\n",
        "..\\maildir/shackleton-s/all_documents/3088.\n",
        "..\\maildir/shackleton-s/all_documents/3089.\n",
        "..\\maildir/shackleton-s/all_documents/3092.\n",
        "..\\maildir/shackleton-s/all_documents/3093.\n",
        "..\\maildir/shackleton-s/all_documents/3094."
       ]
      },
      {
       "output_type": "stream",
       "stream": "stdout",
       "text": [
        "\n",
        "..\\maildir/shackleton-s/all_documents/3096.\n",
        "..\\maildir/shackleton-s/all_documents/3097.\n",
        "..\\maildir/shackleton-s/all_documents/3098.\n",
        "..\\maildir/shackleton-s/all_documents/3099.\n",
        "..\\maildir/shackleton-s/all_documents/31."
       ]
      },
      {
       "output_type": "stream",
       "stream": "stdout",
       "text": [
        "\n",
        "..\\maildir/shackleton-s/all_documents/310.\n",
        "..\\maildir/shackleton-s/all_documents/3108.\n",
        "..\\maildir/shackleton-s/all_documents/311.\n",
        "..\\maildir/shackleton-s/all_documents/3110.\n",
        "..\\maildir/shackleton-s/all_documents/3112.\n",
        "..\\maildir/shackleton-s/all_documents/3116."
       ]
      },
      {
       "output_type": "stream",
       "stream": "stdout",
       "text": [
        "\n",
        "..\\maildir/shackleton-s/all_documents/3119.\n",
        "..\\maildir/shackleton-s/all_documents/312.\n",
        "..\\maildir/shackleton-s/all_documents/3120."
       ]
      },
      {
       "output_type": "stream",
       "stream": "stdout",
       "text": [
        "\n",
        "..\\maildir/shackleton-s/all_documents/3121.\n",
        "..\\maildir/shackleton-s/all_documents/3123.\n",
        "..\\maildir/shackleton-s/all_documents/3124.\n",
        "..\\maildir/shackleton-s/all_documents/3125."
       ]
      },
      {
       "output_type": "stream",
       "stream": "stdout",
       "text": [
        "\n",
        "..\\maildir/shackleton-s/all_documents/3127.\n",
        "..\\maildir/shackleton-s/all_documents/3128."
       ]
      },
      {
       "output_type": "stream",
       "stream": "stdout",
       "text": [
        "\n",
        "..\\maildir/shackleton-s/all_documents/3129.\n",
        "..\\maildir/shackleton-s/all_documents/313.\n",
        "..\\maildir/shackleton-s/all_documents/3131.\n",
        "..\\maildir/shackleton-s/all_documents/3135."
       ]
      },
      {
       "output_type": "stream",
       "stream": "stdout",
       "text": [
        "\n",
        "..\\maildir/shackleton-s/all_documents/3136.\n",
        "..\\maildir/shackleton-s/all_documents/3137.\n",
        "..\\maildir/shackleton-s/all_documents/3138.\n",
        "..\\maildir/shackleton-s/all_documents/314.\n",
        "..\\maildir/shackleton-s/all_documents/3141."
       ]
      },
      {
       "output_type": "stream",
       "stream": "stdout",
       "text": [
        "\n",
        "..\\maildir/shackleton-s/all_documents/3142.\n",
        "..\\maildir/shackleton-s/all_documents/3149."
       ]
      },
      {
       "output_type": "stream",
       "stream": "stdout",
       "text": [
        "\n",
        "..\\maildir/shackleton-s/all_documents/315.\n",
        "..\\maildir/shackleton-s/all_documents/3151.\n",
        "..\\maildir/shackleton-s/all_documents/3152.\n",
        "..\\maildir/shackleton-s/all_documents/3157."
       ]
      },
      {
       "output_type": "stream",
       "stream": "stdout",
       "text": [
        "\n",
        "..\\maildir/shackleton-s/all_documents/3158.\n",
        "..\\maildir/shackleton-s/all_documents/3160.\n",
        "..\\maildir/shackleton-s/all_documents/3163.\n",
        "..\\maildir/shackleton-s/all_documents/3166."
       ]
      },
      {
       "output_type": "stream",
       "stream": "stdout",
       "text": [
        "\n",
        "..\\maildir/shackleton-s/all_documents/3169.\n",
        "..\\maildir/shackleton-s/all_documents/3170.\n",
        "..\\maildir/shackleton-s/all_documents/3171.\n",
        "..\\maildir/shackleton-s/all_documents/3174."
       ]
      },
      {
       "output_type": "stream",
       "stream": "stdout",
       "text": [
        "\n",
        "..\\maildir/shackleton-s/all_documents/3175.\n",
        "..\\maildir/shackleton-s/all_documents/3178.\n",
        "..\\maildir/shackleton-s/all_documents/3179."
       ]
      },
      {
       "output_type": "stream",
       "stream": "stdout",
       "text": [
        "\n",
        "..\\maildir/shackleton-s/all_documents/318.\n",
        "..\\maildir/shackleton-s/all_documents/3180.\n",
        "..\\maildir/shackleton-s/all_documents/3182.\n",
        "..\\maildir/shackleton-s/all_documents/3184.\n",
        "..\\maildir/shackleton-s/all_documents/3191."
       ]
      },
      {
       "output_type": "stream",
       "stream": "stdout",
       "text": [
        "\n",
        "..\\maildir/shackleton-s/all_documents/3192.\n",
        "..\\maildir/shackleton-s/all_documents/32."
       ]
      },
      {
       "output_type": "stream",
       "stream": "stdout",
       "text": [
        "\n",
        "..\\maildir/shackleton-s/all_documents/3202.\n",
        "..\\maildir/shackleton-s/all_documents/3204.\n",
        "..\\maildir/shackleton-s/all_documents/3206.\n",
        "..\\maildir/shackleton-s/all_documents/3207."
       ]
      },
      {
       "output_type": "stream",
       "stream": "stdout",
       "text": [
        "\n",
        "..\\maildir/shackleton-s/all_documents/3209.\n",
        "..\\maildir/shackleton-s/all_documents/321.\n",
        "..\\maildir/shackleton-s/all_documents/3210."
       ]
      },
      {
       "output_type": "stream",
       "stream": "stdout",
       "text": [
        "\n",
        "..\\maildir/shackleton-s/all_documents/3211.\n",
        "..\\maildir/shackleton-s/all_documents/3213."
       ]
      },
      {
       "output_type": "stream",
       "stream": "stdout",
       "text": [
        "\n",
        "..\\maildir/shackleton-s/all_documents/3217.\n",
        "..\\maildir/shackleton-s/all_documents/3218."
       ]
      },
      {
       "output_type": "stream",
       "stream": "stdout",
       "text": [
        "\n",
        "..\\maildir/shackleton-s/all_documents/3219.\n",
        "..\\maildir/shackleton-s/all_documents/322."
       ]
      },
      {
       "output_type": "stream",
       "stream": "stdout",
       "text": [
        "\n",
        "..\\maildir/shackleton-s/all_documents/3220.\n",
        "..\\maildir/shackleton-s/all_documents/3232."
       ]
      },
      {
       "output_type": "stream",
       "stream": "stdout",
       "text": [
        "\n",
        "..\\maildir/shackleton-s/all_documents/3234.\n",
        "..\\maildir/shackleton-s/all_documents/3237.\n",
        "..\\maildir/shackleton-s/all_documents/3242."
       ]
      },
      {
       "output_type": "stream",
       "stream": "stdout",
       "text": [
        "\n",
        "..\\maildir/shackleton-s/all_documents/3243.\n",
        "..\\maildir/shackleton-s/all_documents/3253.\n",
        "..\\maildir/shackleton-s/all_documents/3256.\n",
        "..\\maildir/shackleton-s/all_documents/326.\n",
        "..\\maildir/shackleton-s/all_documents/3266."
       ]
      },
      {
       "output_type": "stream",
       "stream": "stdout",
       "text": [
        "\n",
        "..\\maildir/shackleton-s/all_documents/327.\n",
        "..\\maildir/shackleton-s/all_documents/3272.\n",
        "..\\maildir/shackleton-s/all_documents/3273.\n",
        "..\\maildir/shackleton-s/all_documents/3274."
       ]
      },
      {
       "output_type": "stream",
       "stream": "stdout",
       "text": [
        "\n",
        "..\\maildir/shackleton-s/all_documents/3275.\n",
        "..\\maildir/shackleton-s/all_documents/3282.\n",
        "..\\maildir/shackleton-s/all_documents/3284."
       ]
      },
      {
       "output_type": "stream",
       "stream": "stdout",
       "text": [
        "\n",
        "..\\maildir/shackleton-s/all_documents/3286.\n",
        "..\\maildir/shackleton-s/all_documents/3287.\n",
        "..\\maildir/shackleton-s/all_documents/329.\n",
        "..\\maildir/shackleton-s/all_documents/3290.\n",
        "..\\maildir/shackleton-s/all_documents/3292."
       ]
      },
      {
       "output_type": "stream",
       "stream": "stdout",
       "text": [
        "\n",
        "..\\maildir/shackleton-s/all_documents/33.\n",
        "..\\maildir/shackleton-s/all_documents/330.\n",
        "..\\maildir/shackleton-s/all_documents/3307.\n",
        "..\\maildir/shackleton-s/all_documents/3310.\n",
        "..\\maildir/shackleton-s/all_documents/3313."
       ]
      },
      {
       "output_type": "stream",
       "stream": "stdout",
       "text": [
        "\n",
        "..\\maildir/shackleton-s/all_documents/3314.\n",
        "..\\maildir/shackleton-s/all_documents/3315.\n",
        "..\\maildir/shackleton-s/all_documents/332."
       ]
      },
      {
       "output_type": "stream",
       "stream": "stdout",
       "text": [
        "\n",
        "..\\maildir/shackleton-s/all_documents/3329.\n",
        "..\\maildir/shackleton-s/all_documents/3334.\n",
        "..\\maildir/shackleton-s/all_documents/3337."
       ]
      },
      {
       "output_type": "stream",
       "stream": "stdout",
       "text": [
        "\n",
        "..\\maildir/shackleton-s/all_documents/3339.\n",
        "..\\maildir/shackleton-s/all_documents/334.\n",
        "..\\maildir/shackleton-s/all_documents/3340.\n",
        "..\\maildir/shackleton-s/all_documents/3344."
       ]
      },
      {
       "output_type": "stream",
       "stream": "stdout",
       "text": [
        "\n",
        "..\\maildir/shackleton-s/all_documents/3346.\n",
        "..\\maildir/shackleton-s/all_documents/3348.\n",
        "..\\maildir/shackleton-s/all_documents/3358.\n",
        "..\\maildir/shackleton-s/all_documents/3359."
       ]
      },
      {
       "output_type": "stream",
       "stream": "stdout",
       "text": [
        "\n",
        "..\\maildir/shackleton-s/all_documents/336.\n",
        "..\\maildir/shackleton-s/all_documents/3361.\n",
        "..\\maildir/shackleton-s/all_documents/3363.\n",
        "..\\maildir/shackleton-s/all_documents/3365."
       ]
      },
      {
       "output_type": "stream",
       "stream": "stdout",
       "text": [
        "\n",
        "..\\maildir/shackleton-s/all_documents/3368.\n",
        "..\\maildir/shackleton-s/all_documents/337.\n",
        "..\\maildir/shackleton-s/all_documents/3374.\n",
        "..\\maildir/shackleton-s/all_documents/3375.\n",
        "..\\maildir/shackleton-s/all_documents/3376.\n",
        "..\\maildir/shackleton-s/all_documents/338."
       ]
      },
      {
       "output_type": "stream",
       "stream": "stdout",
       "text": [
        "\n",
        "..\\maildir/shackleton-s/all_documents/3380.\n",
        "..\\maildir/shackleton-s/all_documents/3383.\n",
        "..\\maildir/shackleton-s/all_documents/3384.\n",
        "..\\maildir/shackleton-s/all_documents/3386.\n",
        "..\\maildir/shackleton-s/all_documents/3387."
       ]
      },
      {
       "output_type": "stream",
       "stream": "stdout",
       "text": [
        "\n",
        "..\\maildir/shackleton-s/all_documents/339.\n",
        "..\\maildir/shackleton-s/all_documents/3391.\n",
        "..\\maildir/shackleton-s/all_documents/3397."
       ]
      },
      {
       "output_type": "stream",
       "stream": "stdout",
       "text": [
        "\n",
        "..\\maildir/shackleton-s/all_documents/3398.\n",
        "..\\maildir/shackleton-s/all_documents/340.\n",
        "..\\maildir/shackleton-s/all_documents/3401.\n",
        "..\\maildir/shackleton-s/all_documents/3406.\n",
        "..\\maildir/shackleton-s/all_documents/3409."
       ]
      },
      {
       "output_type": "stream",
       "stream": "stdout",
       "text": [
        "\n",
        "..\\maildir/shackleton-s/all_documents/341.\n",
        "..\\maildir/shackleton-s/all_documents/3414.\n",
        "..\\maildir/shackleton-s/all_documents/3419.\n",
        "..\\maildir/shackleton-s/all_documents/3420.\n",
        "..\\maildir/shackleton-s/all_documents/343.\n",
        "..\\maildir/shackleton-s/all_documents/3431."
       ]
      },
      {
       "output_type": "stream",
       "stream": "stdout",
       "text": [
        "\n",
        "..\\maildir/shackleton-s/all_documents/3434.\n",
        "..\\maildir/shackleton-s/all_documents/3435.\n",
        "..\\maildir/shackleton-s/all_documents/3436.\n",
        "..\\maildir/shackleton-s/all_documents/3438."
       ]
      },
      {
       "output_type": "stream",
       "stream": "stdout",
       "text": [
        "\n",
        "..\\maildir/shackleton-s/all_documents/344.\n",
        "..\\maildir/shackleton-s/all_documents/345.\n",
        "..\\maildir/shackleton-s/all_documents/3453.\n",
        "..\\maildir/shackleton-s/all_documents/3456."
       ]
      },
      {
       "output_type": "stream",
       "stream": "stdout",
       "text": [
        "\n",
        "..\\maildir/shackleton-s/all_documents/3457.\n",
        "..\\maildir/shackleton-s/all_documents/3458.\n",
        "..\\maildir/shackleton-s/all_documents/3459.\n",
        "..\\maildir/shackleton-s/all_documents/3460."
       ]
      },
      {
       "output_type": "stream",
       "stream": "stdout",
       "text": [
        "\n",
        "..\\maildir/shackleton-s/all_documents/3461.\n",
        "..\\maildir/shackleton-s/all_documents/3462.\n",
        "..\\maildir/shackleton-s/all_documents/3465."
       ]
      },
      {
       "output_type": "stream",
       "stream": "stdout",
       "text": [
        "\n",
        "..\\maildir/shackleton-s/all_documents/3466.\n",
        "..\\maildir/shackleton-s/all_documents/347.\n",
        "..\\maildir/shackleton-s/all_documents/3474."
       ]
      },
      {
       "output_type": "stream",
       "stream": "stdout",
       "text": [
        "\n",
        "..\\maildir/shackleton-s/all_documents/3477.\n",
        "..\\maildir/shackleton-s/all_documents/3478.\n",
        "..\\maildir/shackleton-s/all_documents/3479."
       ]
      },
      {
       "output_type": "stream",
       "stream": "stdout",
       "text": [
        "\n",
        "..\\maildir/shackleton-s/all_documents/348.\n",
        "..\\maildir/shackleton-s/all_documents/3482.\n",
        "..\\maildir/shackleton-s/all_documents/349.\n",
        "..\\maildir/shackleton-s/all_documents/3492.\n",
        "..\\maildir/shackleton-s/all_documents/3498."
       ]
      },
      {
       "output_type": "stream",
       "stream": "stdout",
       "text": [
        "\n",
        "..\\maildir/shackleton-s/all_documents/3499.\n",
        "..\\maildir/shackleton-s/all_documents/350.\n",
        "..\\maildir/shackleton-s/all_documents/3501.\n",
        "..\\maildir/shackleton-s/all_documents/3509."
       ]
      },
      {
       "output_type": "stream",
       "stream": "stdout",
       "text": [
        "\n",
        "..\\maildir/shackleton-s/all_documents/351.\n",
        "..\\maildir/shackleton-s/all_documents/3514.\n",
        "..\\maildir/shackleton-s/all_documents/3515.\n",
        "..\\maildir/shackleton-s/all_documents/3516.\n",
        "..\\maildir/shackleton-s/all_documents/3517.\n",
        "..\\maildir/shackleton-s/all_documents/3518."
       ]
      },
      {
       "output_type": "stream",
       "stream": "stdout",
       "text": [
        "\n",
        "..\\maildir/shackleton-s/all_documents/3520.\n",
        "..\\maildir/shackleton-s/all_documents/3523.\n",
        "..\\maildir/shackleton-s/all_documents/3525."
       ]
      },
      {
       "output_type": "stream",
       "stream": "stdout",
       "text": [
        "\n",
        "..\\maildir/shackleton-s/all_documents/353.\n",
        "..\\maildir/shackleton-s/all_documents/3537.\n",
        "..\\maildir/shackleton-s/all_documents/3539.\n",
        "..\\maildir/shackleton-s/all_documents/354.\n",
        "..\\maildir/shackleton-s/all_documents/3540.\n",
        "..\\maildir/shackleton-s/all_documents/3549.\n",
        "..\\maildir/shackleton-s/all_documents/3550.\n",
        "..\\maildir/shackleton-s/all_documents/3555.\n",
        "..\\maildir/shackleton-s/all_documents/3556."
       ]
      },
      {
       "output_type": "stream",
       "stream": "stdout",
       "text": [
        "\n",
        "..\\maildir/shackleton-s/all_documents/356.\n",
        "..\\maildir/shackleton-s/all_documents/3560.\n",
        "..\\maildir/shackleton-s/all_documents/357.\n",
        "..\\maildir/shackleton-s/all_documents/358."
       ]
      },
      {
       "output_type": "stream",
       "stream": "stdout",
       "text": [
        "\n",
        "..\\maildir/shackleton-s/all_documents/3583.\n",
        "..\\maildir/shackleton-s/all_documents/3584.\n",
        "..\\maildir/shackleton-s/all_documents/3588."
       ]
      },
      {
       "output_type": "stream",
       "stream": "stdout",
       "text": [
        "\n",
        "..\\maildir/shackleton-s/all_documents/3589.\n",
        "..\\maildir/shackleton-s/all_documents/359.\n",
        "..\\maildir/shackleton-s/all_documents/36.\n",
        "..\\maildir/shackleton-s/all_documents/3600."
       ]
      },
      {
       "output_type": "stream",
       "stream": "stdout",
       "text": [
        "\n",
        "..\\maildir/shackleton-s/all_documents/3601.\n",
        "..\\maildir/shackleton-s/all_documents/361.\n",
        "..\\maildir/shackleton-s/all_documents/3610.\n",
        "..\\maildir/shackleton-s/all_documents/3613.\n",
        "..\\maildir/shackleton-s/all_documents/3615.\n",
        "..\\maildir/shackleton-s/all_documents/3616."
       ]
      },
      {
       "output_type": "stream",
       "stream": "stdout",
       "text": [
        "\n",
        "..\\maildir/shackleton-s/all_documents/3617.\n",
        "..\\maildir/shackleton-s/all_documents/3618.\n",
        "..\\maildir/shackleton-s/all_documents/3619.\n",
        "..\\maildir/shackleton-s/all_documents/362.\n",
        "..\\maildir/shackleton-s/all_documents/3622."
       ]
      },
      {
       "output_type": "stream",
       "stream": "stdout",
       "text": [
        "\n",
        "..\\maildir/shackleton-s/all_documents/3626.\n",
        "..\\maildir/shackleton-s/all_documents/3627.\n",
        "..\\maildir/shackleton-s/all_documents/3628.\n",
        "..\\maildir/shackleton-s/all_documents/3629.\n",
        "..\\maildir/shackleton-s/all_documents/363.\n",
        "..\\maildir/shackleton-s/all_documents/3631."
       ]
      },
      {
       "output_type": "stream",
       "stream": "stdout",
       "text": [
        "\n",
        "..\\maildir/shackleton-s/all_documents/3634.\n",
        "..\\maildir/shackleton-s/all_documents/3635."
       ]
      },
      {
       "output_type": "stream",
       "stream": "stdout",
       "text": [
        "\n",
        "..\\maildir/shackleton-s/all_documents/3637.\n",
        "..\\maildir/shackleton-s/all_documents/3639.\n",
        "..\\maildir/shackleton-s/all_documents/364.\n",
        "..\\maildir/shackleton-s/all_documents/3646.\n",
        "..\\maildir/shackleton-s/all_documents/3647."
       ]
      },
      {
       "output_type": "stream",
       "stream": "stdout",
       "text": [
        "\n",
        "..\\maildir/shackleton-s/all_documents/365.\n",
        "..\\maildir/shackleton-s/all_documents/3654.\n",
        "..\\maildir/shackleton-s/all_documents/3656.\n",
        "..\\maildir/shackleton-s/all_documents/366."
       ]
      },
      {
       "output_type": "stream",
       "stream": "stdout",
       "text": [
        "\n",
        "..\\maildir/shackleton-s/all_documents/3669.\n",
        "..\\maildir/shackleton-s/all_documents/367.\n",
        "..\\maildir/shackleton-s/all_documents/3672.\n",
        "..\\maildir/shackleton-s/all_documents/3676.\n",
        "..\\maildir/shackleton-s/all_documents/368.\n",
        "..\\maildir/shackleton-s/all_documents/3682."
       ]
      },
      {
       "output_type": "stream",
       "stream": "stdout",
       "text": [
        "\n",
        "..\\maildir/shackleton-s/all_documents/3683.\n",
        "..\\maildir/shackleton-s/all_documents/3684.\n",
        "..\\maildir/shackleton-s/all_documents/3686."
       ]
      },
      {
       "output_type": "stream",
       "stream": "stdout",
       "text": [
        "\n",
        "..\\maildir/shackleton-s/all_documents/369.\n",
        "..\\maildir/shackleton-s/all_documents/3692.\n",
        "..\\maildir/shackleton-s/all_documents/3696.\n",
        "..\\maildir/shackleton-s/all_documents/37.\n",
        "..\\maildir/shackleton-s/all_documents/370."
       ]
      },
      {
       "output_type": "stream",
       "stream": "stdout",
       "text": [
        "\n",
        "..\\maildir/shackleton-s/all_documents/3710.\n",
        "..\\maildir/shackleton-s/all_documents/3713.\n",
        "..\\maildir/shackleton-s/all_documents/3715.\n",
        "..\\maildir/shackleton-s/all_documents/372.\n",
        "..\\maildir/shackleton-s/all_documents/3724.\n",
        "..\\maildir/shackleton-s/all_documents/373."
       ]
      },
      {
       "output_type": "stream",
       "stream": "stdout",
       "text": [
        "\n",
        "..\\maildir/shackleton-s/all_documents/3731.\n",
        "..\\maildir/shackleton-s/all_documents/3738.\n",
        "..\\maildir/shackleton-s/all_documents/3739."
       ]
      },
      {
       "output_type": "stream",
       "stream": "stdout",
       "text": [
        "\n",
        "..\\maildir/shackleton-s/all_documents/374.\n",
        "..\\maildir/shackleton-s/all_documents/3740.\n",
        "..\\maildir/shackleton-s/all_documents/3749.\n",
        "..\\maildir/shackleton-s/all_documents/375."
       ]
      },
      {
       "output_type": "stream",
       "stream": "stdout",
       "text": [
        "\n",
        "..\\maildir/shackleton-s/all_documents/3750.\n",
        "..\\maildir/shackleton-s/all_documents/3751.\n",
        "..\\maildir/shackleton-s/all_documents/3752.\n",
        "..\\maildir/shackleton-s/all_documents/3753.\n",
        "..\\maildir/shackleton-s/all_documents/3754.\n",
        "..\\maildir/shackleton-s/all_documents/3756."
       ]
      },
      {
       "output_type": "stream",
       "stream": "stdout",
       "text": [
        "\n",
        "..\\maildir/shackleton-s/all_documents/3757.\n",
        "..\\maildir/shackleton-s/all_documents/3759.\n",
        "..\\maildir/shackleton-s/all_documents/376.\n",
        "..\\maildir/shackleton-s/all_documents/3765.\n",
        "..\\maildir/shackleton-s/all_documents/3766.\n",
        "..\\maildir/shackleton-s/all_documents/377."
       ]
      },
      {
       "output_type": "stream",
       "stream": "stdout",
       "text": [
        "\n",
        "..\\maildir/shackleton-s/all_documents/3770.\n",
        "..\\maildir/shackleton-s/all_documents/3772."
       ]
      },
      {
       "output_type": "stream",
       "stream": "stdout",
       "text": [
        "\n",
        "..\\maildir/shackleton-s/all_documents/3773.\n",
        "..\\maildir/shackleton-s/all_documents/379.\n",
        "..\\maildir/shackleton-s/all_documents/3791.\n",
        "..\\maildir/shackleton-s/all_documents/3792."
       ]
      },
      {
       "output_type": "stream",
       "stream": "stdout",
       "text": [
        "\n",
        "..\\maildir/shackleton-s/all_documents/380.\n",
        "..\\maildir/shackleton-s/all_documents/3805."
       ]
      },
      {
       "output_type": "stream",
       "stream": "stdout",
       "text": [
        "\n",
        "..\\maildir/shackleton-s/all_documents/3812.\n",
        "..\\maildir/shackleton-s/all_documents/3813.\n",
        "..\\maildir/shackleton-s/all_documents/3814.\n",
        "..\\maildir/shackleton-s/all_documents/3815."
       ]
      },
      {
       "output_type": "stream",
       "stream": "stdout",
       "text": [
        "\n",
        "..\\maildir/shackleton-s/all_documents/3816.\n",
        "..\\maildir/shackleton-s/all_documents/3822.\n",
        "..\\maildir/shackleton-s/all_documents/3824."
       ]
      },
      {
       "output_type": "stream",
       "stream": "stdout",
       "text": [
        "\n",
        "..\\maildir/shackleton-s/all_documents/3828.\n",
        "..\\maildir/shackleton-s/all_documents/3833.\n",
        "..\\maildir/shackleton-s/all_documents/3834.\n",
        "..\\maildir/shackleton-s/all_documents/3837.\n",
        "..\\maildir/shackleton-s/all_documents/3838.\n",
        "..\\maildir/shackleton-s/all_documents/3842."
       ]
      },
      {
       "output_type": "stream",
       "stream": "stdout",
       "text": [
        "\n",
        "..\\maildir/shackleton-s/all_documents/3847.\n",
        "..\\maildir/shackleton-s/all_documents/3849.\n",
        "..\\maildir/shackleton-s/all_documents/3859.\n",
        "..\\maildir/shackleton-s/all_documents/3867."
       ]
      },
      {
       "output_type": "stream",
       "stream": "stdout",
       "text": [
        "\n",
        "..\\maildir/shackleton-s/all_documents/3869.\n",
        "..\\maildir/shackleton-s/all_documents/3870.\n",
        "..\\maildir/shackleton-s/all_documents/3872.\n",
        "..\\maildir/shackleton-s/all_documents/3874.\n",
        "..\\maildir/shackleton-s/all_documents/3875."
       ]
      },
      {
       "output_type": "stream",
       "stream": "stdout",
       "text": [
        "\n",
        "..\\maildir/shackleton-s/all_documents/3877.\n",
        "..\\maildir/shackleton-s/all_documents/3879.\n",
        "..\\maildir/shackleton-s/all_documents/3880."
       ]
      },
      {
       "output_type": "stream",
       "stream": "stdout",
       "text": [
        "\n",
        "..\\maildir/shackleton-s/all_documents/3882.\n",
        "..\\maildir/shackleton-s/all_documents/3897.\n",
        "..\\maildir/shackleton-s/all_documents/3898.\n",
        "..\\maildir/shackleton-s/all_documents/39."
       ]
      },
      {
       "output_type": "stream",
       "stream": "stdout",
       "text": [
        "\n",
        "..\\maildir/shackleton-s/all_documents/390.\n",
        "..\\maildir/shackleton-s/all_documents/391.\n",
        "..\\maildir/shackleton-s/all_documents/3915.\n",
        "..\\maildir/shackleton-s/all_documents/3916.\n",
        "..\\maildir/shackleton-s/all_documents/392.\n",
        "..\\maildir/shackleton-s/all_documents/3920."
       ]
      },
      {
       "output_type": "stream",
       "stream": "stdout",
       "text": [
        "\n",
        "..\\maildir/shackleton-s/all_documents/3922.\n",
        "..\\maildir/shackleton-s/all_documents/3925.\n",
        "..\\maildir/shackleton-s/all_documents/3926.\n",
        "..\\maildir/shackleton-s/all_documents/3929.\n",
        "..\\maildir/shackleton-s/all_documents/393."
       ]
      },
      {
       "output_type": "stream",
       "stream": "stdout",
       "text": [
        "\n",
        "..\\maildir/shackleton-s/all_documents/3930.\n",
        "..\\maildir/shackleton-s/all_documents/3937.\n",
        "..\\maildir/shackleton-s/all_documents/394.\n",
        "..\\maildir/shackleton-s/all_documents/3941.\n",
        "..\\maildir/shackleton-s/all_documents/3942."
       ]
      },
      {
       "output_type": "stream",
       "stream": "stdout",
       "text": [
        "\n",
        "..\\maildir/shackleton-s/all_documents/3943.\n",
        "..\\maildir/shackleton-s/all_documents/3946.\n",
        "..\\maildir/shackleton-s/all_documents/3947."
       ]
      },
      {
       "output_type": "stream",
       "stream": "stdout",
       "text": [
        "\n",
        "..\\maildir/shackleton-s/all_documents/3948.\n",
        "..\\maildir/shackleton-s/all_documents/3949.\n",
        "..\\maildir/shackleton-s/all_documents/395."
       ]
      },
      {
       "output_type": "stream",
       "stream": "stdout",
       "text": [
        "\n",
        "..\\maildir/shackleton-s/all_documents/3952.\n",
        "..\\maildir/shackleton-s/all_documents/3953.\n",
        "..\\maildir/shackleton-s/all_documents/3954.\n",
        "..\\maildir/shackleton-s/all_documents/3955."
       ]
      },
      {
       "output_type": "stream",
       "stream": "stdout",
       "text": [
        "\n",
        "..\\maildir/shackleton-s/all_documents/397.\n",
        "..\\maildir/shackleton-s/all_documents/3970.\n",
        "..\\maildir/shackleton-s/all_documents/3971.\n",
        "..\\maildir/shackleton-s/all_documents/3972."
       ]
      },
      {
       "output_type": "stream",
       "stream": "stdout",
       "text": [
        "\n",
        "..\\maildir/shackleton-s/all_documents/398.\n",
        "..\\maildir/shackleton-s/all_documents/3986."
       ]
      },
      {
       "output_type": "stream",
       "stream": "stdout",
       "text": [
        "\n",
        "..\\maildir/shackleton-s/all_documents/3987.\n",
        "..\\maildir/shackleton-s/all_documents/3988.\n",
        "..\\maildir/shackleton-s/all_documents/3989."
       ]
      },
      {
       "output_type": "stream",
       "stream": "stdout",
       "text": [
        "\n",
        "..\\maildir/shackleton-s/all_documents/399.\n",
        "..\\maildir/shackleton-s/all_documents/3991.\n",
        "..\\maildir/shackleton-s/all_documents/3995."
       ]
      },
      {
       "output_type": "stream",
       "stream": "stdout",
       "text": [
        "\n",
        "..\\maildir/shackleton-s/all_documents/4.\n",
        "..\\maildir/shackleton-s/all_documents/40.\n",
        "..\\maildir/shackleton-s/all_documents/400.\n",
        "..\\maildir/shackleton-s/all_documents/4006."
       ]
      },
      {
       "output_type": "stream",
       "stream": "stdout",
       "text": [
        "\n",
        "..\\maildir/shackleton-s/all_documents/4008.\n",
        "..\\maildir/shackleton-s/all_documents/4009.\n",
        "..\\maildir/shackleton-s/all_documents/4015.\n",
        "..\\maildir/shackleton-s/all_documents/4016."
       ]
      },
      {
       "output_type": "stream",
       "stream": "stdout",
       "text": [
        "\n",
        "..\\maildir/shackleton-s/all_documents/4017.\n",
        "..\\maildir/shackleton-s/all_documents/4018.\n",
        "..\\maildir/shackleton-s/all_documents/4020.\n",
        "..\\maildir/shackleton-s/all_documents/4022."
       ]
      },
      {
       "output_type": "stream",
       "stream": "stdout",
       "text": [
        "\n",
        "..\\maildir/shackleton-s/all_documents/4023.\n",
        "..\\maildir/shackleton-s/all_documents/4025."
       ]
      },
      {
       "output_type": "stream",
       "stream": "stdout",
       "text": [
        "\n",
        "..\\maildir/shackleton-s/all_documents/4031.\n",
        "..\\maildir/shackleton-s/all_documents/4034.\n",
        "..\\maildir/shackleton-s/all_documents/4042.\n",
        "..\\maildir/shackleton-s/all_documents/4043."
       ]
      },
      {
       "output_type": "stream",
       "stream": "stdout",
       "text": [
        "\n",
        "..\\maildir/shackleton-s/all_documents/4045.\n",
        "..\\maildir/shackleton-s/all_documents/4046.\n",
        "..\\maildir/shackleton-s/all_documents/4052.\n",
        "..\\maildir/shackleton-s/all_documents/4057.\n",
        "..\\maildir/shackleton-s/all_documents/4058.\n",
        "..\\maildir/shackleton-s/all_documents/4059.\n",
        "..\\maildir/shackleton-s/all_documents/4062."
       ]
      },
      {
       "output_type": "stream",
       "stream": "stdout",
       "text": [
        "\n",
        "..\\maildir/shackleton-s/all_documents/4063.\n",
        "..\\maildir/shackleton-s/all_documents/4067."
       ]
      },
      {
       "output_type": "stream",
       "stream": "stdout",
       "text": [
        "\n",
        "..\\maildir/shackleton-s/all_documents/4068.\n",
        "..\\maildir/shackleton-s/all_documents/4069.\n",
        "..\\maildir/shackleton-s/all_documents/407.\n",
        "..\\maildir/shackleton-s/all_documents/4073.\n",
        "..\\maildir/shackleton-s/all_documents/4076.\n",
        "..\\maildir/shackleton-s/all_documents/4078.\n",
        "..\\maildir/shackleton-s/all_documents/4083."
       ]
      },
      {
       "output_type": "stream",
       "stream": "stdout",
       "text": [
        "\n",
        "..\\maildir/shackleton-s/all_documents/4085.\n",
        "..\\maildir/shackleton-s/all_documents/4088.\n",
        "..\\maildir/shackleton-s/all_documents/4089."
       ]
      },
      {
       "output_type": "stream",
       "stream": "stdout",
       "text": [
        "\n",
        "..\\maildir/shackleton-s/all_documents/4091.\n",
        "..\\maildir/shackleton-s/all_documents/4092.\n",
        "..\\maildir/shackleton-s/all_documents/4097.\n",
        "..\\maildir/shackleton-s/all_documents/4098."
       ]
      },
      {
       "output_type": "stream",
       "stream": "stdout",
       "text": [
        "\n",
        "..\\maildir/shackleton-s/all_documents/41.\n",
        "..\\maildir/shackleton-s/all_documents/412.\n",
        "..\\maildir/shackleton-s/all_documents/414."
       ]
      },
      {
       "output_type": "stream",
       "stream": "stdout",
       "text": [
        "\n",
        "..\\maildir/shackleton-s/all_documents/415.\n",
        "..\\maildir/shackleton-s/all_documents/4154.\n",
        "..\\maildir/shackleton-s/all_documents/4156.\n",
        "..\\maildir/shackleton-s/all_documents/4157."
       ]
      },
      {
       "output_type": "stream",
       "stream": "stdout",
       "text": [
        "\n",
        "..\\maildir/shackleton-s/all_documents/416.\n",
        "..\\maildir/shackleton-s/all_documents/417.\n",
        "..\\maildir/shackleton-s/all_documents/4175."
       ]
      },
      {
       "output_type": "stream",
       "stream": "stdout",
       "text": [
        "\n",
        "..\\maildir/shackleton-s/all_documents/4178.\n",
        "..\\maildir/shackleton-s/all_documents/4179.\n",
        "..\\maildir/shackleton-s/all_documents/4180.\n",
        "..\\maildir/shackleton-s/all_documents/4181."
       ]
      },
      {
       "output_type": "stream",
       "stream": "stdout",
       "text": [
        "\n",
        "..\\maildir/shackleton-s/all_documents/4185.\n",
        "..\\maildir/shackleton-s/all_documents/4186.\n",
        "..\\maildir/shackleton-s/all_documents/4188.\n",
        "..\\maildir/shackleton-s/all_documents/4189."
       ]
      },
      {
       "output_type": "stream",
       "stream": "stdout",
       "text": [
        "\n",
        "..\\maildir/shackleton-s/all_documents/4199.\n",
        "..\\maildir/shackleton-s/all_documents/42.\n",
        "..\\maildir/shackleton-s/all_documents/4201."
       ]
      },
      {
       "output_type": "stream",
       "stream": "stdout",
       "text": [
        "\n",
        "..\\maildir/shackleton-s/all_documents/4202.\n",
        "..\\maildir/shackleton-s/all_documents/4209.\n",
        "..\\maildir/shackleton-s/all_documents/421.\n",
        "..\\maildir/shackleton-s/all_documents/4215.\n",
        "..\\maildir/shackleton-s/all_documents/422."
       ]
      },
      {
       "output_type": "stream",
       "stream": "stdout",
       "text": [
        "\n",
        "..\\maildir/shackleton-s/all_documents/4221.\n",
        "..\\maildir/shackleton-s/all_documents/4222.\n",
        "..\\maildir/shackleton-s/all_documents/4229.\n",
        "..\\maildir/shackleton-s/all_documents/4230.\n",
        "..\\maildir/shackleton-s/all_documents/4231."
       ]
      },
      {
       "output_type": "stream",
       "stream": "stdout",
       "text": [
        "\n",
        "..\\maildir/shackleton-s/all_documents/4232.\n",
        "..\\maildir/shackleton-s/all_documents/4234.\n",
        "..\\maildir/shackleton-s/all_documents/4237.\n",
        "..\\maildir/shackleton-s/all_documents/4242.\n",
        "..\\maildir/shackleton-s/all_documents/4243."
       ]
      },
      {
       "output_type": "stream",
       "stream": "stdout",
       "text": [
        "\n",
        "..\\maildir/shackleton-s/all_documents/4244.\n",
        "..\\maildir/shackleton-s/all_documents/4245.\n",
        "..\\maildir/shackleton-s/all_documents/4247.\n",
        "..\\maildir/shackleton-s/all_documents/4248.\n",
        "..\\maildir/shackleton-s/all_documents/4249."
       ]
      },
      {
       "output_type": "stream",
       "stream": "stdout",
       "text": [
        "\n",
        "..\\maildir/shackleton-s/all_documents/4257.\n",
        "..\\maildir/shackleton-s/all_documents/426.\n",
        "..\\maildir/shackleton-s/all_documents/4262.\n",
        "..\\maildir/shackleton-s/all_documents/4264.\n",
        "..\\maildir/shackleton-s/all_documents/4265.\n",
        "..\\maildir/shackleton-s/all_documents/4267."
       ]
      },
      {
       "output_type": "stream",
       "stream": "stdout",
       "text": [
        "\n",
        "..\\maildir/shackleton-s/all_documents/427.\n",
        "..\\maildir/shackleton-s/all_documents/4271.\n",
        "..\\maildir/shackleton-s/all_documents/4273.\n",
        "..\\maildir/shackleton-s/all_documents/4274."
       ]
      },
      {
       "output_type": "stream",
       "stream": "stdout",
       "text": [
        "\n",
        "..\\maildir/shackleton-s/all_documents/428.\n",
        "..\\maildir/shackleton-s/all_documents/4281.\n",
        "..\\maildir/shackleton-s/all_documents/4282.\n",
        "..\\maildir/shackleton-s/all_documents/4287.\n",
        "..\\maildir/shackleton-s/all_documents/4288.\n",
        "..\\maildir/shackleton-s/all_documents/4289.\n",
        "..\\maildir/shackleton-s/all_documents/429."
       ]
      },
      {
       "output_type": "stream",
       "stream": "stdout",
       "text": [
        "\n",
        "..\\maildir/shackleton-s/all_documents/4291.\n",
        "..\\maildir/shackleton-s/all_documents/4292.\n",
        "..\\maildir/shackleton-s/all_documents/4296.\n",
        "..\\maildir/shackleton-s/all_documents/4297.\n",
        "..\\maildir/shackleton-s/all_documents/4298.\n",
        "..\\maildir/shackleton-s/all_documents/43."
       ]
      },
      {
       "output_type": "stream",
       "stream": "stdout",
       "text": [
        "\n",
        "..\\maildir/shackleton-s/all_documents/4301.\n",
        "..\\maildir/shackleton-s/all_documents/4302.\n",
        "..\\maildir/shackleton-s/all_documents/4303.\n",
        "..\\maildir/shackleton-s/all_documents/4304.\n",
        "..\\maildir/shackleton-s/all_documents/4305.\n",
        "..\\maildir/shackleton-s/all_documents/4306."
       ]
      },
      {
       "output_type": "stream",
       "stream": "stdout",
       "text": [
        "\n",
        "..\\maildir/shackleton-s/all_documents/4307.\n",
        "..\\maildir/shackleton-s/all_documents/431.\n",
        "..\\maildir/shackleton-s/all_documents/4316.\n",
        "..\\maildir/shackleton-s/all_documents/4322."
       ]
      },
      {
       "output_type": "stream",
       "stream": "stdout",
       "text": [
        "\n",
        "..\\maildir/shackleton-s/all_documents/4328.\n",
        "..\\maildir/shackleton-s/all_documents/4329.\n",
        "..\\maildir/shackleton-s/all_documents/4337.\n",
        "..\\maildir/shackleton-s/all_documents/4339.\n",
        "..\\maildir/shackleton-s/all_documents/4341.\n",
        "..\\maildir/shackleton-s/all_documents/4342.\n",
        "..\\maildir/shackleton-s/all_documents/4344.\n",
        "..\\maildir/shackleton-s/all_documents/4345."
       ]
      },
      {
       "output_type": "stream",
       "stream": "stdout",
       "text": [
        "\n",
        "..\\maildir/shackleton-s/all_documents/4346.\n",
        "..\\maildir/shackleton-s/all_documents/4348."
       ]
      },
      {
       "output_type": "stream",
       "stream": "stdout",
       "text": [
        "\n",
        "..\\maildir/shackleton-s/all_documents/435.\n",
        "..\\maildir/shackleton-s/all_documents/4350.\n",
        "..\\maildir/shackleton-s/all_documents/4357.\n",
        "..\\maildir/shackleton-s/all_documents/4359."
       ]
      },
      {
       "output_type": "stream",
       "stream": "stdout",
       "text": [
        "\n",
        "..\\maildir/shackleton-s/all_documents/4363.\n",
        "..\\maildir/shackleton-s/all_documents/4364."
       ]
      },
      {
       "output_type": "stream",
       "stream": "stdout",
       "text": [
        "\n",
        "..\\maildir/shackleton-s/all_documents/4365.\n",
        "..\\maildir/shackleton-s/all_documents/4366.\n",
        "..\\maildir/shackleton-s/all_documents/437."
       ]
      },
      {
       "output_type": "stream",
       "stream": "stdout",
       "text": [
        "\n",
        "..\\maildir/shackleton-s/all_documents/4372.\n",
        "..\\maildir/shackleton-s/all_documents/4373."
       ]
      },
      {
       "output_type": "stream",
       "stream": "stdout",
       "text": [
        "\n",
        "..\\maildir/shackleton-s/all_documents/4374."
       ]
      },
      {
       "output_type": "stream",
       "stream": "stdout",
       "text": [
        "\n",
        "..\\maildir/shackleton-s/all_documents/4376.\n",
        "..\\maildir/shackleton-s/all_documents/4379."
       ]
      },
      {
       "output_type": "stream",
       "stream": "stdout",
       "text": [
        "\n",
        "..\\maildir/shackleton-s/all_documents/438.\n",
        "..\\maildir/shackleton-s/all_documents/4380."
       ]
      },
      {
       "output_type": "stream",
       "stream": "stdout",
       "text": [
        "\n",
        "..\\maildir/shackleton-s/all_documents/4381."
       ]
      },
      {
       "output_type": "stream",
       "stream": "stdout",
       "text": [
        "\n",
        "..\\maildir/shackleton-s/all_documents/4386.\n",
        "..\\maildir/shackleton-s/all_documents/439.\n",
        "..\\maildir/shackleton-s/all_documents/4391.\n",
        "..\\maildir/shackleton-s/all_documents/4392."
       ]
      },
      {
       "output_type": "stream",
       "stream": "stdout",
       "text": [
        "\n",
        "..\\maildir/shackleton-s/all_documents/4393.\n",
        "..\\maildir/shackleton-s/all_documents/4396."
       ]
      },
      {
       "output_type": "stream",
       "stream": "stdout",
       "text": [
        "\n",
        "..\\maildir/shackleton-s/all_documents/4398.\n",
        "..\\maildir/shackleton-s/all_documents/44.\n",
        "..\\maildir/shackleton-s/all_documents/440."
       ]
      },
      {
       "output_type": "stream",
       "stream": "stdout",
       "text": [
        "\n",
        "..\\maildir/shackleton-s/all_documents/4400.\n",
        "..\\maildir/shackleton-s/all_documents/4401.\n",
        "..\\maildir/shackleton-s/all_documents/4403."
       ]
      },
      {
       "output_type": "stream",
       "stream": "stdout",
       "text": [
        "\n",
        "..\\maildir/shackleton-s/all_documents/4404.\n",
        "..\\maildir/shackleton-s/all_documents/4407."
       ]
      },
      {
       "output_type": "stream",
       "stream": "stdout",
       "text": [
        "\n",
        "..\\maildir/shackleton-s/all_documents/4408.\n",
        "..\\maildir/shackleton-s/all_documents/4411."
       ]
      },
      {
       "output_type": "stream",
       "stream": "stdout",
       "text": [
        "\n",
        "..\\maildir/shackleton-s/all_documents/4412.\n",
        "..\\maildir/shackleton-s/all_documents/4413.\n",
        "..\\maildir/shackleton-s/all_documents/4417."
       ]
      },
      {
       "output_type": "stream",
       "stream": "stdout",
       "text": [
        "\n",
        "..\\maildir/shackleton-s/all_documents/4418.\n",
        "..\\maildir/shackleton-s/all_documents/4419.\n",
        "..\\maildir/shackleton-s/all_documents/4421."
       ]
      },
      {
       "output_type": "stream",
       "stream": "stdout",
       "text": [
        "\n",
        "..\\maildir/shackleton-s/all_documents/4424.\n",
        "..\\maildir/shackleton-s/all_documents/4426.\n",
        "..\\maildir/shackleton-s/all_documents/4427.\n",
        "..\\maildir/shackleton-s/all_documents/4429.\n",
        "..\\maildir/shackleton-s/all_documents/4430."
       ]
      },
      {
       "output_type": "stream",
       "stream": "stdout",
       "text": [
        "\n",
        "..\\maildir/shackleton-s/all_documents/4433.\n",
        "..\\maildir/shackleton-s/all_documents/4434.\n",
        "..\\maildir/shackleton-s/all_documents/4435.\n",
        "..\\maildir/shackleton-s/all_documents/4436."
       ]
      },
      {
       "output_type": "stream",
       "stream": "stdout",
       "text": [
        "\n",
        "..\\maildir/shackleton-s/all_documents/4438.\n",
        "..\\maildir/shackleton-s/all_documents/4439.\n",
        "..\\maildir/shackleton-s/all_documents/444.\n",
        "..\\maildir/shackleton-s/all_documents/4441.\n",
        "..\\maildir/shackleton-s/all_documents/4442.\n",
        "..\\maildir/shackleton-s/all_documents/4443."
       ]
      },
      {
       "output_type": "stream",
       "stream": "stdout",
       "text": [
        "\n",
        "..\\maildir/shackleton-s/all_documents/4445.\n",
        "..\\maildir/shackleton-s/all_documents/4448.\n",
        "..\\maildir/shackleton-s/all_documents/4449."
       ]
      },
      {
       "output_type": "stream",
       "stream": "stdout",
       "text": [
        "\n",
        "..\\maildir/shackleton-s/all_documents/4450.\n",
        "..\\maildir/shackleton-s/all_documents/4451.\n",
        "..\\maildir/shackleton-s/all_documents/4452.\n",
        "..\\maildir/shackleton-s/all_documents/4455."
       ]
      },
      {
       "output_type": "stream",
       "stream": "stdout",
       "text": [
        "\n",
        "..\\maildir/shackleton-s/all_documents/4456.\n",
        "..\\maildir/shackleton-s/all_documents/4457.\n",
        "..\\maildir/shackleton-s/all_documents/4458.\n",
        "..\\maildir/shackleton-s/all_documents/4459."
       ]
      },
      {
       "output_type": "stream",
       "stream": "stdout",
       "text": [
        "\n",
        "..\\maildir/shackleton-s/all_documents/4460.\n",
        "..\\maildir/shackleton-s/all_documents/4461.\n",
        "..\\maildir/shackleton-s/all_documents/447."
       ]
      },
      {
       "output_type": "stream",
       "stream": "stdout",
       "text": [
        "\n",
        "..\\maildir/shackleton-s/all_documents/4482.\n",
        "..\\maildir/shackleton-s/all_documents/4483.\n",
        "..\\maildir/shackleton-s/all_documents/4484.\n",
        "..\\maildir/shackleton-s/all_documents/4485."
       ]
      },
      {
       "output_type": "stream",
       "stream": "stdout",
       "text": [
        "\n",
        "..\\maildir/shackleton-s/all_documents/449.\n",
        "..\\maildir/shackleton-s/all_documents/45.\n",
        "..\\maildir/shackleton-s/all_documents/451.\n",
        "..\\maildir/shackleton-s/all_documents/4511."
       ]
      },
      {
       "output_type": "stream",
       "stream": "stdout",
       "text": [
        "\n",
        "..\\maildir/shackleton-s/all_documents/4513.\n",
        "..\\maildir/shackleton-s/all_documents/4518."
       ]
      },
      {
       "output_type": "stream",
       "stream": "stdout",
       "text": [
        "\n",
        "..\\maildir/shackleton-s/all_documents/4519.\n",
        "..\\maildir/shackleton-s/all_documents/452.\n",
        "..\\maildir/shackleton-s/all_documents/4523.\n",
        "..\\maildir/shackleton-s/all_documents/4525.\n",
        "..\\maildir/shackleton-s/all_documents/4526.\n",
        "..\\maildir/shackleton-s/all_documents/4528."
       ]
      },
      {
       "output_type": "stream",
       "stream": "stdout",
       "text": [
        "\n",
        "..\\maildir/shackleton-s/all_documents/453.\n",
        "..\\maildir/shackleton-s/all_documents/454.\n",
        "..\\maildir/shackleton-s/all_documents/4543.\n",
        "..\\maildir/shackleton-s/all_documents/4549.\n",
        "..\\maildir/shackleton-s/all_documents/4560.\n",
        "..\\maildir/shackleton-s/all_documents/4562."
       ]
      },
      {
       "output_type": "stream",
       "stream": "stdout",
       "text": [
        "\n",
        "..\\maildir/shackleton-s/all_documents/4563.\n",
        "..\\maildir/shackleton-s/all_documents/4568.\n",
        "..\\maildir/shackleton-s/all_documents/4569.\n",
        "..\\maildir/shackleton-s/all_documents/4570.\n",
        "..\\maildir/shackleton-s/all_documents/4577.\n",
        "..\\maildir/shackleton-s/all_documents/4578."
       ]
      },
      {
       "output_type": "stream",
       "stream": "stdout",
       "text": [
        "\n",
        "..\\maildir/shackleton-s/all_documents/458.\n",
        "..\\maildir/shackleton-s/all_documents/4583.\n",
        "..\\maildir/shackleton-s/all_documents/4585.\n",
        "..\\maildir/shackleton-s/all_documents/4588."
       ]
      },
      {
       "output_type": "stream",
       "stream": "stdout",
       "text": [
        "\n",
        "..\\maildir/shackleton-s/all_documents/459.\n",
        "..\\maildir/shackleton-s/all_documents/4595.\n",
        "..\\maildir/shackleton-s/all_documents/46.\n",
        "..\\maildir/shackleton-s/all_documents/460."
       ]
      },
      {
       "output_type": "stream",
       "stream": "stdout",
       "text": [
        "\n",
        "..\\maildir/shackleton-s/all_documents/4604.\n",
        "..\\maildir/shackleton-s/all_documents/4605.\n",
        "..\\maildir/shackleton-s/all_documents/4607.\n",
        "..\\maildir/shackleton-s/all_documents/4609."
       ]
      },
      {
       "output_type": "stream",
       "stream": "stdout",
       "text": [
        "\n",
        "..\\maildir/shackleton-s/all_documents/461.\n",
        "..\\maildir/shackleton-s/all_documents/4610."
       ]
      },
      {
       "output_type": "stream",
       "stream": "stdout",
       "text": [
        "\n",
        "..\\maildir/shackleton-s/all_documents/4615.\n",
        "..\\maildir/shackleton-s/all_documents/4618.\n",
        "..\\maildir/shackleton-s/all_documents/462.\n",
        "..\\maildir/shackleton-s/all_documents/4620."
       ]
      },
      {
       "output_type": "stream",
       "stream": "stdout",
       "text": [
        "\n",
        "..\\maildir/shackleton-s/all_documents/4623.\n",
        "..\\maildir/shackleton-s/all_documents/4624.\n",
        "..\\maildir/shackleton-s/all_documents/463.\n",
        "..\\maildir/shackleton-s/all_documents/4639.\n",
        "..\\maildir/shackleton-s/all_documents/464."
       ]
      },
      {
       "output_type": "stream",
       "stream": "stdout",
       "text": [
        "\n",
        "..\\maildir/shackleton-s/all_documents/4640.\n",
        "..\\maildir/shackleton-s/all_documents/4642.\n",
        "..\\maildir/shackleton-s/all_documents/4643.\n",
        "..\\maildir/shackleton-s/all_documents/465.\n",
        "..\\maildir/shackleton-s/all_documents/4650."
       ]
      },
      {
       "output_type": "stream",
       "stream": "stdout",
       "text": [
        "\n",
        "..\\maildir/shackleton-s/all_documents/4656.\n",
        "..\\maildir/shackleton-s/all_documents/4657.\n",
        "..\\maildir/shackleton-s/all_documents/466.\n",
        "..\\maildir/shackleton-s/all_documents/4664."
       ]
      },
      {
       "output_type": "stream",
       "stream": "stdout",
       "text": [
        "\n",
        "..\\maildir/shackleton-s/all_documents/4668.\n",
        "..\\maildir/shackleton-s/all_documents/467.\n",
        "..\\maildir/shackleton-s/all_documents/4670.\n",
        "..\\maildir/shackleton-s/all_documents/4674.\n",
        "..\\maildir/shackleton-s/all_documents/4677.\n",
        "..\\maildir/shackleton-s/all_documents/4679.\n",
        "..\\maildir/shackleton-s/all_documents/468."
       ]
      },
      {
       "output_type": "stream",
       "stream": "stdout",
       "text": [
        "\n",
        "..\\maildir/shackleton-s/all_documents/4685.\n",
        "..\\maildir/shackleton-s/all_documents/4686.\n",
        "..\\maildir/shackleton-s/all_documents/4688.\n",
        "..\\maildir/shackleton-s/all_documents/4690."
       ]
      },
      {
       "output_type": "stream",
       "stream": "stdout",
       "text": [
        "\n",
        "..\\maildir/shackleton-s/all_documents/4692.\n",
        "..\\maildir/shackleton-s/all_documents/4693.\n",
        "..\\maildir/shackleton-s/all_documents/47.\n",
        "..\\maildir/shackleton-s/all_documents/4701.\n",
        "..\\maildir/shackleton-s/all_documents/471."
       ]
      },
      {
       "output_type": "stream",
       "stream": "stdout",
       "text": [
        "\n",
        "..\\maildir/shackleton-s/all_documents/4715.\n",
        "..\\maildir/shackleton-s/all_documents/4716.\n",
        "..\\maildir/shackleton-s/all_documents/4719.\n",
        "..\\maildir/shackleton-s/all_documents/472.\n",
        "..\\maildir/shackleton-s/all_documents/4722."
       ]
      },
      {
       "output_type": "stream",
       "stream": "stdout",
       "text": [
        "\n",
        "..\\maildir/shackleton-s/all_documents/4726.\n",
        "..\\maildir/shackleton-s/all_documents/473."
       ]
      },
      {
       "output_type": "stream",
       "stream": "stdout",
       "text": [
        "\n",
        "..\\maildir/shackleton-s/all_documents/4730.\n",
        "..\\maildir/shackleton-s/all_documents/4731."
       ]
      },
      {
       "output_type": "stream",
       "stream": "stdout",
       "text": [
        "\n",
        "..\\maildir/shackleton-s/all_documents/4732.\n",
        "..\\maildir/shackleton-s/all_documents/4735.\n",
        "..\\maildir/shackleton-s/all_documents/4737.\n",
        "..\\maildir/shackleton-s/all_documents/4738.\n",
        "..\\maildir/shackleton-s/all_documents/4739."
       ]
      },
      {
       "output_type": "stream",
       "stream": "stdout",
       "text": [
        "\n",
        "..\\maildir/shackleton-s/all_documents/4740.\n",
        "..\\maildir/shackleton-s/all_documents/4741.\n",
        "..\\maildir/shackleton-s/all_documents/4748.\n",
        "..\\maildir/shackleton-s/all_documents/4749.\n",
        "..\\maildir/shackleton-s/all_documents/475."
       ]
      },
      {
       "output_type": "stream",
       "stream": "stdout",
       "text": [
        "\n",
        "..\\maildir/shackleton-s/all_documents/4752.\n",
        "..\\maildir/shackleton-s/all_documents/4753.\n",
        "..\\maildir/shackleton-s/all_documents/4755.\n",
        "..\\maildir/shackleton-s/all_documents/4756."
       ]
      },
      {
       "output_type": "stream",
       "stream": "stdout",
       "text": [
        "\n",
        "..\\maildir/shackleton-s/all_documents/4757.\n",
        "..\\maildir/shackleton-s/all_documents/476.\n",
        "..\\maildir/shackleton-s/all_documents/4768.\n",
        "..\\maildir/shackleton-s/all_documents/4769."
       ]
      },
      {
       "output_type": "stream",
       "stream": "stdout",
       "text": [
        "\n",
        "..\\maildir/shackleton-s/all_documents/4771.\n",
        "..\\maildir/shackleton-s/all_documents/4773.\n",
        "..\\maildir/shackleton-s/all_documents/4774.\n",
        "..\\maildir/shackleton-s/all_documents/4777.\n",
        "..\\maildir/shackleton-s/all_documents/4778.\n",
        "..\\maildir/shackleton-s/all_documents/479."
       ]
      },
      {
       "output_type": "stream",
       "stream": "stdout",
       "text": [
        "\n",
        "..\\maildir/shackleton-s/all_documents/48.\n",
        "..\\maildir/shackleton-s/all_documents/480.\n",
        "..\\maildir/shackleton-s/all_documents/4817.\n",
        "..\\maildir/shackleton-s/all_documents/4828."
       ]
      },
      {
       "output_type": "stream",
       "stream": "stdout",
       "text": [
        "\n",
        "..\\maildir/shackleton-s/all_documents/4829.\n",
        "..\\maildir/shackleton-s/all_documents/4830.\n",
        "..\\maildir/shackleton-s/all_documents/4831."
       ]
      },
      {
       "output_type": "stream",
       "stream": "stdout",
       "text": [
        "\n",
        "..\\maildir/shackleton-s/all_documents/4832.\n",
        "..\\maildir/shackleton-s/all_documents/4833.\n",
        "..\\maildir/shackleton-s/all_documents/4834.\n",
        "..\\maildir/shackleton-s/all_documents/4835.\n",
        "..\\maildir/shackleton-s/all_documents/4836.\n",
        "..\\maildir/shackleton-s/all_documents/4837.\n",
        "..\\maildir/shackleton-s/all_documents/4838."
       ]
      },
      {
       "output_type": "stream",
       "stream": "stdout",
       "text": [
        "\n",
        "..\\maildir/shackleton-s/all_documents/484.\n",
        "..\\maildir/shackleton-s/all_documents/4843.\n",
        "..\\maildir/shackleton-s/all_documents/4844.\n",
        "..\\maildir/shackleton-s/all_documents/4846."
       ]
      },
      {
       "output_type": "stream",
       "stream": "stdout",
       "text": [
        "\n",
        "..\\maildir/shackleton-s/all_documents/4849.\n",
        "..\\maildir/shackleton-s/all_documents/485.\n",
        "..\\maildir/shackleton-s/all_documents/4851.\n",
        "..\\maildir/shackleton-s/all_documents/4859.\n",
        "..\\maildir/shackleton-s/all_documents/486."
       ]
      },
      {
       "output_type": "stream",
       "stream": "stdout",
       "text": [
        "\n",
        "..\\maildir/shackleton-s/all_documents/4860.\n",
        "..\\maildir/shackleton-s/all_documents/4861.\n",
        "..\\maildir/shackleton-s/all_documents/4862."
       ]
      },
      {
       "output_type": "stream",
       "stream": "stdout",
       "text": [
        "\n",
        "..\\maildir/shackleton-s/all_documents/487.\n",
        "..\\maildir/shackleton-s/all_documents/4870.\n",
        "..\\maildir/shackleton-s/all_documents/4871.\n",
        "..\\maildir/shackleton-s/all_documents/4873.\n",
        "..\\maildir/shackleton-s/all_documents/4877.\n",
        "..\\maildir/shackleton-s/all_documents/4878."
       ]
      },
      {
       "output_type": "stream",
       "stream": "stdout",
       "text": [
        "\n",
        "..\\maildir/shackleton-s/all_documents/4879.\n",
        "..\\maildir/shackleton-s/all_documents/488.\n",
        "..\\maildir/shackleton-s/all_documents/4880.\n",
        "..\\maildir/shackleton-s/all_documents/4884.\n",
        "..\\maildir/shackleton-s/all_documents/4885."
       ]
      },
      {
       "output_type": "stream",
       "stream": "stdout",
       "text": [
        "\n",
        "..\\maildir/shackleton-s/all_documents/4886.\n",
        "..\\maildir/shackleton-s/all_documents/4887.\n",
        "..\\maildir/shackleton-s/all_documents/489.\n",
        "..\\maildir/shackleton-s/all_documents/4894.\n",
        "..\\maildir/shackleton-s/all_documents/4895.\n",
        "..\\maildir/shackleton-s/all_documents/4896."
       ]
      },
      {
       "output_type": "stream",
       "stream": "stdout",
       "text": [
        "\n",
        "..\\maildir/shackleton-s/all_documents/4898.\n",
        "..\\maildir/shackleton-s/all_documents/49.\n",
        "..\\maildir/shackleton-s/all_documents/4904.\n",
        "..\\maildir/shackleton-s/all_documents/4905.\n",
        "..\\maildir/shackleton-s/all_documents/4907.\n",
        "..\\maildir/shackleton-s/all_documents/491."
       ]
      },
      {
       "output_type": "stream",
       "stream": "stdout",
       "text": [
        "\n",
        "..\\maildir/shackleton-s/all_documents/4910.\n",
        "..\\maildir/shackleton-s/all_documents/4912.\n",
        "..\\maildir/shackleton-s/all_documents/4917.\n",
        "..\\maildir/shackleton-s/all_documents/4918."
       ]
      },
      {
       "output_type": "stream",
       "stream": "stdout",
       "text": [
        "\n",
        "..\\maildir/shackleton-s/all_documents/4919.\n",
        "..\\maildir/shackleton-s/all_documents/492."
       ]
      },
      {
       "output_type": "stream",
       "stream": "stdout",
       "text": [
        "\n",
        "..\\maildir/shackleton-s/all_documents/4920.\n",
        "..\\maildir/shackleton-s/all_documents/4924.\n",
        "..\\maildir/shackleton-s/all_documents/4928.\n",
        "..\\maildir/shackleton-s/all_documents/4929.\n",
        "..\\maildir/shackleton-s/all_documents/493.\n",
        "..\\maildir/shackleton-s/all_documents/4932.\n",
        "..\\maildir/shackleton-s/all_documents/4937.\n",
        "..\\maildir/shackleton-s/all_documents/4938."
       ]
      },
      {
       "output_type": "stream",
       "stream": "stdout",
       "text": [
        "\n",
        "..\\maildir/shackleton-s/all_documents/4939.\n",
        "..\\maildir/shackleton-s/all_documents/494.\n",
        "..\\maildir/shackleton-s/all_documents/4942.\n",
        "..\\maildir/shackleton-s/all_documents/4943.\n",
        "..\\maildir/shackleton-s/all_documents/4944.\n",
        "..\\maildir/shackleton-s/all_documents/4945.\n",
        "..\\maildir/shackleton-s/all_documents/4946.\n",
        "..\\maildir/shackleton-s/all_documents/4947."
       ]
      },
      {
       "output_type": "stream",
       "stream": "stdout",
       "text": [
        "\n",
        "..\\maildir/shackleton-s/all_documents/4948.\n",
        "..\\maildir/shackleton-s/all_documents/4952.\n",
        "..\\maildir/shackleton-s/all_documents/4953.\n",
        "..\\maildir/shackleton-s/all_documents/4954.\n",
        "..\\maildir/shackleton-s/all_documents/4955.\n",
        "..\\maildir/shackleton-s/all_documents/4956.\n",
        "..\\maildir/shackleton-s/all_documents/496."
       ]
      },
      {
       "output_type": "stream",
       "stream": "stdout",
       "text": [
        "\n",
        "..\\maildir/shackleton-s/all_documents/4960.\n",
        "..\\maildir/shackleton-s/all_documents/4961.\n",
        "..\\maildir/shackleton-s/all_documents/4963.\n",
        "..\\maildir/shackleton-s/all_documents/4966.\n",
        "..\\maildir/shackleton-s/all_documents/4967.\n",
        "..\\maildir/shackleton-s/all_documents/4969."
       ]
      },
      {
       "output_type": "stream",
       "stream": "stdout",
       "text": [
        "\n",
        "..\\maildir/shackleton-s/all_documents/497.\n",
        "..\\maildir/shackleton-s/all_documents/4970.\n",
        "..\\maildir/shackleton-s/all_documents/4971.\n",
        "..\\maildir/shackleton-s/all_documents/4976."
       ]
      },
      {
       "output_type": "stream",
       "stream": "stdout",
       "text": [
        "\n",
        "..\\maildir/shackleton-s/all_documents/498.\n",
        "..\\maildir/shackleton-s/all_documents/4980.\n",
        "..\\maildir/shackleton-s/all_documents/4983.\n",
        "..\\maildir/shackleton-s/all_documents/4984."
       ]
      },
      {
       "output_type": "stream",
       "stream": "stdout",
       "text": [
        "\n",
        "..\\maildir/shackleton-s/all_documents/4985.\n",
        "..\\maildir/shackleton-s/all_documents/4989.\n",
        "..\\maildir/shackleton-s/all_documents/4992.\n",
        "..\\maildir/shackleton-s/all_documents/4997."
       ]
      },
      {
       "output_type": "stream",
       "stream": "stdout",
       "text": [
        "\n",
        "..\\maildir/shackleton-s/all_documents/4999.\n",
        "..\\maildir/shackleton-s/all_documents/5.\n",
        "..\\maildir/shackleton-s/all_documents/50."
       ]
      },
      {
       "output_type": "stream",
       "stream": "stdout",
       "text": [
        "\n",
        "..\\maildir/shackleton-s/all_documents/500.\n",
        "..\\maildir/shackleton-s/all_documents/5000.\n",
        "..\\maildir/shackleton-s/all_documents/5001.\n",
        "..\\maildir/shackleton-s/all_documents/5004."
       ]
      },
      {
       "output_type": "stream",
       "stream": "stdout",
       "text": [
        "\n",
        "..\\maildir/shackleton-s/all_documents/5006.\n",
        "..\\maildir/shackleton-s/all_documents/501.\n",
        "..\\maildir/shackleton-s/all_documents/5014.\n",
        "..\\maildir/shackleton-s/all_documents/5015.\n",
        "..\\maildir/shackleton-s/all_documents/5019.\n",
        "..\\maildir/shackleton-s/all_documents/502."
       ]
      },
      {
       "output_type": "stream",
       "stream": "stdout",
       "text": [
        "\n",
        "..\\maildir/shackleton-s/all_documents/5020.\n",
        "..\\maildir/shackleton-s/all_documents/5024.\n",
        "..\\maildir/shackleton-s/all_documents/5026."
       ]
      },
      {
       "output_type": "stream",
       "stream": "stdout",
       "text": [
        "\n",
        "..\\maildir/shackleton-s/all_documents/5028.\n",
        "..\\maildir/shackleton-s/all_documents/5029.\n",
        "..\\maildir/shackleton-s/all_documents/503.\n",
        "..\\maildir/shackleton-s/all_documents/5039.\n",
        "..\\maildir/shackleton-s/all_documents/504.\n",
        "..\\maildir/shackleton-s/all_documents/5041.\n",
        "..\\maildir/shackleton-s/all_documents/5043."
       ]
      },
      {
       "output_type": "stream",
       "stream": "stdout",
       "text": [
        "\n",
        "..\\maildir/shackleton-s/all_documents/5045.\n",
        "..\\maildir/shackleton-s/all_documents/5048.\n",
        "..\\maildir/shackleton-s/all_documents/5049.\n",
        "..\\maildir/shackleton-s/all_documents/505."
       ]
      },
      {
       "output_type": "stream",
       "stream": "stdout",
       "text": [
        "\n",
        "..\\maildir/shackleton-s/all_documents/5051.\n",
        "..\\maildir/shackleton-s/all_documents/5052.\n",
        "..\\maildir/shackleton-s/all_documents/5053.\n",
        "..\\maildir/shackleton-s/all_documents/5054."
       ]
      },
      {
       "output_type": "stream",
       "stream": "stdout",
       "text": [
        "\n",
        "..\\maildir/shackleton-s/all_documents/5055.\n",
        "..\\maildir/shackleton-s/all_documents/5057.\n",
        "..\\maildir/shackleton-s/all_documents/5062.\n",
        "..\\maildir/shackleton-s/all_documents/5064."
       ]
      },
      {
       "output_type": "stream",
       "stream": "stdout",
       "text": [
        "\n",
        "..\\maildir/shackleton-s/all_documents/5067.\n",
        "..\\maildir/shackleton-s/all_documents/5069.\n",
        "..\\maildir/shackleton-s/all_documents/507.\n",
        "..\\maildir/shackleton-s/all_documents/5071.\n",
        "..\\maildir/shackleton-s/all_documents/508.\n",
        "..\\maildir/shackleton-s/all_documents/509.\n",
        "..\\maildir/shackleton-s/all_documents/51."
       ]
      },
      {
       "output_type": "stream",
       "stream": "stdout",
       "text": [
        "\n",
        "..\\maildir/shackleton-s/all_documents/510.\n",
        "..\\maildir/shackleton-s/all_documents/5104.\n",
        "..\\maildir/shackleton-s/all_documents/5105."
       ]
      },
      {
       "output_type": "stream",
       "stream": "stdout",
       "text": [
        "\n",
        "..\\maildir/shackleton-s/all_documents/5109.\n",
        "..\\maildir/shackleton-s/all_documents/511.\n",
        "..\\maildir/shackleton-s/all_documents/5110.\n",
        "..\\maildir/shackleton-s/all_documents/5111.\n",
        "..\\maildir/shackleton-s/all_documents/5112."
       ]
      },
      {
       "output_type": "stream",
       "stream": "stdout",
       "text": [
        "\n",
        "..\\maildir/shackleton-s/all_documents/5113.\n",
        "..\\maildir/shackleton-s/all_documents/5115."
       ]
      },
      {
       "output_type": "stream",
       "stream": "stdout",
       "text": [
        "\n",
        "..\\maildir/shackleton-s/all_documents/5117.\n",
        "..\\maildir/shackleton-s/all_documents/5118.\n",
        "..\\maildir/shackleton-s/all_documents/512.\n",
        "..\\maildir/shackleton-s/all_documents/5120.\n",
        "..\\maildir/shackleton-s/all_documents/5123.\n",
        "..\\maildir/shackleton-s/all_documents/5124.\n",
        "..\\maildir/shackleton-s/all_documents/5125."
       ]
      },
      {
       "output_type": "stream",
       "stream": "stdout",
       "text": [
        "\n",
        "..\\maildir/shackleton-s/all_documents/5126.\n",
        "..\\maildir/shackleton-s/all_documents/513.\n",
        "..\\maildir/shackleton-s/all_documents/5130.\n",
        "..\\maildir/shackleton-s/all_documents/5131.\n",
        "..\\maildir/shackleton-s/all_documents/5136."
       ]
      },
      {
       "output_type": "stream",
       "stream": "stdout",
       "text": [
        "\n",
        "..\\maildir/shackleton-s/all_documents/5137.\n",
        "..\\maildir/shackleton-s/all_documents/5139.\n",
        "..\\maildir/shackleton-s/all_documents/514.\n",
        "..\\maildir/shackleton-s/all_documents/5140.\n",
        "..\\maildir/shackleton-s/all_documents/5144.\n",
        "..\\maildir/shackleton-s/all_documents/5145."
       ]
      },
      {
       "output_type": "stream",
       "stream": "stdout",
       "text": [
        "\n",
        "..\\maildir/shackleton-s/all_documents/5147.\n",
        "..\\maildir/shackleton-s/all_documents/5149.\n",
        "..\\maildir/shackleton-s/all_documents/5150.\n",
        "..\\maildir/shackleton-s/all_documents/5151.\n",
        "..\\maildir/shackleton-s/all_documents/5156.\n",
        "..\\maildir/shackleton-s/all_documents/5159.\n",
        "..\\maildir/shackleton-s/all_documents/5160."
       ]
      },
      {
       "output_type": "stream",
       "stream": "stdout",
       "text": [
        "\n",
        "..\\maildir/shackleton-s/all_documents/5163.\n",
        "..\\maildir/shackleton-s/all_documents/5165.\n",
        "..\\maildir/shackleton-s/all_documents/517.\n",
        "..\\maildir/shackleton-s/all_documents/5170."
       ]
      },
      {
       "output_type": "stream",
       "stream": "stdout",
       "text": [
        "\n",
        "..\\maildir/shackleton-s/all_documents/5173.\n",
        "..\\maildir/shackleton-s/all_documents/5174.\n",
        "..\\maildir/shackleton-s/all_documents/5175.\n",
        "..\\maildir/shackleton-s/all_documents/5177.\n",
        "..\\maildir/shackleton-s/all_documents/5179."
       ]
      },
      {
       "output_type": "stream",
       "stream": "stdout",
       "text": [
        "\n",
        "..\\maildir/shackleton-s/all_documents/518.\n",
        "..\\maildir/shackleton-s/all_documents/5181.\n",
        "..\\maildir/shackleton-s/all_documents/5182."
       ]
      },
      {
       "output_type": "stream",
       "stream": "stdout",
       "text": [
        "\n",
        "..\\maildir/shackleton-s/all_documents/5189.\n",
        "..\\maildir/shackleton-s/all_documents/519.\n",
        "..\\maildir/shackleton-s/all_documents/5190.\n",
        "..\\maildir/shackleton-s/all_documents/5191."
       ]
      },
      {
       "output_type": "stream",
       "stream": "stdout",
       "text": [
        "\n",
        "..\\maildir/shackleton-s/all_documents/5193.\n",
        "..\\maildir/shackleton-s/all_documents/5194.\n",
        "..\\maildir/shackleton-s/all_documents/5195.\n",
        "..\\maildir/shackleton-s/all_documents/5197."
       ]
      },
      {
       "output_type": "stream",
       "stream": "stdout",
       "text": [
        "\n",
        "..\\maildir/shackleton-s/all_documents/52.\n",
        "..\\maildir/shackleton-s/all_documents/520."
       ]
      },
      {
       "output_type": "stream",
       "stream": "stdout",
       "text": [
        "\n",
        "..\\maildir/shackleton-s/all_documents/5200.\n",
        "..\\maildir/shackleton-s/all_documents/5202.\n",
        "..\\maildir/shackleton-s/all_documents/5203.\n",
        "..\\maildir/shackleton-s/all_documents/5204."
       ]
      },
      {
       "output_type": "stream",
       "stream": "stdout",
       "text": [
        "\n",
        "..\\maildir/shackleton-s/all_documents/5205.\n",
        "..\\maildir/shackleton-s/all_documents/5206.\n",
        "..\\maildir/shackleton-s/all_documents/521."
       ]
      },
      {
       "output_type": "stream",
       "stream": "stdout",
       "text": [
        "\n",
        "..\\maildir/shackleton-s/all_documents/5213.\n",
        "..\\maildir/shackleton-s/all_documents/5219.\n",
        "..\\maildir/shackleton-s/all_documents/522.\n"
       ]
      },
      {
       "output_type": "stream",
       "stream": "stdout",
       "text": [
        "..\\maildir/shackleton-s/all_documents/5220.\n",
        "..\\maildir/shackleton-s/all_documents/5237.\n",
        "..\\maildir/shackleton-s/all_documents/525."
       ]
      },
      {
       "output_type": "stream",
       "stream": "stdout",
       "text": [
        "\n",
        "..\\maildir/shackleton-s/all_documents/526.\n",
        "..\\maildir/shackleton-s/all_documents/527.\n",
        "..\\maildir/shackleton-s/all_documents/528.\n",
        "..\\maildir/shackleton-s/all_documents/529."
       ]
      },
      {
       "output_type": "stream",
       "stream": "stdout",
       "text": [
        "\n",
        "..\\maildir/shackleton-s/all_documents/5299.\n",
        "..\\maildir/shackleton-s/all_documents/53.\n",
        "..\\maildir/shackleton-s/all_documents/530.\n",
        "..\\maildir/shackleton-s/all_documents/531.\n",
        "..\\maildir/shackleton-s/all_documents/532.\n",
        "..\\maildir/shackleton-s/all_documents/533.\n",
        "..\\maildir/shackleton-s/all_documents/534."
       ]
      },
      {
       "output_type": "stream",
       "stream": "stdout",
       "text": [
        "\n",
        "..\\maildir/shackleton-s/all_documents/535.\n",
        "..\\maildir/shackleton-s/all_documents/536.\n",
        "..\\maildir/shackleton-s/all_documents/537.\n",
        "..\\maildir/shackleton-s/all_documents/538."
       ]
      },
      {
       "output_type": "stream",
       "stream": "stdout",
       "text": [
        "\n",
        "..\\maildir/shackleton-s/all_documents/539.\n",
        "..\\maildir/shackleton-s/all_documents/54.\n",
        "..\\maildir/shackleton-s/all_documents/540.\n",
        "..\\maildir/shackleton-s/all_documents/541."
       ]
      },
      {
       "output_type": "stream",
       "stream": "stdout",
       "text": [
        "\n",
        "..\\maildir/shackleton-s/all_documents/542.\n",
        "..\\maildir/shackleton-s/all_documents/543.\n",
        "..\\maildir/shackleton-s/all_documents/544.\n",
        "..\\maildir/shackleton-s/all_documents/545.\n",
        "..\\maildir/shackleton-s/all_documents/546.\n",
        "..\\maildir/shackleton-s/all_documents/547.\n",
        "..\\maildir/shackleton-s/all_documents/548.\n",
        "..\\maildir/shackleton-s/all_documents/549."
       ]
      },
      {
       "output_type": "stream",
       "stream": "stdout",
       "text": [
        "\n",
        "..\\maildir/shackleton-s/all_documents/55.\n",
        "..\\maildir/shackleton-s/all_documents/550.\n",
        "..\\maildir/shackleton-s/all_documents/551.\n",
        "..\\maildir/shackleton-s/all_documents/552.\n",
        "..\\maildir/shackleton-s/all_documents/553.\n",
        "..\\maildir/shackleton-s/all_documents/554.\n",
        "..\\maildir/shackleton-s/all_documents/555."
       ]
      },
      {
       "output_type": "stream",
       "stream": "stdout",
       "text": [
        "\n",
        "..\\maildir/shackleton-s/all_documents/556.\n",
        "..\\maildir/shackleton-s/all_documents/557.\n",
        "..\\maildir/shackleton-s/all_documents/558.\n",
        "..\\maildir/shackleton-s/all_documents/559.\n",
        "..\\maildir/shackleton-s/all_documents/56."
       ]
      },
      {
       "output_type": "stream",
       "stream": "stdout",
       "text": [
        "\n",
        "..\\maildir/shackleton-s/all_documents/560.\n",
        "..\\maildir/shackleton-s/all_documents/561.\n",
        "..\\maildir/shackleton-s/all_documents/562.\n",
        "..\\maildir/shackleton-s/all_documents/563.\n",
        "..\\maildir/shackleton-s/all_documents/565."
       ]
      },
      {
       "output_type": "stream",
       "stream": "stdout",
       "text": [
        "\n",
        "..\\maildir/shackleton-s/all_documents/566.\n",
        "..\\maildir/shackleton-s/all_documents/567.\n",
        "..\\maildir/shackleton-s/all_documents/568.\n",
        "..\\maildir/shackleton-s/all_documents/569.\n",
        "..\\maildir/shackleton-s/all_documents/57.\n",
        "..\\maildir/shackleton-s/all_documents/570.\n",
        "..\\maildir/shackleton-s/all_documents/571.\n",
        "..\\maildir/shackleton-s/all_documents/572."
       ]
      },
      {
       "output_type": "stream",
       "stream": "stdout",
       "text": [
        "\n",
        "..\\maildir/shackleton-s/all_documents/573.\n",
        "..\\maildir/shackleton-s/all_documents/574."
       ]
      },
      {
       "output_type": "stream",
       "stream": "stdout",
       "text": [
        "\n",
        "..\\maildir/shackleton-s/all_documents/575.\n",
        "..\\maildir/shackleton-s/all_documents/5809.\n",
        "..\\maildir/shackleton-s/all_documents/582.\n",
        "..\\maildir/shackleton-s/all_documents/584."
       ]
      },
      {
       "output_type": "stream",
       "stream": "stdout",
       "text": [
        "\n",
        "..\\maildir/shackleton-s/all_documents/585.\n",
        "..\\maildir/shackleton-s/all_documents/587.\n",
        "..\\maildir/shackleton-s/all_documents/588."
       ]
      },
      {
       "output_type": "stream",
       "stream": "stdout",
       "text": [
        "\n",
        "..\\maildir/shackleton-s/all_documents/589.\n",
        "..\\maildir/shackleton-s/all_documents/590."
       ]
      },
      {
       "output_type": "stream",
       "stream": "stdout",
       "text": [
        "\n",
        "..\\maildir/shackleton-s/all_documents/591.\n",
        "..\\maildir/shackleton-s/all_documents/592.\n",
        "..\\maildir/shackleton-s/all_documents/593.\n",
        "..\\maildir/shackleton-s/all_documents/594.\n",
        "..\\maildir/shackleton-s/all_documents/595.\n",
        "..\\maildir/shackleton-s/all_documents/596.\n",
        "..\\maildir/shackleton-s/all_documents/597."
       ]
      },
      {
       "output_type": "stream",
       "stream": "stdout",
       "text": [
        "\n",
        "..\\maildir/shackleton-s/all_documents/598.\n",
        "..\\maildir/shackleton-s/all_documents/599.\n",
        "..\\maildir/shackleton-s/all_documents/6.\n",
        "..\\maildir/shackleton-s/all_documents/60.\n",
        "..\\maildir/shackleton-s/all_documents/600."
       ]
      },
      {
       "output_type": "stream",
       "stream": "stdout",
       "text": [
        "\n",
        "..\\maildir/shackleton-s/all_documents/601.\n",
        "..\\maildir/shackleton-s/all_documents/602.\n",
        "..\\maildir/shackleton-s/all_documents/604.\n",
        "..\\maildir/shackleton-s/all_documents/605.\n",
        "..\\maildir/shackleton-s/all_documents/606."
       ]
      },
      {
       "output_type": "stream",
       "stream": "stdout",
       "text": [
        "\n",
        "..\\maildir/shackleton-s/all_documents/607.\n",
        "..\\maildir/shackleton-s/all_documents/608.\n",
        "..\\maildir/shackleton-s/all_documents/61.\n",
        "..\\maildir/shackleton-s/all_documents/610.\n",
        "..\\maildir/shackleton-s/all_documents/611."
       ]
      },
      {
       "output_type": "stream",
       "stream": "stdout",
       "text": [
        "\n",
        "..\\maildir/shackleton-s/all_documents/612.\n",
        "..\\maildir/shackleton-s/all_documents/613.\n",
        "..\\maildir/shackleton-s/all_documents/614.\n",
        "..\\maildir/shackleton-s/all_documents/615."
       ]
      },
      {
       "output_type": "stream",
       "stream": "stdout",
       "text": [
        "\n",
        "..\\maildir/shackleton-s/all_documents/616.\n",
        "..\\maildir/shackleton-s/all_documents/618.\n",
        "..\\maildir/shackleton-s/all_documents/619.\n",
        "..\\maildir/shackleton-s/all_documents/62.\n",
        "..\\maildir/shackleton-s/all_documents/620."
       ]
      },
      {
       "output_type": "stream",
       "stream": "stdout",
       "text": [
        "\n",
        "..\\maildir/shackleton-s/all_documents/621.\n",
        "..\\maildir/shackleton-s/all_documents/622.\n",
        "..\\maildir/shackleton-s/all_documents/623."
       ]
      },
      {
       "output_type": "stream",
       "stream": "stdout",
       "text": [
        "\n",
        "..\\maildir/shackleton-s/all_documents/624.\n",
        "..\\maildir/shackleton-s/all_documents/63.\n",
        "..\\maildir/shackleton-s/all_documents/633.\n",
        "..\\maildir/shackleton-s/all_documents/634."
       ]
      },
      {
       "output_type": "stream",
       "stream": "stdout",
       "text": [
        "\n",
        "..\\maildir/shackleton-s/all_documents/635.\n",
        "..\\maildir/shackleton-s/all_documents/637."
       ]
      },
      {
       "output_type": "stream",
       "stream": "stdout",
       "text": [
        "\n",
        "..\\maildir/shackleton-s/all_documents/64.\n",
        "..\\maildir/shackleton-s/all_documents/640.\n",
        "..\\maildir/shackleton-s/all_documents/641.\n",
        "..\\maildir/shackleton-s/all_documents/642."
       ]
      },
      {
       "output_type": "stream",
       "stream": "stdout",
       "text": [
        "\n",
        "..\\maildir/shackleton-s/all_documents/643.\n",
        "..\\maildir/shackleton-s/all_documents/644.\n",
        "..\\maildir/shackleton-s/all_documents/651.\n",
        "..\\maildir/shackleton-s/all_documents/652.\n",
        "..\\maildir/shackleton-s/all_documents/653.\n",
        "..\\maildir/shackleton-s/all_documents/654."
       ]
      },
      {
       "output_type": "stream",
       "stream": "stdout",
       "text": [
        "\n",
        "..\\maildir/shackleton-s/all_documents/655.\n",
        "..\\maildir/shackleton-s/all_documents/657.\n",
        "..\\maildir/shackleton-s/all_documents/659."
       ]
      },
      {
       "output_type": "stream",
       "stream": "stdout",
       "text": [
        "\n",
        "..\\maildir/shackleton-s/all_documents/66.\n",
        "..\\maildir/shackleton-s/all_documents/662.\n",
        "..\\maildir/shackleton-s/all_documents/663.\n",
        "..\\maildir/shackleton-s/all_documents/664.\n",
        "..\\maildir/shackleton-s/all_documents/666.\n",
        "..\\maildir/shackleton-s/all_documents/668.\n",
        "..\\maildir/shackleton-s/all_documents/669."
       ]
      },
      {
       "output_type": "stream",
       "stream": "stdout",
       "text": [
        "\n",
        "..\\maildir/shackleton-s/all_documents/67.\n",
        "..\\maildir/shackleton-s/all_documents/670.\n",
        "..\\maildir/shackleton-s/all_documents/671.\n",
        "..\\maildir/shackleton-s/all_documents/673."
       ]
      },
      {
       "output_type": "stream",
       "stream": "stdout",
       "text": [
        "\n",
        "..\\maildir/shackleton-s/all_documents/674.\n",
        "..\\maildir/shackleton-s/all_documents/676.\n",
        "..\\maildir/shackleton-s/all_documents/679."
       ]
      },
      {
       "output_type": "stream",
       "stream": "stdout",
       "text": [
        "\n",
        "..\\maildir/shackleton-s/all_documents/68.\n",
        "..\\maildir/shackleton-s/all_documents/680.\n",
        "..\\maildir/shackleton-s/all_documents/681.\n",
        "..\\maildir/shackleton-s/all_documents/682."
       ]
      },
      {
       "output_type": "stream",
       "stream": "stdout",
       "text": [
        "\n",
        "..\\maildir/shackleton-s/all_documents/683.\n",
        "..\\maildir/shackleton-s/all_documents/684.\n",
        "..\\maildir/shackleton-s/all_documents/685.\n",
        "..\\maildir/shackleton-s/all_documents/687.\n",
        "..\\maildir/shackleton-s/all_documents/689.\n",
        "..\\maildir/shackleton-s/all_documents/69."
       ]
      },
      {
       "output_type": "stream",
       "stream": "stdout",
       "text": [
        "\n",
        "..\\maildir/shackleton-s/all_documents/692.\n",
        "..\\maildir/shackleton-s/all_documents/695.\n",
        "..\\maildir/shackleton-s/all_documents/696.\n",
        "..\\maildir/shackleton-s/all_documents/697.\n",
        "..\\maildir/shackleton-s/all_documents/698.\n",
        "..\\maildir/shackleton-s/all_documents/699.\n",
        "..\\maildir/shackleton-s/all_documents/7."
       ]
      },
      {
       "output_type": "stream",
       "stream": "stdout",
       "text": [
        "\n",
        "..\\maildir/shackleton-s/all_documents/70.\n",
        "..\\maildir/shackleton-s/all_documents/700.\n",
        "..\\maildir/shackleton-s/all_documents/701.\n",
        "..\\maildir/shackleton-s/all_documents/703."
       ]
      },
      {
       "output_type": "stream",
       "stream": "stdout",
       "text": [
        "\n",
        "..\\maildir/shackleton-s/all_documents/705.\n",
        "..\\maildir/shackleton-s/all_documents/71.\n",
        "..\\maildir/shackleton-s/all_documents/710.\n",
        "..\\maildir/shackleton-s/all_documents/711."
       ]
      },
      {
       "output_type": "stream",
       "stream": "stdout",
       "text": [
        "\n",
        "..\\maildir/shackleton-s/all_documents/712.\n",
        "..\\maildir/shackleton-s/all_documents/713.\n",
        "..\\maildir/shackleton-s/all_documents/714."
       ]
      },
      {
       "output_type": "stream",
       "stream": "stdout",
       "text": [
        "\n",
        "..\\maildir/shackleton-s/all_documents/715.\n",
        "..\\maildir/shackleton-s/all_documents/716.\n",
        "..\\maildir/shackleton-s/all_documents/717.\n",
        "..\\maildir/shackleton-s/all_documents/718.\n",
        "..\\maildir/shackleton-s/all_documents/719."
       ]
      },
      {
       "output_type": "stream",
       "stream": "stdout",
       "text": [
        "\n",
        "..\\maildir/shackleton-s/all_documents/72.\n",
        "..\\maildir/shackleton-s/all_documents/720.\n",
        "..\\maildir/shackleton-s/all_documents/721.\n",
        "..\\maildir/shackleton-s/all_documents/722.\n",
        "..\\maildir/shackleton-s/all_documents/723."
       ]
      },
      {
       "output_type": "stream",
       "stream": "stdout",
       "text": [
        "\n",
        "..\\maildir/shackleton-s/all_documents/724.\n",
        "..\\maildir/shackleton-s/all_documents/725.\n",
        "..\\maildir/shackleton-s/all_documents/727.\n",
        "..\\maildir/shackleton-s/all_documents/728."
       ]
      },
      {
       "output_type": "stream",
       "stream": "stdout",
       "text": [
        "\n",
        "..\\maildir/shackleton-s/all_documents/729.\n",
        "..\\maildir/shackleton-s/all_documents/73.\n",
        "..\\maildir/shackleton-s/all_documents/730.\n",
        "..\\maildir/shackleton-s/all_documents/731."
       ]
      },
      {
       "output_type": "stream",
       "stream": "stdout",
       "text": [
        "\n",
        "..\\maildir/shackleton-s/all_documents/732.\n",
        "..\\maildir/shackleton-s/all_documents/733.\n",
        "..\\maildir/shackleton-s/all_documents/734.\n",
        "..\\maildir/shackleton-s/all_documents/735.\n",
        "..\\maildir/shackleton-s/all_documents/736.\n",
        "..\\maildir/shackleton-s/all_documents/737."
       ]
      },
      {
       "output_type": "stream",
       "stream": "stdout",
       "text": [
        "\n",
        "..\\maildir/shackleton-s/all_documents/738.\n",
        "..\\maildir/shackleton-s/all_documents/739.\n",
        "..\\maildir/shackleton-s/all_documents/740.\n",
        "..\\maildir/shackleton-s/all_documents/741."
       ]
      },
      {
       "output_type": "stream",
       "stream": "stdout",
       "text": [
        "\n",
        "..\\maildir/shackleton-s/all_documents/742.\n",
        "..\\maildir/shackleton-s/all_documents/743.\n",
        "..\\maildir/shackleton-s/all_documents/744."
       ]
      },
      {
       "output_type": "stream",
       "stream": "stdout",
       "text": [
        "\n",
        "..\\maildir/shackleton-s/all_documents/745.\n",
        "..\\maildir/shackleton-s/all_documents/746.\n",
        "..\\maildir/shackleton-s/all_documents/747.\n",
        "..\\maildir/shackleton-s/all_documents/749.\n",
        "..\\maildir/shackleton-s/all_documents/75.\n",
        "..\\maildir/shackleton-s/all_documents/750.\n",
        "..\\maildir/shackleton-s/all_documents/751."
       ]
      },
      {
       "output_type": "stream",
       "stream": "stdout",
       "text": [
        "\n",
        "..\\maildir/shackleton-s/all_documents/7519.\n",
        "..\\maildir/shackleton-s/all_documents/752.\n",
        "..\\maildir/shackleton-s/all_documents/753.\n",
        "..\\maildir/shackleton-s/all_documents/754.\n",
        "..\\maildir/shackleton-s/all_documents/755."
       ]
      },
      {
       "output_type": "stream",
       "stream": "stdout",
       "text": [
        "\n",
        "..\\maildir/shackleton-s/all_documents/756.\n",
        "..\\maildir/shackleton-s/all_documents/757.\n",
        "..\\maildir/shackleton-s/all_documents/758.\n",
        "..\\maildir/shackleton-s/all_documents/759.\n",
        "..\\maildir/shackleton-s/all_documents/76.\n",
        "..\\maildir/shackleton-s/all_documents/760.\n",
        "..\\maildir/shackleton-s/all_documents/763.\n",
        "..\\maildir/shackleton-s/all_documents/765."
       ]
      },
      {
       "output_type": "stream",
       "stream": "stdout",
       "text": [
        "\n",
        "..\\maildir/shackleton-s/all_documents/766.\n",
        "..\\maildir/shackleton-s/all_documents/768.\n",
        "..\\maildir/shackleton-s/all_documents/77.\n",
        "..\\maildir/shackleton-s/all_documents/770.\n",
        "..\\maildir/shackleton-s/all_documents/771.\n",
        "..\\maildir/shackleton-s/all_documents/772.\n",
        "..\\maildir/shackleton-s/all_documents/773."
       ]
      },
      {
       "output_type": "stream",
       "stream": "stdout",
       "text": [
        "\n",
        "..\\maildir/shackleton-s/all_documents/775.\n",
        "..\\maildir/shackleton-s/all_documents/777.\n",
        "..\\maildir/shackleton-s/all_documents/779.\n",
        "..\\maildir/shackleton-s/all_documents/78.\n",
        "..\\maildir/shackleton-s/all_documents/780.\n",
        "..\\maildir/shackleton-s/all_documents/781."
       ]
      },
      {
       "output_type": "stream",
       "stream": "stdout",
       "text": [
        "\n",
        "..\\maildir/shackleton-s/all_documents/783."
       ]
      },
      {
       "output_type": "stream",
       "stream": "stdout",
       "text": [
        "\n",
        "..\\maildir/shackleton-s/all_documents/784.\n",
        "..\\maildir/shackleton-s/all_documents/786.\n",
        "..\\maildir/shackleton-s/all_documents/787.\n",
        "..\\maildir/shackleton-s/all_documents/788."
       ]
      },
      {
       "output_type": "stream",
       "stream": "stdout",
       "text": [
        "\n",
        "..\\maildir/shackleton-s/all_documents/789.\n",
        "..\\maildir/shackleton-s/all_documents/79.\n",
        "..\\maildir/shackleton-s/all_documents/791.\n",
        "..\\maildir/shackleton-s/all_documents/793.\n",
        "..\\maildir/shackleton-s/all_documents/794."
       ]
      },
      {
       "output_type": "stream",
       "stream": "stdout",
       "text": [
        "\n",
        "..\\maildir/shackleton-s/all_documents/795.\n",
        "..\\maildir/shackleton-s/all_documents/796.\n",
        "..\\maildir/shackleton-s/all_documents/797.\n",
        "..\\maildir/shackleton-s/all_documents/801.\n",
        "..\\maildir/shackleton-s/all_documents/803."
       ]
      },
      {
       "output_type": "stream",
       "stream": "stdout",
       "text": [
        "\n",
        "..\\maildir/shackleton-s/all_documents/804.\n",
        "..\\maildir/shackleton-s/all_documents/805.\n",
        "..\\maildir/shackleton-s/all_documents/806.\n",
        "..\\maildir/shackleton-s/all_documents/807."
       ]
      },
      {
       "output_type": "stream",
       "stream": "stdout",
       "text": [
        "\n",
        "..\\maildir/shackleton-s/all_documents/808.\n",
        "..\\maildir/shackleton-s/all_documents/809.\n",
        "..\\maildir/shackleton-s/all_documents/81.\n",
        "..\\maildir/shackleton-s/all_documents/810.\n",
        "..\\maildir/shackleton-s/all_documents/811."
       ]
      },
      {
       "output_type": "stream",
       "stream": "stdout",
       "text": [
        "\n",
        "..\\maildir/shackleton-s/all_documents/815.\n",
        "..\\maildir/shackleton-s/all_documents/816.\n",
        "..\\maildir/shackleton-s/all_documents/817.\n",
        "..\\maildir/shackleton-s/all_documents/818."
       ]
      },
      {
       "output_type": "stream",
       "stream": "stdout",
       "text": [
        "\n",
        "..\\maildir/shackleton-s/all_documents/819.\n",
        "..\\maildir/shackleton-s/all_documents/82.\n",
        "..\\maildir/shackleton-s/all_documents/820.\n",
        "..\\maildir/shackleton-s/all_documents/821."
       ]
      },
      {
       "output_type": "stream",
       "stream": "stdout",
       "text": [
        "\n",
        "..\\maildir/shackleton-s/all_documents/822.\n",
        "..\\maildir/shackleton-s/all_documents/824.\n",
        "..\\maildir/shackleton-s/all_documents/826.\n",
        "..\\maildir/shackleton-s/all_documents/828.\n",
        "..\\maildir/shackleton-s/all_documents/829."
       ]
      },
      {
       "output_type": "stream",
       "stream": "stdout",
       "text": [
        "\n",
        "..\\maildir/shackleton-s/all_documents/83.\n",
        "..\\maildir/shackleton-s/all_documents/830.\n",
        "..\\maildir/shackleton-s/all_documents/831.\n",
        "..\\maildir/shackleton-s/all_documents/833.\n",
        "..\\maildir/shackleton-s/all_documents/834."
       ]
      },
      {
       "output_type": "stream",
       "stream": "stdout",
       "text": [
        "\n",
        "..\\maildir/shackleton-s/all_documents/835.\n",
        "..\\maildir/shackleton-s/all_documents/838.\n",
        "..\\maildir/shackleton-s/all_documents/839.\n",
        "..\\maildir/shackleton-s/all_documents/841.\n",
        "..\\maildir/shackleton-s/all_documents/842."
       ]
      },
      {
       "output_type": "stream",
       "stream": "stdout",
       "text": [
        "\n",
        "..\\maildir/shackleton-s/all_documents/843.\n",
        "..\\maildir/shackleton-s/all_documents/844.\n",
        "..\\maildir/shackleton-s/all_documents/845.\n",
        "..\\maildir/shackleton-s/all_documents/848.\n",
        "..\\maildir/shackleton-s/all_documents/849.\n",
        "..\\maildir/shackleton-s/all_documents/850."
       ]
      },
      {
       "output_type": "stream",
       "stream": "stdout",
       "text": [
        "\n",
        "..\\maildir/shackleton-s/all_documents/8513.\n",
        "..\\maildir/shackleton-s/all_documents/8514.\n",
        "..\\maildir/shackleton-s/all_documents/8515."
       ]
      },
      {
       "output_type": "stream",
       "stream": "stdout",
       "text": [
        "\n",
        "..\\maildir/shackleton-s/all_documents/8516.\n",
        "..\\maildir/shackleton-s/all_documents/8517.\n",
        "..\\maildir/shackleton-s/all_documents/8518."
       ]
      },
      {
       "output_type": "stream",
       "stream": "stdout",
       "text": [
        "\n",
        "..\\maildir/shackleton-s/all_documents/8519.\n",
        "..\\maildir/shackleton-s/all_documents/852.\n",
        "..\\maildir/shackleton-s/all_documents/8520.\n",
        "..\\maildir/shackleton-s/all_documents/8521."
       ]
      },
      {
       "output_type": "stream",
       "stream": "stdout",
       "text": [
        "\n",
        "..\\maildir/shackleton-s/all_documents/8522.\n",
        "..\\maildir/shackleton-s/all_documents/8523."
       ]
      },
      {
       "output_type": "stream",
       "stream": "stdout",
       "text": [
        "\n",
        "..\\maildir/shackleton-s/all_documents/8524."
       ]
      },
      {
       "output_type": "stream",
       "stream": "stdout",
       "text": [
        "\n",
        "..\\maildir/shackleton-s/all_documents/8525.\n",
        "..\\maildir/shackleton-s/all_documents/8526.\n",
        "..\\maildir/shackleton-s/all_documents/8527.\n",
        "..\\maildir/shackleton-s/all_documents/8528.\n",
        "..\\maildir/shackleton-s/all_documents/8529.\n",
        "..\\maildir/shackleton-s/all_documents/8530."
       ]
      },
      {
       "output_type": "stream",
       "stream": "stdout",
       "text": [
        "\n",
        "..\\maildir/shackleton-s/all_documents/8531.\n",
        "..\\maildir/shackleton-s/all_documents/8532.\n",
        "..\\maildir/shackleton-s/all_documents/8533."
       ]
      },
      {
       "output_type": "stream",
       "stream": "stdout",
       "text": [
        "\n",
        "..\\maildir/shackleton-s/all_documents/8534.\n",
        "..\\maildir/shackleton-s/all_documents/8535.\n",
        "..\\maildir/shackleton-s/all_documents/8536.\n",
        "..\\maildir/shackleton-s/all_documents/8537.\n",
        "..\\maildir/shackleton-s/all_documents/8538.\n",
        "..\\maildir/shackleton-s/all_documents/8539."
       ]
      },
      {
       "output_type": "stream",
       "stream": "stdout",
       "text": [
        "\n",
        "..\\maildir/shackleton-s/all_documents/854.\n",
        "..\\maildir/shackleton-s/all_documents/8540.\n",
        "..\\maildir/shackleton-s/all_documents/8541.\n",
        "..\\maildir/shackleton-s/all_documents/8542.\n",
        "..\\maildir/shackleton-s/all_documents/8543.\n",
        "..\\maildir/shackleton-s/all_documents/8544.\n",
        "..\\maildir/shackleton-s/all_documents/8545.\n",
        "..\\maildir/shackleton-s/all_documents/8548.\n",
        "..\\maildir/shackleton-s/all_documents/8549.\n",
        "..\\maildir/shackleton-s/all_documents/855."
       ]
      },
      {
       "output_type": "stream",
       "stream": "stdout",
       "text": [
        "\n",
        "..\\maildir/shackleton-s/all_documents/8550.\n",
        "..\\maildir/shackleton-s/all_documents/8551.\n",
        "..\\maildir/shackleton-s/all_documents/8552."
       ]
      },
      {
       "output_type": "stream",
       "stream": "stdout",
       "text": [
        "\n",
        "..\\maildir/shackleton-s/all_documents/8554.\n",
        "..\\maildir/shackleton-s/all_documents/8556.\n",
        "..\\maildir/shackleton-s/all_documents/8557.\n",
        "..\\maildir/shackleton-s/all_documents/8558.\n",
        "..\\maildir/shackleton-s/all_documents/8559."
       ]
      },
      {
       "output_type": "stream",
       "stream": "stdout",
       "text": [
        "\n",
        "..\\maildir/shackleton-s/all_documents/856.\n",
        "..\\maildir/shackleton-s/all_documents/8560.\n",
        "..\\maildir/shackleton-s/all_documents/8561.\n",
        "..\\maildir/shackleton-s/all_documents/8562.\n",
        "..\\maildir/shackleton-s/all_documents/8563.\n",
        "..\\maildir/shackleton-s/all_documents/8564."
       ]
      },
      {
       "output_type": "stream",
       "stream": "stdout",
       "text": [
        "\n",
        "..\\maildir/shackleton-s/all_documents/8565.\n",
        "..\\maildir/shackleton-s/all_documents/8566.\n",
        "..\\maildir/shackleton-s/all_documents/8567.\n",
        "..\\maildir/shackleton-s/all_documents/8568.\n",
        "..\\maildir/shackleton-s/all_documents/8569."
       ]
      },
      {
       "output_type": "stream",
       "stream": "stdout",
       "text": [
        "\n",
        "..\\maildir/shackleton-s/all_documents/857.\n",
        "..\\maildir/shackleton-s/all_documents/8570.\n",
        "..\\maildir/shackleton-s/all_documents/8571.\n",
        "..\\maildir/shackleton-s/all_documents/8572."
       ]
      },
      {
       "output_type": "stream",
       "stream": "stdout",
       "text": [
        "\n",
        "..\\maildir/shackleton-s/all_documents/8573.\n",
        "..\\maildir/shackleton-s/all_documents/8574.\n",
        "..\\maildir/shackleton-s/all_documents/8575.\n",
        "..\\maildir/shackleton-s/all_documents/8576.\n",
        "..\\maildir/shackleton-s/all_documents/8577.\n",
        "..\\maildir/shackleton-s/all_documents/8578.\n",
        "..\\maildir/shackleton-s/all_documents/8579."
       ]
      },
      {
       "output_type": "stream",
       "stream": "stdout",
       "text": [
        "\n",
        "..\\maildir/shackleton-s/all_documents/858.\n",
        "..\\maildir/shackleton-s/all_documents/8580.\n",
        "..\\maildir/shackleton-s/all_documents/8581.\n",
        "..\\maildir/shackleton-s/all_documents/8582.\n",
        "..\\maildir/shackleton-s/all_documents/8583.\n",
        "..\\maildir/shackleton-s/all_documents/8585."
       ]
      },
      {
       "output_type": "stream",
       "stream": "stdout",
       "text": [
        "\n",
        "..\\maildir/shackleton-s/all_documents/8586.\n",
        "..\\maildir/shackleton-s/all_documents/8587.\n",
        "..\\maildir/shackleton-s/all_documents/8588."
       ]
      },
      {
       "output_type": "stream",
       "stream": "stdout",
       "text": [
        "\n",
        "..\\maildir/shackleton-s/all_documents/8589.\n",
        "..\\maildir/shackleton-s/all_documents/859.\n",
        "..\\maildir/shackleton-s/all_documents/8590.\n",
        "..\\maildir/shackleton-s/all_documents/8591."
       ]
      },
      {
       "output_type": "stream",
       "stream": "stdout",
       "text": [
        "\n",
        "..\\maildir/shackleton-s/all_documents/8593.\n",
        "..\\maildir/shackleton-s/all_documents/8594.\n",
        "..\\maildir/shackleton-s/all_documents/8595.\n",
        "..\\maildir/shackleton-s/all_documents/8596."
       ]
      },
      {
       "output_type": "stream",
       "stream": "stdout",
       "text": [
        "\n",
        "..\\maildir/shackleton-s/all_documents/8597.\n",
        "..\\maildir/shackleton-s/all_documents/8598.\n",
        "..\\maildir/shackleton-s/all_documents/8599.\n",
        "..\\maildir/shackleton-s/all_documents/860."
       ]
      },
      {
       "output_type": "stream",
       "stream": "stdout",
       "text": [
        "\n",
        "..\\maildir/shackleton-s/all_documents/8601.\n",
        "..\\maildir/shackleton-s/all_documents/8602.\n",
        "..\\maildir/shackleton-s/all_documents/8603.\n",
        "..\\maildir/shackleton-s/all_documents/8604."
       ]
      },
      {
       "output_type": "stream",
       "stream": "stdout",
       "text": [
        "\n",
        "..\\maildir/shackleton-s/all_documents/8605.\n",
        "..\\maildir/shackleton-s/all_documents/8607.\n",
        "..\\maildir/shackleton-s/all_documents/8608.\n",
        "..\\maildir/shackleton-s/all_documents/8609.\n",
        "..\\maildir/shackleton-s/all_documents/8610."
       ]
      },
      {
       "output_type": "stream",
       "stream": "stdout",
       "text": [
        "\n",
        "..\\maildir/shackleton-s/all_documents/8611.\n",
        "..\\maildir/shackleton-s/all_documents/8612.\n",
        "..\\maildir/shackleton-s/all_documents/8613.\n",
        "..\\maildir/shackleton-s/all_documents/8614.\n",
        "..\\maildir/shackleton-s/all_documents/8615."
       ]
      },
      {
       "output_type": "stream",
       "stream": "stdout",
       "text": [
        "\n",
        "..\\maildir/shackleton-s/all_documents/8616.\n",
        "..\\maildir/shackleton-s/all_documents/8617.\n",
        "..\\maildir/shackleton-s/all_documents/8618.\n",
        "..\\maildir/shackleton-s/all_documents/8619.\n",
        "..\\maildir/shackleton-s/all_documents/862.\n",
        "..\\maildir/shackleton-s/all_documents/8620."
       ]
      },
      {
       "output_type": "stream",
       "stream": "stdout",
       "text": [
        "\n",
        "..\\maildir/shackleton-s/all_documents/8621.\n",
        "..\\maildir/shackleton-s/all_documents/8622.\n",
        "..\\maildir/shackleton-s/all_documents/8623.\n",
        "..\\maildir/shackleton-s/all_documents/8624.\n",
        "..\\maildir/shackleton-s/all_documents/8625."
       ]
      },
      {
       "output_type": "stream",
       "stream": "stdout",
       "text": [
        "\n",
        "..\\maildir/shackleton-s/all_documents/8626.\n",
        "..\\maildir/shackleton-s/all_documents/8627.\n",
        "..\\maildir/shackleton-s/all_documents/8629.\n",
        "..\\maildir/shackleton-s/all_documents/863."
       ]
      },
      {
       "output_type": "stream",
       "stream": "stdout",
       "text": [
        "\n",
        "..\\maildir/shackleton-s/all_documents/8630.\n",
        "..\\maildir/shackleton-s/all_documents/8631.\n",
        "..\\maildir/shackleton-s/all_documents/8632.\n",
        "..\\maildir/shackleton-s/all_documents/8633.\n",
        "..\\maildir/shackleton-s/all_documents/8634."
       ]
      },
      {
       "output_type": "stream",
       "stream": "stdout",
       "text": [
        "\n",
        "..\\maildir/shackleton-s/all_documents/8635.\n",
        "..\\maildir/shackleton-s/all_documents/8636.\n",
        "..\\maildir/shackleton-s/all_documents/8637.\n",
        "..\\maildir/shackleton-s/all_documents/8638.\n",
        "..\\maildir/shackleton-s/all_documents/8639."
       ]
      },
      {
       "output_type": "stream",
       "stream": "stdout",
       "text": [
        "\n",
        "..\\maildir/shackleton-s/all_documents/864.\n",
        "..\\maildir/shackleton-s/all_documents/8640.\n",
        "..\\maildir/shackleton-s/all_documents/8642.\n",
        "..\\maildir/shackleton-s/all_documents/8644."
       ]
      },
      {
       "output_type": "stream",
       "stream": "stdout",
       "text": [
        "\n",
        "..\\maildir/shackleton-s/all_documents/8645.\n",
        "..\\maildir/shackleton-s/all_documents/8646.\n",
        "..\\maildir/shackleton-s/all_documents/8647.\n",
        "..\\maildir/shackleton-s/all_documents/8648.\n",
        "..\\maildir/shackleton-s/all_documents/8649."
       ]
      },
      {
       "output_type": "stream",
       "stream": "stdout",
       "text": [
        "\n",
        "..\\maildir/shackleton-s/all_documents/865.\n",
        "..\\maildir/shackleton-s/all_documents/8650.\n",
        "..\\maildir/shackleton-s/all_documents/8651.\n",
        "..\\maildir/shackleton-s/all_documents/8652."
       ]
      },
      {
       "output_type": "stream",
       "stream": "stdout",
       "text": [
        "\n",
        "..\\maildir/shackleton-s/all_documents/8653.\n",
        "..\\maildir/shackleton-s/all_documents/8654.\n",
        "..\\maildir/shackleton-s/all_documents/8655.\n",
        "..\\maildir/shackleton-s/all_documents/8656."
       ]
      },
      {
       "output_type": "stream",
       "stream": "stdout",
       "text": [
        "\n",
        "..\\maildir/shackleton-s/all_documents/8658.\n",
        "..\\maildir/shackleton-s/all_documents/8659.\n",
        "..\\maildir/shackleton-s/all_documents/8660.\n",
        "..\\maildir/shackleton-s/all_documents/8661.\n",
        "..\\maildir/shackleton-s/all_documents/8662.\n",
        "..\\maildir/shackleton-s/all_documents/8663."
       ]
      },
      {
       "output_type": "stream",
       "stream": "stdout",
       "text": [
        "\n",
        "..\\maildir/shackleton-s/all_documents/8665.\n",
        "..\\maildir/shackleton-s/all_documents/8666.\n",
        "..\\maildir/shackleton-s/all_documents/8668.\n",
        "..\\maildir/shackleton-s/all_documents/8669."
       ]
      },
      {
       "output_type": "stream",
       "stream": "stdout",
       "text": [
        "\n",
        "..\\maildir/shackleton-s/all_documents/867.\n",
        "..\\maildir/shackleton-s/all_documents/8670.\n",
        "..\\maildir/shackleton-s/all_documents/8671."
       ]
      },
      {
       "output_type": "stream",
       "stream": "stdout",
       "text": [
        "\n",
        "..\\maildir/shackleton-s/all_documents/8672.\n",
        "..\\maildir/shackleton-s/all_documents/8673.\n",
        "..\\maildir/shackleton-s/all_documents/8674."
       ]
      },
      {
       "output_type": "stream",
       "stream": "stdout",
       "text": [
        "\n",
        "..\\maildir/shackleton-s/all_documents/8675.\n",
        "..\\maildir/shackleton-s/all_documents/8676.\n",
        "..\\maildir/shackleton-s/all_documents/8677.\n",
        "..\\maildir/shackleton-s/all_documents/8678.\n",
        "..\\maildir/shackleton-s/all_documents/8679."
       ]
      },
      {
       "output_type": "stream",
       "stream": "stdout",
       "text": [
        "\n",
        "..\\maildir/shackleton-s/all_documents/868.\n",
        "..\\maildir/shackleton-s/all_documents/8680.\n",
        "..\\maildir/shackleton-s/all_documents/8681."
       ]
      },
      {
       "output_type": "stream",
       "stream": "stdout",
       "text": [
        "\n",
        "..\\maildir/shackleton-s/all_documents/8682.\n",
        "..\\maildir/shackleton-s/all_documents/8683.\n",
        "..\\maildir/shackleton-s/all_documents/8684.\n",
        "..\\maildir/shackleton-s/all_documents/8685."
       ]
      },
      {
       "output_type": "stream",
       "stream": "stdout",
       "text": [
        "\n",
        "..\\maildir/shackleton-s/all_documents/8686.\n",
        "..\\maildir/shackleton-s/all_documents/8687.\n",
        "..\\maildir/shackleton-s/all_documents/8688.\n",
        "..\\maildir/shackleton-s/all_documents/8689.\n",
        "..\\maildir/shackleton-s/all_documents/869."
       ]
      },
      {
       "output_type": "stream",
       "stream": "stdout",
       "text": [
        "\n",
        "..\\maildir/shackleton-s/all_documents/8690.\n",
        "..\\maildir/shackleton-s/all_documents/8691.\n",
        "..\\maildir/shackleton-s/all_documents/8692.\n",
        "..\\maildir/shackleton-s/all_documents/8693.\n",
        "..\\maildir/shackleton-s/all_documents/8694.\n",
        "..\\maildir/shackleton-s/all_documents/8695."
       ]
      },
      {
       "output_type": "stream",
       "stream": "stdout",
       "text": [
        "\n",
        "..\\maildir/shackleton-s/all_documents/8696.\n",
        "..\\maildir/shackleton-s/all_documents/8697.\n",
        "..\\maildir/shackleton-s/all_documents/8698.\n",
        "..\\maildir/shackleton-s/all_documents/8699."
       ]
      },
      {
       "output_type": "stream",
       "stream": "stdout",
       "text": [
        "\n",
        "..\\maildir/shackleton-s/all_documents/87.\n",
        "..\\maildir/shackleton-s/all_documents/8700.\n",
        "..\\maildir/shackleton-s/all_documents/8701.\n",
        "..\\maildir/shackleton-s/all_documents/8702.\n",
        "..\\maildir/shackleton-s/all_documents/8703.\n",
        "..\\maildir/shackleton-s/all_documents/8704."
       ]
      },
      {
       "output_type": "stream",
       "stream": "stdout",
       "text": [
        "\n",
        "..\\maildir/shackleton-s/all_documents/8705.\n",
        "..\\maildir/shackleton-s/all_documents/8706.\n",
        "..\\maildir/shackleton-s/all_documents/8707.\n",
        "..\\maildir/shackleton-s/all_documents/8708.\n",
        "..\\maildir/shackleton-s/all_documents/8709."
       ]
      },
      {
       "output_type": "stream",
       "stream": "stdout",
       "text": [
        "\n",
        "..\\maildir/shackleton-s/all_documents/871.\n",
        "..\\maildir/shackleton-s/all_documents/8710.\n",
        "..\\maildir/shackleton-s/all_documents/8711."
       ]
      },
      {
       "output_type": "stream",
       "stream": "stdout",
       "text": [
        "\n",
        "..\\maildir/shackleton-s/all_documents/8712.\n",
        "..\\maildir/shackleton-s/all_documents/8713.\n",
        "..\\maildir/shackleton-s/all_documents/8714.\n",
        "..\\maildir/shackleton-s/all_documents/8715."
       ]
      },
      {
       "output_type": "stream",
       "stream": "stdout",
       "text": [
        "\n",
        "..\\maildir/shackleton-s/all_documents/8716.\n",
        "..\\maildir/shackleton-s/all_documents/8717.\n",
        "..\\maildir/shackleton-s/all_documents/8718.\n",
        "..\\maildir/shackleton-s/all_documents/8719."
       ]
      },
      {
       "output_type": "stream",
       "stream": "stdout",
       "text": [
        "\n",
        "..\\maildir/shackleton-s/all_documents/8720.\n",
        "..\\maildir/shackleton-s/all_documents/8721."
       ]
      },
      {
       "output_type": "stream",
       "stream": "stdout",
       "text": [
        "\n",
        "..\\maildir/shackleton-s/all_documents/8722.\n",
        "..\\maildir/shackleton-s/all_documents/8726.\n",
        "..\\maildir/shackleton-s/all_documents/8727.\n",
        "..\\maildir/shackleton-s/all_documents/8728.\n",
        "..\\maildir/shackleton-s/all_documents/8731."
       ]
      },
      {
       "output_type": "stream",
       "stream": "stdout",
       "text": [
        "\n",
        "..\\maildir/shackleton-s/all_documents/8732.\n",
        "..\\maildir/shackleton-s/all_documents/8733.\n",
        "..\\maildir/shackleton-s/all_documents/8734.\n",
        "..\\maildir/shackleton-s/all_documents/8735."
       ]
      },
      {
       "output_type": "stream",
       "stream": "stdout",
       "text": [
        "\n",
        "..\\maildir/shackleton-s/all_documents/8736.\n",
        "..\\maildir/shackleton-s/all_documents/8737.\n",
        "..\\maildir/shackleton-s/all_documents/8739."
       ]
      },
      {
       "output_type": "stream",
       "stream": "stdout",
       "text": [
        "\n",
        "..\\maildir/shackleton-s/all_documents/8740.\n",
        "..\\maildir/shackleton-s/all_documents/8741."
       ]
      },
      {
       "output_type": "stream",
       "stream": "stdout",
       "text": [
        "\n",
        "..\\maildir/shackleton-s/all_documents/8742.\n",
        "..\\maildir/shackleton-s/all_documents/8743.\n",
        "..\\maildir/shackleton-s/all_documents/8749.\n",
        "..\\maildir/shackleton-s/all_documents/875.\n",
        "..\\maildir/shackleton-s/all_documents/8752."
       ]
      },
      {
       "output_type": "stream",
       "stream": "stdout",
       "text": [
        "\n",
        "..\\maildir/shackleton-s/all_documents/8753.\n",
        "..\\maildir/shackleton-s/all_documents/8754.\n",
        "..\\maildir/shackleton-s/all_documents/8755.\n",
        "..\\maildir/shackleton-s/all_documents/8758."
       ]
      },
      {
       "output_type": "stream",
       "stream": "stdout",
       "text": [
        "\n",
        "..\\maildir/shackleton-s/all_documents/876.\n",
        "..\\maildir/shackleton-s/all_documents/8760.\n",
        "..\\maildir/shackleton-s/all_documents/8761.\n",
        "..\\maildir/shackleton-s/all_documents/8762.\n",
        "..\\maildir/shackleton-s/all_documents/8764."
       ]
      },
      {
       "output_type": "stream",
       "stream": "stdout",
       "text": [
        "\n",
        "..\\maildir/shackleton-s/all_documents/8765.\n",
        "..\\maildir/shackleton-s/all_documents/8766.\n",
        "..\\maildir/shackleton-s/all_documents/8768.\n",
        "..\\maildir/shackleton-s/all_documents/8769.\n",
        "..\\maildir/shackleton-s/all_documents/877.\n",
        "..\\maildir/shackleton-s/all_documents/8770.\n",
        "..\\maildir/shackleton-s/all_documents/8771."
       ]
      },
      {
       "output_type": "stream",
       "stream": "stdout",
       "text": [
        "\n",
        "..\\maildir/shackleton-s/all_documents/8772.\n",
        "..\\maildir/shackleton-s/all_documents/8773.\n",
        "..\\maildir/shackleton-s/all_documents/8774.\n",
        "..\\maildir/shackleton-s/all_documents/8775.\n",
        "..\\maildir/shackleton-s/all_documents/8776."
       ]
      },
      {
       "output_type": "stream",
       "stream": "stdout",
       "text": [
        "\n",
        "..\\maildir/shackleton-s/all_documents/8777.\n",
        "..\\maildir/shackleton-s/all_documents/8778."
       ]
      },
      {
       "output_type": "stream",
       "stream": "stdout",
       "text": [
        "\n",
        "..\\maildir/shackleton-s/all_documents/8779.\n",
        "..\\maildir/shackleton-s/all_documents/878.\n",
        "..\\maildir/shackleton-s/all_documents/8780.\n",
        "..\\maildir/shackleton-s/all_documents/8781.\n",
        "..\\maildir/shackleton-s/all_documents/8782."
       ]
      },
      {
       "output_type": "stream",
       "stream": "stdout",
       "text": [
        "\n",
        "..\\maildir/shackleton-s/all_documents/8783.\n",
        "..\\maildir/shackleton-s/all_documents/8784.\n",
        "..\\maildir/shackleton-s/all_documents/8785.\n",
        "..\\maildir/shackleton-s/all_documents/8786.\n",
        "..\\maildir/shackleton-s/all_documents/8787."
       ]
      },
      {
       "output_type": "stream",
       "stream": "stdout",
       "text": [
        "\n",
        "..\\maildir/shackleton-s/all_documents/8788.\n",
        "..\\maildir/shackleton-s/all_documents/8789.\n",
        "..\\maildir/shackleton-s/all_documents/8790.\n",
        "..\\maildir/shackleton-s/all_documents/8791.\n",
        "..\\maildir/shackleton-s/all_documents/8792.\n",
        "..\\maildir/shackleton-s/all_documents/8794."
       ]
      },
      {
       "output_type": "stream",
       "stream": "stdout",
       "text": [
        "\n",
        "..\\maildir/shackleton-s/all_documents/8795.\n",
        "..\\maildir/shackleton-s/all_documents/8796.\n",
        "..\\maildir/shackleton-s/all_documents/8797.\n",
        "..\\maildir/shackleton-s/all_documents/8798.\n",
        "..\\maildir/shackleton-s/all_documents/8799."
       ]
      },
      {
       "output_type": "stream",
       "stream": "stdout",
       "text": [
        "\n",
        "..\\maildir/shackleton-s/all_documents/88.\n",
        "..\\maildir/shackleton-s/all_documents/880.\n",
        "..\\maildir/shackleton-s/all_documents/8800.\n",
        "..\\maildir/shackleton-s/all_documents/8801."
       ]
      },
      {
       "output_type": "stream",
       "stream": "stdout",
       "text": [
        "\n",
        "..\\maildir/shackleton-s/all_documents/8802.\n",
        "..\\maildir/shackleton-s/all_documents/8803.\n",
        "..\\maildir/shackleton-s/all_documents/8804.\n",
        "..\\maildir/shackleton-s/all_documents/8805.\n",
        "..\\maildir/shackleton-s/all_documents/8806."
       ]
      },
      {
       "output_type": "stream",
       "stream": "stdout",
       "text": [
        "\n",
        "..\\maildir/shackleton-s/all_documents/8807.\n",
        "..\\maildir/shackleton-s/all_documents/8808."
       ]
      },
      {
       "output_type": "stream",
       "stream": "stdout",
       "text": [
        "\n",
        "..\\maildir/shackleton-s/all_documents/8809.\n",
        "..\\maildir/shackleton-s/all_documents/8810.\n",
        "..\\maildir/shackleton-s/all_documents/8811.\n",
        "..\\maildir/shackleton-s/all_documents/8812.\n",
        "..\\maildir/shackleton-s/all_documents/8813."
       ]
      },
      {
       "output_type": "stream",
       "stream": "stdout",
       "text": [
        "\n",
        "..\\maildir/shackleton-s/all_documents/8814.\n",
        "..\\maildir/shackleton-s/all_documents/8815.\n",
        "..\\maildir/shackleton-s/all_documents/8816.\n",
        "..\\maildir/shackleton-s/all_documents/8817."
       ]
      },
      {
       "output_type": "stream",
       "stream": "stdout",
       "text": [
        "\n",
        "..\\maildir/shackleton-s/all_documents/8818.\n",
        "..\\maildir/shackleton-s/all_documents/882.\n",
        "..\\maildir/shackleton-s/all_documents/8820.\n",
        "..\\maildir/shackleton-s/all_documents/8821.\n",
        "..\\maildir/shackleton-s/all_documents/8822.\n",
        "..\\maildir/shackleton-s/all_documents/8823."
       ]
      },
      {
       "output_type": "stream",
       "stream": "stdout",
       "text": [
        "\n",
        "..\\maildir/shackleton-s/all_documents/8824.\n",
        "..\\maildir/shackleton-s/all_documents/8825.\n",
        "..\\maildir/shackleton-s/all_documents/8826."
       ]
      },
      {
       "output_type": "stream",
       "stream": "stdout",
       "text": [
        "\n",
        "..\\maildir/shackleton-s/all_documents/8827.\n",
        "..\\maildir/shackleton-s/all_documents/8828.\n",
        "..\\maildir/shackleton-s/all_documents/883."
       ]
      },
      {
       "output_type": "stream",
       "stream": "stdout",
       "text": [
        "\n",
        "..\\maildir/shackleton-s/all_documents/8830.\n",
        "..\\maildir/shackleton-s/all_documents/8832.\n",
        "..\\maildir/shackleton-s/all_documents/8833.\n",
        "..\\maildir/shackleton-s/all_documents/8834.\n",
        "..\\maildir/shackleton-s/all_documents/8835."
       ]
      },
      {
       "output_type": "stream",
       "stream": "stdout",
       "text": [
        "\n",
        "..\\maildir/shackleton-s/all_documents/8836.\n",
        "..\\maildir/shackleton-s/all_documents/8837."
       ]
      },
      {
       "output_type": "stream",
       "stream": "stdout",
       "text": [
        "\n",
        "..\\maildir/shackleton-s/all_documents/8838.\n",
        "..\\maildir/shackleton-s/all_documents/8839.\n",
        "..\\maildir/shackleton-s/all_documents/884.\n",
        "..\\maildir/shackleton-s/all_documents/8840."
       ]
      },
      {
       "output_type": "stream",
       "stream": "stdout",
       "text": [
        "\n",
        "..\\maildir/shackleton-s/all_documents/8841.\n",
        "..\\maildir/shackleton-s/all_documents/8842.\n",
        "..\\maildir/shackleton-s/all_documents/8845.\n",
        "..\\maildir/shackleton-s/all_documents/8846."
       ]
      },
      {
       "output_type": "stream",
       "stream": "stdout",
       "text": [
        "\n",
        "..\\maildir/shackleton-s/all_documents/8847.\n",
        "..\\maildir/shackleton-s/all_documents/8848.\n",
        "..\\maildir/shackleton-s/all_documents/8849.\n",
        "..\\maildir/shackleton-s/all_documents/885.\n",
        "..\\maildir/shackleton-s/all_documents/8850.\n",
        "..\\maildir/shackleton-s/all_documents/8851."
       ]
      },
      {
       "output_type": "stream",
       "stream": "stdout",
       "text": [
        "\n",
        "..\\maildir/shackleton-s/all_documents/8853.\n",
        "..\\maildir/shackleton-s/all_documents/8854."
       ]
      },
      {
       "output_type": "stream",
       "stream": "stdout",
       "text": [
        "\n",
        "..\\maildir/shackleton-s/all_documents/8855.\n",
        "..\\maildir/shackleton-s/all_documents/8856.\n",
        "..\\maildir/shackleton-s/all_documents/8859."
       ]
      },
      {
       "output_type": "stream",
       "stream": "stdout",
       "text": [
        "\n",
        "..\\maildir/shackleton-s/all_documents/8860.\n",
        "..\\maildir/shackleton-s/all_documents/8866.\n",
        "..\\maildir/shackleton-s/all_documents/8867.\n",
        "..\\maildir/shackleton-s/all_documents/8868.\n",
        "..\\maildir/shackleton-s/all_documents/887."
       ]
      },
      {
       "output_type": "stream",
       "stream": "stdout",
       "text": [
        "\n",
        "..\\maildir/shackleton-s/all_documents/8870.\n",
        "..\\maildir/shackleton-s/all_documents/8883.\n",
        "..\\maildir/shackleton-s/all_documents/8886.\n",
        "..\\maildir/shackleton-s/all_documents/8887."
       ]
      },
      {
       "output_type": "stream",
       "stream": "stdout",
       "text": [
        "\n",
        "..\\maildir/shackleton-s/all_documents/8890.\n",
        "..\\maildir/shackleton-s/all_documents/8891.\n",
        "..\\maildir/shackleton-s/all_documents/8892.\n",
        "..\\maildir/shackleton-s/all_documents/8893."
       ]
      },
      {
       "output_type": "stream",
       "stream": "stdout",
       "text": [
        "\n",
        "..\\maildir/shackleton-s/all_documents/8896.\n",
        "..\\maildir/shackleton-s/all_documents/8897.\n",
        "..\\maildir/shackleton-s/all_documents/8898.\n",
        "..\\maildir/shackleton-s/all_documents/8899."
       ]
      },
      {
       "output_type": "stream",
       "stream": "stdout",
       "text": [
        "\n",
        "..\\maildir/shackleton-s/all_documents/89.\n",
        "..\\maildir/shackleton-s/all_documents/890.\n",
        "..\\maildir/shackleton-s/all_documents/8900.\n",
        "..\\maildir/shackleton-s/all_documents/8901.\n",
        "..\\maildir/shackleton-s/all_documents/8902.\n",
        "..\\maildir/shackleton-s/all_documents/8904.\n",
        "..\\maildir/shackleton-s/all_documents/8906.\n",
        "..\\maildir/shackleton-s/all_documents/8909."
       ]
      },
      {
       "output_type": "stream",
       "stream": "stdout",
       "text": [
        "\n",
        "..\\maildir/shackleton-s/all_documents/8910.\n",
        "..\\maildir/shackleton-s/all_documents/8912.\n",
        "..\\maildir/shackleton-s/all_documents/8914.\n",
        "..\\maildir/shackleton-s/all_documents/8916.\n",
        "..\\maildir/shackleton-s/all_documents/8917.\n",
        "..\\maildir/shackleton-s/all_documents/892."
       ]
      },
      {
       "output_type": "stream",
       "stream": "stdout",
       "text": [
        "\n",
        "..\\maildir/shackleton-s/all_documents/8921.\n",
        "..\\maildir/shackleton-s/all_documents/8923.\n",
        "..\\maildir/shackleton-s/all_documents/8924.\n",
        "..\\maildir/shackleton-s/all_documents/8925.\n",
        "..\\maildir/shackleton-s/all_documents/8926."
       ]
      },
      {
       "output_type": "stream",
       "stream": "stdout",
       "text": [
        "\n",
        "..\\maildir/shackleton-s/all_documents/8927.\n",
        "..\\maildir/shackleton-s/all_documents/8929.\n",
        "..\\maildir/shackleton-s/all_documents/893.\n",
        "..\\maildir/shackleton-s/all_documents/8937."
       ]
      },
      {
       "output_type": "stream",
       "stream": "stdout",
       "text": [
        "\n",
        "..\\maildir/shackleton-s/all_documents/894.\n",
        "..\\maildir/shackleton-s/all_documents/8940.\n",
        "..\\maildir/shackleton-s/all_documents/8942."
       ]
      },
      {
       "output_type": "stream",
       "stream": "stdout",
       "text": [
        "\n",
        "..\\maildir/shackleton-s/all_documents/8943.\n",
        "..\\maildir/shackleton-s/all_documents/8944.\n",
        "..\\maildir/shackleton-s/all_documents/8946."
       ]
      },
      {
       "output_type": "stream",
       "stream": "stdout",
       "text": [
        "\n",
        "..\\maildir/shackleton-s/all_documents/8947.\n",
        "..\\maildir/shackleton-s/all_documents/895.\n",
        "..\\maildir/shackleton-s/all_documents/8953.\n",
        "..\\maildir/shackleton-s/all_documents/8954.\n"
       ]
      },
      {
       "output_type": "stream",
       "stream": "stdout",
       "text": [
        "..\\maildir/shackleton-s/all_documents/8956.\n",
        "..\\maildir/shackleton-s/all_documents/896.\n",
        "..\\maildir/shackleton-s/all_documents/897.\n",
        "..\\maildir/shackleton-s/all_documents/8971.\n",
        "..\\maildir/shackleton-s/all_documents/8979."
       ]
      },
      {
       "output_type": "stream",
       "stream": "stdout",
       "text": [
        "\n",
        "..\\maildir/shackleton-s/all_documents/898.\n",
        "..\\maildir/shackleton-s/all_documents/8980.\n",
        "..\\maildir/shackleton-s/all_documents/8982.\n",
        "..\\maildir/shackleton-s/all_documents/8983."
       ]
      },
      {
       "output_type": "stream",
       "stream": "stdout",
       "text": [
        "\n",
        "..\\maildir/shackleton-s/all_documents/8984.\n",
        "..\\maildir/shackleton-s/all_documents/8986.\n",
        "..\\maildir/shackleton-s/all_documents/8987."
       ]
      },
      {
       "output_type": "stream",
       "stream": "stdout",
       "text": [
        "\n",
        "..\\maildir/shackleton-s/all_documents/899.\n",
        "..\\maildir/shackleton-s/all_documents/8991.\n",
        "..\\maildir/shackleton-s/all_documents/8994.\n",
        "..\\maildir/shackleton-s/all_documents/8995.\n",
        "..\\maildir/shackleton-s/all_documents/8999.\n",
        "..\\maildir/shackleton-s/all_documents/9.\n",
        "..\\maildir/shackleton-s/all_documents/900."
       ]
      },
      {
       "output_type": "stream",
       "stream": "stdout",
       "text": [
        "\n",
        "..\\maildir/shackleton-s/all_documents/9000.\n",
        "..\\maildir/shackleton-s/all_documents/9002.\n",
        "..\\maildir/shackleton-s/all_documents/901.\n",
        "..\\maildir/shackleton-s/all_documents/9012.\n",
        "..\\maildir/shackleton-s/all_documents/9013.\n",
        "..\\maildir/shackleton-s/all_documents/9014."
       ]
      },
      {
       "output_type": "stream",
       "stream": "stdout",
       "text": [
        "\n",
        "..\\maildir/shackleton-s/all_documents/9019.\n",
        "..\\maildir/shackleton-s/all_documents/902.\n",
        "..\\maildir/shackleton-s/all_documents/9020.\n",
        "..\\maildir/shackleton-s/all_documents/9021.\n",
        "..\\maildir/shackleton-s/all_documents/9022.\n",
        "..\\maildir/shackleton-s/all_documents/9023.\n",
        "..\\maildir/shackleton-s/all_documents/9026."
       ]
      },
      {
       "output_type": "stream",
       "stream": "stdout",
       "text": [
        "\n",
        "..\\maildir/shackleton-s/all_documents/9028.\n",
        "..\\maildir/shackleton-s/all_documents/9037.\n",
        "..\\maildir/shackleton-s/all_documents/9040.\n",
        "..\\maildir/shackleton-s/all_documents/9042.\n",
        "..\\maildir/shackleton-s/all_documents/9043."
       ]
      },
      {
       "output_type": "stream",
       "stream": "stdout",
       "text": [
        "\n",
        "..\\maildir/shackleton-s/all_documents/9044.\n",
        "..\\maildir/shackleton-s/all_documents/9045.\n",
        "..\\maildir/shackleton-s/all_documents/9046.\n",
        "..\\maildir/shackleton-s/all_documents/9047."
       ]
      },
      {
       "output_type": "stream",
       "stream": "stdout",
       "text": [
        "\n",
        "..\\maildir/shackleton-s/all_documents/9049.\n",
        "..\\maildir/shackleton-s/all_documents/905.\n",
        "..\\maildir/shackleton-s/all_documents/9051.\n",
        "..\\maildir/shackleton-s/all_documents/9054.\n",
        "..\\maildir/shackleton-s/all_documents/9055.\n",
        "..\\maildir/shackleton-s/all_documents/9056."
       ]
      },
      {
       "output_type": "stream",
       "stream": "stdout",
       "text": [
        "\n",
        "..\\maildir/shackleton-s/all_documents/9058.\n",
        "..\\maildir/shackleton-s/all_documents/9062.\n",
        "..\\maildir/shackleton-s/all_documents/907."
       ]
      },
      {
       "output_type": "stream",
       "stream": "stdout",
       "text": [
        "\n",
        "..\\maildir/shackleton-s/all_documents/9073.\n",
        "..\\maildir/shackleton-s/all_documents/9074.\n",
        "..\\maildir/shackleton-s/all_documents/9075."
       ]
      },
      {
       "output_type": "stream",
       "stream": "stdout",
       "text": [
        "\n",
        "..\\maildir/shackleton-s/all_documents/9077.\n",
        "..\\maildir/shackleton-s/all_documents/9079."
       ]
      },
      {
       "output_type": "stream",
       "stream": "stdout",
       "text": [
        "\n",
        "..\\maildir/shackleton-s/all_documents/908.\n",
        "..\\maildir/shackleton-s/all_documents/9088.\n",
        "..\\maildir/shackleton-s/all_documents/9091."
       ]
      },
      {
       "output_type": "stream",
       "stream": "stdout",
       "text": [
        "\n",
        "..\\maildir/shackleton-s/all_documents/9092.\n",
        "..\\maildir/shackleton-s/all_documents/9093.\n",
        "..\\maildir/shackleton-s/all_documents/9094.\n",
        "..\\maildir/shackleton-s/all_documents/910.\n",
        "..\\maildir/shackleton-s/all_documents/9101."
       ]
      },
      {
       "output_type": "stream",
       "stream": "stdout",
       "text": [
        "\n",
        "..\\maildir/shackleton-s/all_documents/9103.\n",
        "..\\maildir/shackleton-s/all_documents/9104.\n",
        "..\\maildir/shackleton-s/all_documents/9105.\n",
        "..\\maildir/shackleton-s/all_documents/9107.\n",
        "..\\maildir/shackleton-s/all_documents/9108."
       ]
      },
      {
       "output_type": "stream",
       "stream": "stdout",
       "text": [
        "\n",
        "..\\maildir/shackleton-s/all_documents/9109.\n",
        "..\\maildir/shackleton-s/all_documents/911.\n",
        "..\\maildir/shackleton-s/all_documents/9110.\n",
        "..\\maildir/shackleton-s/all_documents/9115.\n",
        "..\\maildir/shackleton-s/all_documents/9118."
       ]
      },
      {
       "output_type": "stream",
       "stream": "stdout",
       "text": [
        "\n",
        "..\\maildir/shackleton-s/all_documents/912.\n",
        "..\\maildir/shackleton-s/all_documents/9129.\n",
        "..\\maildir/shackleton-s/all_documents/913.\n",
        "..\\maildir/shackleton-s/all_documents/9130.\n",
        "..\\maildir/shackleton-s/all_documents/9131."
       ]
      },
      {
       "output_type": "stream",
       "stream": "stdout",
       "text": [
        "\n",
        "..\\maildir/shackleton-s/all_documents/9132.\n",
        "..\\maildir/shackleton-s/all_documents/9133.\n",
        "..\\maildir/shackleton-s/all_documents/9136.\n",
        "..\\maildir/shackleton-s/all_documents/9138.\n",
        "..\\maildir/shackleton-s/all_documents/9139.\n",
        "..\\maildir/shackleton-s/all_documents/914."
       ]
      },
      {
       "output_type": "stream",
       "stream": "stdout",
       "text": [
        "\n",
        "..\\maildir/shackleton-s/all_documents/9142.\n",
        "..\\maildir/shackleton-s/all_documents/9144.\n",
        "..\\maildir/shackleton-s/all_documents/9145.\n",
        "..\\maildir/shackleton-s/all_documents/9146."
       ]
      },
      {
       "output_type": "stream",
       "stream": "stdout",
       "text": [
        "\n",
        "..\\maildir/shackleton-s/all_documents/9147.\n",
        "..\\maildir/shackleton-s/all_documents/9148."
       ]
      },
      {
       "output_type": "stream",
       "stream": "stdout",
       "text": [
        "\n",
        "..\\maildir/shackleton-s/all_documents/9149."
       ]
      },
      {
       "output_type": "stream",
       "stream": "stdout",
       "text": [
        "\n",
        "..\\maildir/shackleton-s/all_documents/915.\n",
        "..\\maildir/shackleton-s/all_documents/9152.\n",
        "..\\maildir/shackleton-s/all_documents/9153."
       ]
      },
      {
       "output_type": "stream",
       "stream": "stdout",
       "text": [
        "\n",
        "..\\maildir/shackleton-s/all_documents/9154.\n",
        "..\\maildir/shackleton-s/all_documents/9157.\n",
        "..\\maildir/shackleton-s/all_documents/9159.\n",
        "..\\maildir/shackleton-s/all_documents/9162.\n",
        "..\\maildir/shackleton-s/all_documents/9163."
       ]
      },
      {
       "output_type": "stream",
       "stream": "stdout",
       "text": [
        "\n",
        "..\\maildir/shackleton-s/all_documents/9164.\n",
        "..\\maildir/shackleton-s/all_documents/9165.\n",
        "..\\maildir/shackleton-s/all_documents/9166.\n",
        "..\\maildir/shackleton-s/all_documents/9168.\n",
        "..\\maildir/shackleton-s/all_documents/917."
       ]
      },
      {
       "output_type": "stream",
       "stream": "stdout",
       "text": [
        "\n",
        "..\\maildir/shackleton-s/all_documents/9170.\n",
        "..\\maildir/shackleton-s/all_documents/9174.\n",
        "..\\maildir/shackleton-s/all_documents/9177.\n",
        "..\\maildir/shackleton-s/all_documents/9178."
       ]
      },
      {
       "output_type": "stream",
       "stream": "stdout",
       "text": [
        "\n",
        "..\\maildir/shackleton-s/all_documents/9180.\n",
        "..\\maildir/shackleton-s/all_documents/9182.\n",
        "..\\maildir/shackleton-s/all_documents/9184.\n",
        "..\\maildir/shackleton-s/all_documents/9186."
       ]
      },
      {
       "output_type": "stream",
       "stream": "stdout",
       "text": [
        "\n",
        "..\\maildir/shackleton-s/all_documents/9188.\n",
        "..\\maildir/shackleton-s/all_documents/919.\n",
        "..\\maildir/shackleton-s/all_documents/9190.\n",
        "..\\maildir/shackleton-s/all_documents/9195."
       ]
      },
      {
       "output_type": "stream",
       "stream": "stdout",
       "text": [
        "\n",
        "..\\maildir/shackleton-s/all_documents/9197.\n",
        "..\\maildir/shackleton-s/all_documents/9199.\n",
        "..\\maildir/shackleton-s/all_documents/9200.\n",
        "..\\maildir/shackleton-s/all_documents/9207.\n",
        "..\\maildir/shackleton-s/all_documents/9208."
       ]
      },
      {
       "output_type": "stream",
       "stream": "stdout",
       "text": [
        "\n",
        "..\\maildir/shackleton-s/all_documents/921.\n",
        "..\\maildir/shackleton-s/all_documents/9211.\n",
        "..\\maildir/shackleton-s/all_documents/9212."
       ]
      },
      {
       "output_type": "stream",
       "stream": "stdout",
       "text": [
        "\n",
        "..\\maildir/shackleton-s/all_documents/9213.\n",
        "..\\maildir/shackleton-s/all_documents/9217.\n",
        "..\\maildir/shackleton-s/all_documents/922.\n",
        "..\\maildir/shackleton-s/all_documents/9229."
       ]
      },
      {
       "output_type": "stream",
       "stream": "stdout",
       "text": [
        "\n",
        "..\\maildir/shackleton-s/all_documents/923.\n",
        "..\\maildir/shackleton-s/all_documents/9230.\n",
        "..\\maildir/shackleton-s/all_documents/9231."
       ]
      },
      {
       "output_type": "stream",
       "stream": "stdout",
       "text": [
        "\n",
        "..\\maildir/shackleton-s/all_documents/9233.\n",
        "..\\maildir/shackleton-s/all_documents/924.\n",
        "..\\maildir/shackleton-s/all_documents/9240.\n",
        "..\\maildir/shackleton-s/all_documents/9241.\n",
        "..\\maildir/shackleton-s/all_documents/9242."
       ]
      },
      {
       "output_type": "stream",
       "stream": "stdout",
       "text": [
        "\n",
        "..\\maildir/shackleton-s/all_documents/9243.\n",
        "..\\maildir/shackleton-s/all_documents/9244.\n",
        "..\\maildir/shackleton-s/all_documents/9246.\n",
        "..\\maildir/shackleton-s/all_documents/925.\n",
        "..\\maildir/shackleton-s/all_documents/9251."
       ]
      },
      {
       "output_type": "stream",
       "stream": "stdout",
       "text": [
        "\n",
        "..\\maildir/shackleton-s/all_documents/9254.\n",
        "..\\maildir/shackleton-s/all_documents/9257.\n",
        "..\\maildir/shackleton-s/all_documents/9258.\n",
        "..\\maildir/shackleton-s/all_documents/9259."
       ]
      },
      {
       "output_type": "stream",
       "stream": "stdout",
       "text": [
        "\n",
        "..\\maildir/shackleton-s/all_documents/926.\n",
        "..\\maildir/shackleton-s/all_documents/9260.\n",
        "..\\maildir/shackleton-s/all_documents/9261.\n",
        "..\\maildir/shackleton-s/all_documents/9262."
       ]
      },
      {
       "output_type": "stream",
       "stream": "stdout",
       "text": [
        "\n",
        "..\\maildir/shackleton-s/all_documents/9265.\n",
        "..\\maildir/shackleton-s/all_documents/9267.\n",
        "..\\maildir/shackleton-s/all_documents/927."
       ]
      },
      {
       "output_type": "stream",
       "stream": "stdout",
       "text": [
        "\n",
        "..\\maildir/shackleton-s/all_documents/9270.\n",
        "..\\maildir/shackleton-s/all_documents/9271.\n",
        "..\\maildir/shackleton-s/all_documents/9272.\n",
        "..\\maildir/shackleton-s/all_documents/9273.\n",
        "..\\maildir/shackleton-s/all_documents/9274.\n",
        "..\\maildir/shackleton-s/all_documents/928."
       ]
      },
      {
       "output_type": "stream",
       "stream": "stdout",
       "text": [
        "\n",
        "..\\maildir/shackleton-s/all_documents/9287.\n",
        "..\\maildir/shackleton-s/all_documents/9289.\n",
        "..\\maildir/shackleton-s/all_documents/929.\n",
        "..\\maildir/shackleton-s/all_documents/9292.\n",
        "..\\maildir/shackleton-s/all_documents/9294.\n",
        "..\\maildir/shackleton-s/all_documents/9295."
       ]
      },
      {
       "output_type": "stream",
       "stream": "stdout",
       "text": [
        "\n",
        "..\\maildir/shackleton-s/all_documents/9298.\n",
        "..\\maildir/shackleton-s/all_documents/930.\n",
        "..\\maildir/shackleton-s/all_documents/9301.\n",
        "..\\maildir/shackleton-s/all_documents/9302.\n",
        "..\\maildir/shackleton-s/all_documents/9305."
       ]
      },
      {
       "output_type": "stream",
       "stream": "stdout",
       "text": [
        "\n",
        "..\\maildir/shackleton-s/all_documents/931.\n",
        "..\\maildir/shackleton-s/all_documents/9310.\n",
        "..\\maildir/shackleton-s/all_documents/9311.\n",
        "..\\maildir/shackleton-s/all_documents/9316.\n",
        "..\\maildir/shackleton-s/all_documents/9317."
       ]
      },
      {
       "output_type": "stream",
       "stream": "stdout",
       "text": [
        "\n",
        "..\\maildir/shackleton-s/all_documents/9318.\n",
        "..\\maildir/shackleton-s/all_documents/932."
       ]
      },
      {
       "output_type": "stream",
       "stream": "stdout",
       "text": [
        "\n",
        "..\\maildir/shackleton-s/all_documents/9320.\n",
        "..\\maildir/shackleton-s/all_documents/9321.\n",
        "..\\maildir/shackleton-s/all_documents/9323.\n",
        "..\\maildir/shackleton-s/all_documents/9325."
       ]
      },
      {
       "output_type": "stream",
       "stream": "stdout",
       "text": [
        "\n",
        "..\\maildir/shackleton-s/all_documents/9329.\n",
        "..\\maildir/shackleton-s/all_documents/933.\n",
        "..\\maildir/shackleton-s/all_documents/9333.\n",
        "..\\maildir/shackleton-s/all_documents/9334."
       ]
      },
      {
       "output_type": "stream",
       "stream": "stdout",
       "text": [
        "\n",
        "..\\maildir/shackleton-s/all_documents/934.\n",
        "..\\maildir/shackleton-s/all_documents/9341.\n",
        "..\\maildir/shackleton-s/all_documents/9342.\n",
        "..\\maildir/shackleton-s/all_documents/9343."
       ]
      },
      {
       "output_type": "stream",
       "stream": "stdout",
       "text": [
        "\n",
        "..\\maildir/shackleton-s/all_documents/9344.\n",
        "..\\maildir/shackleton-s/all_documents/9345.\n",
        "..\\maildir/shackleton-s/all_documents/9346.\n",
        "..\\maildir/shackleton-s/all_documents/935.\n",
        "..\\maildir/shackleton-s/all_documents/9353."
       ]
      },
      {
       "output_type": "stream",
       "stream": "stdout",
       "text": [
        "\n",
        "..\\maildir/shackleton-s/all_documents/9354.\n",
        "..\\maildir/shackleton-s/all_documents/9356."
       ]
      },
      {
       "output_type": "stream",
       "stream": "stdout",
       "text": [
        "\n",
        "..\\maildir/shackleton-s/all_documents/9358.\n",
        "..\\maildir/shackleton-s/all_documents/9359.\n",
        "..\\maildir/shackleton-s/all_documents/936."
       ]
      },
      {
       "output_type": "stream",
       "stream": "stdout",
       "text": [
        "\n",
        "..\\maildir/shackleton-s/all_documents/9361.\n",
        "..\\maildir/shackleton-s/all_documents/9369.\n",
        "..\\maildir/shackleton-s/all_documents/9370.\n",
        "..\\maildir/shackleton-s/all_documents/9371."
       ]
      },
      {
       "output_type": "stream",
       "stream": "stdout",
       "text": [
        "\n",
        "..\\maildir/shackleton-s/all_documents/9380.\n",
        "..\\maildir/shackleton-s/all_documents/9383.\n",
        "..\\maildir/shackleton-s/all_documents/9390.\n",
        "..\\maildir/shackleton-s/all_documents/9393.\n",
        "..\\maildir/shackleton-s/all_documents/9397."
       ]
      },
      {
       "output_type": "stream",
       "stream": "stdout",
       "text": [
        "\n",
        "..\\maildir/shackleton-s/all_documents/9398.\n",
        "..\\maildir/shackleton-s/all_documents/9399.\n",
        "..\\maildir/shackleton-s/all_documents/940.\n",
        "..\\maildir/shackleton-s/all_documents/9402."
       ]
      },
      {
       "output_type": "stream",
       "stream": "stdout",
       "text": [
        "\n",
        "..\\maildir/shackleton-s/all_documents/9408.\n",
        "..\\maildir/shackleton-s/all_documents/9409.\n",
        "..\\maildir/shackleton-s/all_documents/941."
       ]
      },
      {
       "output_type": "stream",
       "stream": "stdout",
       "text": [
        "\n",
        "..\\maildir/shackleton-s/all_documents/9410.\n",
        "..\\maildir/shackleton-s/all_documents/9411.\n",
        "..\\maildir/shackleton-s/all_documents/9413."
       ]
      },
      {
       "output_type": "stream",
       "stream": "stdout",
       "text": [
        "\n",
        "..\\maildir/shackleton-s/all_documents/9414.\n",
        "..\\maildir/shackleton-s/all_documents/9422.\n",
        "..\\maildir/shackleton-s/all_documents/9424.\n",
        "..\\maildir/shackleton-s/all_documents/9426."
       ]
      },
      {
       "output_type": "stream",
       "stream": "stdout",
       "text": [
        "\n",
        "..\\maildir/shackleton-s/all_documents/9429.\n",
        "..\\maildir/shackleton-s/all_documents/943.\n",
        "..\\maildir/shackleton-s/all_documents/9431.\n",
        "..\\maildir/shackleton-s/all_documents/9432.\n",
        "..\\maildir/shackleton-s/all_documents/9434."
       ]
      },
      {
       "output_type": "stream",
       "stream": "stdout",
       "text": [
        "\n",
        "..\\maildir/shackleton-s/all_documents/9435.\n",
        "..\\maildir/shackleton-s/all_documents/9436.\n",
        "..\\maildir/shackleton-s/all_documents/9438.\n",
        "..\\maildir/shackleton-s/all_documents/944.\n",
        "..\\maildir/shackleton-s/all_documents/9442.\n",
        "..\\maildir/shackleton-s/all_documents/9443."
       ]
      },
      {
       "output_type": "stream",
       "stream": "stdout",
       "text": [
        "\n",
        "..\\maildir/shackleton-s/all_documents/9444.\n",
        "..\\maildir/shackleton-s/all_documents/9448.\n",
        "..\\maildir/shackleton-s/all_documents/945.\n",
        "..\\maildir/shackleton-s/all_documents/9451.\n",
        "..\\maildir/shackleton-s/all_documents/946."
       ]
      },
      {
       "output_type": "stream",
       "stream": "stdout",
       "text": [
        "\n",
        "..\\maildir/shackleton-s/all_documents/9461.\n",
        "..\\maildir/shackleton-s/all_documents/9465.\n",
        "..\\maildir/shackleton-s/all_documents/947.\n",
        "..\\maildir/shackleton-s/all_documents/9471.\n",
        "..\\maildir/shackleton-s/all_documents/9472."
       ]
      },
      {
       "output_type": "stream",
       "stream": "stdout",
       "text": [
        "\n",
        "..\\maildir/shackleton-s/all_documents/9474.\n",
        "..\\maildir/shackleton-s/all_documents/9476.\n",
        "..\\maildir/shackleton-s/all_documents/9477.\n",
        "..\\maildir/shackleton-s/all_documents/9479."
       ]
      },
      {
       "output_type": "stream",
       "stream": "stdout",
       "text": [
        "\n",
        "..\\maildir/shackleton-s/all_documents/948.\n",
        "..\\maildir/shackleton-s/all_documents/9481.\n",
        "..\\maildir/shackleton-s/all_documents/9497.\n",
        "..\\maildir/shackleton-s/all_documents/9499."
       ]
      },
      {
       "output_type": "stream",
       "stream": "stdout",
       "text": [
        "\n",
        "..\\maildir/shackleton-s/all_documents/95.\n",
        "..\\maildir/shackleton-s/all_documents/9504.\n",
        "..\\maildir/shackleton-s/all_documents/9505.\n",
        "..\\maildir/shackleton-s/all_documents/9506."
       ]
      },
      {
       "output_type": "stream",
       "stream": "stdout",
       "text": [
        "\n",
        "..\\maildir/shackleton-s/all_documents/9507.\n",
        "..\\maildir/shackleton-s/all_documents/9508.\n",
        "..\\maildir/shackleton-s/all_documents/9510.\n",
        "..\\maildir/shackleton-s/all_documents/9511."
       ]
      },
      {
       "output_type": "stream",
       "stream": "stdout",
       "text": [
        "\n",
        "..\\maildir/shackleton-s/all_documents/9512.\n",
        "..\\maildir/shackleton-s/all_documents/9513.\n",
        "..\\maildir/shackleton-s/all_documents/9520.\n",
        "..\\maildir/shackleton-s/all_documents/9521."
       ]
      },
      {
       "output_type": "stream",
       "stream": "stdout",
       "text": [
        "\n",
        "..\\maildir/shackleton-s/all_documents/9523.\n",
        "..\\maildir/shackleton-s/all_documents/9525.\n",
        "..\\maildir/shackleton-s/all_documents/9526."
       ]
      },
      {
       "output_type": "stream",
       "stream": "stdout",
       "text": [
        "\n",
        "..\\maildir/shackleton-s/all_documents/9527.\n",
        "..\\maildir/shackleton-s/all_documents/9532.\n",
        "..\\maildir/shackleton-s/all_documents/9533.\n",
        "..\\maildir/shackleton-s/all_documents/9536."
       ]
      },
      {
       "output_type": "stream",
       "stream": "stdout",
       "text": [
        "\n",
        "..\\maildir/shackleton-s/all_documents/9537.\n",
        "..\\maildir/shackleton-s/all_documents/9539.\n",
        "..\\maildir/shackleton-s/all_documents/9541.\n",
        "..\\maildir/shackleton-s/all_documents/9545.\n",
        "..\\maildir/shackleton-s/all_documents/9546."
       ]
      },
      {
       "output_type": "stream",
       "stream": "stdout",
       "text": [
        "\n",
        "..\\maildir/shackleton-s/all_documents/9547.\n",
        "..\\maildir/shackleton-s/all_documents/9549.\n",
        "..\\maildir/shackleton-s/all_documents/9550."
       ]
      },
      {
       "output_type": "stream",
       "stream": "stdout",
       "text": [
        "\n",
        "..\\maildir/shackleton-s/all_documents/9557.\n",
        "..\\maildir/shackleton-s/all_documents/957.\n",
        "..\\maildir/shackleton-s/all_documents/9570.\n",
        "..\\maildir/shackleton-s/all_documents/9572."
       ]
      },
      {
       "output_type": "stream",
       "stream": "stdout",
       "text": [
        "\n",
        "..\\maildir/shackleton-s/all_documents/9574.\n",
        "..\\maildir/shackleton-s/all_documents/9575.\n",
        "..\\maildir/shackleton-s/all_documents/9577."
       ]
      },
      {
       "output_type": "stream",
       "stream": "stdout",
       "text": [
        "\n",
        "..\\maildir/shackleton-s/all_documents/9582.\n",
        "..\\maildir/shackleton-s/all_documents/9584.\n",
        "..\\maildir/shackleton-s/all_documents/9585.\n",
        "..\\maildir/shackleton-s/all_documents/9586."
       ]
      },
      {
       "output_type": "stream",
       "stream": "stdout",
       "text": [
        "\n",
        "..\\maildir/shackleton-s/all_documents/9587.\n",
        "..\\maildir/shackleton-s/all_documents/959.\n",
        "..\\maildir/shackleton-s/all_documents/9593.\n",
        "..\\maildir/shackleton-s/all_documents/9594."
       ]
      },
      {
       "output_type": "stream",
       "stream": "stdout",
       "text": [
        "\n",
        "..\\maildir/shackleton-s/all_documents/9596.\n",
        "..\\maildir/shackleton-s/all_documents/9597.\n",
        "..\\maildir/shackleton-s/all_documents/96."
       ]
      },
      {
       "output_type": "stream",
       "stream": "stdout",
       "text": [
        "\n",
        "..\\maildir/shackleton-s/all_documents/9601.\n",
        "..\\maildir/shackleton-s/all_documents/9609.\n",
        "..\\maildir/shackleton-s/all_documents/9610.\n",
        "..\\maildir/shackleton-s/all_documents/9611.\n",
        "..\\maildir/shackleton-s/all_documents/9612.\n",
        "..\\maildir/shackleton-s/all_documents/9615.\n",
        "..\\maildir/shackleton-s/all_documents/962."
       ]
      },
      {
       "output_type": "stream",
       "stream": "stdout",
       "text": [
        "\n",
        "..\\maildir/shackleton-s/all_documents/9623.\n",
        "..\\maildir/shackleton-s/all_documents/9625.\n",
        "..\\maildir/shackleton-s/all_documents/963."
       ]
      },
      {
       "output_type": "stream",
       "stream": "stdout",
       "text": [
        "\n",
        "..\\maildir/shackleton-s/all_documents/964.\n",
        "..\\maildir/shackleton-s/all_documents/9642.\n",
        "..\\maildir/shackleton-s/all_documents/9645.\n",
        "..\\maildir/shackleton-s/all_documents/9646.\n",
        "..\\maildir/shackleton-s/all_documents/9647.\n",
        "..\\maildir/shackleton-s/all_documents/9648.\n",
        "..\\maildir/shackleton-s/all_documents/965."
       ]
      },
      {
       "output_type": "stream",
       "stream": "stdout",
       "text": [
        "\n",
        "..\\maildir/shackleton-s/all_documents/9652.\n",
        "..\\maildir/shackleton-s/all_documents/966.\n",
        "..\\maildir/shackleton-s/all_documents/9664.\n",
        "..\\maildir/shackleton-s/all_documents/9670."
       ]
      },
      {
       "output_type": "stream",
       "stream": "stdout",
       "text": [
        "\n",
        "..\\maildir/shackleton-s/all_documents/9672.\n",
        "..\\maildir/shackleton-s/all_documents/9677.\n",
        "..\\maildir/shackleton-s/all_documents/9678.\n",
        "..\\maildir/shackleton-s/all_documents/968."
       ]
      },
      {
       "output_type": "stream",
       "stream": "stdout",
       "text": [
        "\n",
        "..\\maildir/shackleton-s/all_documents/9680.\n",
        "..\\maildir/shackleton-s/all_documents/9682.\n",
        "..\\maildir/shackleton-s/all_documents/969.\n",
        "..\\maildir/shackleton-s/all_documents/9691.\n",
        "..\\maildir/shackleton-s/all_documents/9692."
       ]
      },
      {
       "output_type": "stream",
       "stream": "stdout",
       "text": [
        "\n",
        "..\\maildir/shackleton-s/all_documents/9693.\n",
        "..\\maildir/shackleton-s/all_documents/9698.\n",
        "..\\maildir/shackleton-s/all_documents/9699."
       ]
      },
      {
       "output_type": "stream",
       "stream": "stdout",
       "text": [
        "\n",
        "..\\maildir/shackleton-s/all_documents/97.\n",
        "..\\maildir/shackleton-s/all_documents/970.\n",
        "..\\maildir/shackleton-s/all_documents/9700.\n",
        "..\\maildir/shackleton-s/all_documents/9701.\n",
        "..\\maildir/shackleton-s/all_documents/9702."
       ]
      },
      {
       "output_type": "stream",
       "stream": "stdout",
       "text": [
        "\n",
        "..\\maildir/shackleton-s/all_documents/9703.\n",
        "..\\maildir/shackleton-s/all_documents/9704.\n",
        "..\\maildir/shackleton-s/all_documents/9705.\n",
        "..\\maildir/shackleton-s/all_documents/9706.\n",
        "..\\maildir/shackleton-s/all_documents/9707."
       ]
      },
      {
       "output_type": "stream",
       "stream": "stdout",
       "text": [
        "\n",
        "..\\maildir/shackleton-s/all_documents/9708.\n",
        "..\\maildir/shackleton-s/all_documents/971.\n",
        "..\\maildir/shackleton-s/all_documents/972."
       ]
      },
      {
       "output_type": "stream",
       "stream": "stdout",
       "text": [
        "\n",
        "..\\maildir/shackleton-s/all_documents/9728."
       ]
      },
      {
       "output_type": "stream",
       "stream": "stdout",
       "text": [
        "\n",
        "..\\maildir/shackleton-s/all_documents/9729.\n",
        "..\\maildir/shackleton-s/all_documents/973."
       ]
      },
      {
       "output_type": "stream",
       "stream": "stdout",
       "text": [
        "\n",
        "..\\maildir/shackleton-s/all_documents/9730.\n",
        "..\\maildir/shackleton-s/all_documents/9731.\n",
        "..\\maildir/shackleton-s/all_documents/974.\n",
        "..\\maildir/shackleton-s/all_documents/9748.\n",
        "..\\maildir/shackleton-s/all_documents/9749.\n",
        "..\\maildir/shackleton-s/all_documents/975.\n",
        "..\\maildir/shackleton-s/all_documents/9751."
       ]
      },
      {
       "output_type": "stream",
       "stream": "stdout",
       "text": [
        "\n",
        "..\\maildir/shackleton-s/all_documents/9761.\n",
        "..\\maildir/shackleton-s/all_documents/9766.\n",
        "..\\maildir/shackleton-s/all_documents/9767.\n",
        "..\\maildir/shackleton-s/all_documents/9768."
       ]
      },
      {
       "output_type": "stream",
       "stream": "stdout",
       "text": [
        "\n",
        "..\\maildir/shackleton-s/all_documents/9770.\n",
        "..\\maildir/shackleton-s/all_documents/9771.\n",
        "..\\maildir/shackleton-s/all_documents/9772.\n",
        "..\\maildir/shackleton-s/all_documents/9774."
       ]
      },
      {
       "output_type": "stream",
       "stream": "stdout",
       "text": [
        "\n",
        "..\\maildir/shackleton-s/all_documents/9778.\n",
        "..\\maildir/shackleton-s/all_documents/978."
       ]
      },
      {
       "output_type": "stream",
       "stream": "stdout",
       "text": [
        "\n",
        "..\\maildir/shackleton-s/all_documents/9786.\n",
        "..\\maildir/shackleton-s/all_documents/9787.\n",
        "..\\maildir/shackleton-s/all_documents/9789.\n",
        "..\\maildir/shackleton-s/all_documents/979."
       ]
      },
      {
       "output_type": "stream",
       "stream": "stdout",
       "text": [
        "\n",
        "..\\maildir/shackleton-s/all_documents/9792.\n",
        "..\\maildir/shackleton-s/all_documents/9793.\n",
        "..\\maildir/shackleton-s/all_documents/9801.\n",
        "..\\maildir/shackleton-s/all_documents/9806.\n",
        "..\\maildir/shackleton-s/all_documents/9817."
       ]
      },
      {
       "output_type": "stream",
       "stream": "stdout",
       "text": [
        "\n",
        "..\\maildir/shackleton-s/all_documents/982.\n",
        "..\\maildir/shackleton-s/all_documents/9822.\n",
        "..\\maildir/shackleton-s/all_documents/9824.\n",
        "..\\maildir/shackleton-s/all_documents/9826.\n",
        "..\\maildir/shackleton-s/all_documents/9827."
       ]
      },
      {
       "output_type": "stream",
       "stream": "stdout",
       "text": [
        "\n",
        "..\\maildir/shackleton-s/all_documents/983.\n",
        "..\\maildir/shackleton-s/all_documents/9830.\n",
        "..\\maildir/shackleton-s/all_documents/9833.\n",
        "..\\maildir/shackleton-s/all_documents/9834.\n",
        "..\\maildir/shackleton-s/all_documents/9837."
       ]
      },
      {
       "output_type": "stream",
       "stream": "stdout",
       "text": [
        "\n",
        "..\\maildir/shackleton-s/all_documents/9847.\n",
        "..\\maildir/shackleton-s/all_documents/9849.\n",
        "..\\maildir/shackleton-s/all_documents/985.\n",
        "..\\maildir/shackleton-s/all_documents/9851."
       ]
      },
      {
       "output_type": "stream",
       "stream": "stdout",
       "text": [
        "\n",
        "..\\maildir/shackleton-s/all_documents/9857.\n",
        "..\\maildir/shackleton-s/all_documents/9858.\n",
        "..\\maildir/shackleton-s/all_documents/986.\n",
        "..\\maildir/shackleton-s/all_documents/9869."
       ]
      },
      {
       "output_type": "stream",
       "stream": "stdout",
       "text": [
        "\n",
        "..\\maildir/shackleton-s/all_documents/987.\n",
        "..\\maildir/shackleton-s/all_documents/9876."
       ]
      },
      {
       "output_type": "stream",
       "stream": "stdout",
       "text": [
        "\n",
        "..\\maildir/shackleton-s/all_documents/9878.\n",
        "..\\maildir/shackleton-s/all_documents/9883.\n",
        "..\\maildir/shackleton-s/all_documents/9884."
       ]
      },
      {
       "output_type": "stream",
       "stream": "stdout",
       "text": [
        "\n",
        "..\\maildir/shackleton-s/all_documents/9886.\n",
        "..\\maildir/shackleton-s/all_documents/9889.\n",
        "..\\maildir/shackleton-s/all_documents/989.\n",
        "..\\maildir/shackleton-s/all_documents/9890."
       ]
      },
      {
       "output_type": "stream",
       "stream": "stdout",
       "text": [
        "\n",
        "..\\maildir/shackleton-s/all_documents/9891.\n",
        "..\\maildir/shackleton-s/all_documents/9894.\n",
        "..\\maildir/shackleton-s/all_documents/9895.\n",
        "..\\maildir/shackleton-s/all_documents/9897."
       ]
      },
      {
       "output_type": "stream",
       "stream": "stdout",
       "text": [
        "\n",
        "..\\maildir/shackleton-s/all_documents/9898.\n",
        "..\\maildir/shackleton-s/all_documents/9899.\n",
        "..\\maildir/shackleton-s/all_documents/99.\n",
        "..\\maildir/shackleton-s/all_documents/9900.\n",
        "..\\maildir/shackleton-s/all_documents/9901."
       ]
      },
      {
       "output_type": "stream",
       "stream": "stdout",
       "text": [
        "\n",
        "..\\maildir/shackleton-s/all_documents/9908.\n",
        "..\\maildir/shackleton-s/all_documents/991.\n",
        "..\\maildir/shackleton-s/all_documents/9915.\n",
        "..\\maildir/shackleton-s/all_documents/9916.\n",
        "..\\maildir/shackleton-s/all_documents/9917.\n",
        "..\\maildir/shackleton-s/all_documents/992.\n",
        "..\\maildir/shackleton-s/all_documents/9925."
       ]
      },
      {
       "output_type": "stream",
       "stream": "stdout",
       "text": [
        "\n",
        "..\\maildir/shackleton-s/all_documents/9928.\n",
        "..\\maildir/shackleton-s/all_documents/993.\n",
        "..\\maildir/shackleton-s/all_documents/9934."
       ]
      },
      {
       "output_type": "stream",
       "stream": "stdout",
       "text": [
        "\n",
        "..\\maildir/shackleton-s/all_documents/9940.\n",
        "..\\maildir/shackleton-s/all_documents/9946.\n",
        "..\\maildir/shackleton-s/all_documents/995."
       ]
      },
      {
       "output_type": "stream",
       "stream": "stdout",
       "text": [
        "\n",
        "..\\maildir/shackleton-s/all_documents/9957.\n",
        "..\\maildir/shackleton-s/all_documents/9958.\n",
        "..\\maildir/shackleton-s/all_documents/9959.\n",
        "..\\maildir/shackleton-s/all_documents/996."
       ]
      },
      {
       "output_type": "stream",
       "stream": "stdout",
       "text": [
        "\n",
        "..\\maildir/shackleton-s/all_documents/9960.\n",
        "..\\maildir/shackleton-s/all_documents/9961.\n",
        "..\\maildir/shackleton-s/all_documents/9963.\n",
        "..\\maildir/shackleton-s/all_documents/9964.\n",
        "..\\maildir/shackleton-s/all_documents/9967.\n",
        "..\\maildir/shackleton-s/all_documents/9969."
       ]
      },
      {
       "output_type": "stream",
       "stream": "stdout",
       "text": [
        "\n",
        "..\\maildir/shackleton-s/all_documents/997.\n",
        "..\\maildir/shackleton-s/all_documents/9970.\n",
        "..\\maildir/shackleton-s/all_documents/9971.\n",
        "..\\maildir/shackleton-s/all_documents/9973."
       ]
      },
      {
       "output_type": "stream",
       "stream": "stdout",
       "text": [
        "\n",
        "..\\maildir/shackleton-s/all_documents/9975.\n",
        "..\\maildir/shackleton-s/all_documents/9977.\n",
        "..\\maildir/shackleton-s/all_documents/998.\n",
        "..\\maildir/shackleton-s/all_documents/9988.\n",
        "..\\maildir/shackleton-s/all_documents/9989."
       ]
      },
      {
       "output_type": "stream",
       "stream": "stdout",
       "text": [
        "\n",
        "..\\maildir/shackleton-s/all_documents/999.\n",
        "..\\maildir/shackleton-s/all_documents/9994.\n",
        "..\\maildir/shackleton-s/all_documents/9995.\n",
        "..\\maildir/shackleton-s/all_documents/9996."
       ]
      },
      {
       "output_type": "stream",
       "stream": "stdout",
       "text": [
        "\n",
        "..\\maildir/shackleton-s/all_documents/9999.\n",
        "..\\maildir/shackleton-s/deleted_items/252.\n",
        "..\\maildir/shackleton-s/deleted_items/486."
       ]
      },
      {
       "output_type": "stream",
       "stream": "stdout",
       "text": [
        "\n",
        "..\\maildir/shackleton-s/deleted_items/488.\n",
        "..\\maildir/shackleton-s/deleted_items/489.\n",
        "..\\maildir/shackleton-s/deleted_items/67.\n",
        "..\\maildir/shackleton-s/deleted_items/68.\n",
        "..\\maildir/shackleton-s/deleted_items/69."
       ]
      },
      {
       "output_type": "stream",
       "stream": "stdout",
       "text": [
        "\n",
        "..\\maildir/shackleton-s/deleted_items/70.\n",
        "..\\maildir/shackleton-s/deleted_items/71.\n",
        "..\\maildir/shackleton-s/deleted_items/72.\n",
        "..\\maildir/shackleton-s/deleted_items/73.\n",
        "..\\maildir/shackleton-s/deleted_items/74.\n",
        "..\\maildir/shackleton-s/deleted_items/75."
       ]
      },
      {
       "output_type": "stream",
       "stream": "stdout",
       "text": [
        "\n",
        "..\\maildir/shackleton-s/deleted_items/78.\n",
        "..\\maildir/shackleton-s/deleted_items/79.\n",
        "..\\maildir/shackleton-s/deleted_items/80.\n",
        "..\\maildir/shackleton-s/deleted_items/81.\n",
        "..\\maildir/shackleton-s/deleted_items/82."
       ]
      },
      {
       "output_type": "stream",
       "stream": "stdout",
       "text": [
        "\n",
        "..\\maildir/shackleton-s/deleted_items/84.\n",
        "..\\maildir/shackleton-s/deleted_items/85.\n",
        "..\\maildir/shackleton-s/deleted_items/86."
       ]
      },
      {
       "output_type": "stream",
       "stream": "stdout",
       "text": [
        "\n",
        "..\\maildir/shackleton-s/deleted_items/87.\n",
        "..\\maildir/shackleton-s/deleted_items/88.\n",
        "..\\maildir/shackleton-s/deleted_items/89."
       ]
      },
      {
       "output_type": "stream",
       "stream": "stdout",
       "text": [
        "\n",
        "..\\maildir/shackleton-s/deleted_items/90.\n",
        "..\\maildir/shackleton-s/deleted_items/91."
       ]
      },
      {
       "output_type": "stream",
       "stream": "stdout",
       "text": [
        "\n",
        "..\\maildir/shackleton-s/deleted_items/92."
       ]
      },
      {
       "output_type": "stream",
       "stream": "stdout",
       "text": [
        "\n",
        "..\\maildir/shackleton-s/deleted_items/93.\n",
        "..\\maildir/shackleton-s/deleted_items/94."
       ]
      },
      {
       "output_type": "stream",
       "stream": "stdout",
       "text": [
        "\n",
        "..\\maildir/shackleton-s/deleted_items/95.\n",
        "..\\maildir/shackleton-s/ernie/2.\n",
        "..\\maildir/shackleton-s/ernie/3."
       ]
      },
      {
       "output_type": "stream",
       "stream": "stdout",
       "text": [
        "\n",
        "..\\maildir/shackleton-s/ernie/4.\n",
        "..\\maildir/shackleton-s/meetings/10.\n",
        "..\\maildir/shackleton-s/meetings/13.\n",
        "..\\maildir/shackleton-s/notes_inbox/1672.\n",
        "..\\maildir/shackleton-s/notes_inbox/204."
       ]
      },
      {
       "output_type": "stream",
       "stream": "stdout",
       "text": [
        "\n",
        "..\\maildir/shackleton-s/notes_inbox/3254.\n",
        "..\\maildir/shackleton-s/notes_inbox/3353."
       ]
      },
      {
       "output_type": "stream",
       "stream": "stdout",
       "text": [
        "\n",
        "..\\maildir/shackleton-s/notes_inbox/637.\n",
        "..\\maildir/shackleton-s/sent/10."
       ]
      },
      {
       "output_type": "stream",
       "stream": "stdout",
       "text": [
        "\n",
        "..\\maildir/shackleton-s/sent/100.\n",
        "..\\maildir/shackleton-s/sent/1000.\n",
        "..\\maildir/shackleton-s/sent/1001."
       ]
      },
      {
       "output_type": "stream",
       "stream": "stdout",
       "text": [
        "\n",
        "..\\maildir/shackleton-s/sent/1002.\n",
        "..\\maildir/shackleton-s/sent/1003.\n",
        "..\\maildir/shackleton-s/sent/1004.\n",
        "..\\maildir/shackleton-s/sent/1005.\n",
        "..\\maildir/shackleton-s/sent/1006.\n",
        "..\\maildir/shackleton-s/sent/1007."
       ]
      },
      {
       "output_type": "stream",
       "stream": "stdout",
       "text": [
        "\n",
        "..\\maildir/shackleton-s/sent/1008.\n",
        "..\\maildir/shackleton-s/sent/1009.\n",
        "..\\maildir/shackleton-s/sent/101.\n",
        "..\\maildir/shackleton-s/sent/1010.\n",
        "..\\maildir/shackleton-s/sent/1011."
       ]
      },
      {
       "output_type": "stream",
       "stream": "stdout",
       "text": [
        "\n",
        "..\\maildir/shackleton-s/sent/1012."
       ]
      },
      {
       "output_type": "stream",
       "stream": "stdout",
       "text": [
        "\n",
        "..\\maildir/shackleton-s/sent/1013.\n",
        "..\\maildir/shackleton-s/sent/1014.\n",
        "..\\maildir/shackleton-s/sent/1015."
       ]
      },
      {
       "output_type": "stream",
       "stream": "stdout",
       "text": [
        "\n",
        "..\\maildir/shackleton-s/sent/1016.\n",
        "..\\maildir/shackleton-s/sent/1017.\n",
        "..\\maildir/shackleton-s/sent/1018.\n",
        "..\\maildir/shackleton-s/sent/1019.\n",
        "..\\maildir/shackleton-s/sent/102.\n",
        "..\\maildir/shackleton-s/sent/1020.\n",
        "..\\maildir/shackleton-s/sent/1021."
       ]
      },
      {
       "output_type": "stream",
       "stream": "stdout",
       "text": [
        "\n",
        "..\\maildir/shackleton-s/sent/1022.\n",
        "..\\maildir/shackleton-s/sent/1023.\n",
        "..\\maildir/shackleton-s/sent/1024."
       ]
      },
      {
       "output_type": "stream",
       "stream": "stdout",
       "text": [
        "\n",
        "..\\maildir/shackleton-s/sent/1025.\n",
        "..\\maildir/shackleton-s/sent/1026.\n",
        "..\\maildir/shackleton-s/sent/1027.\n",
        "..\\maildir/shackleton-s/sent/1028.\n",
        "..\\maildir/shackleton-s/sent/1029."
       ]
      },
      {
       "output_type": "stream",
       "stream": "stdout",
       "text": [
        "\n",
        "..\\maildir/shackleton-s/sent/103.\n",
        "..\\maildir/shackleton-s/sent/1030.\n",
        "..\\maildir/shackleton-s/sent/1031.\n",
        "..\\maildir/shackleton-s/sent/1033.\n",
        "..\\maildir/shackleton-s/sent/1034.\n",
        "..\\maildir/shackleton-s/sent/1035.\n",
        "..\\maildir/shackleton-s/sent/1036.\n",
        "..\\maildir/shackleton-s/sent/1037.\n",
        "..\\maildir/shackleton-s/sent/1038."
       ]
      },
      {
       "output_type": "stream",
       "stream": "stdout",
       "text": [
        "\n",
        "..\\maildir/shackleton-s/sent/1039.\n",
        "..\\maildir/shackleton-s/sent/104."
       ]
      },
      {
       "output_type": "stream",
       "stream": "stdout",
       "text": [
        "\n",
        "..\\maildir/shackleton-s/sent/1040.\n",
        "..\\maildir/shackleton-s/sent/1041.\n",
        "..\\maildir/shackleton-s/sent/1042.\n",
        "..\\maildir/shackleton-s/sent/1043.\n",
        "..\\maildir/shackleton-s/sent/1044."
       ]
      },
      {
       "output_type": "stream",
       "stream": "stdout",
       "text": [
        "\n",
        "..\\maildir/shackleton-s/sent/1046.\n",
        "..\\maildir/shackleton-s/sent/1047.\n",
        "..\\maildir/shackleton-s/sent/1048."
       ]
      },
      {
       "output_type": "stream",
       "stream": "stdout",
       "text": [
        "\n",
        "..\\maildir/shackleton-s/sent/1049.\n",
        "..\\maildir/shackleton-s/sent/105."
       ]
      },
      {
       "output_type": "stream",
       "stream": "stdout",
       "text": [
        "\n",
        "..\\maildir/shackleton-s/sent/1050.\n",
        "..\\maildir/shackleton-s/sent/1051.\n",
        "..\\maildir/shackleton-s/sent/1052.\n",
        "..\\maildir/shackleton-s/sent/1053.\n",
        "..\\maildir/shackleton-s/sent/1054."
       ]
      },
      {
       "output_type": "stream",
       "stream": "stdout",
       "text": [
        "\n",
        "..\\maildir/shackleton-s/sent/1055.\n",
        "..\\maildir/shackleton-s/sent/1056.\n",
        "..\\maildir/shackleton-s/sent/1057.\n",
        "..\\maildir/shackleton-s/sent/1058."
       ]
      },
      {
       "output_type": "stream",
       "stream": "stdout",
       "text": [
        "\n",
        "..\\maildir/shackleton-s/sent/1059.\n",
        "..\\maildir/shackleton-s/sent/106.\n",
        "..\\maildir/shackleton-s/sent/1060.\n",
        "..\\maildir/shackleton-s/sent/1061."
       ]
      },
      {
       "output_type": "stream",
       "stream": "stdout",
       "text": [
        "\n",
        "..\\maildir/shackleton-s/sent/1062.\n",
        "..\\maildir/shackleton-s/sent/1063.\n",
        "..\\maildir/shackleton-s/sent/1064.\n",
        "..\\maildir/shackleton-s/sent/1065.\n",
        "..\\maildir/shackleton-s/sent/1066.\n",
        "..\\maildir/shackleton-s/sent/1067.\n",
        "..\\maildir/shackleton-s/sent/1068."
       ]
      },
      {
       "output_type": "stream",
       "stream": "stdout",
       "text": [
        "\n",
        "..\\maildir/shackleton-s/sent/1069.\n",
        "..\\maildir/shackleton-s/sent/107.\n",
        "..\\maildir/shackleton-s/sent/1070.\n",
        "..\\maildir/shackleton-s/sent/1071.\n",
        "..\\maildir/shackleton-s/sent/1072.\n",
        "..\\maildir/shackleton-s/sent/1073."
       ]
      },
      {
       "output_type": "stream",
       "stream": "stdout",
       "text": [
        "\n",
        "..\\maildir/shackleton-s/sent/1074.\n",
        "..\\maildir/shackleton-s/sent/1075.\n",
        "..\\maildir/shackleton-s/sent/1076.\n",
        "..\\maildir/shackleton-s/sent/1077."
       ]
      },
      {
       "output_type": "stream",
       "stream": "stdout",
       "text": [
        "\n",
        "..\\maildir/shackleton-s/sent/1078.\n",
        "..\\maildir/shackleton-s/sent/1079.\n",
        "..\\maildir/shackleton-s/sent/108.\n",
        "..\\maildir/shackleton-s/sent/1080.\n",
        "..\\maildir/shackleton-s/sent/1081.\n",
        "..\\maildir/shackleton-s/sent/1082.\n",
        "..\\maildir/shackleton-s/sent/1083."
       ]
      },
      {
       "output_type": "stream",
       "stream": "stdout",
       "text": [
        "\n",
        "..\\maildir/shackleton-s/sent/1084.\n",
        "..\\maildir/shackleton-s/sent/1085.\n",
        "..\\maildir/shackleton-s/sent/1086.\n",
        "..\\maildir/shackleton-s/sent/1087.\n",
        "..\\maildir/shackleton-s/sent/1088."
       ]
      },
      {
       "output_type": "stream",
       "stream": "stdout",
       "text": [
        "\n",
        "..\\maildir/shackleton-s/sent/1089.\n",
        "..\\maildir/shackleton-s/sent/109.\n",
        "..\\maildir/shackleton-s/sent/1090.\n",
        "..\\maildir/shackleton-s/sent/1091."
       ]
      },
      {
       "output_type": "stream",
       "stream": "stdout",
       "text": [
        "\n",
        "..\\maildir/shackleton-s/sent/1092.\n",
        "..\\maildir/shackleton-s/sent/1093.\n",
        "..\\maildir/shackleton-s/sent/1094."
       ]
      },
      {
       "output_type": "stream",
       "stream": "stdout",
       "text": [
        "\n",
        "..\\maildir/shackleton-s/sent/1095.\n",
        "..\\maildir/shackleton-s/sent/1096.\n",
        "..\\maildir/shackleton-s/sent/1097."
       ]
      },
      {
       "output_type": "stream",
       "stream": "stdout",
       "text": [
        "\n",
        "..\\maildir/shackleton-s/sent/1098.\n",
        "..\\maildir/shackleton-s/sent/1099.\n",
        "..\\maildir/shackleton-s/sent/11.\n",
        "..\\maildir/shackleton-s/sent/110.\n",
        "..\\maildir/shackleton-s/sent/1100."
       ]
      },
      {
       "output_type": "stream",
       "stream": "stdout",
       "text": [
        "\n",
        "..\\maildir/shackleton-s/sent/1101.\n",
        "..\\maildir/shackleton-s/sent/1102.\n",
        "..\\maildir/shackleton-s/sent/1103.\n",
        "..\\maildir/shackleton-s/sent/1105.\n",
        "..\\maildir/shackleton-s/sent/1106."
       ]
      },
      {
       "output_type": "stream",
       "stream": "stdout",
       "text": [
        "\n",
        "..\\maildir/shackleton-s/sent/1107.\n",
        "..\\maildir/shackleton-s/sent/1108.\n",
        "..\\maildir/shackleton-s/sent/1109.\n",
        "..\\maildir/shackleton-s/sent/111.\n",
        "..\\maildir/shackleton-s/sent/1110.\n",
        "..\\maildir/shackleton-s/sent/1111."
       ]
      },
      {
       "output_type": "stream",
       "stream": "stdout",
       "text": [
        "\n",
        "..\\maildir/shackleton-s/sent/1112.\n",
        "..\\maildir/shackleton-s/sent/1113.\n",
        "..\\maildir/shackleton-s/sent/1114.\n",
        "..\\maildir/shackleton-s/sent/1115.\n",
        "..\\maildir/shackleton-s/sent/1116.\n",
        "..\\maildir/shackleton-s/sent/1117."
       ]
      },
      {
       "output_type": "stream",
       "stream": "stdout",
       "text": [
        "\n",
        "..\\maildir/shackleton-s/sent/1118.\n",
        "..\\maildir/shackleton-s/sent/1119.\n",
        "..\\maildir/shackleton-s/sent/112.\n",
        "..\\maildir/shackleton-s/sent/1120.\n",
        "..\\maildir/shackleton-s/sent/1121.\n",
        "..\\maildir/shackleton-s/sent/1122.\n",
        "..\\maildir/shackleton-s/sent/1123."
       ]
      },
      {
       "output_type": "stream",
       "stream": "stdout",
       "text": [
        "\n",
        "..\\maildir/shackleton-s/sent/1124."
       ]
      },
      {
       "output_type": "stream",
       "stream": "stdout",
       "text": [
        "\n",
        "..\\maildir/shackleton-s/sent/1125.\n",
        "..\\maildir/shackleton-s/sent/1126.\n",
        "..\\maildir/shackleton-s/sent/1127.\n",
        "..\\maildir/shackleton-s/sent/1128."
       ]
      },
      {
       "output_type": "stream",
       "stream": "stdout",
       "text": [
        "\n",
        "..\\maildir/shackleton-s/sent/1129.\n",
        "..\\maildir/shackleton-s/sent/113.\n",
        "..\\maildir/shackleton-s/sent/1130.\n",
        "..\\maildir/shackleton-s/sent/1131."
       ]
      },
      {
       "output_type": "stream",
       "stream": "stdout",
       "text": [
        "\n",
        "..\\maildir/shackleton-s/sent/1132.\n",
        "..\\maildir/shackleton-s/sent/1133.\n",
        "..\\maildir/shackleton-s/sent/1134.\n",
        "..\\maildir/shackleton-s/sent/1135.\n",
        "..\\maildir/shackleton-s/sent/1136.\n",
        "..\\maildir/shackleton-s/sent/1137."
       ]
      },
      {
       "output_type": "stream",
       "stream": "stdout",
       "text": [
        "\n",
        "..\\maildir/shackleton-s/sent/1138.\n",
        "..\\maildir/shackleton-s/sent/1139.\n",
        "..\\maildir/shackleton-s/sent/114.\n",
        "..\\maildir/shackleton-s/sent/1140.\n",
        "..\\maildir/shackleton-s/sent/1141.\n",
        "..\\maildir/shackleton-s/sent/1142.\n",
        "..\\maildir/shackleton-s/sent/1143.\n",
        "..\\maildir/shackleton-s/sent/1144.\n",
        "..\\maildir/shackleton-s/sent/1145."
       ]
      },
      {
       "output_type": "stream",
       "stream": "stdout",
       "text": [
        "\n",
        "..\\maildir/shackleton-s/sent/1148.\n",
        "..\\maildir/shackleton-s/sent/1149.\n",
        "..\\maildir/shackleton-s/sent/115."
       ]
      },
      {
       "output_type": "stream",
       "stream": "stdout",
       "text": [
        "\n",
        "..\\maildir/shackleton-s/sent/1150.\n",
        "..\\maildir/shackleton-s/sent/1151.\n",
        "..\\maildir/shackleton-s/sent/1152.\n",
        "..\\maildir/shackleton-s/sent/1153.\n",
        "..\\maildir/shackleton-s/sent/1154."
       ]
      },
      {
       "output_type": "stream",
       "stream": "stdout",
       "text": [
        "\n",
        "..\\maildir/shackleton-s/sent/1156.\n",
        "..\\maildir/shackleton-s/sent/1157.\n",
        "..\\maildir/shackleton-s/sent/1158.\n",
        "..\\maildir/shackleton-s/sent/1159.\n",
        "..\\maildir/shackleton-s/sent/116.\n",
        "..\\maildir/shackleton-s/sent/1160."
       ]
      },
      {
       "output_type": "stream",
       "stream": "stdout",
       "text": [
        "\n",
        "..\\maildir/shackleton-s/sent/1161.\n",
        "..\\maildir/shackleton-s/sent/1162.\n",
        "..\\maildir/shackleton-s/sent/1163.\n",
        "..\\maildir/shackleton-s/sent/1164.\n",
        "..\\maildir/shackleton-s/sent/1165.\n",
        "..\\maildir/shackleton-s/sent/1166."
       ]
      },
      {
       "output_type": "stream",
       "stream": "stdout",
       "text": [
        "\n",
        "..\\maildir/shackleton-s/sent/1167.\n",
        "..\\maildir/shackleton-s/sent/1168.\n",
        "..\\maildir/shackleton-s/sent/1169.\n",
        "..\\maildir/shackleton-s/sent/117.\n",
        "..\\maildir/shackleton-s/sent/1170."
       ]
      },
      {
       "output_type": "stream",
       "stream": "stdout",
       "text": [
        "\n",
        "..\\maildir/shackleton-s/sent/1171.\n",
        "..\\maildir/shackleton-s/sent/1172.\n",
        "..\\maildir/shackleton-s/sent/1173.\n",
        "..\\maildir/shackleton-s/sent/1174.\n",
        "..\\maildir/shackleton-s/sent/1175."
       ]
      },
      {
       "output_type": "stream",
       "stream": "stdout",
       "text": [
        "\n",
        "..\\maildir/shackleton-s/sent/1176.\n",
        "..\\maildir/shackleton-s/sent/1177.\n",
        "..\\maildir/shackleton-s/sent/1178.\n",
        "..\\maildir/shackleton-s/sent/118.\n",
        "..\\maildir/shackleton-s/sent/1180.\n",
        "..\\maildir/shackleton-s/sent/1181.\n",
        "..\\maildir/shackleton-s/sent/1182.\n",
        "..\\maildir/shackleton-s/sent/1183."
       ]
      },
      {
       "output_type": "stream",
       "stream": "stdout",
       "text": [
        "\n",
        "..\\maildir/shackleton-s/sent/1184.\n",
        "..\\maildir/shackleton-s/sent/1185.\n",
        "..\\maildir/shackleton-s/sent/1186.\n",
        "..\\maildir/shackleton-s/sent/1187.\n",
        "..\\maildir/shackleton-s/sent/1188.\n",
        "..\\maildir/shackleton-s/sent/1189."
       ]
      },
      {
       "output_type": "stream",
       "stream": "stdout",
       "text": [
        "\n",
        "..\\maildir/shackleton-s/sent/119.\n",
        "..\\maildir/shackleton-s/sent/1190.\n",
        "..\\maildir/shackleton-s/sent/1191.\n",
        "..\\maildir/shackleton-s/sent/1192.\n",
        "..\\maildir/shackleton-s/sent/1193.\n",
        "..\\maildir/shackleton-s/sent/1194."
       ]
      },
      {
       "output_type": "stream",
       "stream": "stdout",
       "text": [
        "\n",
        "..\\maildir/shackleton-s/sent/1195.\n",
        "..\\maildir/shackleton-s/sent/1196.\n",
        "..\\maildir/shackleton-s/sent/1197.\n",
        "..\\maildir/shackleton-s/sent/1198."
       ]
      },
      {
       "output_type": "stream",
       "stream": "stdout",
       "text": [
        "\n",
        "..\\maildir/shackleton-s/sent/1199.\n",
        "..\\maildir/shackleton-s/sent/12.\n",
        "..\\maildir/shackleton-s/sent/120.\n",
        "..\\maildir/shackleton-s/sent/1200.\n",
        "..\\maildir/shackleton-s/sent/1201.\n",
        "..\\maildir/shackleton-s/sent/1202.\n",
        "..\\maildir/shackleton-s/sent/1203."
       ]
      },
      {
       "output_type": "stream",
       "stream": "stdout",
       "text": [
        "\n",
        "..\\maildir/shackleton-s/sent/1204.\n",
        "..\\maildir/shackleton-s/sent/1205.\n",
        "..\\maildir/shackleton-s/sent/1206.\n",
        "..\\maildir/shackleton-s/sent/1207."
       ]
      },
      {
       "output_type": "stream",
       "stream": "stdout",
       "text": [
        "\n",
        "..\\maildir/shackleton-s/sent/1208.\n",
        "..\\maildir/shackleton-s/sent/1209.\n",
        "..\\maildir/shackleton-s/sent/121.\n",
        "..\\maildir/shackleton-s/sent/1210.\n",
        "..\\maildir/shackleton-s/sent/1211."
       ]
      },
      {
       "output_type": "stream",
       "stream": "stdout",
       "text": [
        "\n",
        "..\\maildir/shackleton-s/sent/1212.\n",
        "..\\maildir/shackleton-s/sent/1213.\n",
        "..\\maildir/shackleton-s/sent/1214.\n",
        "..\\maildir/shackleton-s/sent/1215.\n",
        "..\\maildir/shackleton-s/sent/1216.\n",
        "..\\maildir/shackleton-s/sent/1217.\n"
       ]
      },
      {
       "output_type": "stream",
       "stream": "stdout",
       "text": [
        "..\\maildir/shackleton-s/sent/1218.\n",
        "..\\maildir/shackleton-s/sent/1219.\n",
        "..\\maildir/shackleton-s/sent/122.\n",
        "..\\maildir/shackleton-s/sent/1220.\n",
        "..\\maildir/shackleton-s/sent/1221."
       ]
      },
      {
       "output_type": "stream",
       "stream": "stdout",
       "text": [
        "\n",
        "..\\maildir/shackleton-s/sent/1222.\n",
        "..\\maildir/shackleton-s/sent/1223.\n",
        "..\\maildir/shackleton-s/sent/1224.\n",
        "..\\maildir/shackleton-s/sent/1225.\n",
        "..\\maildir/shackleton-s/sent/1226.\n",
        "..\\maildir/shackleton-s/sent/1227.\n",
        "..\\maildir/shackleton-s/sent/1228.\n",
        "..\\maildir/shackleton-s/sent/1229."
       ]
      },
      {
       "output_type": "stream",
       "stream": "stdout",
       "text": [
        "\n",
        "..\\maildir/shackleton-s/sent/123.\n",
        "..\\maildir/shackleton-s/sent/1230.\n",
        "..\\maildir/shackleton-s/sent/1231.\n",
        "..\\maildir/shackleton-s/sent/1232."
       ]
      },
      {
       "output_type": "stream",
       "stream": "stdout",
       "text": [
        "\n",
        "..\\maildir/shackleton-s/sent/1233.\n",
        "..\\maildir/shackleton-s/sent/1234.\n",
        "..\\maildir/shackleton-s/sent/1235.\n",
        "..\\maildir/shackleton-s/sent/1236.\n",
        "..\\maildir/shackleton-s/sent/1237.\n",
        "..\\maildir/shackleton-s/sent/1238.\n",
        "..\\maildir/shackleton-s/sent/1239."
       ]
      },
      {
       "output_type": "stream",
       "stream": "stdout",
       "text": [
        "\n",
        "..\\maildir/shackleton-s/sent/124.\n",
        "..\\maildir/shackleton-s/sent/1240.\n",
        "..\\maildir/shackleton-s/sent/1241.\n",
        "..\\maildir/shackleton-s/sent/1242."
       ]
      },
      {
       "output_type": "stream",
       "stream": "stdout",
       "text": [
        "\n",
        "..\\maildir/shackleton-s/sent/1243.\n",
        "..\\maildir/shackleton-s/sent/1244.\n",
        "..\\maildir/shackleton-s/sent/1245."
       ]
      },
      {
       "output_type": "stream",
       "stream": "stdout",
       "text": [
        "\n",
        "..\\maildir/shackleton-s/sent/1246.\n",
        "..\\maildir/shackleton-s/sent/1247.\n",
        "..\\maildir/shackleton-s/sent/1248.\n",
        "..\\maildir/shackleton-s/sent/1249.\n",
        "..\\maildir/shackleton-s/sent/125."
       ]
      },
      {
       "output_type": "stream",
       "stream": "stdout",
       "text": [
        "\n",
        "..\\maildir/shackleton-s/sent/1250.\n",
        "..\\maildir/shackleton-s/sent/1251.\n",
        "..\\maildir/shackleton-s/sent/1252."
       ]
      },
      {
       "output_type": "stream",
       "stream": "stdout",
       "text": [
        "\n",
        "..\\maildir/shackleton-s/sent/1253.\n",
        "..\\maildir/shackleton-s/sent/1254.\n",
        "..\\maildir/shackleton-s/sent/1255.\n",
        "..\\maildir/shackleton-s/sent/1256."
       ]
      },
      {
       "output_type": "stream",
       "stream": "stdout",
       "text": [
        "\n",
        "..\\maildir/shackleton-s/sent/1257.\n",
        "..\\maildir/shackleton-s/sent/1258."
       ]
      },
      {
       "output_type": "stream",
       "stream": "stdout",
       "text": [
        "\n",
        "..\\maildir/shackleton-s/sent/1259.\n",
        "..\\maildir/shackleton-s/sent/126.\n",
        "..\\maildir/shackleton-s/sent/1260.\n",
        "..\\maildir/shackleton-s/sent/1261.\n",
        "..\\maildir/shackleton-s/sent/1262.\n",
        "..\\maildir/shackleton-s/sent/1263."
       ]
      },
      {
       "output_type": "stream",
       "stream": "stdout",
       "text": [
        "\n",
        "..\\maildir/shackleton-s/sent/1264.\n",
        "..\\maildir/shackleton-s/sent/1265.\n",
        "..\\maildir/shackleton-s/sent/1266.\n",
        "..\\maildir/shackleton-s/sent/1267."
       ]
      },
      {
       "output_type": "stream",
       "stream": "stdout",
       "text": [
        "\n",
        "..\\maildir/shackleton-s/sent/1268.\n",
        "..\\maildir/shackleton-s/sent/1269.\n",
        "..\\maildir/shackleton-s/sent/127.\n",
        "..\\maildir/shackleton-s/sent/1270.\n",
        "..\\maildir/shackleton-s/sent/1271.\n",
        "..\\maildir/shackleton-s/sent/1272."
       ]
      },
      {
       "output_type": "stream",
       "stream": "stdout",
       "text": [
        "\n",
        "..\\maildir/shackleton-s/sent/1273.\n",
        "..\\maildir/shackleton-s/sent/1274.\n",
        "..\\maildir/shackleton-s/sent/1275.\n",
        "..\\maildir/shackleton-s/sent/1276."
       ]
      },
      {
       "output_type": "stream",
       "stream": "stdout",
       "text": [
        "\n",
        "..\\maildir/shackleton-s/sent/1277.\n",
        "..\\maildir/shackleton-s/sent/1278.\n",
        "..\\maildir/shackleton-s/sent/1279.\n",
        "..\\maildir/shackleton-s/sent/128.\n",
        "..\\maildir/shackleton-s/sent/1280.\n",
        "..\\maildir/shackleton-s/sent/1281."
       ]
      },
      {
       "output_type": "stream",
       "stream": "stdout",
       "text": [
        "\n",
        "..\\maildir/shackleton-s/sent/1282.\n",
        "..\\maildir/shackleton-s/sent/1283.\n",
        "..\\maildir/shackleton-s/sent/1284."
       ]
      },
      {
       "output_type": "stream",
       "stream": "stdout",
       "text": [
        "\n",
        "..\\maildir/shackleton-s/sent/1285.\n",
        "..\\maildir/shackleton-s/sent/1286.\n",
        "..\\maildir/shackleton-s/sent/1287.\n",
        "..\\maildir/shackleton-s/sent/1288.\n",
        "..\\maildir/shackleton-s/sent/1289.\n",
        "..\\maildir/shackleton-s/sent/129.\n",
        "..\\maildir/shackleton-s/sent/1290.\n",
        "..\\maildir/shackleton-s/sent/1291.\n",
        "..\\maildir/shackleton-s/sent/1292.\n",
        "..\\maildir/shackleton-s/sent/1293.\n",
        "..\\maildir/shackleton-s/sent/1294."
       ]
      },
      {
       "output_type": "stream",
       "stream": "stdout",
       "text": [
        "\n",
        "..\\maildir/shackleton-s/sent/1295.\n",
        "..\\maildir/shackleton-s/sent/1296.\n",
        "..\\maildir/shackleton-s/sent/1297.\n",
        "..\\maildir/shackleton-s/sent/1298.\n",
        "..\\maildir/shackleton-s/sent/1299."
       ]
      },
      {
       "output_type": "stream",
       "stream": "stdout",
       "text": [
        "\n",
        "..\\maildir/shackleton-s/sent/13.\n",
        "..\\maildir/shackleton-s/sent/130.\n",
        "..\\maildir/shackleton-s/sent/1300.\n",
        "..\\maildir/shackleton-s/sent/1301.\n",
        "..\\maildir/shackleton-s/sent/1302.\n",
        "..\\maildir/shackleton-s/sent/1303."
       ]
      },
      {
       "output_type": "stream",
       "stream": "stdout",
       "text": [
        "\n",
        "..\\maildir/shackleton-s/sent/1304.\n",
        "..\\maildir/shackleton-s/sent/1305.\n",
        "..\\maildir/shackleton-s/sent/1306.\n",
        "..\\maildir/shackleton-s/sent/1307.\n",
        "..\\maildir/shackleton-s/sent/1308.\n",
        "..\\maildir/shackleton-s/sent/1309.\n",
        "..\\maildir/shackleton-s/sent/131.\n",
        "..\\maildir/shackleton-s/sent/1310."
       ]
      },
      {
       "output_type": "stream",
       "stream": "stdout",
       "text": [
        "\n",
        "..\\maildir/shackleton-s/sent/1311.\n",
        "..\\maildir/shackleton-s/sent/1312.\n",
        "..\\maildir/shackleton-s/sent/1313.\n",
        "..\\maildir/shackleton-s/sent/1314.\n",
        "..\\maildir/shackleton-s/sent/1315."
       ]
      },
      {
       "output_type": "stream",
       "stream": "stdout",
       "text": [
        "\n",
        "..\\maildir/shackleton-s/sent/1316.\n",
        "..\\maildir/shackleton-s/sent/1317.\n",
        "..\\maildir/shackleton-s/sent/1318.\n",
        "..\\maildir/shackleton-s/sent/1319.\n",
        "..\\maildir/shackleton-s/sent/132.\n",
        "..\\maildir/shackleton-s/sent/1320.\n",
        "..\\maildir/shackleton-s/sent/1321."
       ]
      },
      {
       "output_type": "stream",
       "stream": "stdout",
       "text": [
        "\n",
        "..\\maildir/shackleton-s/sent/1322.\n",
        "..\\maildir/shackleton-s/sent/1323."
       ]
      },
      {
       "output_type": "stream",
       "stream": "stdout",
       "text": [
        "\n",
        "..\\maildir/shackleton-s/sent/1324.\n",
        "..\\maildir/shackleton-s/sent/1325.\n",
        "..\\maildir/shackleton-s/sent/1326.\n",
        "..\\maildir/shackleton-s/sent/1327.\n",
        "..\\maildir/shackleton-s/sent/1328.\n",
        "..\\maildir/shackleton-s/sent/1329."
       ]
      },
      {
       "output_type": "stream",
       "stream": "stdout",
       "text": [
        "\n",
        "..\\maildir/shackleton-s/sent/133.\n",
        "..\\maildir/shackleton-s/sent/1330.\n",
        "..\\maildir/shackleton-s/sent/1331.\n",
        "..\\maildir/shackleton-s/sent/1332.\n",
        "..\\maildir/shackleton-s/sent/1333.\n",
        "..\\maildir/shackleton-s/sent/1334."
       ]
      },
      {
       "output_type": "stream",
       "stream": "stdout",
       "text": [
        "\n",
        "..\\maildir/shackleton-s/sent/1335.\n",
        "..\\maildir/shackleton-s/sent/1336.\n",
        "..\\maildir/shackleton-s/sent/1337.\n",
        "..\\maildir/shackleton-s/sent/1338.\n",
        "..\\maildir/shackleton-s/sent/1339.\n",
        "..\\maildir/shackleton-s/sent/134."
       ]
      },
      {
       "output_type": "stream",
       "stream": "stdout",
       "text": [
        "\n",
        "..\\maildir/shackleton-s/sent/1340.\n",
        "..\\maildir/shackleton-s/sent/1341.\n",
        "..\\maildir/shackleton-s/sent/1342.\n",
        "..\\maildir/shackleton-s/sent/1343."
       ]
      },
      {
       "output_type": "stream",
       "stream": "stdout",
       "text": [
        "\n",
        "..\\maildir/shackleton-s/sent/1344.\n",
        "..\\maildir/shackleton-s/sent/1345.\n",
        "..\\maildir/shackleton-s/sent/1346.\n",
        "..\\maildir/shackleton-s/sent/1347.\n",
        "..\\maildir/shackleton-s/sent/1348.\n",
        "..\\maildir/shackleton-s/sent/1349.\n",
        "..\\maildir/shackleton-s/sent/135."
       ]
      },
      {
       "output_type": "stream",
       "stream": "stdout",
       "text": [
        "\n",
        "..\\maildir/shackleton-s/sent/1350.\n",
        "..\\maildir/shackleton-s/sent/1351."
       ]
      },
      {
       "output_type": "stream",
       "stream": "stdout",
       "text": [
        "\n",
        "..\\maildir/shackleton-s/sent/1352.\n",
        "..\\maildir/shackleton-s/sent/1353.\n",
        "..\\maildir/shackleton-s/sent/1354.\n",
        "..\\maildir/shackleton-s/sent/1355.\n",
        "..\\maildir/shackleton-s/sent/1356."
       ]
      },
      {
       "output_type": "stream",
       "stream": "stdout",
       "text": [
        "\n",
        "..\\maildir/shackleton-s/sent/1357.\n",
        "..\\maildir/shackleton-s/sent/1358.\n",
        "..\\maildir/shackleton-s/sent/1359.\n",
        "..\\maildir/shackleton-s/sent/136.\n",
        "..\\maildir/shackleton-s/sent/1360.\n",
        "..\\maildir/shackleton-s/sent/1361.\n",
        "..\\maildir/shackleton-s/sent/1362.\n",
        "..\\maildir/shackleton-s/sent/1363.\n",
        "..\\maildir/shackleton-s/sent/1364."
       ]
      },
      {
       "output_type": "stream",
       "stream": "stdout",
       "text": [
        "\n",
        "..\\maildir/shackleton-s/sent/1365.\n",
        "..\\maildir/shackleton-s/sent/1366.\n",
        "..\\maildir/shackleton-s/sent/1367.\n",
        "..\\maildir/shackleton-s/sent/1368.\n",
        "..\\maildir/shackleton-s/sent/1369.\n",
        "..\\maildir/shackleton-s/sent/137."
       ]
      },
      {
       "output_type": "stream",
       "stream": "stdout",
       "text": [
        "\n",
        "..\\maildir/shackleton-s/sent/1370.\n",
        "..\\maildir/shackleton-s/sent/1371.\n",
        "..\\maildir/shackleton-s/sent/1372.\n",
        "..\\maildir/shackleton-s/sent/1373."
       ]
      },
      {
       "output_type": "stream",
       "stream": "stdout",
       "text": [
        "\n",
        "..\\maildir/shackleton-s/sent/1374.\n",
        "..\\maildir/shackleton-s/sent/1375.\n",
        "..\\maildir/shackleton-s/sent/1376.\n",
        "..\\maildir/shackleton-s/sent/1377.\n",
        "..\\maildir/shackleton-s/sent/1378.\n",
        "..\\maildir/shackleton-s/sent/1379.\n",
        "..\\maildir/shackleton-s/sent/138.\n",
        "..\\maildir/shackleton-s/sent/1380.\n",
        "..\\maildir/shackleton-s/sent/1381.\n",
        "..\\maildir/shackleton-s/sent/1382."
       ]
      },
      {
       "output_type": "stream",
       "stream": "stdout",
       "text": [
        "\n",
        "..\\maildir/shackleton-s/sent/1383.\n",
        "..\\maildir/shackleton-s/sent/1384.\n",
        "..\\maildir/shackleton-s/sent/1385.\n",
        "..\\maildir/shackleton-s/sent/1386.\n",
        "..\\maildir/shackleton-s/sent/1387.\n",
        "..\\maildir/shackleton-s/sent/1388."
       ]
      },
      {
       "output_type": "stream",
       "stream": "stdout",
       "text": [
        "\n",
        "..\\maildir/shackleton-s/sent/1389.\n",
        "..\\maildir/shackleton-s/sent/139.\n",
        "..\\maildir/shackleton-s/sent/1390.\n",
        "..\\maildir/shackleton-s/sent/1391.\n",
        "..\\maildir/shackleton-s/sent/1392.\n",
        "..\\maildir/shackleton-s/sent/1393.\n",
        "..\\maildir/shackleton-s/sent/1394."
       ]
      },
      {
       "output_type": "stream",
       "stream": "stdout",
       "text": [
        "\n",
        "..\\maildir/shackleton-s/sent/1395.\n",
        "..\\maildir/shackleton-s/sent/1396.\n",
        "..\\maildir/shackleton-s/sent/1397.\n",
        "..\\maildir/shackleton-s/sent/1398.\n",
        "..\\maildir/shackleton-s/sent/1399."
       ]
      },
      {
       "output_type": "stream",
       "stream": "stdout",
       "text": [
        "\n",
        "..\\maildir/shackleton-s/sent/140.\n",
        "..\\maildir/shackleton-s/sent/1400.\n",
        "..\\maildir/shackleton-s/sent/1401.\n",
        "..\\maildir/shackleton-s/sent/1402.\n",
        "..\\maildir/shackleton-s/sent/1403."
       ]
      },
      {
       "output_type": "stream",
       "stream": "stdout",
       "text": [
        "\n",
        "..\\maildir/shackleton-s/sent/1404.\n",
        "..\\maildir/shackleton-s/sent/1405.\n",
        "..\\maildir/shackleton-s/sent/1406.\n",
        "..\\maildir/shackleton-s/sent/1407."
       ]
      },
      {
       "output_type": "stream",
       "stream": "stdout",
       "text": [
        "\n",
        "..\\maildir/shackleton-s/sent/1408.\n",
        "..\\maildir/shackleton-s/sent/1409.\n",
        "..\\maildir/shackleton-s/sent/141.\n",
        "..\\maildir/shackleton-s/sent/1410."
       ]
      },
      {
       "output_type": "stream",
       "stream": "stdout",
       "text": [
        "\n",
        "..\\maildir/shackleton-s/sent/1411.\n",
        "..\\maildir/shackleton-s/sent/1412.\n",
        "..\\maildir/shackleton-s/sent/1413.\n",
        "..\\maildir/shackleton-s/sent/1414.\n",
        "..\\maildir/shackleton-s/sent/1415.\n",
        "..\\maildir/shackleton-s/sent/1416."
       ]
      },
      {
       "output_type": "stream",
       "stream": "stdout",
       "text": [
        "\n",
        "..\\maildir/shackleton-s/sent/1417.\n",
        "..\\maildir/shackleton-s/sent/1418.\n",
        "..\\maildir/shackleton-s/sent/1419.\n",
        "..\\maildir/shackleton-s/sent/142.\n",
        "..\\maildir/shackleton-s/sent/1420.\n",
        "..\\maildir/shackleton-s/sent/1421.\n",
        "..\\maildir/shackleton-s/sent/1422."
       ]
      },
      {
       "output_type": "stream",
       "stream": "stdout",
       "text": [
        "\n",
        "..\\maildir/shackleton-s/sent/1423.\n",
        "..\\maildir/shackleton-s/sent/1424.\n",
        "..\\maildir/shackleton-s/sent/1425.\n",
        "..\\maildir/shackleton-s/sent/1426."
       ]
      },
      {
       "output_type": "stream",
       "stream": "stdout",
       "text": [
        "\n",
        "..\\maildir/shackleton-s/sent/1427.\n",
        "..\\maildir/shackleton-s/sent/1428.\n",
        "..\\maildir/shackleton-s/sent/1429."
       ]
      },
      {
       "output_type": "stream",
       "stream": "stdout",
       "text": [
        "\n",
        "..\\maildir/shackleton-s/sent/143.\n",
        "..\\maildir/shackleton-s/sent/1430.\n",
        "..\\maildir/shackleton-s/sent/1431.\n",
        "..\\maildir/shackleton-s/sent/1432."
       ]
      },
      {
       "output_type": "stream",
       "stream": "stdout",
       "text": [
        "\n",
        "..\\maildir/shackleton-s/sent/1433.\n",
        "..\\maildir/shackleton-s/sent/1434.\n",
        "..\\maildir/shackleton-s/sent/1435."
       ]
      },
      {
       "output_type": "stream",
       "stream": "stdout",
       "text": [
        "\n",
        "..\\maildir/shackleton-s/sent/1436.\n",
        "..\\maildir/shackleton-s/sent/1437.\n",
        "..\\maildir/shackleton-s/sent/1438.\n",
        "..\\maildir/shackleton-s/sent/1439.\n",
        "..\\maildir/shackleton-s/sent/144.\n",
        "..\\maildir/shackleton-s/sent/1440.\n",
        "..\\maildir/shackleton-s/sent/1441.\n",
        "..\\maildir/shackleton-s/sent/1442."
       ]
      },
      {
       "output_type": "stream",
       "stream": "stdout",
       "text": [
        "\n",
        "..\\maildir/shackleton-s/sent/1443.\n",
        "..\\maildir/shackleton-s/sent/1444.\n",
        "..\\maildir/shackleton-s/sent/1445.\n",
        "..\\maildir/shackleton-s/sent/1446.\n",
        "..\\maildir/shackleton-s/sent/1447."
       ]
      },
      {
       "output_type": "stream",
       "stream": "stdout",
       "text": [
        "\n",
        "..\\maildir/shackleton-s/sent/1448.\n",
        "..\\maildir/shackleton-s/sent/1449.\n",
        "..\\maildir/shackleton-s/sent/145.\n",
        "..\\maildir/shackleton-s/sent/1450.\n",
        "..\\maildir/shackleton-s/sent/1451.\n",
        "..\\maildir/shackleton-s/sent/1452."
       ]
      },
      {
       "output_type": "stream",
       "stream": "stdout",
       "text": [
        "\n",
        "..\\maildir/shackleton-s/sent/1453.\n",
        "..\\maildir/shackleton-s/sent/1454.\n",
        "..\\maildir/shackleton-s/sent/1455.\n",
        "..\\maildir/shackleton-s/sent/1456.\n",
        "..\\maildir/shackleton-s/sent/1457."
       ]
      },
      {
       "output_type": "stream",
       "stream": "stdout",
       "text": [
        "\n",
        "..\\maildir/shackleton-s/sent/1458.\n",
        "..\\maildir/shackleton-s/sent/1459.\n",
        "..\\maildir/shackleton-s/sent/146.\n",
        "..\\maildir/shackleton-s/sent/1460.\n",
        "..\\maildir/shackleton-s/sent/1461."
       ]
      },
      {
       "output_type": "stream",
       "stream": "stdout",
       "text": [
        "\n",
        "..\\maildir/shackleton-s/sent/1462.\n",
        "..\\maildir/shackleton-s/sent/1463.\n",
        "..\\maildir/shackleton-s/sent/1464.\n",
        "..\\maildir/shackleton-s/sent/1465."
       ]
      },
      {
       "output_type": "stream",
       "stream": "stdout",
       "text": [
        "\n",
        "..\\maildir/shackleton-s/sent/1466.\n",
        "..\\maildir/shackleton-s/sent/1467."
       ]
      },
      {
       "output_type": "stream",
       "stream": "stdout",
       "text": [
        "\n",
        "..\\maildir/shackleton-s/sent/1468.\n",
        "..\\maildir/shackleton-s/sent/1469.\n",
        "..\\maildir/shackleton-s/sent/147.\n",
        "..\\maildir/shackleton-s/sent/1470.\n",
        "..\\maildir/shackleton-s/sent/1471."
       ]
      },
      {
       "output_type": "stream",
       "stream": "stdout",
       "text": [
        "\n",
        "..\\maildir/shackleton-s/sent/1472.\n",
        "..\\maildir/shackleton-s/sent/1473.\n",
        "..\\maildir/shackleton-s/sent/1474.\n",
        "..\\maildir/shackleton-s/sent/1475."
       ]
      },
      {
       "output_type": "stream",
       "stream": "stdout",
       "text": [
        "\n",
        "..\\maildir/shackleton-s/sent/1476.\n",
        "..\\maildir/shackleton-s/sent/1477.\n",
        "..\\maildir/shackleton-s/sent/1478.\n",
        "..\\maildir/shackleton-s/sent/1479.\n",
        "..\\maildir/shackleton-s/sent/148.\n",
        "..\\maildir/shackleton-s/sent/1480."
       ]
      },
      {
       "output_type": "stream",
       "stream": "stdout",
       "text": [
        "\n",
        "..\\maildir/shackleton-s/sent/1481.\n",
        "..\\maildir/shackleton-s/sent/1482.\n",
        "..\\maildir/shackleton-s/sent/1483.\n",
        "..\\maildir/shackleton-s/sent/1484.\n",
        "..\\maildir/shackleton-s/sent/1485.\n",
        "..\\maildir/shackleton-s/sent/1486."
       ]
      },
      {
       "output_type": "stream",
       "stream": "stdout",
       "text": [
        "\n",
        "..\\maildir/shackleton-s/sent/1487.\n",
        "..\\maildir/shackleton-s/sent/1488.\n",
        "..\\maildir/shackleton-s/sent/1489.\n",
        "..\\maildir/shackleton-s/sent/149.\n",
        "..\\maildir/shackleton-s/sent/1490.\n",
        "..\\maildir/shackleton-s/sent/1491.\n",
        "..\\maildir/shackleton-s/sent/1492.\n",
        "..\\maildir/shackleton-s/sent/1493."
       ]
      },
      {
       "output_type": "stream",
       "stream": "stdout",
       "text": [
        "\n",
        "..\\maildir/shackleton-s/sent/1494.\n",
        "..\\maildir/shackleton-s/sent/1495.\n",
        "..\\maildir/shackleton-s/sent/1496."
       ]
      },
      {
       "output_type": "stream",
       "stream": "stdout",
       "text": [
        "\n",
        "..\\maildir/shackleton-s/sent/1497.\n",
        "..\\maildir/shackleton-s/sent/1498.\n",
        "..\\maildir/shackleton-s/sent/1499.\n",
        "..\\maildir/shackleton-s/sent/15.\n",
        "..\\maildir/shackleton-s/sent/150.\n",
        "..\\maildir/shackleton-s/sent/1500.\n",
        "..\\maildir/shackleton-s/sent/1501."
       ]
      },
      {
       "output_type": "stream",
       "stream": "stdout",
       "text": [
        "\n",
        "..\\maildir/shackleton-s/sent/1502.\n",
        "..\\maildir/shackleton-s/sent/1503.\n",
        "..\\maildir/shackleton-s/sent/1504.\n",
        "..\\maildir/shackleton-s/sent/1505.\n",
        "..\\maildir/shackleton-s/sent/1506.\n",
        "..\\maildir/shackleton-s/sent/1507.\n",
        "..\\maildir/shackleton-s/sent/1508."
       ]
      },
      {
       "output_type": "stream",
       "stream": "stdout",
       "text": [
        "\n",
        "..\\maildir/shackleton-s/sent/1509.\n",
        "..\\maildir/shackleton-s/sent/151.\n",
        "..\\maildir/shackleton-s/sent/1510.\n",
        "..\\maildir/shackleton-s/sent/1511."
       ]
      },
      {
       "output_type": "stream",
       "stream": "stdout",
       "text": [
        "\n",
        "..\\maildir/shackleton-s/sent/1512.\n",
        "..\\maildir/shackleton-s/sent/1513.\n",
        "..\\maildir/shackleton-s/sent/1514."
       ]
      },
      {
       "output_type": "stream",
       "stream": "stdout",
       "text": [
        "\n",
        "..\\maildir/shackleton-s/sent/1515.\n",
        "..\\maildir/shackleton-s/sent/1516.\n",
        "..\\maildir/shackleton-s/sent/1517.\n",
        "..\\maildir/shackleton-s/sent/1518.\n",
        "..\\maildir/shackleton-s/sent/1519.\n",
        "..\\maildir/shackleton-s/sent/152.\n",
        "..\\maildir/shackleton-s/sent/1520."
       ]
      },
      {
       "output_type": "stream",
       "stream": "stdout",
       "text": [
        "\n",
        "..\\maildir/shackleton-s/sent/1521.\n",
        "..\\maildir/shackleton-s/sent/1522.\n",
        "..\\maildir/shackleton-s/sent/1523.\n",
        "..\\maildir/shackleton-s/sent/1524.\n",
        "..\\maildir/shackleton-s/sent/1525."
       ]
      },
      {
       "output_type": "stream",
       "stream": "stdout",
       "text": [
        "\n",
        "..\\maildir/shackleton-s/sent/1526.\n",
        "..\\maildir/shackleton-s/sent/1527.\n",
        "..\\maildir/shackleton-s/sent/1528.\n",
        "..\\maildir/shackleton-s/sent/1529.\n",
        "..\\maildir/shackleton-s/sent/153."
       ]
      },
      {
       "output_type": "stream",
       "stream": "stdout",
       "text": [
        "\n",
        "..\\maildir/shackleton-s/sent/1530.\n",
        "..\\maildir/shackleton-s/sent/1531.\n",
        "..\\maildir/shackleton-s/sent/1532.\n",
        "..\\maildir/shackleton-s/sent/1533.\n",
        "..\\maildir/shackleton-s/sent/1534.\n",
        "..\\maildir/shackleton-s/sent/1535.\n",
        "..\\maildir/shackleton-s/sent/1536."
       ]
      },
      {
       "output_type": "stream",
       "stream": "stdout",
       "text": [
        "\n",
        "..\\maildir/shackleton-s/sent/1537.\n",
        "..\\maildir/shackleton-s/sent/1538.\n",
        "..\\maildir/shackleton-s/sent/1539.\n",
        "..\\maildir/shackleton-s/sent/154.\n",
        "..\\maildir/shackleton-s/sent/1540.\n",
        "..\\maildir/shackleton-s/sent/1541."
       ]
      },
      {
       "output_type": "stream",
       "stream": "stdout",
       "text": [
        "\n",
        "..\\maildir/shackleton-s/sent/1542.\n",
        "..\\maildir/shackleton-s/sent/1543."
       ]
      },
      {
       "output_type": "stream",
       "stream": "stdout",
       "text": [
        "\n",
        "..\\maildir/shackleton-s/sent/1544.\n",
        "..\\maildir/shackleton-s/sent/1545.\n",
        "..\\maildir/shackleton-s/sent/1546."
       ]
      },
      {
       "output_type": "stream",
       "stream": "stdout",
       "text": [
        "\n",
        "..\\maildir/shackleton-s/sent/1547.\n",
        "..\\maildir/shackleton-s/sent/1548.\n",
        "..\\maildir/shackleton-s/sent/1549.\n",
        "..\\maildir/shackleton-s/sent/155.\n",
        "..\\maildir/shackleton-s/sent/1550.\n",
        "..\\maildir/shackleton-s/sent/1551."
       ]
      },
      {
       "output_type": "stream",
       "stream": "stdout",
       "text": [
        "\n",
        "..\\maildir/shackleton-s/sent/1552.\n",
        "..\\maildir/shackleton-s/sent/1553.\n",
        "..\\maildir/shackleton-s/sent/1554.\n",
        "..\\maildir/shackleton-s/sent/1555."
       ]
      },
      {
       "output_type": "stream",
       "stream": "stdout",
       "text": [
        "\n",
        "..\\maildir/shackleton-s/sent/1556.\n",
        "..\\maildir/shackleton-s/sent/1557.\n",
        "..\\maildir/shackleton-s/sent/1558."
       ]
      },
      {
       "output_type": "stream",
       "stream": "stdout",
       "text": [
        "\n",
        "..\\maildir/shackleton-s/sent/1559.\n",
        "..\\maildir/shackleton-s/sent/156.\n",
        "..\\maildir/shackleton-s/sent/1560.\n",
        "..\\maildir/shackleton-s/sent/1561.\n",
        "..\\maildir/shackleton-s/sent/1562."
       ]
      },
      {
       "output_type": "stream",
       "stream": "stdout",
       "text": [
        "\n",
        "..\\maildir/shackleton-s/sent/1563.\n",
        "..\\maildir/shackleton-s/sent/1564.\n",
        "..\\maildir/shackleton-s/sent/1565."
       ]
      },
      {
       "output_type": "stream",
       "stream": "stdout",
       "text": [
        "\n",
        "..\\maildir/shackleton-s/sent/1566.\n",
        "..\\maildir/shackleton-s/sent/1567.\n",
        "..\\maildir/shackleton-s/sent/1568.\n",
        "..\\maildir/shackleton-s/sent/1569.\n",
        "..\\maildir/shackleton-s/sent/157.\n",
        "..\\maildir/shackleton-s/sent/1570.\n",
        "..\\maildir/shackleton-s/sent/1571.\n",
        "..\\maildir/shackleton-s/sent/1572."
       ]
      },
      {
       "output_type": "stream",
       "stream": "stdout",
       "text": [
        "\n",
        "..\\maildir/shackleton-s/sent/1573.\n",
        "..\\maildir/shackleton-s/sent/1574.\n",
        "..\\maildir/shackleton-s/sent/1575.\n",
        "..\\maildir/shackleton-s/sent/1576.\n",
        "..\\maildir/shackleton-s/sent/1577.\n",
        "..\\maildir/shackleton-s/sent/1578."
       ]
      },
      {
       "output_type": "stream",
       "stream": "stdout",
       "text": [
        "\n",
        "..\\maildir/shackleton-s/sent/1579.\n",
        "..\\maildir/shackleton-s/sent/158.\n",
        "..\\maildir/shackleton-s/sent/1580.\n",
        "..\\maildir/shackleton-s/sent/1581."
       ]
      },
      {
       "output_type": "stream",
       "stream": "stdout",
       "text": [
        "\n",
        "..\\maildir/shackleton-s/sent/1582.\n",
        "..\\maildir/shackleton-s/sent/1583.\n",
        "..\\maildir/shackleton-s/sent/1584.\n",
        "..\\maildir/shackleton-s/sent/1585."
       ]
      },
      {
       "output_type": "stream",
       "stream": "stdout",
       "text": [
        "\n",
        "..\\maildir/shackleton-s/sent/1586.\n",
        "..\\maildir/shackleton-s/sent/1587.\n",
        "..\\maildir/shackleton-s/sent/1588.\n",
        "..\\maildir/shackleton-s/sent/1589.\n",
        "..\\maildir/shackleton-s/sent/159.\n",
        "..\\maildir/shackleton-s/sent/1590."
       ]
      },
      {
       "output_type": "stream",
       "stream": "stdout",
       "text": [
        "\n",
        "..\\maildir/shackleton-s/sent/1591.\n",
        "..\\maildir/shackleton-s/sent/1592.\n",
        "..\\maildir/shackleton-s/sent/1593."
       ]
      },
      {
       "output_type": "stream",
       "stream": "stdout",
       "text": [
        "\n",
        "..\\maildir/shackleton-s/sent/1594.\n",
        "..\\maildir/shackleton-s/sent/1596.\n",
        "..\\maildir/shackleton-s/sent/1597.\n",
        "..\\maildir/shackleton-s/sent/1598.\n",
        "..\\maildir/shackleton-s/sent/1599.\n",
        "..\\maildir/shackleton-s/sent/16."
       ]
      },
      {
       "output_type": "stream",
       "stream": "stdout",
       "text": [
        "\n",
        "..\\maildir/shackleton-s/sent/160.\n",
        "..\\maildir/shackleton-s/sent/1600.\n",
        "..\\maildir/shackleton-s/sent/1601.\n",
        "..\\maildir/shackleton-s/sent/1602.\n",
        "..\\maildir/shackleton-s/sent/1603."
       ]
      },
      {
       "output_type": "stream",
       "stream": "stdout",
       "text": [
        "\n",
        "..\\maildir/shackleton-s/sent/1604.\n",
        "..\\maildir/shackleton-s/sent/1605."
       ]
      },
      {
       "output_type": "stream",
       "stream": "stdout",
       "text": [
        "\n",
        "..\\maildir/shackleton-s/sent/1606.\n",
        "..\\maildir/shackleton-s/sent/1607.\n",
        "..\\maildir/shackleton-s/sent/1608."
       ]
      },
      {
       "output_type": "stream",
       "stream": "stdout",
       "text": [
        "\n",
        "..\\maildir/shackleton-s/sent/1609.\n",
        "..\\maildir/shackleton-s/sent/161.\n",
        "..\\maildir/shackleton-s/sent/1610.\n",
        "..\\maildir/shackleton-s/sent/1611.\n",
        "..\\maildir/shackleton-s/sent/1612."
       ]
      },
      {
       "output_type": "stream",
       "stream": "stdout",
       "text": [
        "\n",
        "..\\maildir/shackleton-s/sent/1613.\n",
        "..\\maildir/shackleton-s/sent/1614.\n",
        "..\\maildir/shackleton-s/sent/1615.\n",
        "..\\maildir/shackleton-s/sent/1616.\n",
        "..\\maildir/shackleton-s/sent/1617.\n",
        "..\\maildir/shackleton-s/sent/1618.\n",
        "..\\maildir/shackleton-s/sent/1619."
       ]
      },
      {
       "output_type": "stream",
       "stream": "stdout",
       "text": [
        "\n",
        "..\\maildir/shackleton-s/sent/162.\n",
        "..\\maildir/shackleton-s/sent/1620.\n",
        "..\\maildir/shackleton-s/sent/1621.\n",
        "..\\maildir/shackleton-s/sent/1622.\n",
        "..\\maildir/shackleton-s/sent/1623.\n",
        "..\\maildir/shackleton-s/sent/1624."
       ]
      },
      {
       "output_type": "stream",
       "stream": "stdout",
       "text": [
        "\n",
        "..\\maildir/shackleton-s/sent/1625.\n",
        "..\\maildir/shackleton-s/sent/1626.\n",
        "..\\maildir/shackleton-s/sent/1627.\n",
        "..\\maildir/shackleton-s/sent/1628.\n",
        "..\\maildir/shackleton-s/sent/1629.\n",
        "..\\maildir/shackleton-s/sent/163.\n",
        "..\\maildir/shackleton-s/sent/1630.\n",
        "..\\maildir/shackleton-s/sent/1631."
       ]
      },
      {
       "output_type": "stream",
       "stream": "stdout",
       "text": [
        "\n",
        "..\\maildir/shackleton-s/sent/1632.\n",
        "..\\maildir/shackleton-s/sent/1633.\n",
        "..\\maildir/shackleton-s/sent/1635.\n",
        "..\\maildir/shackleton-s/sent/1636.\n",
        "..\\maildir/shackleton-s/sent/1637.\n",
        "..\\maildir/shackleton-s/sent/1638.\n",
        "..\\maildir/shackleton-s/sent/1639."
       ]
      },
      {
       "output_type": "stream",
       "stream": "stdout",
       "text": [
        "\n",
        "..\\maildir/shackleton-s/sent/164.\n",
        "..\\maildir/shackleton-s/sent/1640.\n",
        "..\\maildir/shackleton-s/sent/1641.\n",
        "..\\maildir/shackleton-s/sent/1642.\n",
        "..\\maildir/shackleton-s/sent/1643.\n",
        "..\\maildir/shackleton-s/sent/1644.\n",
        "..\\maildir/shackleton-s/sent/1645."
       ]
      },
      {
       "output_type": "stream",
       "stream": "stdout",
       "text": [
        "\n",
        "..\\maildir/shackleton-s/sent/1646.\n",
        "..\\maildir/shackleton-s/sent/1647.\n",
        "..\\maildir/shackleton-s/sent/1648.\n",
        "..\\maildir/shackleton-s/sent/1649."
       ]
      },
      {
       "output_type": "stream",
       "stream": "stdout",
       "text": [
        "\n",
        "..\\maildir/shackleton-s/sent/165.\n",
        "..\\maildir/shackleton-s/sent/1650.\n",
        "..\\maildir/shackleton-s/sent/1651."
       ]
      },
      {
       "output_type": "stream",
       "stream": "stdout",
       "text": [
        "\n",
        "..\\maildir/shackleton-s/sent/1652.\n",
        "..\\maildir/shackleton-s/sent/1653.\n",
        "..\\maildir/shackleton-s/sent/1654.\n",
        "..\\maildir/shackleton-s/sent/1655.\n",
        "..\\maildir/shackleton-s/sent/1656."
       ]
      },
      {
       "output_type": "stream",
       "stream": "stdout",
       "text": [
        "\n",
        "..\\maildir/shackleton-s/sent/1657.\n",
        "..\\maildir/shackleton-s/sent/1658.\n",
        "..\\maildir/shackleton-s/sent/1659.\n",
        "..\\maildir/shackleton-s/sent/166."
       ]
      },
      {
       "output_type": "stream",
       "stream": "stdout",
       "text": [
        "\n",
        "..\\maildir/shackleton-s/sent/1660.\n",
        "..\\maildir/shackleton-s/sent/1661.\n",
        "..\\maildir/shackleton-s/sent/1662.\n",
        "..\\maildir/shackleton-s/sent/1663."
       ]
      },
      {
       "output_type": "stream",
       "stream": "stdout",
       "text": [
        "\n",
        "..\\maildir/shackleton-s/sent/1664.\n",
        "..\\maildir/shackleton-s/sent/1665.\n",
        "..\\maildir/shackleton-s/sent/1666.\n",
        "..\\maildir/shackleton-s/sent/1667.\n",
        "..\\maildir/shackleton-s/sent/167.\n",
        "..\\maildir/shackleton-s/sent/1670.\n",
        "..\\maildir/shackleton-s/sent/1671."
       ]
      },
      {
       "output_type": "stream",
       "stream": "stdout",
       "text": [
        "\n",
        "..\\maildir/shackleton-s/sent/1672.\n",
        "..\\maildir/shackleton-s/sent/1673.\n",
        "..\\maildir/shackleton-s/sent/1674."
       ]
      },
      {
       "output_type": "stream",
       "stream": "stdout",
       "text": [
        "\n",
        "..\\maildir/shackleton-s/sent/1675.\n",
        "..\\maildir/shackleton-s/sent/1676.\n",
        "..\\maildir/shackleton-s/sent/1677.\n",
        "..\\maildir/shackleton-s/sent/1678.\n",
        "..\\maildir/shackleton-s/sent/1679.\n",
        "..\\maildir/shackleton-s/sent/168.\n",
        "..\\maildir/shackleton-s/sent/1680."
       ]
      },
      {
       "output_type": "stream",
       "stream": "stdout",
       "text": [
        "\n",
        "..\\maildir/shackleton-s/sent/1681.\n",
        "..\\maildir/shackleton-s/sent/1682.\n",
        "..\\maildir/shackleton-s/sent/1683.\n",
        "..\\maildir/shackleton-s/sent/1684.\n",
        "..\\maildir/shackleton-s/sent/1685."
       ]
      },
      {
       "output_type": "stream",
       "stream": "stdout",
       "text": [
        "\n",
        "..\\maildir/shackleton-s/sent/1686.\n",
        "..\\maildir/shackleton-s/sent/1687.\n",
        "..\\maildir/shackleton-s/sent/1688.\n",
        "..\\maildir/shackleton-s/sent/1689.\n",
        "..\\maildir/shackleton-s/sent/169."
       ]
      },
      {
       "output_type": "stream",
       "stream": "stdout",
       "text": [
        "\n",
        "..\\maildir/shackleton-s/sent/1690.\n",
        "..\\maildir/shackleton-s/sent/1691.\n",
        "..\\maildir/shackleton-s/sent/1692."
       ]
      },
      {
       "output_type": "stream",
       "stream": "stdout",
       "text": [
        "\n",
        "..\\maildir/shackleton-s/sent/1693.\n",
        "..\\maildir/shackleton-s/sent/1694.\n",
        "..\\maildir/shackleton-s/sent/1695.\n",
        "..\\maildir/shackleton-s/sent/1696."
       ]
      },
      {
       "output_type": "stream",
       "stream": "stdout",
       "text": [
        "\n",
        "..\\maildir/shackleton-s/sent/1697.\n",
        "..\\maildir/shackleton-s/sent/1698.\n",
        "..\\maildir/shackleton-s/sent/1699.\n",
        "..\\maildir/shackleton-s/sent/17."
       ]
      },
      {
       "output_type": "stream",
       "stream": "stdout",
       "text": [
        "\n",
        "..\\maildir/shackleton-s/sent/170.\n",
        "..\\maildir/shackleton-s/sent/1700.\n",
        "..\\maildir/shackleton-s/sent/1701.\n",
        "..\\maildir/shackleton-s/sent/1702.\n",
        "..\\maildir/shackleton-s/sent/1703.\n",
        "..\\maildir/shackleton-s/sent/1704.\n",
        "..\\maildir/shackleton-s/sent/1705."
       ]
      },
      {
       "output_type": "stream",
       "stream": "stdout",
       "text": [
        "\n",
        "..\\maildir/shackleton-s/sent/1706.\n",
        "..\\maildir/shackleton-s/sent/1707.\n",
        "..\\maildir/shackleton-s/sent/1708.\n",
        "..\\maildir/shackleton-s/sent/1709.\n",
        "..\\maildir/shackleton-s/sent/171.\n",
        "..\\maildir/shackleton-s/sent/1710.\n",
        "..\\maildir/shackleton-s/sent/1711.\n",
        "..\\maildir/shackleton-s/sent/1712.\n",
        "..\\maildir/shackleton-s/sent/1713.\n",
        "..\\maildir/shackleton-s/sent/1714.\n",
        "..\\maildir/shackleton-s/sent/1715.\n",
        "..\\maildir/shackleton-s/sent/1716.\n",
        "..\\maildir/shackleton-s/sent/1717."
       ]
      },
      {
       "output_type": "stream",
       "stream": "stdout",
       "text": [
        "\n",
        "..\\maildir/shackleton-s/sent/1718."
       ]
      },
      {
       "output_type": "stream",
       "stream": "stdout",
       "text": [
        "\n",
        "..\\maildir/shackleton-s/sent/1719.\n",
        "..\\maildir/shackleton-s/sent/172.\n",
        "..\\maildir/shackleton-s/sent/1720."
       ]
      },
      {
       "output_type": "stream",
       "stream": "stdout",
       "text": [
        "\n",
        "..\\maildir/shackleton-s/sent/1721.\n",
        "..\\maildir/shackleton-s/sent/1722.\n",
        "..\\maildir/shackleton-s/sent/1723."
       ]
      },
      {
       "output_type": "stream",
       "stream": "stdout",
       "text": [
        "\n",
        "..\\maildir/shackleton-s/sent/1724.\n",
        "..\\maildir/shackleton-s/sent/1725.\n",
        "..\\maildir/shackleton-s/sent/1726.\n",
        "..\\maildir/shackleton-s/sent/1727."
       ]
      },
      {
       "output_type": "stream",
       "stream": "stdout",
       "text": [
        "\n",
        "..\\maildir/shackleton-s/sent/1728.\n",
        "..\\maildir/shackleton-s/sent/1729.\n",
        "..\\maildir/shackleton-s/sent/173."
       ]
      },
      {
       "output_type": "stream",
       "stream": "stdout",
       "text": [
        "\n",
        "..\\maildir/shackleton-s/sent/1730.\n",
        "..\\maildir/shackleton-s/sent/1731.\n",
        "..\\maildir/shackleton-s/sent/1732.\n",
        "..\\maildir/shackleton-s/sent/1733.\n",
        "..\\maildir/shackleton-s/sent/1734."
       ]
      },
      {
       "output_type": "stream",
       "stream": "stdout",
       "text": [
        "\n",
        "..\\maildir/shackleton-s/sent/1735.\n",
        "..\\maildir/shackleton-s/sent/1736.\n",
        "..\\maildir/shackleton-s/sent/1737.\n",
        "..\\maildir/shackleton-s/sent/1738."
       ]
      },
      {
       "output_type": "stream",
       "stream": "stdout",
       "text": [
        "\n",
        "..\\maildir/shackleton-s/sent/1739.\n",
        "..\\maildir/shackleton-s/sent/174.\n",
        "..\\maildir/shackleton-s/sent/1740.\n",
        "..\\maildir/shackleton-s/sent/1741."
       ]
      },
      {
       "output_type": "stream",
       "stream": "stdout",
       "text": [
        "\n",
        "..\\maildir/shackleton-s/sent/1742.\n",
        "..\\maildir/shackleton-s/sent/1743.\n",
        "..\\maildir/shackleton-s/sent/1744.\n",
        "..\\maildir/shackleton-s/sent/1745."
       ]
      },
      {
       "output_type": "stream",
       "stream": "stdout",
       "text": [
        "\n",
        "..\\maildir/shackleton-s/sent/1746.\n",
        "..\\maildir/shackleton-s/sent/1747.\n",
        "..\\maildir/shackleton-s/sent/1748.\n",
        "..\\maildir/shackleton-s/sent/1749.\n",
        "..\\maildir/shackleton-s/sent/175.\n",
        "..\\maildir/shackleton-s/sent/1750.\n",
        "..\\maildir/shackleton-s/sent/1751.\n",
        "..\\maildir/shackleton-s/sent/1752.\n",
        "..\\maildir/shackleton-s/sent/1753."
       ]
      },
      {
       "output_type": "stream",
       "stream": "stdout",
       "text": [
        "\n",
        "..\\maildir/shackleton-s/sent/1754.\n",
        "..\\maildir/shackleton-s/sent/1755.\n",
        "..\\maildir/shackleton-s/sent/1756.\n",
        "..\\maildir/shackleton-s/sent/1757."
       ]
      },
      {
       "output_type": "stream",
       "stream": "stdout",
       "text": [
        "\n",
        "..\\maildir/shackleton-s/sent/1758.\n",
        "..\\maildir/shackleton-s/sent/1759.\n",
        "..\\maildir/shackleton-s/sent/176.\n",
        "..\\maildir/shackleton-s/sent/1760.\n",
        "..\\maildir/shackleton-s/sent/1761.\n",
        "..\\maildir/shackleton-s/sent/1762.\n",
        "..\\maildir/shackleton-s/sent/1763."
       ]
      },
      {
       "output_type": "stream",
       "stream": "stdout",
       "text": [
        "\n",
        "..\\maildir/shackleton-s/sent/1764.\n",
        "..\\maildir/shackleton-s/sent/1765.\n",
        "..\\maildir/shackleton-s/sent/1766.\n",
        "..\\maildir/shackleton-s/sent/1767.\n",
        "..\\maildir/shackleton-s/sent/1768."
       ]
      },
      {
       "output_type": "stream",
       "stream": "stdout",
       "text": [
        "\n",
        "..\\maildir/shackleton-s/sent/1769.\n",
        "..\\maildir/shackleton-s/sent/177."
       ]
      },
      {
       "output_type": "stream",
       "stream": "stdout",
       "text": [
        "\n",
        "..\\maildir/shackleton-s/sent/1770.\n",
        "..\\maildir/shackleton-s/sent/1771.\n",
        "..\\maildir/shackleton-s/sent/1772.\n",
        "..\\maildir/shackleton-s/sent/1773.\n",
        "..\\maildir/shackleton-s/sent/1774.\n",
        "..\\maildir/shackleton-s/sent/1775.\n",
        "..\\maildir/shackleton-s/sent/1776."
       ]
      },
      {
       "output_type": "stream",
       "stream": "stdout",
       "text": [
        "\n",
        "..\\maildir/shackleton-s/sent/1777.\n",
        "..\\maildir/shackleton-s/sent/1778.\n",
        "..\\maildir/shackleton-s/sent/1779.\n",
        "..\\maildir/shackleton-s/sent/178."
       ]
      },
      {
       "output_type": "stream",
       "stream": "stdout",
       "text": [
        "\n",
        "..\\maildir/shackleton-s/sent/1780.\n",
        "..\\maildir/shackleton-s/sent/1781.\n",
        "..\\maildir/shackleton-s/sent/1782.\n",
        "..\\maildir/shackleton-s/sent/1783.\n",
        "..\\maildir/shackleton-s/sent/1784.\n",
        "..\\maildir/shackleton-s/sent/1785."
       ]
      },
      {
       "output_type": "stream",
       "stream": "stdout",
       "text": [
        "\n",
        "..\\maildir/shackleton-s/sent/1786.\n",
        "..\\maildir/shackleton-s/sent/1787.\n",
        "..\\maildir/shackleton-s/sent/1788.\n",
        "..\\maildir/shackleton-s/sent/1789.\n",
        "..\\maildir/shackleton-s/sent/179."
       ]
      },
      {
       "output_type": "stream",
       "stream": "stdout",
       "text": [
        "\n",
        "..\\maildir/shackleton-s/sent/1790.\n",
        "..\\maildir/shackleton-s/sent/1791.\n",
        "..\\maildir/shackleton-s/sent/1792.\n",
        "..\\maildir/shackleton-s/sent/1793."
       ]
      },
      {
       "output_type": "stream",
       "stream": "stdout",
       "text": [
        "\n",
        "..\\maildir/shackleton-s/sent/1794.\n",
        "..\\maildir/shackleton-s/sent/1795.\n",
        "..\\maildir/shackleton-s/sent/1796.\n",
        "..\\maildir/shackleton-s/sent/1798.\n",
        "..\\maildir/shackleton-s/sent/1799."
       ]
      },
      {
       "output_type": "stream",
       "stream": "stdout",
       "text": [
        "\n",
        "..\\maildir/shackleton-s/sent/18.\n",
        "..\\maildir/shackleton-s/sent/180.\n",
        "..\\maildir/shackleton-s/sent/1800.\n",
        "..\\maildir/shackleton-s/sent/1801.\n",
        "..\\maildir/shackleton-s/sent/1802.\n",
        "..\\maildir/shackleton-s/sent/1803."
       ]
      },
      {
       "output_type": "stream",
       "stream": "stdout",
       "text": [
        "\n",
        "..\\maildir/shackleton-s/sent/1804.\n",
        "..\\maildir/shackleton-s/sent/1805."
       ]
      },
      {
       "output_type": "stream",
       "stream": "stdout",
       "text": [
        "\n",
        "..\\maildir/shackleton-s/sent/1806.\n",
        "..\\maildir/shackleton-s/sent/1807.\n",
        "..\\maildir/shackleton-s/sent/1808.\n",
        "..\\maildir/shackleton-s/sent/1809."
       ]
      },
      {
       "output_type": "stream",
       "stream": "stdout",
       "text": [
        "\n",
        "..\\maildir/shackleton-s/sent/181.\n",
        "..\\maildir/shackleton-s/sent/1810.\n",
        "..\\maildir/shackleton-s/sent/1811.\n",
        "..\\maildir/shackleton-s/sent/1812."
       ]
      },
      {
       "output_type": "stream",
       "stream": "stdout",
       "text": [
        "\n",
        "..\\maildir/shackleton-s/sent/1813.\n",
        "..\\maildir/shackleton-s/sent/1814.\n",
        "..\\maildir/shackleton-s/sent/1815.\n",
        "..\\maildir/shackleton-s/sent/1816.\n",
        "..\\maildir/shackleton-s/sent/1817."
       ]
      },
      {
       "output_type": "stream",
       "stream": "stdout",
       "text": [
        "\n",
        "..\\maildir/shackleton-s/sent/1818.\n",
        "..\\maildir/shackleton-s/sent/1819."
       ]
      },
      {
       "output_type": "stream",
       "stream": "stdout",
       "text": [
        "\n",
        "..\\maildir/shackleton-s/sent/182.\n",
        "..\\maildir/shackleton-s/sent/1820.\n",
        "..\\maildir/shackleton-s/sent/1821.\n",
        "..\\maildir/shackleton-s/sent/1822.\n",
        "..\\maildir/shackleton-s/sent/1823.\n",
        "..\\maildir/shackleton-s/sent/1824.\n",
        "..\\maildir/shackleton-s/sent/1825.\n",
        "..\\maildir/shackleton-s/sent/1826."
       ]
      },
      {
       "output_type": "stream",
       "stream": "stdout",
       "text": [
        "\n",
        "..\\maildir/shackleton-s/sent/1827.\n",
        "..\\maildir/shackleton-s/sent/1828.\n",
        "..\\maildir/shackleton-s/sent/1829.\n",
        "..\\maildir/shackleton-s/sent/183."
       ]
      },
      {
       "output_type": "stream",
       "stream": "stdout",
       "text": [
        "\n",
        "..\\maildir/shackleton-s/sent/1830.\n",
        "..\\maildir/shackleton-s/sent/1831.\n",
        "..\\maildir/shackleton-s/sent/1832.\n",
        "..\\maildir/shackleton-s/sent/1833.\n",
        "..\\maildir/shackleton-s/sent/1834."
       ]
      },
      {
       "output_type": "stream",
       "stream": "stdout",
       "text": [
        "\n",
        "..\\maildir/shackleton-s/sent/1835.\n",
        "..\\maildir/shackleton-s/sent/1836.\n",
        "..\\maildir/shackleton-s/sent/1837.\n",
        "..\\maildir/shackleton-s/sent/1838."
       ]
      },
      {
       "output_type": "stream",
       "stream": "stdout",
       "text": [
        "\n",
        "..\\maildir/shackleton-s/sent/1839.\n",
        "..\\maildir/shackleton-s/sent/184.\n",
        "..\\maildir/shackleton-s/sent/1840.\n",
        "..\\maildir/shackleton-s/sent/1841."
       ]
      },
      {
       "output_type": "stream",
       "stream": "stdout",
       "text": [
        "\n",
        "..\\maildir/shackleton-s/sent/1842.\n",
        "..\\maildir/shackleton-s/sent/1843.\n",
        "..\\maildir/shackleton-s/sent/1844.\n",
        "..\\maildir/shackleton-s/sent/1845.\n",
        "..\\maildir/shackleton-s/sent/1846.\n",
        "..\\maildir/shackleton-s/sent/1847."
       ]
      },
      {
       "output_type": "stream",
       "stream": "stdout",
       "text": [
        "\n",
        "..\\maildir/shackleton-s/sent/1848.\n",
        "..\\maildir/shackleton-s/sent/1849.\n",
        "..\\maildir/shackleton-s/sent/185.\n",
        "..\\maildir/shackleton-s/sent/1850.\n",
        "..\\maildir/shackleton-s/sent/1851."
       ]
      },
      {
       "output_type": "stream",
       "stream": "stdout",
       "text": [
        "\n",
        "..\\maildir/shackleton-s/sent/1852.\n",
        "..\\maildir/shackleton-s/sent/1853.\n",
        "..\\maildir/shackleton-s/sent/1855.\n",
        "..\\maildir/shackleton-s/sent/1856."
       ]
      },
      {
       "output_type": "stream",
       "stream": "stdout",
       "text": [
        "\n",
        "..\\maildir/shackleton-s/sent/1857.\n",
        "..\\maildir/shackleton-s/sent/1858."
       ]
      },
      {
       "output_type": "stream",
       "stream": "stdout",
       "text": [
        "\n",
        "..\\maildir/shackleton-s/sent/1859.\n",
        "..\\maildir/shackleton-s/sent/186.\n",
        "..\\maildir/shackleton-s/sent/1860.\n",
        "..\\maildir/shackleton-s/sent/1861.\n",
        "..\\maildir/shackleton-s/sent/1862.\n",
        "..\\maildir/shackleton-s/sent/1863.\n",
        "..\\maildir/shackleton-s/sent/1864."
       ]
      },
      {
       "output_type": "stream",
       "stream": "stdout",
       "text": [
        "\n",
        "..\\maildir/shackleton-s/sent/1865.\n",
        "..\\maildir/shackleton-s/sent/1866.\n",
        "..\\maildir/shackleton-s/sent/1867.\n",
        "..\\maildir/shackleton-s/sent/1868.\n",
        "..\\maildir/shackleton-s/sent/1869.\n",
        "..\\maildir/shackleton-s/sent/187.\n",
        "..\\maildir/shackleton-s/sent/1870.\n",
        "..\\maildir/shackleton-s/sent/1871."
       ]
      },
      {
       "output_type": "stream",
       "stream": "stdout",
       "text": [
        "\n",
        "..\\maildir/shackleton-s/sent/1872.\n",
        "..\\maildir/shackleton-s/sent/1873.\n",
        "..\\maildir/shackleton-s/sent/1874.\n",
        "..\\maildir/shackleton-s/sent/1875.\n",
        "..\\maildir/shackleton-s/sent/1876.\n",
        "..\\maildir/shackleton-s/sent/1877.\n",
        "..\\maildir/shackleton-s/sent/1878.\n",
        "..\\maildir/shackleton-s/sent/1879."
       ]
      },
      {
       "output_type": "stream",
       "stream": "stdout",
       "text": [
        "\n",
        "..\\maildir/shackleton-s/sent/188.\n",
        "..\\maildir/shackleton-s/sent/1880."
       ]
      },
      {
       "output_type": "stream",
       "stream": "stdout",
       "text": [
        "\n",
        "..\\maildir/shackleton-s/sent/1881.\n",
        "..\\maildir/shackleton-s/sent/1882.\n",
        "..\\maildir/shackleton-s/sent/1883.\n",
        "..\\maildir/shackleton-s/sent/1884.\n",
        "..\\maildir/shackleton-s/sent/1885.\n",
        "..\\maildir/shackleton-s/sent/1886."
       ]
      },
      {
       "output_type": "stream",
       "stream": "stdout",
       "text": [
        "\n",
        "..\\maildir/shackleton-s/sent/1887.\n",
        "..\\maildir/shackleton-s/sent/1888.\n",
        "..\\maildir/shackleton-s/sent/1889.\n",
        "..\\maildir/shackleton-s/sent/189."
       ]
      },
      {
       "output_type": "stream",
       "stream": "stdout",
       "text": [
        "\n",
        "..\\maildir/shackleton-s/sent/1890.\n",
        "..\\maildir/shackleton-s/sent/1891.\n",
        "..\\maildir/shackleton-s/sent/1892.\n",
        "..\\maildir/shackleton-s/sent/1893."
       ]
      },
      {
       "output_type": "stream",
       "stream": "stdout",
       "text": [
        "\n",
        "..\\maildir/shackleton-s/sent/1894.\n",
        "..\\maildir/shackleton-s/sent/1895.\n",
        "..\\maildir/shackleton-s/sent/1896.\n",
        "..\\maildir/shackleton-s/sent/1897."
       ]
      },
      {
       "output_type": "stream",
       "stream": "stdout",
       "text": [
        "\n",
        "..\\maildir/shackleton-s/sent/1898.\n",
        "..\\maildir/shackleton-s/sent/1899.\n",
        "..\\maildir/shackleton-s/sent/19.\n",
        "..\\maildir/shackleton-s/sent/190."
       ]
      },
      {
       "output_type": "stream",
       "stream": "stdout",
       "text": [
        "\n",
        "..\\maildir/shackleton-s/sent/1900.\n",
        "..\\maildir/shackleton-s/sent/1901.\n",
        "..\\maildir/shackleton-s/sent/1902.\n",
        "..\\maildir/shackleton-s/sent/1903.\n",
        "..\\maildir/shackleton-s/sent/1904.\n",
        "..\\maildir/shackleton-s/sent/1905.\n",
        "..\\maildir/shackleton-s/sent/1906."
       ]
      },
      {
       "output_type": "stream",
       "stream": "stdout",
       "text": [
        "\n",
        "..\\maildir/shackleton-s/sent/1907.\n",
        "..\\maildir/shackleton-s/sent/1908.\n",
        "..\\maildir/shackleton-s/sent/1909.\n",
        "..\\maildir/shackleton-s/sent/191.\n",
        "..\\maildir/shackleton-s/sent/1910.\n",
        "..\\maildir/shackleton-s/sent/1911.\n",
        "..\\maildir/shackleton-s/sent/1912."
       ]
      },
      {
       "output_type": "stream",
       "stream": "stdout",
       "text": [
        "\n",
        "..\\maildir/shackleton-s/sent/1913.\n",
        "..\\maildir/shackleton-s/sent/1914.\n",
        "..\\maildir/shackleton-s/sent/1915.\n",
        "..\\maildir/shackleton-s/sent/1916."
       ]
      },
      {
       "output_type": "stream",
       "stream": "stdout",
       "text": [
        "\n",
        "..\\maildir/shackleton-s/sent/1917.\n",
        "..\\maildir/shackleton-s/sent/1918.\n",
        "..\\maildir/shackleton-s/sent/1919.\n",
        "..\\maildir/shackleton-s/sent/192."
       ]
      },
      {
       "output_type": "stream",
       "stream": "stdout",
       "text": [
        "\n",
        "..\\maildir/shackleton-s/sent/1920.\n",
        "..\\maildir/shackleton-s/sent/1921.\n",
        "..\\maildir/shackleton-s/sent/1922.\n",
        "..\\maildir/shackleton-s/sent/1923."
       ]
      },
      {
       "output_type": "stream",
       "stream": "stdout",
       "text": [
        "\n",
        "..\\maildir/shackleton-s/sent/1924.\n",
        "..\\maildir/shackleton-s/sent/1925.\n",
        "..\\maildir/shackleton-s/sent/1926.\n",
        "..\\maildir/shackleton-s/sent/1927.\n",
        "..\\maildir/shackleton-s/sent/1928.\n",
        "..\\maildir/shackleton-s/sent/1929.\n",
        "..\\maildir/shackleton-s/sent/193.\n",
        "..\\maildir/shackleton-s/sent/1930."
       ]
      },
      {
       "output_type": "stream",
       "stream": "stdout",
       "text": [
        "\n",
        "..\\maildir/shackleton-s/sent/1931.\n",
        "..\\maildir/shackleton-s/sent/1932.\n",
        "..\\maildir/shackleton-s/sent/1933.\n",
        "..\\maildir/shackleton-s/sent/1934.\n",
        "..\\maildir/shackleton-s/sent/1935.\n",
        "..\\maildir/shackleton-s/sent/1936.\n",
        "..\\maildir/shackleton-s/sent/1937.\n",
        "..\\maildir/shackleton-s/sent/1938.\n",
        "..\\maildir/shackleton-s/sent/194.\n",
        "..\\maildir/shackleton-s/sent/1940.\n",
        "..\\maildir/shackleton-s/sent/1941.\n",
        "..\\maildir/shackleton-s/sent/1942."
       ]
      },
      {
       "output_type": "stream",
       "stream": "stdout",
       "text": [
        "\n",
        "..\\maildir/shackleton-s/sent/1943.\n",
        "..\\maildir/shackleton-s/sent/1944.\n",
        "..\\maildir/shackleton-s/sent/1945."
       ]
      },
      {
       "output_type": "stream",
       "stream": "stdout",
       "text": [
        "\n",
        "..\\maildir/shackleton-s/sent/1946.\n",
        "..\\maildir/shackleton-s/sent/1947.\n",
        "..\\maildir/shackleton-s/sent/1948.\n",
        "..\\maildir/shackleton-s/sent/1949.\n",
        "..\\maildir/shackleton-s/sent/195."
       ]
      },
      {
       "output_type": "stream",
       "stream": "stdout",
       "text": [
        "\n",
        "..\\maildir/shackleton-s/sent/1950.\n",
        "..\\maildir/shackleton-s/sent/1951.\n",
        "..\\maildir/shackleton-s/sent/1952.\n",
        "..\\maildir/shackleton-s/sent/1953.\n",
        "..\\maildir/shackleton-s/sent/1954."
       ]
      },
      {
       "output_type": "stream",
       "stream": "stdout",
       "text": [
        "\n",
        "..\\maildir/shackleton-s/sent/1955.\n",
        "..\\maildir/shackleton-s/sent/1956.\n",
        "..\\maildir/shackleton-s/sent/1957.\n",
        "..\\maildir/shackleton-s/sent/1958."
       ]
      },
      {
       "output_type": "stream",
       "stream": "stdout",
       "text": [
        "\n",
        "..\\maildir/shackleton-s/sent/1959.\n",
        "..\\maildir/shackleton-s/sent/196.\n",
        "..\\maildir/shackleton-s/sent/1960.\n",
        "..\\maildir/shackleton-s/sent/1961.\n",
        "..\\maildir/shackleton-s/sent/1962.\n",
        "..\\maildir/shackleton-s/sent/1963.\n",
        "..\\maildir/shackleton-s/sent/1964.\n",
        "..\\maildir/shackleton-s/sent/1965.\n",
        "..\\maildir/shackleton-s/sent/1966."
       ]
      },
      {
       "output_type": "stream",
       "stream": "stdout",
       "text": [
        "\n",
        "..\\maildir/shackleton-s/sent/1967.\n",
        "..\\maildir/shackleton-s/sent/1969.\n",
        "..\\maildir/shackleton-s/sent/197."
       ]
      },
      {
       "output_type": "stream",
       "stream": "stdout",
       "text": [
        "\n",
        "..\\maildir/shackleton-s/sent/1970.\n",
        "..\\maildir/shackleton-s/sent/1971.\n",
        "..\\maildir/shackleton-s/sent/1972.\n",
        "..\\maildir/shackleton-s/sent/1973."
       ]
      },
      {
       "output_type": "stream",
       "stream": "stdout",
       "text": [
        "\n",
        "..\\maildir/shackleton-s/sent/1974.\n",
        "..\\maildir/shackleton-s/sent/1975."
       ]
      },
      {
       "output_type": "stream",
       "stream": "stdout",
       "text": [
        "\n",
        "..\\maildir/shackleton-s/sent/1976.\n",
        "..\\maildir/shackleton-s/sent/1977.\n",
        "..\\maildir/shackleton-s/sent/1978.\n",
        "..\\maildir/shackleton-s/sent/1979."
       ]
      },
      {
       "output_type": "stream",
       "stream": "stdout",
       "text": [
        "\n",
        "..\\maildir/shackleton-s/sent/198.\n",
        "..\\maildir/shackleton-s/sent/1980.\n",
        "..\\maildir/shackleton-s/sent/1981.\n",
        "..\\maildir/shackleton-s/sent/1982.\n",
        "..\\maildir/shackleton-s/sent/1983."
       ]
      },
      {
       "output_type": "stream",
       "stream": "stdout",
       "text": [
        "\n",
        "..\\maildir/shackleton-s/sent/1984.\n",
        "..\\maildir/shackleton-s/sent/1985.\n",
        "..\\maildir/shackleton-s/sent/1986.\n",
        "..\\maildir/shackleton-s/sent/1987."
       ]
      },
      {
       "output_type": "stream",
       "stream": "stdout",
       "text": [
        "\n",
        "..\\maildir/shackleton-s/sent/1988.\n",
        "..\\maildir/shackleton-s/sent/1989."
       ]
      },
      {
       "output_type": "stream",
       "stream": "stdout",
       "text": [
        "\n",
        "..\\maildir/shackleton-s/sent/199.\n",
        "..\\maildir/shackleton-s/sent/1990.\n",
        "..\\maildir/shackleton-s/sent/1991."
       ]
      },
      {
       "output_type": "stream",
       "stream": "stdout",
       "text": [
        "\n",
        "..\\maildir/shackleton-s/sent/1992.\n",
        "..\\maildir/shackleton-s/sent/1993.\n",
        "..\\maildir/shackleton-s/sent/1994.\n",
        "..\\maildir/shackleton-s/sent/1995."
       ]
      },
      {
       "output_type": "stream",
       "stream": "stdout",
       "text": [
        "\n",
        "..\\maildir/shackleton-s/sent/1996.\n",
        "..\\maildir/shackleton-s/sent/1997.\n",
        "..\\maildir/shackleton-s/sent/1998.\n",
        "..\\maildir/shackleton-s/sent/1999."
       ]
      },
      {
       "output_type": "stream",
       "stream": "stdout",
       "text": [
        "\n",
        "..\\maildir/shackleton-s/sent/2.\n",
        "..\\maildir/shackleton-s/sent/20.\n",
        "..\\maildir/shackleton-s/sent/200.\n",
        "..\\maildir/shackleton-s/sent/2000.\n",
        "..\\maildir/shackleton-s/sent/2001.\n",
        "..\\maildir/shackleton-s/sent/2002.\n",
        "..\\maildir/shackleton-s/sent/2003.\n",
        "..\\maildir/shackleton-s/sent/2004.\n",
        "..\\maildir/shackleton-s/sent/2005."
       ]
      },
      {
       "output_type": "stream",
       "stream": "stdout",
       "text": [
        "\n",
        "..\\maildir/shackleton-s/sent/2006.\n",
        "..\\maildir/shackleton-s/sent/2007.\n",
        "..\\maildir/shackleton-s/sent/2008.\n",
        "..\\maildir/shackleton-s/sent/2009."
       ]
      },
      {
       "output_type": "stream",
       "stream": "stdout",
       "text": [
        "\n",
        "..\\maildir/shackleton-s/sent/201.\n",
        "..\\maildir/shackleton-s/sent/2010.\n",
        "..\\maildir/shackleton-s/sent/2011.\n",
        "..\\maildir/shackleton-s/sent/2012.\n",
        "..\\maildir/shackleton-s/sent/2013."
       ]
      },
      {
       "output_type": "stream",
       "stream": "stdout",
       "text": [
        "\n",
        "..\\maildir/shackleton-s/sent/2014.\n",
        "..\\maildir/shackleton-s/sent/2015.\n",
        "..\\maildir/shackleton-s/sent/2016.\n",
        "..\\maildir/shackleton-s/sent/2017.\n",
        "..\\maildir/shackleton-s/sent/2018.\n",
        "..\\maildir/shackleton-s/sent/2019.\n",
        "..\\maildir/shackleton-s/sent/202."
       ]
      },
      {
       "output_type": "stream",
       "stream": "stdout",
       "text": [
        "\n",
        "..\\maildir/shackleton-s/sent/2020.\n",
        "..\\maildir/shackleton-s/sent/2021.\n",
        "..\\maildir/shackleton-s/sent/2022.\n",
        "..\\maildir/shackleton-s/sent/2023.\n",
        "..\\maildir/shackleton-s/sent/2024.\n",
        "..\\maildir/shackleton-s/sent/2025."
       ]
      },
      {
       "output_type": "stream",
       "stream": "stdout",
       "text": [
        "\n",
        "..\\maildir/shackleton-s/sent/2026.\n",
        "..\\maildir/shackleton-s/sent/2027.\n",
        "..\\maildir/shackleton-s/sent/2028.\n",
        "..\\maildir/shackleton-s/sent/2029.\n",
        "..\\maildir/shackleton-s/sent/203.\n",
        "..\\maildir/shackleton-s/sent/2030."
       ]
      },
      {
       "output_type": "stream",
       "stream": "stdout",
       "text": [
        "\n",
        "..\\maildir/shackleton-s/sent/2031.\n",
        "..\\maildir/shackleton-s/sent/2032.\n",
        "..\\maildir/shackleton-s/sent/2033.\n",
        "..\\maildir/shackleton-s/sent/2034.\n",
        "..\\maildir/shackleton-s/sent/2035.\n",
        "..\\maildir/shackleton-s/sent/2036.\n",
        "..\\maildir/shackleton-s/sent/2037."
       ]
      },
      {
       "output_type": "stream",
       "stream": "stdout",
       "text": [
        "\n",
        "..\\maildir/shackleton-s/sent/2038.\n",
        "..\\maildir/shackleton-s/sent/2039.\n",
        "..\\maildir/shackleton-s/sent/204.\n",
        "..\\maildir/shackleton-s/sent/2040."
       ]
      },
      {
       "output_type": "stream",
       "stream": "stdout",
       "text": [
        "\n",
        "..\\maildir/shackleton-s/sent/2041.\n",
        "..\\maildir/shackleton-s/sent/2042.\n",
        "..\\maildir/shackleton-s/sent/2043.\n",
        "..\\maildir/shackleton-s/sent/2044.\n",
        "..\\maildir/shackleton-s/sent/2045.\n",
        "..\\maildir/shackleton-s/sent/2046."
       ]
      },
      {
       "output_type": "stream",
       "stream": "stdout",
       "text": [
        "\n",
        "..\\maildir/shackleton-s/sent/2047.\n",
        "..\\maildir/shackleton-s/sent/2048.\n",
        "..\\maildir/shackleton-s/sent/2049.\n",
        "..\\maildir/shackleton-s/sent/205."
       ]
      },
      {
       "output_type": "stream",
       "stream": "stdout",
       "text": [
        "\n",
        "..\\maildir/shackleton-s/sent/2050.\n",
        "..\\maildir/shackleton-s/sent/2051.\n",
        "..\\maildir/shackleton-s/sent/2053.\n",
        "..\\maildir/shackleton-s/sent/2054.\n",
        "..\\maildir/shackleton-s/sent/2055.\n",
        "..\\maildir/shackleton-s/sent/2056.\n",
        "..\\maildir/shackleton-s/sent/2057.\n",
        "..\\maildir/shackleton-s/sent/2058."
       ]
      },
      {
       "output_type": "stream",
       "stream": "stdout",
       "text": [
        "\n",
        "..\\maildir/shackleton-s/sent/2059.\n",
        "..\\maildir/shackleton-s/sent/206.\n",
        "..\\maildir/shackleton-s/sent/2060.\n",
        "..\\maildir/shackleton-s/sent/2061."
       ]
      },
      {
       "output_type": "stream",
       "stream": "stdout",
       "text": [
        "\n",
        "..\\maildir/shackleton-s/sent/2062.\n",
        "..\\maildir/shackleton-s/sent/2063.\n",
        "..\\maildir/shackleton-s/sent/2064."
       ]
      },
      {
       "output_type": "stream",
       "stream": "stdout",
       "text": [
        "\n",
        "..\\maildir/shackleton-s/sent/2065.\n",
        "..\\maildir/shackleton-s/sent/2066.\n",
        "..\\maildir/shackleton-s/sent/2067.\n",
        "..\\maildir/shackleton-s/sent/2068.\n",
        "..\\maildir/shackleton-s/sent/2069.\n",
        "..\\maildir/shackleton-s/sent/207.\n",
        "..\\maildir/shackleton-s/sent/2070."
       ]
      },
      {
       "output_type": "stream",
       "stream": "stdout",
       "text": [
        "\n",
        "..\\maildir/shackleton-s/sent/2071.\n",
        "..\\maildir/shackleton-s/sent/2072.\n",
        "..\\maildir/shackleton-s/sent/2073.\n",
        "..\\maildir/shackleton-s/sent/2074.\n",
        "..\\maildir/shackleton-s/sent/2075."
       ]
      },
      {
       "output_type": "stream",
       "stream": "stdout",
       "text": [
        "\n",
        "..\\maildir/shackleton-s/sent/2076.\n",
        "..\\maildir/shackleton-s/sent/2077.\n",
        "..\\maildir/shackleton-s/sent/2078.\n",
        "..\\maildir/shackleton-s/sent/2079.\n",
        "..\\maildir/shackleton-s/sent/208."
       ]
      },
      {
       "output_type": "stream",
       "stream": "stdout",
       "text": [
        "\n",
        "..\\maildir/shackleton-s/sent/2081.\n",
        "..\\maildir/shackleton-s/sent/2082.\n",
        "..\\maildir/shackleton-s/sent/2083."
       ]
      },
      {
       "output_type": "stream",
       "stream": "stdout",
       "text": [
        "\n",
        "..\\maildir/shackleton-s/sent/2084.\n",
        "..\\maildir/shackleton-s/sent/2085.\n",
        "..\\maildir/shackleton-s/sent/2086.\n",
        "..\\maildir/shackleton-s/sent/2087."
       ]
      },
      {
       "output_type": "stream",
       "stream": "stdout",
       "text": [
        "\n",
        "..\\maildir/shackleton-s/sent/2088.\n",
        "..\\maildir/shackleton-s/sent/2089.\n",
        "..\\maildir/shackleton-s/sent/209.\n",
        "..\\maildir/shackleton-s/sent/2090.\n",
        "..\\maildir/shackleton-s/sent/2091.\n",
        "..\\maildir/shackleton-s/sent/2092.\n",
        "..\\maildir/shackleton-s/sent/2094.\n",
        "..\\maildir/shackleton-s/sent/2095."
       ]
      },
      {
       "output_type": "stream",
       "stream": "stdout",
       "text": [
        "\n",
        "..\\maildir/shackleton-s/sent/2096.\n",
        "..\\maildir/shackleton-s/sent/2097.\n",
        "..\\maildir/shackleton-s/sent/2098.\n",
        "..\\maildir/shackleton-s/sent/2099.\n",
        "..\\maildir/shackleton-s/sent/21.\n",
        "..\\maildir/shackleton-s/sent/210.\n",
        "..\\maildir/shackleton-s/sent/2100."
       ]
      },
      {
       "output_type": "stream",
       "stream": "stdout",
       "text": [
        "\n",
        "..\\maildir/shackleton-s/sent/2101.\n",
        "..\\maildir/shackleton-s/sent/2102.\n",
        "..\\maildir/shackleton-s/sent/2103.\n",
        "..\\maildir/shackleton-s/sent/2104.\n",
        "..\\maildir/shackleton-s/sent/2105.\n",
        "..\\maildir/shackleton-s/sent/2106."
       ]
      },
      {
       "output_type": "stream",
       "stream": "stdout",
       "text": [
        "\n",
        "..\\maildir/shackleton-s/sent/2107.\n",
        "..\\maildir/shackleton-s/sent/2108.\n",
        "..\\maildir/shackleton-s/sent/2109.\n",
        "..\\maildir/shackleton-s/sent/211."
       ]
      },
      {
       "output_type": "stream",
       "stream": "stdout",
       "text": [
        "\n",
        "..\\maildir/shackleton-s/sent/2110.\n",
        "..\\maildir/shackleton-s/sent/2111.\n",
        "..\\maildir/shackleton-s/sent/2112.\n",
        "..\\maildir/shackleton-s/sent/2113.\n",
        "..\\maildir/shackleton-s/sent/2114."
       ]
      },
      {
       "output_type": "stream",
       "stream": "stdout",
       "text": [
        "\n",
        "..\\maildir/shackleton-s/sent/2115.\n",
        "..\\maildir/shackleton-s/sent/2116.\n",
        "..\\maildir/shackleton-s/sent/2117."
       ]
      },
      {
       "output_type": "stream",
       "stream": "stdout",
       "text": [
        "\n",
        "..\\maildir/shackleton-s/sent/2118.\n",
        "..\\maildir/shackleton-s/sent/2119.\n",
        "..\\maildir/shackleton-s/sent/212.\n",
        "..\\maildir/shackleton-s/sent/2120.\n",
        "..\\maildir/shackleton-s/sent/2121.\n",
        "..\\maildir/shackleton-s/sent/2122."
       ]
      },
      {
       "output_type": "stream",
       "stream": "stdout",
       "text": [
        "\n",
        "..\\maildir/shackleton-s/sent/2123.\n",
        "..\\maildir/shackleton-s/sent/2124.\n",
        "..\\maildir/shackleton-s/sent/2125."
       ]
      },
      {
       "output_type": "stream",
       "stream": "stdout",
       "text": [
        "\n",
        "..\\maildir/shackleton-s/sent/2126.\n",
        "..\\maildir/shackleton-s/sent/2127.\n",
        "..\\maildir/shackleton-s/sent/2128.\n",
        "..\\maildir/shackleton-s/sent/2129.\n",
        "..\\maildir/shackleton-s/sent/213."
       ]
      },
      {
       "output_type": "stream",
       "stream": "stdout",
       "text": [
        "\n",
        "..\\maildir/shackleton-s/sent/2132.\n",
        "..\\maildir/shackleton-s/sent/2133.\n",
        "..\\maildir/shackleton-s/sent/2134.\n",
        "..\\maildir/shackleton-s/sent/2136.\n",
        "..\\maildir/shackleton-s/sent/2137.\n",
        "..\\maildir/shackleton-s/sent/2138.\n",
        "..\\maildir/shackleton-s/sent/2139."
       ]
      },
      {
       "output_type": "stream",
       "stream": "stdout",
       "text": [
        "\n",
        "..\\maildir/shackleton-s/sent/214.\n",
        "..\\maildir/shackleton-s/sent/2140.\n",
        "..\\maildir/shackleton-s/sent/2141.\n",
        "..\\maildir/shackleton-s/sent/2142.\n",
        "..\\maildir/shackleton-s/sent/2143."
       ]
      },
      {
       "output_type": "stream",
       "stream": "stdout",
       "text": [
        "\n",
        "..\\maildir/shackleton-s/sent/2144.\n",
        "..\\maildir/shackleton-s/sent/2145.\n",
        "..\\maildir/shackleton-s/sent/2146.\n",
        "..\\maildir/shackleton-s/sent/2147.\n",
        "..\\maildir/shackleton-s/sent/2148."
       ]
      },
      {
       "output_type": "stream",
       "stream": "stdout",
       "text": [
        "\n",
        "..\\maildir/shackleton-s/sent/2149.\n",
        "..\\maildir/shackleton-s/sent/215.\n",
        "..\\maildir/shackleton-s/sent/2150.\n",
        "..\\maildir/shackleton-s/sent/2151."
       ]
      },
      {
       "output_type": "stream",
       "stream": "stdout",
       "text": [
        "\n",
        "..\\maildir/shackleton-s/sent/2152.\n",
        "..\\maildir/shackleton-s/sent/2153.\n",
        "..\\maildir/shackleton-s/sent/2154.\n",
        "..\\maildir/shackleton-s/sent/2155.\n",
        "..\\maildir/shackleton-s/sent/2156.\n",
        "..\\maildir/shackleton-s/sent/2157."
       ]
      },
      {
       "output_type": "stream",
       "stream": "stdout",
       "text": [
        "\n",
        "..\\maildir/shackleton-s/sent/2158.\n",
        "..\\maildir/shackleton-s/sent/2159.\n",
        "..\\maildir/shackleton-s/sent/216.\n",
        "..\\maildir/shackleton-s/sent/2160.\n",
        "..\\maildir/shackleton-s/sent/2161.\n",
        "..\\maildir/shackleton-s/sent/2162.\n",
        "..\\maildir/shackleton-s/sent/2163."
       ]
      },
      {
       "output_type": "stream",
       "stream": "stdout",
       "text": [
        "\n",
        "..\\maildir/shackleton-s/sent/2164.\n",
        "..\\maildir/shackleton-s/sent/2165.\n",
        "..\\maildir/shackleton-s/sent/2166.\n",
        "..\\maildir/shackleton-s/sent/2167.\n",
        "..\\maildir/shackleton-s/sent/2168.\n",
        "..\\maildir/shackleton-s/sent/2169.\n",
        "..\\maildir/shackleton-s/sent/217."
       ]
      },
      {
       "output_type": "stream",
       "stream": "stdout",
       "text": [
        "\n",
        "..\\maildir/shackleton-s/sent/2170.\n",
        "..\\maildir/shackleton-s/sent/2171.\n",
        "..\\maildir/shackleton-s/sent/2172.\n",
        "..\\maildir/shackleton-s/sent/2173.\n",
        "..\\maildir/shackleton-s/sent/2174."
       ]
      },
      {
       "output_type": "stream",
       "stream": "stdout",
       "text": [
        "\n",
        "..\\maildir/shackleton-s/sent/2175.\n",
        "..\\maildir/shackleton-s/sent/2176.\n",
        "..\\maildir/shackleton-s/sent/2178.\n",
        "..\\maildir/shackleton-s/sent/2179."
       ]
      },
      {
       "output_type": "stream",
       "stream": "stdout",
       "text": [
        "\n",
        "..\\maildir/shackleton-s/sent/218.\n",
        "..\\maildir/shackleton-s/sent/2181.\n",
        "..\\maildir/shackleton-s/sent/2182.\n",
        "..\\maildir/shackleton-s/sent/2183.\n",
        "..\\maildir/shackleton-s/sent/2184.\n",
        "..\\maildir/shackleton-s/sent/2185.\n",
        "..\\maildir/shackleton-s/sent/2186.\n",
        "..\\maildir/shackleton-s/sent/2187."
       ]
      },
      {
       "output_type": "stream",
       "stream": "stdout",
       "text": [
        "\n",
        "..\\maildir/shackleton-s/sent/2188.\n",
        "..\\maildir/shackleton-s/sent/2189.\n",
        "..\\maildir/shackleton-s/sent/219.\n",
        "..\\maildir/shackleton-s/sent/2190.\n",
        "..\\maildir/shackleton-s/sent/2191.\n",
        "..\\maildir/shackleton-s/sent/2192.\n",
        "..\\maildir/shackleton-s/sent/2193."
       ]
      },
      {
       "output_type": "stream",
       "stream": "stdout",
       "text": [
        "\n",
        "..\\maildir/shackleton-s/sent/2194.\n",
        "..\\maildir/shackleton-s/sent/2195.\n",
        "..\\maildir/shackleton-s/sent/2196.\n",
        "..\\maildir/shackleton-s/sent/2198."
       ]
      },
      {
       "output_type": "stream",
       "stream": "stdout",
       "text": [
        "\n",
        "..\\maildir/shackleton-s/sent/2199.\n",
        "..\\maildir/shackleton-s/sent/220.\n",
        "..\\maildir/shackleton-s/sent/2200.\n",
        "..\\maildir/shackleton-s/sent/2201.\n",
        "..\\maildir/shackleton-s/sent/2202.\n",
        "..\\maildir/shackleton-s/sent/2203."
       ]
      },
      {
       "output_type": "stream",
       "stream": "stdout",
       "text": [
        "\n",
        "..\\maildir/shackleton-s/sent/2204.\n",
        "..\\maildir/shackleton-s/sent/2205.\n",
        "..\\maildir/shackleton-s/sent/2206.\n",
        "..\\maildir/shackleton-s/sent/2207.\n",
        "..\\maildir/shackleton-s/sent/2208.\n",
        "..\\maildir/shackleton-s/sent/2209."
       ]
      },
      {
       "output_type": "stream",
       "stream": "stdout",
       "text": [
        "\n",
        "..\\maildir/shackleton-s/sent/221.\n",
        "..\\maildir/shackleton-s/sent/2210.\n",
        "..\\maildir/shackleton-s/sent/2211.\n",
        "..\\maildir/shackleton-s/sent/2212."
       ]
      },
      {
       "output_type": "stream",
       "stream": "stdout",
       "text": [
        "\n",
        "..\\maildir/shackleton-s/sent/2213.\n",
        "..\\maildir/shackleton-s/sent/2214.\n",
        "..\\maildir/shackleton-s/sent/2215.\n",
        "..\\maildir/shackleton-s/sent/2216.\n",
        "..\\maildir/shackleton-s/sent/2217.\n",
        "..\\maildir/shackleton-s/sent/2218.\n",
        "..\\maildir/shackleton-s/sent/2219.\n",
        "..\\maildir/shackleton-s/sent/222.\n",
        "..\\maildir/shackleton-s/sent/2220.\n",
        "..\\maildir/shackleton-s/sent/2221.\n",
        "..\\maildir/shackleton-s/sent/2222."
       ]
      },
      {
       "output_type": "stream",
       "stream": "stdout",
       "text": [
        "\n",
        "..\\maildir/shackleton-s/sent/2223.\n",
        "..\\maildir/shackleton-s/sent/2224.\n",
        "..\\maildir/shackleton-s/sent/2225.\n",
        "..\\maildir/shackleton-s/sent/2226.\n",
        "..\\maildir/shackleton-s/sent/2227.\n",
        "..\\maildir/shackleton-s/sent/2228.\n",
        "..\\maildir/shackleton-s/sent/2229.\n",
        "..\\maildir/shackleton-s/sent/223."
       ]
      },
      {
       "output_type": "stream",
       "stream": "stdout",
       "text": [
        "\n",
        "..\\maildir/shackleton-s/sent/2230.\n",
        "..\\maildir/shackleton-s/sent/2231.\n",
        "..\\maildir/shackleton-s/sent/2232.\n",
        "..\\maildir/shackleton-s/sent/2233.\n",
        "..\\maildir/shackleton-s/sent/2234.\n",
        "..\\maildir/shackleton-s/sent/2235.\n",
        "..\\maildir/shackleton-s/sent/2236.\n",
        "..\\maildir/shackleton-s/sent/2237.\n",
        "..\\maildir/shackleton-s/sent/2238.\n",
        "..\\maildir/shackleton-s/sent/2239."
       ]
      },
      {
       "output_type": "stream",
       "stream": "stdout",
       "text": [
        "\n",
        "..\\maildir/shackleton-s/sent/224.\n",
        "..\\maildir/shackleton-s/sent/2240.\n",
        "..\\maildir/shackleton-s/sent/2241.\n",
        "..\\maildir/shackleton-s/sent/2242.\n",
        "..\\maildir/shackleton-s/sent/2243.\n",
        "..\\maildir/shackleton-s/sent/2244.\n",
        "..\\maildir/shackleton-s/sent/2245."
       ]
      },
      {
       "output_type": "stream",
       "stream": "stdout",
       "text": [
        "\n",
        "..\\maildir/shackleton-s/sent/2246.\n",
        "..\\maildir/shackleton-s/sent/2247.\n",
        "..\\maildir/shackleton-s/sent/2248.\n",
        "..\\maildir/shackleton-s/sent/2249.\n",
        "..\\maildir/shackleton-s/sent/225.\n",
        "..\\maildir/shackleton-s/sent/2250.\n",
        "..\\maildir/shackleton-s/sent/2251.\n",
        "..\\maildir/shackleton-s/sent/2252."
       ]
      },
      {
       "output_type": "stream",
       "stream": "stdout",
       "text": [
        "\n",
        "..\\maildir/shackleton-s/sent/2253.\n",
        "..\\maildir/shackleton-s/sent/2254.\n",
        "..\\maildir/shackleton-s/sent/2255.\n",
        "..\\maildir/shackleton-s/sent/2256.\n",
        "..\\maildir/shackleton-s/sent/2257.\n",
        "..\\maildir/shackleton-s/sent/2258."
       ]
      },
      {
       "output_type": "stream",
       "stream": "stdout",
       "text": [
        "\n",
        "..\\maildir/shackleton-s/sent/2259.\n",
        "..\\maildir/shackleton-s/sent/226.\n",
        "..\\maildir/shackleton-s/sent/2260.\n",
        "..\\maildir/shackleton-s/sent/2261.\n",
        "..\\maildir/shackleton-s/sent/2262.\n",
        "..\\maildir/shackleton-s/sent/2263.\n",
        "..\\maildir/shackleton-s/sent/2264.\n",
        "..\\maildir/shackleton-s/sent/2265.\n",
        "..\\maildir/shackleton-s/sent/2266.\n",
        "..\\maildir/shackleton-s/sent/2267.\n",
        "..\\maildir/shackleton-s/sent/2268."
       ]
      },
      {
       "output_type": "stream",
       "stream": "stdout",
       "text": [
        "\n",
        "..\\maildir/shackleton-s/sent/2269.\n",
        "..\\maildir/shackleton-s/sent/227.\n",
        "..\\maildir/shackleton-s/sent/2270.\n",
        "..\\maildir/shackleton-s/sent/2271."
       ]
      },
      {
       "output_type": "stream",
       "stream": "stdout",
       "text": [
        "\n",
        "..\\maildir/shackleton-s/sent/2272.\n",
        "..\\maildir/shackleton-s/sent/2273.\n",
        "..\\maildir/shackleton-s/sent/2274.\n",
        "..\\maildir/shackleton-s/sent/2275."
       ]
      },
      {
       "output_type": "stream",
       "stream": "stdout",
       "text": [
        "\n",
        "..\\maildir/shackleton-s/sent/2276.\n",
        "..\\maildir/shackleton-s/sent/2277.\n",
        "..\\maildir/shackleton-s/sent/2278.\n",
        "..\\maildir/shackleton-s/sent/2279.\n",
        "..\\maildir/shackleton-s/sent/228."
       ]
      },
      {
       "output_type": "stream",
       "stream": "stdout",
       "text": [
        "\n",
        "..\\maildir/shackleton-s/sent/2280.\n",
        "..\\maildir/shackleton-s/sent/2281."
       ]
      },
      {
       "output_type": "stream",
       "stream": "stdout",
       "text": [
        "\n",
        "..\\maildir/shackleton-s/sent/2282.\n",
        "..\\maildir/shackleton-s/sent/2283.\n",
        "..\\maildir/shackleton-s/sent/2284.\n",
        "..\\maildir/shackleton-s/sent/2285.\n",
        "..\\maildir/shackleton-s/sent/2286.\n",
        "..\\maildir/shackleton-s/sent/2287.\n",
        "..\\maildir/shackleton-s/sent/2288.\n",
        "..\\maildir/shackleton-s/sent/2289.\n",
        "..\\maildir/shackleton-s/sent/229."
       ]
      },
      {
       "output_type": "stream",
       "stream": "stdout",
       "text": [
        "\n",
        "..\\maildir/shackleton-s/sent/2290.\n",
        "..\\maildir/shackleton-s/sent/2291.\n",
        "..\\maildir/shackleton-s/sent/2292.\n",
        "..\\maildir/shackleton-s/sent/2293.\n",
        "..\\maildir/shackleton-s/sent/2294.\n",
        "..\\maildir/shackleton-s/sent/2295.\n",
        "..\\maildir/shackleton-s/sent/2296.\n",
        "..\\maildir/shackleton-s/sent/2297."
       ]
      },
      {
       "output_type": "stream",
       "stream": "stdout",
       "text": [
        "\n",
        "..\\maildir/shackleton-s/sent/2298.\n",
        "..\\maildir/shackleton-s/sent/2299.\n",
        "..\\maildir/shackleton-s/sent/23.\n",
        "..\\maildir/shackleton-s/sent/230.\n",
        "..\\maildir/shackleton-s/sent/2300."
       ]
      },
      {
       "output_type": "stream",
       "stream": "stdout",
       "text": [
        "\n",
        "..\\maildir/shackleton-s/sent/2301.\n",
        "..\\maildir/shackleton-s/sent/2302.\n",
        "..\\maildir/shackleton-s/sent/2303.\n",
        "..\\maildir/shackleton-s/sent/2304.\n",
        "..\\maildir/shackleton-s/sent/2305."
       ]
      },
      {
       "output_type": "stream",
       "stream": "stdout",
       "text": [
        "\n",
        "..\\maildir/shackleton-s/sent/2306.\n",
        "..\\maildir/shackleton-s/sent/2307.\n",
        "..\\maildir/shackleton-s/sent/2308.\n",
        "..\\maildir/shackleton-s/sent/2309."
       ]
      },
      {
       "output_type": "stream",
       "stream": "stdout",
       "text": [
        "\n",
        "..\\maildir/shackleton-s/sent/231.\n",
        "..\\maildir/shackleton-s/sent/2310.\n",
        "..\\maildir/shackleton-s/sent/2311.\n",
        "..\\maildir/shackleton-s/sent/2312.\n",
        "..\\maildir/shackleton-s/sent/2317.\n",
        "..\\maildir/shackleton-s/sent/2318."
       ]
      },
      {
       "output_type": "stream",
       "stream": "stdout",
       "text": [
        "\n",
        "..\\maildir/shackleton-s/sent/2319.\n",
        "..\\maildir/shackleton-s/sent/232."
       ]
      },
      {
       "output_type": "stream",
       "stream": "stdout",
       "text": [
        "\n",
        "..\\maildir/shackleton-s/sent/2320.\n",
        "..\\maildir/shackleton-s/sent/2321.\n",
        "..\\maildir/shackleton-s/sent/2322.\n",
        "..\\maildir/shackleton-s/sent/2323."
       ]
      },
      {
       "output_type": "stream",
       "stream": "stdout",
       "text": [
        "\n",
        "..\\maildir/shackleton-s/sent/2324.\n",
        "..\\maildir/shackleton-s/sent/2325.\n",
        "..\\maildir/shackleton-s/sent/2326.\n",
        "..\\maildir/shackleton-s/sent/2327.\n",
        "..\\maildir/shackleton-s/sent/2328.\n",
        "..\\maildir/shackleton-s/sent/2329.\n",
        "..\\maildir/shackleton-s/sent/233."
       ]
      },
      {
       "output_type": "stream",
       "stream": "stdout",
       "text": [
        "\n",
        "..\\maildir/shackleton-s/sent/2330.\n",
        "..\\maildir/shackleton-s/sent/2331.\n",
        "..\\maildir/shackleton-s/sent/2332.\n",
        "..\\maildir/shackleton-s/sent/2333.\n",
        "..\\maildir/shackleton-s/sent/2334.\n",
        "..\\maildir/shackleton-s/sent/2335."
       ]
      },
      {
       "output_type": "stream",
       "stream": "stdout",
       "text": [
        "\n",
        "..\\maildir/shackleton-s/sent/2336.\n",
        "..\\maildir/shackleton-s/sent/2337.\n",
        "..\\maildir/shackleton-s/sent/2338.\n",
        "..\\maildir/shackleton-s/sent/2339.\n",
        "..\\maildir/shackleton-s/sent/234."
       ]
      },
      {
       "output_type": "stream",
       "stream": "stdout",
       "text": [
        "\n",
        "..\\maildir/shackleton-s/sent/2340.\n",
        "..\\maildir/shackleton-s/sent/2341.\n",
        "..\\maildir/shackleton-s/sent/2342."
       ]
      },
      {
       "output_type": "stream",
       "stream": "stdout",
       "text": [
        "\n",
        "..\\maildir/shackleton-s/sent/2343.\n",
        "..\\maildir/shackleton-s/sent/2344.\n",
        "..\\maildir/shackleton-s/sent/2345."
       ]
      },
      {
       "output_type": "stream",
       "stream": "stdout",
       "text": [
        "\n",
        "..\\maildir/shackleton-s/sent/2346.\n",
        "..\\maildir/shackleton-s/sent/2347.\n",
        "..\\maildir/shackleton-s/sent/2348.\n",
        "..\\maildir/shackleton-s/sent/2349.\n",
        "..\\maildir/shackleton-s/sent/235.\n",
        "..\\maildir/shackleton-s/sent/2350."
       ]
      },
      {
       "output_type": "stream",
       "stream": "stdout",
       "text": [
        "\n",
        "..\\maildir/shackleton-s/sent/2351.\n",
        "..\\maildir/shackleton-s/sent/2352.\n",
        "..\\maildir/shackleton-s/sent/2354.\n",
        "..\\maildir/shackleton-s/sent/2355.\n",
        "..\\maildir/shackleton-s/sent/2356.\n",
        "..\\maildir/shackleton-s/sent/2357."
       ]
      },
      {
       "output_type": "stream",
       "stream": "stdout",
       "text": [
        "\n",
        "..\\maildir/shackleton-s/sent/2358.\n",
        "..\\maildir/shackleton-s/sent/2359.\n",
        "..\\maildir/shackleton-s/sent/236.\n",
        "..\\maildir/shackleton-s/sent/2360.\n",
        "..\\maildir/shackleton-s/sent/2361.\n",
        "..\\maildir/shackleton-s/sent/2362.\n",
        "..\\maildir/shackleton-s/sent/2363."
       ]
      },
      {
       "output_type": "stream",
       "stream": "stdout",
       "text": [
        "\n",
        "..\\maildir/shackleton-s/sent/2364.\n",
        "..\\maildir/shackleton-s/sent/2365.\n",
        "..\\maildir/shackleton-s/sent/2366.\n",
        "..\\maildir/shackleton-s/sent/2367.\n",
        "..\\maildir/shackleton-s/sent/2368."
       ]
      },
      {
       "output_type": "stream",
       "stream": "stdout",
       "text": [
        "\n",
        "..\\maildir/shackleton-s/sent/2369.\n",
        "..\\maildir/shackleton-s/sent/237.\n",
        "..\\maildir/shackleton-s/sent/2370."
       ]
      },
      {
       "output_type": "stream",
       "stream": "stdout",
       "text": [
        "\n",
        "..\\maildir/shackleton-s/sent/2371.\n",
        "..\\maildir/shackleton-s/sent/2372.\n",
        "..\\maildir/shackleton-s/sent/2373.\n",
        "..\\maildir/shackleton-s/sent/2374.\n",
        "..\\maildir/shackleton-s/sent/2375.\n",
        "..\\maildir/shackleton-s/sent/2376."
       ]
      },
      {
       "output_type": "stream",
       "stream": "stdout",
       "text": [
        "\n",
        "..\\maildir/shackleton-s/sent/2377.\n",
        "..\\maildir/shackleton-s/sent/2378.\n",
        "..\\maildir/shackleton-s/sent/2379.\n",
        "..\\maildir/shackleton-s/sent/238.\n",
        "..\\maildir/shackleton-s/sent/2380.\n",
        "..\\maildir/shackleton-s/sent/2381.\n",
        "..\\maildir/shackleton-s/sent/2382.\n",
        "..\\maildir/shackleton-s/sent/2383."
       ]
      },
      {
       "output_type": "stream",
       "stream": "stdout",
       "text": [
        "\n",
        "..\\maildir/shackleton-s/sent/2384.\n",
        "..\\maildir/shackleton-s/sent/2385.\n",
        "..\\maildir/shackleton-s/sent/2386.\n",
        "..\\maildir/shackleton-s/sent/2387.\n",
        "..\\maildir/shackleton-s/sent/2388.\n",
        "..\\maildir/shackleton-s/sent/2389.\n",
        "..\\maildir/shackleton-s/sent/239."
       ]
      },
      {
       "output_type": "stream",
       "stream": "stdout",
       "text": [
        "\n",
        "..\\maildir/shackleton-s/sent/2390.\n",
        "..\\maildir/shackleton-s/sent/2391.\n",
        "..\\maildir/shackleton-s/sent/2392.\n",
        "..\\maildir/shackleton-s/sent/2393.\n",
        "..\\maildir/shackleton-s/sent/2394.\n",
        "..\\maildir/shackleton-s/sent/2395."
       ]
      },
      {
       "output_type": "stream",
       "stream": "stdout",
       "text": [
        "\n",
        "..\\maildir/shackleton-s/sent/2396.\n",
        "..\\maildir/shackleton-s/sent/2397.\n",
        "..\\maildir/shackleton-s/sent/2398.\n",
        "..\\maildir/shackleton-s/sent/2399."
       ]
      },
      {
       "output_type": "stream",
       "stream": "stdout",
       "text": [
        "\n",
        "..\\maildir/shackleton-s/sent/24.\n",
        "..\\maildir/shackleton-s/sent/240.\n",
        "..\\maildir/shackleton-s/sent/2400.\n",
        "..\\maildir/shackleton-s/sent/2401.\n",
        "..\\maildir/shackleton-s/sent/2402.\n",
        "..\\maildir/shackleton-s/sent/2403.\n",
        "..\\maildir/shackleton-s/sent/2404."
       ]
      },
      {
       "output_type": "stream",
       "stream": "stdout",
       "text": [
        "\n",
        "..\\maildir/shackleton-s/sent/2405.\n",
        "..\\maildir/shackleton-s/sent/2406.\n",
        "..\\maildir/shackleton-s/sent/2407.\n",
        "..\\maildir/shackleton-s/sent/2408.\n",
        "..\\maildir/shackleton-s/sent/2409.\n",
        "..\\maildir/shackleton-s/sent/241.\n",
        "..\\maildir/shackleton-s/sent/2410."
       ]
      },
      {
       "output_type": "stream",
       "stream": "stdout",
       "text": [
        "\n",
        "..\\maildir/shackleton-s/sent/2411.\n",
        "..\\maildir/shackleton-s/sent/2412.\n",
        "..\\maildir/shackleton-s/sent/2413.\n",
        "..\\maildir/shackleton-s/sent/2414."
       ]
      },
      {
       "output_type": "stream",
       "stream": "stdout",
       "text": [
        "\n",
        "..\\maildir/shackleton-s/sent/2415.\n",
        "..\\maildir/shackleton-s/sent/2416."
       ]
      },
      {
       "output_type": "stream",
       "stream": "stdout",
       "text": [
        "\n",
        "..\\maildir/shackleton-s/sent/2417.\n",
        "..\\maildir/shackleton-s/sent/2418.\n",
        "..\\maildir/shackleton-s/sent/2419.\n",
        "..\\maildir/shackleton-s/sent/242."
       ]
      },
      {
       "output_type": "stream",
       "stream": "stdout",
       "text": [
        "\n",
        "..\\maildir/shackleton-s/sent/2420.\n",
        "..\\maildir/shackleton-s/sent/2421.\n",
        "..\\maildir/shackleton-s/sent/2422.\n",
        "..\\maildir/shackleton-s/sent/2423.\n",
        "..\\maildir/shackleton-s/sent/2424.\n",
        "..\\maildir/shackleton-s/sent/2425.\n",
        "..\\maildir/shackleton-s/sent/2426.\n",
        "..\\maildir/shackleton-s/sent/2427.\n",
        "..\\maildir/shackleton-s/sent/2428.\n",
        "..\\maildir/shackleton-s/sent/2429."
       ]
      },
      {
       "output_type": "stream",
       "stream": "stdout",
       "text": [
        "\n",
        "..\\maildir/shackleton-s/sent/243.\n",
        "..\\maildir/shackleton-s/sent/2430.\n",
        "..\\maildir/shackleton-s/sent/2431.\n",
        "..\\maildir/shackleton-s/sent/2432.\n",
        "..\\maildir/shackleton-s/sent/2433.\n",
        "..\\maildir/shackleton-s/sent/2434."
       ]
      },
      {
       "output_type": "stream",
       "stream": "stdout",
       "text": [
        "\n",
        "..\\maildir/shackleton-s/sent/2435.\n",
        "..\\maildir/shackleton-s/sent/2436.\n",
        "..\\maildir/shackleton-s/sent/2437.\n",
        "..\\maildir/shackleton-s/sent/2438.\n",
        "..\\maildir/shackleton-s/sent/2439.\n",
        "..\\maildir/shackleton-s/sent/244."
       ]
      },
      {
       "output_type": "stream",
       "stream": "stdout",
       "text": [
        "\n",
        "..\\maildir/shackleton-s/sent/2440.\n",
        "..\\maildir/shackleton-s/sent/2441.\n",
        "..\\maildir/shackleton-s/sent/2442.\n",
        "..\\maildir/shackleton-s/sent/2443.\n",
        "..\\maildir/shackleton-s/sent/2444.\n",
        "..\\maildir/shackleton-s/sent/2445."
       ]
      },
      {
       "output_type": "stream",
       "stream": "stdout",
       "text": [
        "\n",
        "..\\maildir/shackleton-s/sent/2446.\n",
        "..\\maildir/shackleton-s/sent/2447.\n",
        "..\\maildir/shackleton-s/sent/2448.\n",
        "..\\maildir/shackleton-s/sent/2449.\n",
        "..\\maildir/shackleton-s/sent/245.\n",
        "..\\maildir/shackleton-s/sent/2450.\n",
        "..\\maildir/shackleton-s/sent/2451."
       ]
      },
      {
       "output_type": "stream",
       "stream": "stdout",
       "text": [
        "\n",
        "..\\maildir/shackleton-s/sent/2452.\n",
        "..\\maildir/shackleton-s/sent/2453.\n",
        "..\\maildir/shackleton-s/sent/2454.\n",
        "..\\maildir/shackleton-s/sent/2455.\n",
        "..\\maildir/shackleton-s/sent/2456.\n",
        "..\\maildir/shackleton-s/sent/2457.\n",
        "..\\maildir/shackleton-s/sent/2458.\n",
        "..\\maildir/shackleton-s/sent/2459.\n",
        "..\\maildir/shackleton-s/sent/246.\n",
        "..\\maildir/shackleton-s/sent/2460."
       ]
      },
      {
       "output_type": "stream",
       "stream": "stdout",
       "text": [
        "\n",
        "..\\maildir/shackleton-s/sent/2461.\n",
        "..\\maildir/shackleton-s/sent/2462.\n",
        "..\\maildir/shackleton-s/sent/2463.\n",
        "..\\maildir/shackleton-s/sent/2464.\n",
        "..\\maildir/shackleton-s/sent/2465.\n",
        "..\\maildir/shackleton-s/sent/2466.\n",
        "..\\maildir/shackleton-s/sent/2467.\n",
        "..\\maildir/shackleton-s/sent/2468."
       ]
      },
      {
       "output_type": "stream",
       "stream": "stdout",
       "text": [
        "\n",
        "..\\maildir/shackleton-s/sent/2469.\n",
        "..\\maildir/shackleton-s/sent/247.\n",
        "..\\maildir/shackleton-s/sent/2470.\n",
        "..\\maildir/shackleton-s/sent/2471.\n",
        "..\\maildir/shackleton-s/sent/2472.\n",
        "..\\maildir/shackleton-s/sent/2473.\n",
        "..\\maildir/shackleton-s/sent/2474."
       ]
      },
      {
       "output_type": "stream",
       "stream": "stdout",
       "text": [
        "\n",
        "..\\maildir/shackleton-s/sent/2475.\n",
        "..\\maildir/shackleton-s/sent/2476.\n",
        "..\\maildir/shackleton-s/sent/2477.\n",
        "..\\maildir/shackleton-s/sent/2478.\n",
        "..\\maildir/shackleton-s/sent/2479.\n",
        "..\\maildir/shackleton-s/sent/248."
       ]
      },
      {
       "output_type": "stream",
       "stream": "stdout",
       "text": [
        "\n",
        "..\\maildir/shackleton-s/sent/2480.\n",
        "..\\maildir/shackleton-s/sent/2481.\n",
        "..\\maildir/shackleton-s/sent/2482.\n",
        "..\\maildir/shackleton-s/sent/2483.\n",
        "..\\maildir/shackleton-s/sent/2484.\n",
        "..\\maildir/shackleton-s/sent/2485."
       ]
      },
      {
       "output_type": "stream",
       "stream": "stdout",
       "text": [
        "\n",
        "..\\maildir/shackleton-s/sent/2486.\n",
        "..\\maildir/shackleton-s/sent/2487.\n",
        "..\\maildir/shackleton-s/sent/2488.\n",
        "..\\maildir/shackleton-s/sent/2489.\n",
        "..\\maildir/shackleton-s/sent/2490."
       ]
      },
      {
       "output_type": "stream",
       "stream": "stdout",
       "text": [
        "\n",
        "..\\maildir/shackleton-s/sent/2491.\n",
        "..\\maildir/shackleton-s/sent/2492.\n",
        "..\\maildir/shackleton-s/sent/2493.\n",
        "..\\maildir/shackleton-s/sent/2494."
       ]
      },
      {
       "output_type": "stream",
       "stream": "stdout",
       "text": [
        "\n",
        "..\\maildir/shackleton-s/sent/2495.\n",
        "..\\maildir/shackleton-s/sent/2496.\n",
        "..\\maildir/shackleton-s/sent/2497.\n",
        "..\\maildir/shackleton-s/sent/2498.\n",
        "..\\maildir/shackleton-s/sent/2499.\n",
        "..\\maildir/shackleton-s/sent/25.\n",
        "..\\maildir/shackleton-s/sent/250.\n",
        "..\\maildir/shackleton-s/sent/2500.\n",
        "..\\maildir/shackleton-s/sent/2501.\n",
        "..\\maildir/shackleton-s/sent/2502."
       ]
      },
      {
       "output_type": "stream",
       "stream": "stdout",
       "text": [
        "\n",
        "..\\maildir/shackleton-s/sent/2503.\n",
        "..\\maildir/shackleton-s/sent/2504.\n",
        "..\\maildir/shackleton-s/sent/2505.\n",
        "..\\maildir/shackleton-s/sent/2506.\n",
        "..\\maildir/shackleton-s/sent/2507."
       ]
      },
      {
       "output_type": "stream",
       "stream": "stdout",
       "text": [
        "\n",
        "..\\maildir/shackleton-s/sent/2508.\n",
        "..\\maildir/shackleton-s/sent/2509.\n",
        "..\\maildir/shackleton-s/sent/251.\n",
        "..\\maildir/shackleton-s/sent/2510.\n",
        "..\\maildir/shackleton-s/sent/2511."
       ]
      },
      {
       "output_type": "stream",
       "stream": "stdout",
       "text": [
        "\n",
        "..\\maildir/shackleton-s/sent/2512.\n",
        "..\\maildir/shackleton-s/sent/2513.\n",
        "..\\maildir/shackleton-s/sent/2514.\n",
        "..\\maildir/shackleton-s/sent/2515.\n",
        "..\\maildir/shackleton-s/sent/2516.\n",
        "..\\maildir/shackleton-s/sent/2517.\n",
        "..\\maildir/shackleton-s/sent/2518.\n",
        "..\\maildir/shackleton-s/sent/2519.\n",
        "..\\maildir/shackleton-s/sent/252.\n",
        "..\\maildir/shackleton-s/sent/2520.\n",
        "..\\maildir/shackleton-s/sent/2521."
       ]
      },
      {
       "output_type": "stream",
       "stream": "stdout",
       "text": [
        "\n",
        "..\\maildir/shackleton-s/sent/2522.\n",
        "..\\maildir/shackleton-s/sent/2523.\n",
        "..\\maildir/shackleton-s/sent/2524.\n",
        "..\\maildir/shackleton-s/sent/2525.\n",
        "..\\maildir/shackleton-s/sent/2526.\n",
        "..\\maildir/shackleton-s/sent/2527.\n",
        "..\\maildir/shackleton-s/sent/2528.\n",
        "..\\maildir/shackleton-s/sent/2529.\n",
        "..\\maildir/shackleton-s/sent/253."
       ]
      },
      {
       "output_type": "stream",
       "stream": "stdout",
       "text": [
        "\n",
        "..\\maildir/shackleton-s/sent/2530.\n",
        "..\\maildir/shackleton-s/sent/2531.\n",
        "..\\maildir/shackleton-s/sent/2532.\n",
        "..\\maildir/shackleton-s/sent/2533.\n",
        "..\\maildir/shackleton-s/sent/2534.\n",
        "..\\maildir/shackleton-s/sent/2535."
       ]
      },
      {
       "output_type": "stream",
       "stream": "stdout",
       "text": [
        "\n",
        "..\\maildir/shackleton-s/sent/2536.\n",
        "..\\maildir/shackleton-s/sent/2537.\n",
        "..\\maildir/shackleton-s/sent/2538.\n",
        "..\\maildir/shackleton-s/sent/2539.\n",
        "..\\maildir/shackleton-s/sent/254.\n",
        "..\\maildir/shackleton-s/sent/2540.\n",
        "..\\maildir/shackleton-s/sent/2541.\n",
        "..\\maildir/shackleton-s/sent/2542."
       ]
      },
      {
       "output_type": "stream",
       "stream": "stdout",
       "text": [
        "\n",
        "..\\maildir/shackleton-s/sent/2543.\n",
        "..\\maildir/shackleton-s/sent/2544.\n",
        "..\\maildir/shackleton-s/sent/2545.\n",
        "..\\maildir/shackleton-s/sent/2546.\n",
        "..\\maildir/shackleton-s/sent/2547.\n",
        "..\\maildir/shackleton-s/sent/2548."
       ]
      },
      {
       "output_type": "stream",
       "stream": "stdout",
       "text": [
        "\n",
        "..\\maildir/shackleton-s/sent/2549.\n",
        "..\\maildir/shackleton-s/sent/255.\n",
        "..\\maildir/shackleton-s/sent/2550.\n",
        "..\\maildir/shackleton-s/sent/2551.\n",
        "..\\maildir/shackleton-s/sent/2552.\n",
        "..\\maildir/shackleton-s/sent/2553."
       ]
      },
      {
       "output_type": "stream",
       "stream": "stdout",
       "text": [
        "\n",
        "..\\maildir/shackleton-s/sent/2554.\n",
        "..\\maildir/shackleton-s/sent/2555.\n",
        "..\\maildir/shackleton-s/sent/2556.\n",
        "..\\maildir/shackleton-s/sent/2557."
       ]
      },
      {
       "output_type": "stream",
       "stream": "stdout",
       "text": [
        "\n",
        "..\\maildir/shackleton-s/sent/2558.\n",
        "..\\maildir/shackleton-s/sent/2559.\n",
        "..\\maildir/shackleton-s/sent/256.\n",
        "..\\maildir/shackleton-s/sent/257.\n",
        "..\\maildir/shackleton-s/sent/258."
       ]
      },
      {
       "output_type": "stream",
       "stream": "stdout",
       "text": [
        "\n",
        "..\\maildir/shackleton-s/sent/259.\n",
        "..\\maildir/shackleton-s/sent/26.\n",
        "..\\maildir/shackleton-s/sent/260.\n",
        "..\\maildir/shackleton-s/sent/2602.\n",
        "..\\maildir/shackleton-s/sent/261.\n",
        "..\\maildir/shackleton-s/sent/262."
       ]
      },
      {
       "output_type": "stream",
       "stream": "stdout",
       "text": [
        "\n",
        "..\\maildir/shackleton-s/sent/2628.\n",
        "..\\maildir/shackleton-s/sent/263.\n",
        "..\\maildir/shackleton-s/sent/264.\n",
        "..\\maildir/shackleton-s/sent/265.\n",
        "..\\maildir/shackleton-s/sent/266.\n",
        "..\\maildir/shackleton-s/sent/267.\n",
        "..\\maildir/shackleton-s/sent/268."
       ]
      },
      {
       "output_type": "stream",
       "stream": "stdout",
       "text": [
        "\n",
        "..\\maildir/shackleton-s/sent/269.\n",
        "..\\maildir/shackleton-s/sent/27.\n",
        "..\\maildir/shackleton-s/sent/270.\n",
        "..\\maildir/shackleton-s/sent/271.\n",
        "..\\maildir/shackleton-s/sent/272.\n",
        "..\\maildir/shackleton-s/sent/273.\n",
        "..\\maildir/shackleton-s/sent/274.\n",
        "..\\maildir/shackleton-s/sent/275.\n",
        "..\\maildir/shackleton-s/sent/276."
       ]
      },
      {
       "output_type": "stream",
       "stream": "stdout",
       "text": [
        "\n",
        "..\\maildir/shackleton-s/sent/277.\n",
        "..\\maildir/shackleton-s/sent/278.\n",
        "..\\maildir/shackleton-s/sent/279.\n",
        "..\\maildir/shackleton-s/sent/28.\n",
        "..\\maildir/shackleton-s/sent/280.\n",
        "..\\maildir/shackleton-s/sent/281.\n",
        "..\\maildir/shackleton-s/sent/282."
       ]
      },
      {
       "output_type": "stream",
       "stream": "stdout",
       "text": [
        "\n",
        "..\\maildir/shackleton-s/sent/283.\n",
        "..\\maildir/shackleton-s/sent/284."
       ]
      },
      {
       "output_type": "stream",
       "stream": "stdout",
       "text": [
        "\n",
        "..\\maildir/shackleton-s/sent/285.\n",
        "..\\maildir/shackleton-s/sent/286.\n",
        "..\\maildir/shackleton-s/sent/287.\n",
        "..\\maildir/shackleton-s/sent/288.\n",
        "..\\maildir/shackleton-s/sent/289."
       ]
      },
      {
       "output_type": "stream",
       "stream": "stdout",
       "text": [
        "\n",
        "..\\maildir/shackleton-s/sent/29.\n",
        "..\\maildir/shackleton-s/sent/290.\n",
        "..\\maildir/shackleton-s/sent/291.\n",
        "..\\maildir/shackleton-s/sent/292.\n",
        "..\\maildir/shackleton-s/sent/293.\n",
        "..\\maildir/shackleton-s/sent/294.\n",
        "..\\maildir/shackleton-s/sent/295.\n",
        "..\\maildir/shackleton-s/sent/296.\n",
        "..\\maildir/shackleton-s/sent/297."
       ]
      },
      {
       "output_type": "stream",
       "stream": "stdout",
       "text": [
        "\n",
        "..\\maildir/shackleton-s/sent/298.\n",
        "..\\maildir/shackleton-s/sent/299.\n",
        "..\\maildir/shackleton-s/sent/3.\n",
        "..\\maildir/shackleton-s/sent/30.\n",
        "..\\maildir/shackleton-s/sent/300.\n",
        "..\\maildir/shackleton-s/sent/301."
       ]
      },
      {
       "output_type": "stream",
       "stream": "stdout",
       "text": [
        "\n",
        "..\\maildir/shackleton-s/sent/302.\n",
        "..\\maildir/shackleton-s/sent/303.\n",
        "..\\maildir/shackleton-s/sent/304.\n",
        "..\\maildir/shackleton-s/sent/305.\n",
        "..\\maildir/shackleton-s/sent/306."
       ]
      },
      {
       "output_type": "stream",
       "stream": "stdout",
       "text": [
        "\n",
        "..\\maildir/shackleton-s/sent/307.\n",
        "..\\maildir/shackleton-s/sent/308.\n",
        "..\\maildir/shackleton-s/sent/309.\n",
        "..\\maildir/shackleton-s/sent/31.\n",
        "..\\maildir/shackleton-s/sent/310.\n",
        "..\\maildir/shackleton-s/sent/311.\n",
        "..\\maildir/shackleton-s/sent/312.\n",
        "..\\maildir/shackleton-s/sent/313.\n",
        "..\\maildir/shackleton-s/sent/314.\n",
        "..\\maildir/shackleton-s/sent/315.\n",
        "..\\maildir/shackleton-s/sent/316."
       ]
      },
      {
       "output_type": "stream",
       "stream": "stdout",
       "text": [
        "\n",
        "..\\maildir/shackleton-s/sent/317.\n",
        "..\\maildir/shackleton-s/sent/318.\n",
        "..\\maildir/shackleton-s/sent/319.\n",
        "..\\maildir/shackleton-s/sent/32.\n",
        "..\\maildir/shackleton-s/sent/320.\n",
        "..\\maildir/shackleton-s/sent/321.\n",
        "..\\maildir/shackleton-s/sent/322."
       ]
      },
      {
       "output_type": "stream",
       "stream": "stdout",
       "text": [
        "\n",
        "..\\maildir/shackleton-s/sent/323.\n",
        "..\\maildir/shackleton-s/sent/324.\n",
        "..\\maildir/shackleton-s/sent/325.\n",
        "..\\maildir/shackleton-s/sent/326.\n",
        "..\\maildir/shackleton-s/sent/327."
       ]
      },
      {
       "output_type": "stream",
       "stream": "stdout",
       "text": [
        "\n",
        "..\\maildir/shackleton-s/sent/328.\n",
        "..\\maildir/shackleton-s/sent/329.\n",
        "..\\maildir/shackleton-s/sent/33.\n",
        "..\\maildir/shackleton-s/sent/330.\n",
        "..\\maildir/shackleton-s/sent/331.\n",
        "..\\maildir/shackleton-s/sent/332.\n",
        "..\\maildir/shackleton-s/sent/333.\n",
        "..\\maildir/shackleton-s/sent/334.\n",
        "..\\maildir/shackleton-s/sent/335."
       ]
      },
      {
       "output_type": "stream",
       "stream": "stdout",
       "text": [
        "\n",
        "..\\maildir/shackleton-s/sent/336.\n",
        "..\\maildir/shackleton-s/sent/337.\n",
        "..\\maildir/shackleton-s/sent/338.\n",
        "..\\maildir/shackleton-s/sent/339.\n",
        "..\\maildir/shackleton-s/sent/34.\n",
        "..\\maildir/shackleton-s/sent/340.\n",
        "..\\maildir/shackleton-s/sent/341.\n",
        "..\\maildir/shackleton-s/sent/342.\n",
        "..\\maildir/shackleton-s/sent/343.\n",
        "..\\maildir/shackleton-s/sent/344.\n",
        "..\\maildir/shackleton-s/sent/345."
       ]
      },
      {
       "output_type": "stream",
       "stream": "stdout",
       "text": [
        "\n",
        "..\\maildir/shackleton-s/sent/346.\n",
        "..\\maildir/shackleton-s/sent/347.\n",
        "..\\maildir/shackleton-s/sent/348.\n",
        "..\\maildir/shackleton-s/sent/349.\n",
        "..\\maildir/shackleton-s/sent/35.\n",
        "..\\maildir/shackleton-s/sent/350.\n",
        "..\\maildir/shackleton-s/sent/351.\n",
        "..\\maildir/shackleton-s/sent/352."
       ]
      },
      {
       "output_type": "stream",
       "stream": "stdout",
       "text": [
        "\n",
        "..\\maildir/shackleton-s/sent/353.\n",
        "..\\maildir/shackleton-s/sent/354.\n",
        "..\\maildir/shackleton-s/sent/355.\n",
        "..\\maildir/shackleton-s/sent/3553."
       ]
      },
      {
       "output_type": "stream",
       "stream": "stdout",
       "text": [
        "\n",
        "..\\maildir/shackleton-s/sent/356.\n",
        "..\\maildir/shackleton-s/sent/357.\n",
        "..\\maildir/shackleton-s/sent/358.\n",
        "..\\maildir/shackleton-s/sent/359.\n",
        "..\\maildir/shackleton-s/sent/36.\n",
        "..\\maildir/shackleton-s/sent/360.\n",
        "..\\maildir/shackleton-s/sent/361.\n",
        "..\\maildir/shackleton-s/sent/362.\n",
        "..\\maildir/shackleton-s/sent/363."
       ]
      },
      {
       "output_type": "stream",
       "stream": "stdout",
       "text": [
        "\n",
        "..\\maildir/shackleton-s/sent/364.\n",
        "..\\maildir/shackleton-s/sent/365.\n",
        "..\\maildir/shackleton-s/sent/366.\n",
        "..\\maildir/shackleton-s/sent/367.\n",
        "..\\maildir/shackleton-s/sent/368.\n",
        "..\\maildir/shackleton-s/sent/369.\n",
        "..\\maildir/shackleton-s/sent/37."
       ]
      },
      {
       "output_type": "stream",
       "stream": "stdout",
       "text": [
        "\n",
        "..\\maildir/shackleton-s/sent/370.\n",
        "..\\maildir/shackleton-s/sent/371.\n",
        "..\\maildir/shackleton-s/sent/372.\n",
        "..\\maildir/shackleton-s/sent/373.\n",
        "..\\maildir/shackleton-s/sent/374."
       ]
      },
      {
       "output_type": "stream",
       "stream": "stdout",
       "text": [
        "\n",
        "..\\maildir/shackleton-s/sent/375.\n",
        "..\\maildir/shackleton-s/sent/376."
       ]
      },
      {
       "output_type": "stream",
       "stream": "stdout",
       "text": [
        "\n",
        "..\\maildir/shackleton-s/sent/377.\n",
        "..\\maildir/shackleton-s/sent/378.\n",
        "..\\maildir/shackleton-s/sent/379.\n",
        "..\\maildir/shackleton-s/sent/38.\n",
        "..\\maildir/shackleton-s/sent/380."
       ]
      },
      {
       "output_type": "stream",
       "stream": "stdout",
       "text": [
        "\n",
        "..\\maildir/shackleton-s/sent/381.\n",
        "..\\maildir/shackleton-s/sent/382.\n",
        "..\\maildir/shackleton-s/sent/383.\n",
        "..\\maildir/shackleton-s/sent/384.\n",
        "..\\maildir/shackleton-s/sent/385.\n",
        "..\\maildir/shackleton-s/sent/386.\n",
        "..\\maildir/shackleton-s/sent/387.\n",
        "..\\maildir/shackleton-s/sent/388."
       ]
      },
      {
       "output_type": "stream",
       "stream": "stdout",
       "text": [
        "\n",
        "..\\maildir/shackleton-s/sent/389.\n",
        "..\\maildir/shackleton-s/sent/39.\n",
        "..\\maildir/shackleton-s/sent/390.\n",
        "..\\maildir/shackleton-s/sent/391.\n",
        "..\\maildir/shackleton-s/sent/392.\n",
        "..\\maildir/shackleton-s/sent/393.\n",
        "..\\maildir/shackleton-s/sent/394."
       ]
      },
      {
       "output_type": "stream",
       "stream": "stdout",
       "text": [
        "\n",
        "..\\maildir/shackleton-s/sent/395.\n",
        "..\\maildir/shackleton-s/sent/396.\n",
        "..\\maildir/shackleton-s/sent/397.\n",
        "..\\maildir/shackleton-s/sent/398.\n",
        "..\\maildir/shackleton-s/sent/4.\n",
        "..\\maildir/shackleton-s/sent/40."
       ]
      },
      {
       "output_type": "stream",
       "stream": "stdout",
       "text": [
        "\n",
        "..\\maildir/shackleton-s/sent/400.\n",
        "..\\maildir/shackleton-s/sent/401.\n",
        "..\\maildir/shackleton-s/sent/402.\n",
        "..\\maildir/shackleton-s/sent/403.\n",
        "..\\maildir/shackleton-s/sent/404.\n",
        "..\\maildir/shackleton-s/sent/405.\n",
        "..\\maildir/shackleton-s/sent/406.\n",
        "..\\maildir/shackleton-s/sent/407.\n",
        "..\\maildir/shackleton-s/sent/408."
       ]
      },
      {
       "output_type": "stream",
       "stream": "stdout",
       "text": [
        "\n",
        "..\\maildir/shackleton-s/sent/409.\n",
        "..\\maildir/shackleton-s/sent/41.\n",
        "..\\maildir/shackleton-s/sent/410.\n",
        "..\\maildir/shackleton-s/sent/411."
       ]
      },
      {
       "output_type": "stream",
       "stream": "stdout",
       "text": [
        "\n",
        "..\\maildir/shackleton-s/sent/412.\n",
        "..\\maildir/shackleton-s/sent/413.\n",
        "..\\maildir/shackleton-s/sent/414.\n",
        "..\\maildir/shackleton-s/sent/415."
       ]
      },
      {
       "output_type": "stream",
       "stream": "stdout",
       "text": [
        "\n",
        "..\\maildir/shackleton-s/sent/416.\n",
        "..\\maildir/shackleton-s/sent/417."
       ]
      },
      {
       "output_type": "stream",
       "stream": "stdout",
       "text": [
        "\n",
        "..\\maildir/shackleton-s/sent/418.\n",
        "..\\maildir/shackleton-s/sent/419.\n",
        "..\\maildir/shackleton-s/sent/42.\n",
        "..\\maildir/shackleton-s/sent/420.\n",
        "..\\maildir/shackleton-s/sent/421."
       ]
      }
     ]
    },
    {
     "cell_type": "code",
     "collapsed": false,
     "input": [
      "from_data = []\n",
      "word_data = []"
     ],
     "language": "python",
     "metadata": {},
     "outputs": []
    }
   ],
   "metadata": {}
  }
 ]
}