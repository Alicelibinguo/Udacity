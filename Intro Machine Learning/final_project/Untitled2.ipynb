{
 "metadata": {
  "name": "",
  "signature": "sha256:4ea1cec41ea4b1cd3fd08511869fc83fefd464e7ca901221871027fe343e2917"
 },
 "nbformat": 3,
 "nbformat_minor": 0,
 "worksheets": [
  {
   "cells": [
    {
     "cell_type": "code",
     "collapsed": false,
     "input": [
      "#!/usr/bin/python\n",
      "# set up and importing \n",
      "import sys\n",
      "import pickle\n",
      "sys.path.append(\"../tools/\")\n",
      "from feature_format import featureFormat, targetFeatureSplit\n",
      "from tester import dump_classifier_and_data\n",
      "from sklearn.feature_selection import SelectKBest, f_classif\n",
      "from sklearn.cross_validation import train_test_split, StratifiedShuffleSplit\n",
      "from sklearn.ensemble import AdaBoostClassifier, RandomForestClassifier\n",
      "from sklearn.grid_search import GridSearchCV\n",
      "from sklearn.metrics import recall_score, accuracy_score, precision_score\n",
      "from sklearn.preprocessing import MinMaxScaler\n",
      "from tester import test_classifier\n",
      "import numpy as np\n",
      "from time import time"
     ],
     "language": "python",
     "metadata": {},
     "outputs": [],
     "prompt_number": 1
    },
    {
     "cell_type": "markdown",
     "metadata": {},
     "source": [
      "## Task 1: Explore and Select Features \n",
      "\n",
      "features_list is a list of strings, each of which is a feature name.   \n",
      "The first feature must be \"poi\".   \n",
      "You will need to use more features    \n",
      "How do I Complete this Project?\n",
      "\n",
      "financial features:    \n",
      "['salary', 'deferral_payments', 'total_payments', 'loan_advances',   \n",
      "'bonus', 'restricted_stock_deferred', 'deferred_income',    \n",
      "'total_stock_value', 'expenses', 'exercised_stock_options',    \n",
      "'other', 'long_term_incentive', 'restricted_stock', 'director_fees']    \n",
      "(all units are in US dollars)\n",
      "\n",
      "email features:     \n",
      "['to_messages', 'email_address', 'from_poi_to_this_person', 'from_messages',     \n",
      "'from_this_person_to_poi', 'poi', 'shared_receipt_with_poi']       \n",
      "\n",
      "(units are generally number of emails messages; notable exception is \u2018email_address\u2019, which is a text string)"
     ]
    },
    {
     "cell_type": "code",
     "collapsed": false,
     "input": [
      "features_list = ['poi','salary' , 'deferral_payments', 'total_payments', 'loan_advances',\n",
      "                 'bonus', 'restricted_stock_deferred', 'deferred_income', 'total_stock_value', \n",
      "                 'expenses', 'exercised_stock_options', 'other', 'long_term_incentive', \n",
      "                 'restricted_stock', 'director_fees', 'to_messages', 'from_poi_to_this_person', \n",
      "                 'from_messages', 'from_this_person_to_poi', 'shared_receipt_with_poi']\n",
      "print len(features_list)"
     ],
     "language": "python",
     "metadata": {},
     "outputs": [
      {
       "output_type": "stream",
       "stream": "stdout",
       "text": [
        "20\n"
       ]
      }
     ],
     "prompt_number": 2
    },
    {
     "cell_type": "markdown",
     "metadata": {},
     "source": [
      "### Load the dictionary containing the dataset"
     ]
    },
    {
     "cell_type": "code",
     "collapsed": false,
     "input": [
      "with open(\"final_project_dataset.pkl\", \"r\") as data_file:\n",
      "    data_dict = pickle.load(data_file)"
     ],
     "language": "python",
     "metadata": {},
     "outputs": [],
     "prompt_number": 37
    },
    {
     "cell_type": "markdown",
     "metadata": {},
     "source": [
      "### Data Exploration\n",
      "Student response addresses the most important characteristics of the dataset and uses these characteristics to inform their analysis.    \n",
      "Important characteristics include:\n",
      "+ total number of data points   146\n",
      "+ allocation across classes (POI/non-POI)  18/128 \n",
      "+ number of features   19 (originally)\n",
      "+ are there features with many missing values? etc.    yes see list"
     ]
    },
    {
     "cell_type": "markdown",
     "metadata": {},
     "source": [
      "### total number of data points"
     ]
    },
    {
     "cell_type": "code",
     "collapsed": false,
     "input": [
      "print len(data_dict)"
     ],
     "language": "python",
     "metadata": {},
     "outputs": [
      {
       "output_type": "stream",
       "stream": "stdout",
       "text": [
        "146\n"
       ]
      }
     ],
     "prompt_number": 4
    },
    {
     "cell_type": "markdown",
     "metadata": {},
     "source": [
      "### The person names in the data set"
     ]
    },
    {
     "cell_type": "code",
     "collapsed": false,
     "input": [
      "s = []\n",
      "for person in data_dict.keys():\n",
      "    s.append(person)\n",
      "    if len(s) == 4:\n",
      "        print '{:<30}{:<30}{:<30}{:<30}'.format(s[0],s[1],s[2],s[3])\n",
      "        s = []\n",
      "print '{:<30}{:<30}'.format(s[0],s[1])"
     ],
     "language": "python",
     "metadata": {},
     "outputs": [
      {
       "output_type": "stream",
       "stream": "stdout",
       "text": [
        "METTS MARK                    BAXTER JOHN C                 ELLIOTT STEVEN                CORDES WILLIAM R              \n",
        "HANNON KEVIN P                MORDAUNT KRISTINA M           MEYER ROCKFORD G              MCMAHON JEFFREY               \n",
        "HORTON STANLEY C              PIPER GREGORY F               HUMPHREY GENE E               UMANOFF ADAM S                \n",
        "BLACHMAN JEREMY M             SUNDE MARTIN                  GIBBS DANA R                  LOWRY CHARLES P               \n",
        "COLWELL WESLEY                MULLER MARK S                 JACKSON CHARLENE R            WESTFAHL RICHARD K            \n",
        "WALTERS GARETH W              WALLS JR ROBERT H             KITCHEN LOUISE                CHAN RONNIE                   \n",
        "BELFER ROBERT                 SHANKMAN JEFFREY A            WODRASKA JOHN                 BERGSIEKER RICHARD P          \n",
        "URQUHART JOHN A               BIBI PHILIPPE A               RIEKER PAULA H                WHALEY DAVID A                \n",
        "BECK SALLY W                  HAUG DAVID L                  ECHOLS JOHN B                 MENDELSOHN JOHN               \n",
        "HICKERSON GARY J              CLINE KENNETH W               LEWIS RICHARD                 HAYES ROBERT E                \n",
        "MCCARTY DANNY J               KOPPER MICHAEL J              LEFF DANIEL P                 LAVORATO JOHN J               \n",
        "BERBERIAN DAVID               DETMERING TIMOTHY J           WAKEHAM JOHN                  POWERS WILLIAM                \n",
        "GOLD JOSEPH                   BANNANTINE JAMES M            DUNCAN JOHN H                 SHAPIRO RICHARD S             \n",
        "SHERRIFF JOHN R               SHELBY REX                    LEMAISTRE CHARLES             DEFFNER JOSEPH M              \n",
        "KISHKILL JOSEPH G             WHALLEY LAWRENCE G            MCCONNELL MICHAEL S           PIRO JIM                      \n",
        "DELAINEY DAVID W              SULLIVAN-SHAKLOVITZ COLLEEN   WROBEL BRUCE                  LINDHOLM TOD A                \n",
        "MEYER JEROME J                LAY KENNETH L                 BUTTS ROBERT H                OLSON CINDY K                 \n",
        "MCDONALD REBECCA              CUMBERLAND MICHAEL S          GAHN ROBERT S                 MCCLELLAN GEORGE              \n",
        "HERMANN ROBERT J              SCRIMSHAW MATTHEW             GATHMANN WILLIAM D            HAEDICKE MARK E               \n",
        "BOWEN JR RAYMOND M            GILLIS JOHN                   FITZGERALD JAY L              MORAN MICHAEL P               \n",
        "REDMOND BRIAN L               BAZELIDES PHILIP J            BELDEN TIMOTHY N              DURAN WILLIAM D               \n",
        "THORN TERENCE H               FASTOW ANDREW S               FOY JOE                       CALGER CHRISTOPHER F          \n",
        "RICE KENNETH D                KAMINSKI WINCENTY J           LOCKHART EUGENE E             COX DAVID                     \n",
        "OVERDYKE JR JERE C            PEREIRA PAULO V. FERRAZ       STABLER FRANK                 SKILLING JEFFREY K            \n",
        "BLAKE JR. NORMAN P            SHERRICK JEFFREY B            PRENTICE JAMES                GRAY RODNEY                   \n",
        "PICKERING MARK R              THE TRAVEL AGENCY IN THE PARK NOLES JAMES L                 KEAN STEVEN J                 \n",
        "TOTAL                         FOWLER PEGGY                  WASAFF GEORGE                 WHITE JR THOMAS E             \n",
        "CHRISTODOULOU DIOMEDES        ALLEN PHILLIP K               SHARP VICTORIA T              JAEDICKE ROBERT               \n",
        "WINOKUR JR. HERBERT S         BROWN MICHAEL                 BADUM JAMES P                 HUGHES JAMES A                \n",
        "REYNOLDS LAWRENCE             DIMICHELE RICHARD G           BHATNAGAR SANJAY              CARTER REBECCA C              \n",
        "BUCHANAN HAROLD G             YEAP SOON                     MURRAY JULIA H                GARLAND C KEVIN               \n",
        "DODSON KEITH                  YEAGER F SCOTT                HIRKO JOSEPH                  DIETRICH JANET R              \n",
        "DERRICK JR. JAMES V           FREVERT MARK A                PAI LOU L                     BAY FRANKLIN R                \n",
        "HAYSLETT RODERICK J           FUGH JOHN L                   FALLON JAMES B                KOENIG MARK E                 \n",
        "SAVAGE FRANK                  IZZO LAWRENCE L               TILNEY ELIZABETH A            MARTIN AMANDA K               \n",
        "BUY RICHARD B                 GRAMM WENDY L                 CAUSEY RICHARD A              TAYLOR MITCHELL S             \n",
        "DONAHUE JR JEFFREY M          GLISAN JR BEN F               \n"
       ]
      }
     ],
     "prompt_number": 5
    },
    {
     "cell_type": "markdown",
     "metadata": {},
     "source": [
      "'Total' is obviously an mistake/outlier"
     ]
    },
    {
     "cell_type": "code",
     "collapsed": false,
     "input": [
      "npoi = 0\n",
      "for p in data_dict.values():\n",
      "    if p['poi']:\n",
      "        npoi += 1\n",
      "print npoi\n",
      "print len(data_dict) - npoi"
     ],
     "language": "python",
     "metadata": {},
     "outputs": [
      {
       "output_type": "stream",
       "stream": "stdout",
       "text": [
        "18\n",
        "128\n"
       ]
      }
     ],
     "prompt_number": 6
    },
    {
     "cell_type": "markdown",
     "metadata": {},
     "source": [
      "Number of poi is 18    \n",
      "Number of non-poi is 128"
     ]
    },
    {
     "cell_type": "code",
     "collapsed": false,
     "input": [
      "NaNInFeatures = [0 for i in range(len(features_list))]\n",
      "for i, person in enumerate(data_dict.values()):\n",
      "    for j, feature in enumerate(features_list):\n",
      "        if person[feature] == 'NaN':\n",
      "            NaNInFeatures[j] += 1\n",
      "\n",
      "for i, feature in enumerate(features_list):\n",
      "    print feature, NaNInFeatures[i]"
     ],
     "language": "python",
     "metadata": {},
     "outputs": [
      {
       "output_type": "stream",
       "stream": "stdout",
       "text": [
        "poi 0\n",
        "salary 51\n",
        "deferral_payments 107\n",
        "total_payments 21\n",
        "loan_advances 142\n",
        "bonus 64\n",
        "restricted_stock_deferred 128\n",
        "deferred_income 97\n",
        "total_stock_value 20\n",
        "expenses 51\n",
        "exercised_stock_options 44\n",
        "other 53\n",
        "long_term_incentive 80\n",
        "restricted_stock 36\n",
        "director_fees 129\n",
        "to_messages 60\n",
        "from_poi_to_this_person 60\n",
        "from_messages 60\n",
        "from_this_person_to_poi 60\n",
        "shared_receipt_with_poi 60\n"
       ]
      }
     ],
     "prompt_number": 7
    },
    {
     "cell_type": "markdown",
     "metadata": {},
     "source": [
      "The above is the number of missing values in each field"
     ]
    },
    {
     "cell_type": "markdown",
     "metadata": {},
     "source": [
      "## Task 2: Remove outliers"
     ]
    },
    {
     "cell_type": "code",
     "collapsed": false,
     "input": [
      "data_dict.pop('TOTAL')\n",
      "print len(data_dict)"
     ],
     "language": "python",
     "metadata": {},
     "outputs": [
      {
       "output_type": "stream",
       "stream": "stdout",
       "text": [
        "145\n"
       ]
      }
     ],
     "prompt_number": 8
    },
    {
     "cell_type": "markdown",
     "metadata": {},
     "source": [
      "## Task 3: Create new features   \n",
      "Store to my_dataset for easy export below.   "
     ]
    },
    {
     "cell_type": "code",
     "collapsed": false,
     "input": [
      "my_dataset = data_dict"
     ],
     "language": "python",
     "metadata": {},
     "outputs": [],
     "prompt_number": 9
    },
    {
     "cell_type": "markdown",
     "metadata": {},
     "source": [
      "At least one new feature is implemented.    \n",
      "Justification for that feature is provided in the written response, and the effect of that feature on the final algorithm performance is tested.    "
     ]
    },
    {
     "cell_type": "code",
     "collapsed": false,
     "input": [
      "for person in my_dataset.values():\n",
      "    person['to_poi_message_ratio'] = 0\n",
      "    person['from_poi_message_ratio'] = 0\n",
      "    if float(person['from_messages']) > 0:\n",
      "        person['to_poi_message_ratio'] = float(person['from_this_person_to_poi'])/float(person['from_messages'])\n",
      "    if float(person['to_messages']) > 0:\n",
      "        person['from_poi_message_ratio'] = float(person['from_poi_to_this_person'])/float(person['to_messages'])\n",
      "    \n",
      "features_list.extend(['to_poi_message_ratio', 'from_poi_message_ratio'])"
     ],
     "language": "python",
     "metadata": {},
     "outputs": [],
     "prompt_number": 10
    },
    {
     "cell_type": "markdown",
     "metadata": {},
     "source": [
      "### Extract features and labels from dataset for local testing"
     ]
    },
    {
     "cell_type": "code",
     "collapsed": false,
     "input": [
      "data = featureFormat(my_dataset, features_list, sort_keys = True)\n",
      "labels, features = targetFeatureSplit(data)"
     ],
     "language": "python",
     "metadata": {},
     "outputs": [],
     "prompt_number": 11
    },
    {
     "cell_type": "markdown",
     "metadata": {},
     "source": [
      "Transform features using min-max approach"
     ]
    },
    {
     "cell_type": "code",
     "collapsed": false,
     "input": [
      "print len(features_list)\n",
      "for f in features_list:\n",
      "    print f"
     ],
     "language": "python",
     "metadata": {},
     "outputs": [
      {
       "output_type": "stream",
       "stream": "stdout",
       "text": [
        "22\n",
        "poi\n",
        "salary\n",
        "deferral_payments\n",
        "total_payments\n",
        "loan_advances\n",
        "bonus\n",
        "restricted_stock_deferred\n",
        "deferred_income\n",
        "total_stock_value\n",
        "expenses\n",
        "exercised_stock_options\n",
        "other\n",
        "long_term_incentive\n",
        "restricted_stock\n",
        "director_fees\n",
        "to_messages\n",
        "from_poi_to_this_person\n",
        "from_messages\n",
        "from_this_person_to_poi\n",
        "shared_receipt_with_poi\n",
        "to_poi_message_ratio\n",
        "from_poi_message_ratio\n"
       ]
      }
     ],
     "prompt_number": 12
    },
    {
     "cell_type": "markdown",
     "metadata": {},
     "source": [
      "Intelligently select features (related mini-project: Lesson 11)   \n",
      "Univariate or recursive feature selection is deployed,    \n",
      "or features are selected by hand      \n",
      "(different combinations of features are attempted, and the performance is documented for each one).     \n",
      "Features that are selected are reported and the number of features selected is justified.      \n",
      "For an algorithm that supports getting the feature importances      \n",
      "(e.g. decision tree) or feature scores (e.g. SelectKBest), those are documented as well.     "
     ]
    },
    {
     "cell_type": "code",
     "collapsed": false,
     "input": [
      "print len(features[0])"
     ],
     "language": "python",
     "metadata": {},
     "outputs": [
      {
       "output_type": "stream",
       "stream": "stdout",
       "text": [
        "21\n"
       ]
      }
     ],
     "prompt_number": 13
    },
    {
     "cell_type": "markdown",
     "metadata": {},
     "source": [
      "Try to use stratifieldshufflesplit to find the best subset of features to use"
     ]
    },
    {
     "cell_type": "code",
     "collapsed": false,
     "input": [
      "scv = StratifiedShuffleSplit(labels, 1000, random_state = 42)\n",
      "RF_acc = []\n",
      "RF_precision = []\n",
      "RF_recall = []\n",
      "ADA_acc = []\n",
      "ADA_precision = []\n",
      "ADA_recall = []\n",
      "\n",
      "def cvClassifier(clf, features, labels, cv):\n",
      "    true_negatives = 0\n",
      "    false_negatives = 0\n",
      "    true_positives = 0\n",
      "    false_positives = 0\n",
      "    for train_idx, test_idx in cv: \n",
      "        features_train = []\n",
      "        features_test  = []\n",
      "        labels_train   = []\n",
      "        labels_test    = []\n",
      "        for ii in train_idx:\n",
      "            features_train.append( features[ii] )\n",
      "            labels_train.append( labels[ii] )\n",
      "        for jj in test_idx:\n",
      "            features_test.append( features[jj] )\n",
      "            labels_test.append( labels[jj] )\n",
      "        clf.fit(features_train, labels_train)\n",
      "        predictions = clf.predict(features_test)\n",
      "        for prediction, truth in zip(predictions, labels_test):\n",
      "            if prediction == 0 and truth == 0:\n",
      "                true_negatives += 1\n",
      "            elif prediction == 0 and truth == 1:\n",
      "                false_negatives += 1\n",
      "            elif prediction == 1 and truth == 0:\n",
      "                false_positives += 1\n",
      "            elif prediction == 1 and truth == 1:\n",
      "                true_positives += 1\n",
      "    total_predictions = true_negatives + false_negatives + false_positives + true_positives\n",
      "    accuracy = round(1.0*(true_positives + true_negatives)/total_predictions,2)\n",
      "    precision = round(1.0*true_positives/(true_positives+false_positives),2)\n",
      "    recall = round(1.0*true_positives/(true_positives+false_negatives),2)\n",
      "    return accuracy, precision, recall\n",
      "\n",
      "for i in range(len(features[0])):\n",
      "    t0 = time()\n",
      "    selector = SelectKBest(f_classif, k = i+1)\n",
      "    selector.fit(features, labels)\n",
      "    reduced_features = selector.fit_transform(features, labels)\n",
      "    cutoff = np.sort(selector.scores_)[::-1][i]\n",
      "    selected_features_list = [f for j, f in enumerate(features_list[1:]) if selector.scores_[j] >= cutoff]\n",
      "    selected_features_list = ['poi'] + selected_features_list\n",
      "    RF = RandomForestClassifier(random_state=1126)\n",
      "    adaBoost = AdaBoostClassifier(random_state=1126)\n",
      "    acc, precision, recall = cvClassifier(RF, reduced_features, labels, scv)\n",
      "    RF_acc.append(acc)\n",
      "    RF_precision.append(precision)\n",
      "    RF_recall.append(recall)\n",
      "    acc, precision, recall = cvClassifier(adaBoost, reduced_features, labels, scv)\n",
      "    ADA_acc.append(acc)\n",
      "    ADA_precision.append(precision)\n",
      "    ADA_recall.append(recall)\n",
      "    print \"fitting time for k = {0}: {1}\".format(i+1, round(time()-t0, 3))\n",
      "    print \"RF accuracy: {0}  precision: {1}  recall: {2}\".format(RF_acc[-1], RF_precision[-1], RF_recall[-1])\n",
      "    print \"ADA accuracy: {0}  precision: {1}  recall: {2}\".format(ADA_acc[-1], ADA_precision[-1], ADA_recall[-1])"
     ],
     "language": "python",
     "metadata": {},
     "outputs": [
      {
       "output_type": "stream",
       "stream": "stdout",
       "text": [
        "fitting time for k = 1: 65.365\n",
        "RF accuracy: 0.85  precision: 0.38  recall: 0.2\n",
        "ADA accuracy: 0.87  precision: 0.5  recall: 0.23\n",
        "fitting time for k = 2: 66.775"
       ]
      },
      {
       "output_type": "stream",
       "stream": "stdout",
       "text": [
        "\n",
        "RF accuracy: 0.84  precision: 0.33  recall: 0.19\n",
        "ADA accuracy: 0.85  precision: 0.4  recall: 0.26\n",
        "fitting time for k = 3: 66.981"
       ]
      },
      {
       "output_type": "stream",
       "stream": "stdout",
       "text": [
        "\n",
        "RF accuracy: 0.88  precision: 0.58  recall: 0.29\n",
        "ADA accuracy: 0.82  precision: 0.32  recall: 0.3\n",
        "fitting time for k = 4: 68.444"
       ]
      },
      {
       "output_type": "stream",
       "stream": "stdout",
       "text": [
        "\n",
        "RF accuracy: 0.87  precision: 0.49  recall: 0.25\n",
        "ADA accuracy: 0.83  precision: 0.31  recall: 0.21\n",
        "fitting time for k = 5: 68.688"
       ]
      },
      {
       "output_type": "stream",
       "stream": "stdout",
       "text": [
        "\n",
        "RF accuracy: 0.86  precision: 0.44  recall: 0.2\n",
        "ADA accuracy: 0.82  precision: 0.28  recall: 0.23\n",
        "fitting time for k = 6: 69.235"
       ]
      },
      {
       "output_type": "stream",
       "stream": "stdout",
       "text": [
        "\n",
        "RF accuracy: 0.87  precision: 0.53  recall: 0.21\n",
        "ADA accuracy: 0.83  precision: 0.3  recall: 0.23\n",
        "fitting time for k = 7: 69.708"
       ]
      },
      {
       "output_type": "stream",
       "stream": "stdout",
       "text": [
        "\n",
        "RF accuracy: 0.86  precision: 0.44  recall: 0.17\n",
        "ADA accuracy: 0.83  precision: 0.31  recall: 0.24\n",
        "fitting time for k = 8: 70.696"
       ]
      },
      {
       "output_type": "stream",
       "stream": "stdout",
       "text": [
        "\n",
        "RF accuracy: 0.86  precision: 0.38  recall: 0.14\n",
        "ADA accuracy: 0.82  precision: 0.29  recall: 0.23\n",
        "fitting time for k = 9: 71.862"
       ]
      },
      {
       "output_type": "stream",
       "stream": "stdout",
       "text": [
        "\n",
        "RF accuracy: 0.85  precision: 0.38  recall: 0.15\n",
        "ADA accuracy: 0.82  precision: 0.29  recall: 0.22\n",
        "fitting time for k = 10: 73.531"
       ]
      },
      {
       "output_type": "stream",
       "stream": "stdout",
       "text": [
        "\n",
        "RF accuracy: 0.86  precision: 0.45  recall: 0.17\n",
        "ADA accuracy: 0.84  precision: 0.37  recall: 0.27\n",
        "fitting time for k = 11: 73.046"
       ]
      },
      {
       "output_type": "stream",
       "stream": "stdout",
       "text": [
        "\n",
        "RF accuracy: 0.86  precision: 0.43  recall: 0.15\n",
        "ADA accuracy: 0.84  precision: 0.37  recall: 0.27\n",
        "fitting time for k = 12: 73.351"
       ]
      },
      {
       "output_type": "stream",
       "stream": "stdout",
       "text": [
        "\n",
        "RF accuracy: 0.86  precision: 0.46  recall: 0.15\n",
        "ADA accuracy: 0.84  precision: 0.38  recall: 0.27\n",
        "fitting time for k = 13: 73.699"
       ]
      },
      {
       "output_type": "stream",
       "stream": "stdout",
       "text": [
        "\n",
        "RF accuracy: 0.86  precision: 0.46  recall: 0.17\n",
        "ADA accuracy: 0.84  precision: 0.39  recall: 0.29\n",
        "fitting time for k = 14: 74.608"
       ]
      },
      {
       "output_type": "stream",
       "stream": "stdout",
       "text": [
        "\n",
        "RF accuracy: 0.86  precision: 0.46  recall: 0.15\n",
        "ADA accuracy: 0.84  precision: 0.39  recall: 0.3\n",
        "fitting time for k = 15: 75.138"
       ]
      },
      {
       "output_type": "stream",
       "stream": "stdout",
       "text": [
        "\n",
        "RF accuracy: 0.86  precision: 0.45  recall: 0.15\n",
        "ADA accuracy: 0.84  precision: 0.38  recall: 0.29\n",
        "fitting time for k = 16: 75.774"
       ]
      },
      {
       "output_type": "stream",
       "stream": "stdout",
       "text": [
        "\n",
        "RF accuracy: 0.86  precision: 0.43  recall: 0.13\n",
        "ADA accuracy: 0.85  precision: 0.4  recall: 0.28\n",
        "fitting time for k = 17: 76.004"
       ]
      },
      {
       "output_type": "stream",
       "stream": "stdout",
       "text": [
        "\n",
        "RF accuracy: 0.86  precision: 0.44  recall: 0.14\n",
        "ADA accuracy: 0.85  precision: 0.41  recall: 0.28\n",
        "fitting time for k = 18: 76.986"
       ]
      },
      {
       "output_type": "stream",
       "stream": "stdout",
       "text": [
        "\n",
        "RF accuracy: 0.86  precision: 0.41  recall: 0.14\n",
        "ADA accuracy: 0.85  precision: 0.4  recall: 0.27\n",
        "fitting time for k = 19: 78.784"
       ]
      },
      {
       "output_type": "stream",
       "stream": "stdout",
       "text": [
        "\n",
        "RF accuracy: 0.86  precision: 0.43  recall: 0.13\n",
        "ADA accuracy: 0.85  precision: 0.39  recall: 0.27\n",
        "fitting time for k = 20: 78.225"
       ]
      },
      {
       "output_type": "stream",
       "stream": "stdout",
       "text": [
        "\n",
        "RF accuracy: 0.86  precision: 0.44  recall: 0.16\n",
        "ADA accuracy: 0.85  precision: 0.4  recall: 0.28\n",
        "fitting time for k = 21: 78.504"
       ]
      },
      {
       "output_type": "stream",
       "stream": "stdout",
       "text": [
        "\n",
        "RF accuracy: 0.86  precision: 0.43  recall: 0.13\n",
        "ADA accuracy: 0.85  precision: 0.4  recall: 0.28\n"
       ]
      }
     ],
     "prompt_number": 14
    },
    {
     "cell_type": "markdown",
     "metadata": {},
     "source": [
      "It appears that using random forest model will tend to have higher precision and lower recall.     \n",
      "For adaboost model it tend to have higher recall but lower precision.       \n",
      "And the accuracy for both classifiers are about the same"
     ]
    },
    {
     "cell_type": "code",
     "collapsed": false,
     "input": [
      "import pandas as pd\n",
      "rfdf = pd.DataFrame({'RF_acc': RF_acc, 'RF_pre': RF_precision, 'RF_rec': RF_recall})\n",
      "\n",
      "adadf = pd.DataFrame({'ADA_acc': ADA_acc, 'ADA_pre': ADA_precision, 'ADA_rec': ADA_recall})                   \n",
      "rfdf.plot()\n",
      "adadf.plot()\n",
      "plt.show()"
     ],
     "language": "python",
     "metadata": {},
     "outputs": [
      {
       "metadata": {},
       "output_type": "display_data",
       "png": "[encoded data removed]",
       "text": [
        "<matplotlib.figure.Figure at 0xbc557b8>"
       ]
      },
      {
       "metadata": {},
       "output_type": "display_data",
       "png": "[encoded data removed]",
       "text": [
        "<matplotlib.figure.Figure at 0xbc55860>"
       ]
      }
     ],
     "prompt_number": 15
    },
    {
     "cell_type": "code",
     "collapsed": false,
     "input": [
      "print RF_recall\n",
      "print max(RF_recall)\n",
      "print ADA_recall\n",
      "print max(ADA_recall)\n",
      "print ADA_recall.index(max(ADA_recall))+1"
     ],
     "language": "python",
     "metadata": {},
     "outputs": [
      {
       "output_type": "stream",
       "stream": "stdout",
       "text": [
        "[0.2, 0.19, 0.29, 0.25, 0.2, 0.21, 0.17, 0.14, 0.15, 0.17, 0.15, 0.15, 0.17, 0.15, 0.15, 0.13, 0.14, 0.14, 0.13, 0.16, 0.13]\n",
        "0.29\n",
        "[0.23, 0.26, 0.3, 0.21, 0.23, 0.23, 0.24, 0.23, 0.22, 0.27, 0.27, 0.27, 0.29, 0.3, 0.29, 0.28, 0.28, 0.27, 0.27, 0.28, 0.28]\n",
        "0.3\n",
        "3\n"
       ]
      }
     ],
     "prompt_number": 18
    },
    {
     "cell_type": "code",
     "collapsed": false,
     "input": [
      "selector = SelectKBest(f_classif, k = ADA_recall.index(max(ADA_recall))+1)\n",
      "selector.fit(features, labels)\n",
      "cutoff = np.sort(selector.scores_)[::-1][ADA_recall.index(max(ADA_recall))+1]"
     ],
     "language": "python",
     "metadata": {},
     "outputs": [],
     "prompt_number": 19
    },
    {
     "cell_type": "code",
     "collapsed": false,
     "input": [
      "selected_features_list = [f for i, f in enumerate(features_list[1:]) if selector.scores_[i] > cutoff]\n",
      "selected_features_list = ['poi'] + selected_features_list\n",
      "selected_features = selector.fit_transform(features, labels)"
     ],
     "language": "python",
     "metadata": {},
     "outputs": [],
     "prompt_number": 20
    },
    {
     "cell_type": "code",
     "collapsed": false,
     "input": [
      "rf = RF.best_estimator_\n",
      "rf.feature_importances_ "
     ],
     "language": "python",
     "metadata": {},
     "outputs": [
      {
       "metadata": {},
       "output_type": "pyout",
       "prompt_number": 51,
       "text": [
        "array([ 0.37965456,  0.28519462,  0.33515082])"
       ]
      }
     ],
     "prompt_number": 51
    },
    {
     "cell_type": "code",
     "collapsed": false,
     "input": [
      "print len(selected_features_list)-1\n",
      "print len(selected_features[0])\n",
      "for f in selected_features_list:\n",
      "    print f"
     ],
     "language": "python",
     "metadata": {},
     "outputs": [
      {
       "output_type": "stream",
       "stream": "stdout",
       "text": [
        "3\n",
        "3\n",
        "poi\n",
        "bonus\n",
        "total_stock_value\n",
        "exercised_stock_options\n"
       ]
      }
     ],
     "prompt_number": 21
    },
    {
     "cell_type": "markdown",
     "metadata": {},
     "source": [
      "### Parameter tuning for random forest"
     ]
    },
    {
     "cell_type": "code",
     "collapsed": false,
     "input": [
      "t0 = time()\n",
      "tuning_parameters = {'n_estimators': [10,20,50,100], 'min_samples_split': [1,2,4], 'max_features': [1,2,3]}\n",
      "print(\"# Tuning hyper-parameters for recall\")\n",
      "RF = GridSearchCV(RandomForestClassifier(), tuning_parameters, cv=scv, scoring = 'recall')\n",
      "RF.fit(selected_features, labels)\n",
      "print(\"Best parameters are:\")\n",
      "print(RF.best_params_)\n",
      "print \"tunning time: {0}\".format(round(time()-t0, 3))"
     ],
     "language": "python",
     "metadata": {},
     "outputs": [
      {
       "output_type": "stream",
       "stream": "stdout",
       "text": [
        "# Tuning hyper-parameters for recall\n",
        "Best parameters are:"
       ]
      },
      {
       "output_type": "stream",
       "stream": "stdout",
       "text": [
        "\n",
        "{'max_features': 2, 'min_samples_split': 1, 'n_estimators': 100}\n"
       ]
      }
     ],
     "prompt_number": 29
    },
    {
     "cell_type": "code",
     "collapsed": false,
     "input": [
      "t0 = time()\n",
      "tuned_parameters = {'n_estimators': [10,25,50,100,200], 'learning_rate': [0.2,0.4,0.6,0.8,1]}\n",
      "print(\"# Tuning hyper-parameters for recall\")\n",
      "Adaboost = GridSearchCV(AdaBoostClassifier(), tuned_parameters, cv=scv, scoring = 'recall')\n",
      "Adaboost.fit(selected_features, labels)\n",
      "print(\"Best parameters are:\")\n",
      "print(Adaboost.best_params_)\n",
      "print \"tunning time: {0}\".format(round(time()-t0, 3))"
     ],
     "language": "python",
     "metadata": {},
     "outputs": [
      {
       "output_type": "stream",
       "stream": "stdout",
       "text": [
        "# Tuning hyper-parameters for recall\n",
        "Best parameters are:"
       ]
      },
      {
       "output_type": "stream",
       "stream": "stdout",
       "text": [
        "\n",
        "{'n_estimators': 200, 'learning_rate': 0.6}\n",
        "tunning time: 2214.143\n"
       ]
      }
     ],
     "prompt_number": 31
    },
    {
     "cell_type": "code",
     "collapsed": false,
     "input": [
      "Clf = RF.best_estimator_\n",
      "dump_classifier_and_data(Clf, my_dataset, selected_features_list)"
     ],
     "language": "python",
     "metadata": {},
     "outputs": [],
     "prompt_number": 34
    },
    {
     "cell_type": "code",
     "collapsed": false,
     "input": [
      "test_classifier(Clf, my_dataset, selected_features_list, folds = 1000)"
     ],
     "language": "python",
     "metadata": {},
     "outputs": [
      {
       "output_type": "stream",
       "stream": "stdout",
       "text": [
        "RandomForestClassifier(bootstrap=True, class_weight=None, criterion='gini',\n",
        "            max_depth=None, max_features=2, max_leaf_nodes=None,\n",
        "            min_samples_leaf=1, min_samples_split=1,\n",
        "            min_weight_fraction_leaf=0.0, n_estimators=100, n_jobs=1,\n",
        "            oob_score=False, random_state=None, verbose=0,\n",
        "            warm_start=False)\n",
        "\tAccuracy: 0.85992\tPrecision: 0.56407\tRecall: 0.39400\tF1: 0.46394\tF2: 0.41928\n",
        "\tTotal predictions: 13000\tTrue positives:  788\tFalse positives:  609\tFalse negatives: 1212\tTrue negatives: 10391\n",
        "\n"
       ]
      }
     ],
     "prompt_number": 52
    },
    {
     "cell_type": "code",
     "collapsed": false,
     "input": [
      "Clf = Adaboost.best_estimator_\n",
      "dump_classifier_and_data(Clf, my_dataset, selected_features_list)"
     ],
     "language": "python",
     "metadata": {},
     "outputs": [],
     "prompt_number": 53
    },
    {
     "cell_type": "code",
     "collapsed": false,
     "input": [
      "test_classifier(Clf, my_dataset, selected_features_list, folds = 1000)"
     ],
     "language": "python",
     "metadata": {},
     "outputs": [
      {
       "output_type": "stream",
       "stream": "stdout",
       "text": [
        "AdaBoostClassifier(algorithm='SAMME.R', base_estimator=None,\n",
        "          learning_rate=0.6, n_estimators=200, random_state=None)\n",
        "\tAccuracy: 0.79962\tPrecision: 0.33260\tRecall: 0.30050\tF1: 0.31573\tF2: 0.30641\n",
        "\tTotal predictions: 13000\tTrue positives:  601\tFalse positives: 1206\tFalse negatives: 1399\tTrue negatives: 9794\n",
        "\n"
       ]
      }
     ],
     "prompt_number": 54
    },
    {
     "cell_type": "code",
     "collapsed": false,
     "input": [
      "print \"print out some values of the observation 'TOTAL'\"\n",
      "for name, person in data_dict.iteritems():\n",
      "\tif name == 'TOTAL':\n",
      "\t\tprint person"
     ],
     "language": "python",
     "metadata": {},
     "outputs": [
      {
       "output_type": "stream",
       "stream": "stdout",
       "text": [
        "print out some values of the observation 'TOTAL'\n",
        "{'salary': 26704229, 'to_messages': 'NaN', 'deferral_payments': 32083396, 'total_payments': 309886585, 'exercised_stock_options': 311764000, 'bonus': 97343619, 'restricted_stock': 130322299, 'shared_receipt_with_poi': 'NaN', 'restricted_stock_deferred': -7576788, 'total_stock_value': 434509511, 'expenses': 5235198, 'loan_advances': 83925000, 'from_messages': 'NaN', 'other': 42667589, 'from_this_person_to_poi': 'NaN', 'poi': False, 'director_fees': 1398517, 'deferred_income': -27992891, 'long_term_incentive': 48521928, 'email_address': 'NaN', 'from_poi_to_this_person': 'NaN'}\n"
       ]
      }
     ],
     "prompt_number": 39
    },
    {
     "cell_type": "code",
     "collapsed": false,
     "input": [
      "salary  = []\n",
      "for name, person in data_dict.iteritems():\n",
      "    if float(person['salary']) > 0:\n",
      "        salary.append(float(person['salary']))\n",
      "print np.sort(salary)"
     ],
     "language": "python",
     "metadata": {},
     "outputs": [
      {
       "output_type": "stream",
       "stream": "stdout",
       "text": [
        "[  4.77000000e+02   6.61500000e+03   6.37440000e+04   7.63990000e+04\n",
        "   8.08180000e+04   8.52740000e+04   9.49410000e+04   9.68400000e+04\n",
        "   1.30724000e+05   1.58403000e+05   1.62779000e+05   1.70941000e+05\n",
        "   1.74246000e+05   1.82245000e+05   1.84899000e+05   1.87922000e+05\n",
        "   1.92008000e+05   1.97091000e+05   1.99157000e+05   2.01955000e+05\n",
        "   2.06121000e+05   2.10500000e+05   2.10692000e+05   2.11788000e+05\n",
        "   2.11844000e+05   2.13625000e+05   2.13999000e+05   2.16582000e+05\n",
        "   2.21003000e+05   2.22093000e+05   2.24305000e+05   2.29284000e+05\n",
        "   2.31330000e+05   2.31946000e+05   2.36457000e+05   2.39502000e+05\n",
        "   2.39671000e+05   2.40189000e+05   2.43293000e+05   2.47338000e+05\n",
        "   2.48017000e+05   2.48146000e+05   2.48546000e+05   2.49201000e+05\n",
        "   2.50100000e+05   2.51654000e+05   2.57486000e+05   2.59996000e+05\n",
        "   2.61516000e+05   2.61809000e+05   2.61879000e+05   2.62663000e+05\n",
        "   2.62788000e+05   2.63413000e+05   2.65214000e+05   2.67093000e+05\n",
        "   2.67102000e+05   2.69076000e+05   2.71442000e+05   2.72880000e+05\n",
        "   2.73746000e+05   2.74975000e+05   2.75101000e+05   2.78601000e+05\n",
        "   2.78601000e+05   2.88542000e+05   2.88558000e+05   2.88589000e+05\n",
        "   3.04110000e+05   3.04588000e+05   3.09946000e+05   3.14288000e+05\n",
        "   3.17543000e+05   3.29078000e+05   3.30546000e+05   3.39288000e+05\n",
        "   3.49487000e+05   3.57091000e+05   3.65038000e+05   3.65163000e+05\n",
        "   3.65788000e+05   3.70448000e+05   3.74125000e+05   4.04338000e+05\n",
        "   4.15189000e+05   4.20636000e+05   4.28780000e+05   4.40698000e+05\n",
        "   4.92375000e+05   5.10364000e+05   6.55037000e+05   1.06093200e+06\n",
        "   1.07232100e+06   1.11125800e+06   2.67042290e+07]\n"
       ]
      }
     ],
     "prompt_number": 45
    },
    {
     "cell_type": "code",
     "collapsed": false,
     "input": [
      "total_payments = []\n",
      "for name, person in data_dict.iteritems():\n",
      "    if float(person['total_payments']) > 0:\n",
      "        total_payments.append(float(person['total_payments']))\n",
      "print np.sort(total_payments)"
     ],
     "language": "python",
     "metadata": {},
     "outputs": [
      {
       "output_type": "stream",
       "stream": "stdout",
       "text": [
        "[  1.48000000e+02   4.75000000e+02   1.27900000e+03   2.15100000e+03\n",
        "   3.75000000e+03   7.96100000e+03   2.79420000e+04   4.92880000e+04\n",
        "   5.05910000e+04   5.50970000e+04   7.74920000e+04   8.37500000e+04\n",
        "   8.49920000e+04   8.74100000e+04   8.74920000e+04   9.10930000e+04\n",
        "   1.02500000e+05   1.11529000e+05   1.19292000e+05   1.81755000e+05\n",
        "   1.82466000e+05   1.89583000e+05   2.11725000e+05   2.13071000e+05\n",
        "   2.28474000e+05   2.28656000e+05   2.49787000e+05   2.88682000e+05\n",
        "   3.19941000e+05   3.60300000e+05   3.62096000e+05   3.94475000e+05\n",
        "   3.99393000e+05   4.77557000e+05   5.05050000e+05   5.50981000e+05\n",
        "   5.51174000e+05   5.64348000e+05   6.18850000e+05   6.28522000e+05\n",
        "   7.04896000e+05   7.62135000e+05   7.74401000e+05   8.07956000e+05\n",
        "   8.12194000e+05   8.27696000e+05   8.60136000e+05   8.75760000e+05\n",
        "   8.75889000e+05   9.00585000e+05   9.11453000e+05   9.16197000e+05\n",
        "   9.66522000e+05   9.69068000e+05   9.99356000e+05   1.03439500e+06\n",
        "   1.05463700e+06   1.05754800e+06   1.06182700e+06   1.08682100e+06\n",
        "   1.09266300e+06   1.09910000e+06   1.10139300e+06   1.11208700e+06\n",
        "   1.13046100e+06   1.14665800e+06   1.20458300e+06   1.20864900e+06\n",
        "   1.27158200e+06   1.27228400e+06   1.29746100e+06   1.31876300e+06\n",
        "   1.32155700e+06   1.38669000e+06   1.41046400e+06   1.41485700e+06\n",
        "   1.49034400e+06   1.54505900e+06   1.56646900e+06   1.57651100e+06\n",
        "   1.58742100e+06   1.63929700e+06   1.73762900e+06   1.74752200e+06\n",
        "   1.79878000e+06   1.84822700e+06   1.86875800e+06   1.93435900e+06\n",
        "   1.97959600e+06   2.00388500e+06   2.01483500e+06   2.04759300e+06\n",
        "   2.08179600e+06   2.09326300e+06   2.10136400e+06   2.14697300e+06\n",
        "   2.35570200e+06   2.36815100e+06   2.42408300e+06   2.65261200e+06\n",
        "   2.66422800e+06   2.66958900e+06   2.69232400e+06   3.03870200e+06\n",
        "   3.10022400e+06   3.12338300e+06   3.13186000e+06   3.20207000e+06\n",
        "   3.47114100e+06   3.67634000e+06   3.85906500e+06   4.09977100e+06\n",
        "   4.33538800e+06   4.48444200e+06   4.67757400e+06   4.74797900e+06\n",
        "   5.50163000e+06   5.63434300e+06   8.40701600e+06   8.68271600e+06\n",
        "   1.04257570e+07   1.54562900e+07   1.72525300e+07   1.03559793e+08\n",
        "   3.09886585e+08]\n"
       ]
      }
     ],
     "prompt_number": 46
    },
    {
     "cell_type": "code",
     "collapsed": false,
     "input": [
      "np.sum(salary)/2 -  max(salary)"
     ],
     "language": "python",
     "metadata": {},
     "outputs": [
      {
       "metadata": {},
       "output_type": "pyout",
       "prompt_number": 49,
       "text": [
        "0.0"
       ]
      }
     ],
     "prompt_number": 49
    }
   ],
   "metadata": {}
  }
 ]
}