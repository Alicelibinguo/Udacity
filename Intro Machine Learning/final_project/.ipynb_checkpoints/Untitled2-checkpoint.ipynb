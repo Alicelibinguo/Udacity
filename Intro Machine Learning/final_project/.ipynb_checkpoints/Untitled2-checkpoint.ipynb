{
 "metadata": {
  "name": "",
  "signature": "sha256:4174d609c0b9d18c504a149c8a3621189c16cf9fb8e32d45afcaf99dfa7259d5"
 },
 "nbformat": 3,
 "nbformat_minor": 0,
 "worksheets": [
  {
   "cells": [
    {
     "cell_type": "code",
     "collapsed": false,
     "input": [
      "#!/usr/bin/python\n",
      "# set up and importing \n",
      "import sys\n",
      "import pickle\n",
      "sys.path.append(\"../tools/\")\n",
      "from feature_format import featureFormat, targetFeatureSplit\n",
      "from tester import dump_classifier_and_data\n",
      "from sklearn.feature_selection import SelectKBest, f_classif\n",
      "from sklearn.cross_validation import train_test_split, StratifiedShuffleSplit\n",
      "from sklearn.ensemble import AdaBoostClassifier, RandomForestClassifier\n",
      "from sklearn.grid_search import GridSearchCV\n",
      "from sklearn.metrics import recall_score, accuracy_score, precision_score\n",
      "from sklearn.preprocessing import MinMaxScaler\n",
      "from tester import test_classifier\n",
      "import numpy as np\n",
      "from time import time"
     ],
     "language": "python",
     "metadata": {},
     "outputs": [],
     "prompt_number": 1
    },
    {
     "cell_type": "markdown",
     "metadata": {},
     "source": [
      "## Task 1: Explore and Select Features \n",
      "\n",
      "features_list is a list of strings, each of which is a feature name.   \n",
      "The first feature must be \"poi\".   \n",
      "You will need to use more features    \n",
      "How do I Complete this Project?\n",
      "\n",
      "financial features:    \n",
      "['salary', 'deferral_payments', 'total_payments', 'loan_advances',   \n",
      "'bonus', 'restricted_stock_deferred', 'deferred_income',    \n",
      "'total_stock_value', 'expenses', 'exercised_stock_options',    \n",
      "'other', 'long_term_incentive', 'restricted_stock', 'director_fees']    \n",
      "(all units are in US dollars)\n",
      "\n",
      "email features:     \n",
      "['to_messages', 'email_address', 'from_poi_to_this_person', 'from_messages',     \n",
      "'from_this_person_to_poi', 'poi', 'shared_receipt_with_poi']       \n",
      "\n",
      "(units are generally number of emails messages; notable exception is \u2018email_address\u2019, which is a text string)"
     ]
    },
    {
     "cell_type": "code",
     "collapsed": false,
     "input": [
      "features_list = ['poi','salary' , 'deferral_payments', 'total_payments', 'loan_advances',\n",
      "                 'bonus', 'restricted_stock_deferred', 'deferred_income', 'total_stock_value', \n",
      "                 'expenses', 'exercised_stock_options', 'other', 'long_term_incentive', \n",
      "                 'restricted_stock', 'director_fees', 'to_messages', 'from_poi_to_this_person', \n",
      "                 'from_messages', 'from_this_person_to_poi', 'shared_receipt_with_poi']\n",
      "print len(features_list)"
     ],
     "language": "python",
     "metadata": {},
     "outputs": [
      {
       "output_type": "stream",
       "stream": "stdout",
       "text": [
        "20\n"
       ]
      }
     ],
     "prompt_number": 2
    },
    {
     "cell_type": "markdown",
     "metadata": {},
     "source": [
      "### Load the dictionary containing the dataset"
     ]
    },
    {
     "cell_type": "code",
     "collapsed": false,
     "input": [
      "with open(\"final_project_dataset.pkl\", \"r\") as data_file:\n",
      "    data_dict = pickle.load(data_file)"
     ],
     "language": "python",
     "metadata": {},
     "outputs": [],
     "prompt_number": 3
    },
    {
     "cell_type": "markdown",
     "metadata": {},
     "source": [
      "### Data Exploration\n",
      "Student response addresses the most important characteristics of the dataset and uses these characteristics to inform their analysis.    \n",
      "Important characteristics include:\n",
      "+ total number of data points   146\n",
      "+ allocation across classes (POI/non-POI)  18/128 \n",
      "+ number of features   19 (originally)\n",
      "+ are there features with many missing values? etc.    yes see list"
     ]
    },
    {
     "cell_type": "markdown",
     "metadata": {},
     "source": [
      "### total number of data points"
     ]
    },
    {
     "cell_type": "code",
     "collapsed": false,
     "input": [
      "print len(data_dict)"
     ],
     "language": "python",
     "metadata": {},
     "outputs": [
      {
       "output_type": "stream",
       "stream": "stdout",
       "text": [
        "146\n"
       ]
      }
     ],
     "prompt_number": 4
    },
    {
     "cell_type": "markdown",
     "metadata": {},
     "source": [
      "### The person names in the data set"
     ]
    },
    {
     "cell_type": "code",
     "collapsed": false,
     "input": [
      "s = []\n",
      "for person in data_dict.keys():\n",
      "    s.append(person)\n",
      "    if len(s) == 4:\n",
      "        print '{:<30}{:<30}{:<30}{:<30}'.format(s[0],s[1],s[2],s[3])\n",
      "        s = []\n",
      "print '{:<30}{:<30}'.format(s[0],s[1])"
     ],
     "language": "python",
     "metadata": {},
     "outputs": [
      {
       "output_type": "stream",
       "stream": "stdout",
       "text": [
        "METTS MARK                    BAXTER JOHN C                 ELLIOTT STEVEN                CORDES WILLIAM R              \n",
        "HANNON KEVIN P                MORDAUNT KRISTINA M           MEYER ROCKFORD G              MCMAHON JEFFREY               \n",
        "HORTON STANLEY C              PIPER GREGORY F               HUMPHREY GENE E               UMANOFF ADAM S                \n",
        "BLACHMAN JEREMY M             SUNDE MARTIN                  GIBBS DANA R                  LOWRY CHARLES P               \n",
        "COLWELL WESLEY                MULLER MARK S                 JACKSON CHARLENE R            WESTFAHL RICHARD K            \n",
        "WALTERS GARETH W              WALLS JR ROBERT H             KITCHEN LOUISE                CHAN RONNIE                   \n",
        "BELFER ROBERT                 SHANKMAN JEFFREY A            WODRASKA JOHN                 BERGSIEKER RICHARD P          \n",
        "URQUHART JOHN A               BIBI PHILIPPE A               RIEKER PAULA H                WHALEY DAVID A                \n",
        "BECK SALLY W                  HAUG DAVID L                  ECHOLS JOHN B                 MENDELSOHN JOHN               \n",
        "HICKERSON GARY J              CLINE KENNETH W               LEWIS RICHARD                 HAYES ROBERT E                \n",
        "MCCARTY DANNY J               KOPPER MICHAEL J              LEFF DANIEL P                 LAVORATO JOHN J               \n",
        "BERBERIAN DAVID               DETMERING TIMOTHY J           WAKEHAM JOHN                  POWERS WILLIAM                \n",
        "GOLD JOSEPH                   BANNANTINE JAMES M            DUNCAN JOHN H                 SHAPIRO RICHARD S             \n",
        "SHERRIFF JOHN R               SHELBY REX                    LEMAISTRE CHARLES             DEFFNER JOSEPH M              \n",
        "KISHKILL JOSEPH G             WHALLEY LAWRENCE G            MCCONNELL MICHAEL S           PIRO JIM                      \n",
        "DELAINEY DAVID W              SULLIVAN-SHAKLOVITZ COLLEEN   WROBEL BRUCE                  LINDHOLM TOD A                \n",
        "MEYER JEROME J                LAY KENNETH L                 BUTTS ROBERT H                OLSON CINDY K                 \n",
        "MCDONALD REBECCA              CUMBERLAND MICHAEL S          GAHN ROBERT S                 MCCLELLAN GEORGE              \n",
        "HERMANN ROBERT J              SCRIMSHAW MATTHEW             GATHMANN WILLIAM D            HAEDICKE MARK E               \n",
        "BOWEN JR RAYMOND M            GILLIS JOHN                   FITZGERALD JAY L              MORAN MICHAEL P               \n",
        "REDMOND BRIAN L               BAZELIDES PHILIP J            BELDEN TIMOTHY N              DURAN WILLIAM D               \n",
        "THORN TERENCE H               FASTOW ANDREW S               FOY JOE                       CALGER CHRISTOPHER F          \n",
        "RICE KENNETH D                KAMINSKI WINCENTY J           LOCKHART EUGENE E             COX DAVID                     \n",
        "OVERDYKE JR JERE C            PEREIRA PAULO V. FERRAZ       STABLER FRANK                 SKILLING JEFFREY K            \n",
        "BLAKE JR. NORMAN P            SHERRICK JEFFREY B            PRENTICE JAMES                GRAY RODNEY                   \n",
        "PICKERING MARK R              THE TRAVEL AGENCY IN THE PARK NOLES JAMES L                 KEAN STEVEN J                 \n",
        "TOTAL                         FOWLER PEGGY                  WASAFF GEORGE                 WHITE JR THOMAS E             \n",
        "CHRISTODOULOU DIOMEDES        ALLEN PHILLIP K               SHARP VICTORIA T              JAEDICKE ROBERT               \n",
        "WINOKUR JR. HERBERT S         BROWN MICHAEL                 BADUM JAMES P                 HUGHES JAMES A                \n",
        "REYNOLDS LAWRENCE             DIMICHELE RICHARD G           BHATNAGAR SANJAY              CARTER REBECCA C              \n",
        "BUCHANAN HAROLD G             YEAP SOON                     MURRAY JULIA H                GARLAND C KEVIN               \n",
        "DODSON KEITH                  YEAGER F SCOTT                HIRKO JOSEPH                  DIETRICH JANET R              \n",
        "DERRICK JR. JAMES V           FREVERT MARK A                PAI LOU L                     BAY FRANKLIN R                \n",
        "HAYSLETT RODERICK J           FUGH JOHN L                   FALLON JAMES B                KOENIG MARK E                 \n",
        "SAVAGE FRANK                  IZZO LAWRENCE L               TILNEY ELIZABETH A            MARTIN AMANDA K               \n",
        "BUY RICHARD B                 GRAMM WENDY L                 CAUSEY RICHARD A              TAYLOR MITCHELL S             \n",
        "DONAHUE JR JEFFREY M          GLISAN JR BEN F               \n"
       ]
      }
     ],
     "prompt_number": 5
    },
    {
     "cell_type": "markdown",
     "metadata": {},
     "source": [
      "'Total' is obviously an mistake/outlier"
     ]
    },
    {
     "cell_type": "code",
     "collapsed": false,
     "input": [
      "npoi = 0\n",
      "for p in data_dict.values():\n",
      "    if p['poi']:\n",
      "        npoi += 1\n",
      "print npoi\n",
      "print len(data_dict) - npoi"
     ],
     "language": "python",
     "metadata": {},
     "outputs": [
      {
       "output_type": "stream",
       "stream": "stdout",
       "text": [
        "18\n",
        "128\n"
       ]
      }
     ],
     "prompt_number": 6
    },
    {
     "cell_type": "markdown",
     "metadata": {},
     "source": [
      "Number of poi is 18    \n",
      "Number of non-poi is 128"
     ]
    },
    {
     "cell_type": "code",
     "collapsed": false,
     "input": [
      "NaNInFeatures = [0 for i in range(len(features_list))]\n",
      "for i, person in enumerate(data_dict.values()):\n",
      "    for j, feature in enumerate(features_list):\n",
      "        if person[feature] == 'NaN':\n",
      "            NaNInFeatures[j] += 1\n",
      "\n",
      "for i, feature in enumerate(features_list):\n",
      "    print feature, NaNInFeatures[i]"
     ],
     "language": "python",
     "metadata": {},
     "outputs": [
      {
       "output_type": "stream",
       "stream": "stdout",
       "text": [
        "poi 0\n",
        "salary 51\n",
        "deferral_payments 107\n",
        "total_payments 21\n",
        "loan_advances 142\n",
        "bonus 64\n",
        "restricted_stock_deferred 128\n",
        "deferred_income 97\n",
        "total_stock_value 20\n",
        "expenses 51\n",
        "exercised_stock_options 44\n",
        "other 53\n",
        "long_term_incentive 80\n",
        "restricted_stock 36\n",
        "director_fees 129\n",
        "to_messages 60\n",
        "from_poi_to_this_person 60\n",
        "from_messages 60\n",
        "from_this_person_to_poi 60\n",
        "shared_receipt_with_poi 60\n"
       ]
      }
     ],
     "prompt_number": 7
    },
    {
     "cell_type": "markdown",
     "metadata": {},
     "source": [
      "The above is the number of missing values in each field"
     ]
    },
    {
     "cell_type": "markdown",
     "metadata": {},
     "source": [
      "## Task 2: Remove outliers"
     ]
    },
    {
     "cell_type": "code",
     "collapsed": false,
     "input": [
      "data_dict.pop('TOTAL')\n",
      "print len(data_dict)"
     ],
     "language": "python",
     "metadata": {},
     "outputs": [
      {
       "output_type": "stream",
       "stream": "stdout",
       "text": [
        "145\n"
       ]
      }
     ],
     "prompt_number": 8
    },
    {
     "cell_type": "markdown",
     "metadata": {},
     "source": [
      "## Task 3: Create new features   \n",
      "Store to my_dataset for easy export below.   "
     ]
    },
    {
     "cell_type": "code",
     "collapsed": false,
     "input": [
      "my_dataset = data_dict"
     ],
     "language": "python",
     "metadata": {},
     "outputs": [],
     "prompt_number": 9
    },
    {
     "cell_type": "markdown",
     "metadata": {},
     "source": [
      "At least one new feature is implemented.    \n",
      "Justification for that feature is provided in the written response, and the effect of that feature on the final algorithm performance is tested.    "
     ]
    },
    {
     "cell_type": "code",
     "collapsed": false,
     "input": [
      "for person in my_dataset.values():\n",
      "    person['to_poi_message_ratio'] = 0\n",
      "    person['from_poi_message_ratio'] = 0\n",
      "    if float(person['from_messages']) > 0:\n",
      "        person['to_poi_message_ratio'] = float(person['from_this_person_to_poi'])/float(person['from_messages'])\n",
      "    if float(person['to_messages']) > 0:\n",
      "        person['from_poi_message_ratio'] = float(person['from_poi_to_this_person'])/float(person['to_messages'])\n",
      "    \n",
      "features_list.extend(['to_poi_message_ratio', 'from_poi_message_ratio'])"
     ],
     "language": "python",
     "metadata": {},
     "outputs": [],
     "prompt_number": 10
    },
    {
     "cell_type": "markdown",
     "metadata": {},
     "source": [
      "### Extract features and labels from dataset for local testing"
     ]
    },
    {
     "cell_type": "code",
     "collapsed": false,
     "input": [
      "data = featureFormat(my_dataset, features_list, sort_keys = True)\n",
      "labels, features = targetFeatureSplit(data)"
     ],
     "language": "python",
     "metadata": {},
     "outputs": [],
     "prompt_number": 11
    },
    {
     "cell_type": "markdown",
     "metadata": {},
     "source": [
      "Transform features using min-max approach"
     ]
    },
    {
     "cell_type": "code",
     "collapsed": false,
     "input": [
      "print len(features_list)\n",
      "for f in features_list:\n",
      "    print f"
     ],
     "language": "python",
     "metadata": {},
     "outputs": [
      {
       "output_type": "stream",
       "stream": "stdout",
       "text": [
        "22\n",
        "poi\n",
        "salary\n",
        "deferral_payments\n",
        "total_payments\n",
        "loan_advances\n",
        "bonus\n",
        "restricted_stock_deferred\n",
        "deferred_income\n",
        "total_stock_value\n",
        "expenses\n",
        "exercised_stock_options\n",
        "other\n",
        "long_term_incentive\n",
        "restricted_stock\n",
        "director_fees\n",
        "to_messages\n",
        "from_poi_to_this_person\n",
        "from_messages\n",
        "from_this_person_to_poi\n",
        "shared_receipt_with_poi\n",
        "to_poi_message_ratio\n",
        "from_poi_message_ratio\n"
       ]
      }
     ],
     "prompt_number": 12
    },
    {
     "cell_type": "markdown",
     "metadata": {},
     "source": [
      "Intelligently select features (related mini-project: Lesson 11)   \n",
      "Univariate or recursive feature selection is deployed,    \n",
      "or features are selected by hand      \n",
      "(different combinations of features are attempted, and the performance is documented for each one).     \n",
      "Features that are selected are reported and the number of features selected is justified.      \n",
      "For an algorithm that supports getting the feature importances      \n",
      "(e.g. decision tree) or feature scores (e.g. SelectKBest), those are documented as well.     "
     ]
    },
    {
     "cell_type": "code",
     "collapsed": false,
     "input": [
      "print len(features[0])"
     ],
     "language": "python",
     "metadata": {},
     "outputs": [
      {
       "output_type": "stream",
       "stream": "stdout",
       "text": [
        "21\n"
       ]
      }
     ],
     "prompt_number": 13
    },
    {
     "cell_type": "code",
     "collapsed": false,
     "input": [
      "scv = StratifiedShuffleSplit(labels, 1000, random_state = 42)\n",
      "RF_acc = []\n",
      "RF_precision = []\n",
      "RF_recall = []\n",
      "ADA_acc = []\n",
      "ADA_precision = []\n",
      "ADA_recall = []\n",
      "\n",
      "def cvClassifier(clf, features, labels, cv):\n",
      "    true_negatives = 0\n",
      "    false_negatives = 0\n",
      "    true_positives = 0\n",
      "    false_positives = 0\n",
      "    for train_idx, test_idx in cv: \n",
      "        features_train = []\n",
      "        features_test  = []\n",
      "        labels_train   = []\n",
      "        labels_test    = []\n",
      "        for ii in train_idx:\n",
      "            features_train.append( features[ii] )\n",
      "            labels_train.append( labels[ii] )\n",
      "        for jj in test_idx:\n",
      "            features_test.append( features[jj] )\n",
      "            labels_test.append( labels[jj] )\n",
      "        clf.fit(features_train, labels_train)\n",
      "        predictions = clf.predict(features_test)\n",
      "        for prediction, truth in zip(predictions, labels_test):\n",
      "            if prediction == 0 and truth == 0:\n",
      "                true_negatives += 1\n",
      "            elif prediction == 0 and truth == 1:\n",
      "                false_negatives += 1\n",
      "            elif prediction == 1 and truth == 0:\n",
      "                false_positives += 1\n",
      "            elif prediction == 1 and truth == 1:\n",
      "                true_positives += 1\n",
      "    total_predictions = true_negatives + false_negatives + false_positives + true_positives\n",
      "    accuracy = round(1.0*(true_positives + true_negatives)/total_predictions,2)\n",
      "    precision = round(1.0*true_positives/(true_positives+false_positives),2)\n",
      "    recall = round(1.0*true_positives/(true_positives+false_negatives),2)\n",
      "    return accuracy, precision, recall\n",
      "\n",
      "for i in range(len(features[0])):\n",
      "    t0 = time()\n",
      "    selector = SelectKBest(f_classif, k = i+1)\n",
      "    selector.fit(features, labels)\n",
      "    reduced_features = selector.fit_transform(features, labels)\n",
      "    cutoff = np.sort(selector.scores_)[::-1][i]\n",
      "    selected_features_list = [f for j, f in enumerate(features_list[1:]) if selector.scores_[j] >= cutoff]\n",
      "    selected_features_list = ['poi'] + selected_features_list\n",
      "    RF = RandomForestClassifier(random_state=1126)\n",
      "    adaBoost = AdaBoostClassifier(random_state=1126)\n",
      "    acc, precision, recall = cvClassifier(RF, reduced_features, labels, scv)\n",
      "    RF_acc.append(acc)\n",
      "    RF_precision.append(precision)\n",
      "    RF_recall.append(recall)\n",
      "    acc, precision, recall = cvClassifier(adaBoost, reduced_features, labels, scv)\n",
      "    ADA_acc.append(acc)\n",
      "    ADA_precision.append(precision)\n",
      "    ADA_recall.append(recall)\n",
      "    print(\"fitting time for k = {0}: {1}\".format(i+1, round(time()-t0, 3))"
     ],
     "language": "python",
     "metadata": {},
     "outputs": []
    },
    {
     "cell_type": "code",
     "collapsed": false,
     "input": [],
     "language": "python",
     "metadata": {},
     "outputs": []
    },
    {
     "cell_type": "code",
     "collapsed": false,
     "input": [
      "import pandas as pd\n",
      "rfdf = pd.DataFrame({'RF_acc': RF_acc, 'RF_pre': RF_precision, 'RF_rec': RF_recall})\n",
      "\n",
      "adadf = pd.DataFrame({'ADA_acc': ADA_acc, 'ADA_pre': ADA_precision, 'ADA_rec': ADA_recall})                   \n",
      "rfdf.plot()\n",
      "adadf.plot()\n",
      "plt.show()"
     ],
     "language": "python",
     "metadata": {},
     "outputs": [],
     "prompt_number": 54
    },
    {
     "cell_type": "code",
     "collapsed": false,
     "input": [
      "print max(RF_recall)\n",
      "print max(ADA_recall)"
     ],
     "language": "python",
     "metadata": {},
     "outputs": [
      {
       "output_type": "stream",
       "stream": "stdout",
       "text": [
        "0.29\n",
        "0.3\n"
       ]
      }
     ],
     "prompt_number": 63
    },
    {
     "cell_type": "code",
     "collapsed": false,
     "input": [
      "selector = SelectKBest(f_classif, k = ADA_recall.index(max(ADA_recall))+1)\n",
      "selector.fit(features, labels)\n",
      "cutoff = np.sort(selector.scores_)[::-1][ADA_recall.index(max(ADA_recall))+1]"
     ],
     "language": "python",
     "metadata": {},
     "outputs": [],
     "prompt_number": 56
    },
    {
     "cell_type": "code",
     "collapsed": false,
     "input": [
      "selected_features_list = [f for i, f in enumerate(features_list[1:]) if selector.scores_[i] > cutoff]\n",
      "selected_features_list = ['poi'] + selected_features_list\n",
      "selected_features = selector.fit_transform(features, labels)"
     ],
     "language": "python",
     "metadata": {},
     "outputs": [],
     "prompt_number": 57
    },
    {
     "cell_type": "code",
     "collapsed": false,
     "input": [
      "print len(selected_features_list)-1\n",
      "print len(selected_features[0])\n",
      "for f in selected_features_list:\n",
      "    print f"
     ],
     "language": "python",
     "metadata": {},
     "outputs": [
      {
       "output_type": "stream",
       "stream": "stdout",
       "text": [
        "3\n",
        "3\n",
        "poi\n",
        "bonus\n",
        "total_stock_value\n",
        "exercised_stock_options\n"
       ]
      }
     ],
     "prompt_number": 58
    },
    {
     "cell_type": "code",
     "collapsed": false,
     "input": [
      "features_train, features_test,labels_train, labels_test = train_test_split(selected_features, labels)"
     ],
     "language": "python",
     "metadata": {},
     "outputs": [],
     "prompt_number": 59
    },
    {
     "cell_type": "code",
     "collapsed": false,
     "input": [
      "RF = RandomForestClassifier(random_state=42)\n",
      "test_classifier(RF, my_dataset, selected_features_list, folds = 1000)\n",
      "adaBoostClf = AdaBoostClassifier(random_state=42)\n",
      "test_classifier(adaBoostClf, my_dataset, selected_features_list, folds = 1000)"
     ],
     "language": "python",
     "metadata": {},
     "outputs": [
      {
       "output_type": "stream",
       "stream": "stdout",
       "text": [
        "RandomForestClassifier(bootstrap=True, class_weight=None, criterion='gini',\n",
        "            max_depth=None, max_features='auto', max_leaf_nodes=None,\n",
        "            min_samples_leaf=1, min_samples_split=2,\n",
        "            min_weight_fraction_leaf=0.0, n_estimators=10, n_jobs=1,\n",
        "            oob_score=False, random_state=42, verbose=0, warm_start=False)\n",
        "\tAccuracy: 0.86000\tPrecision: 0.59336\tRecall: 0.28600\tF1: 0.38596\tF2: 0.31905\n",
        "\tTotal predictions: 13000\tTrue positives:  572\tFalse positives:  392\tFalse negatives: 1428\tTrue negatives: 10608\n",
        "\n",
        "AdaBoostClassifier(algorithm='SAMME.R', base_estimator=None,\n",
        "          learning_rate=1.0, n_estimators=50, random_state=42)"
       ]
      },
      {
       "output_type": "stream",
       "stream": "stdout",
       "text": [
        "\n",
        "\tAccuracy: 0.80369\tPrecision: 0.34229\tRecall: 0.29950\tF1: 0.31947\tF2: 0.30718\n",
        "\tTotal predictions: 13000\tTrue positives:  599\tFalse positives: 1151\tFalse negatives: 1401\tTrue negatives: 9849\n",
        "\n"
       ]
      }
     ],
     "prompt_number": 62
    },
    {
     "cell_type": "markdown",
     "metadata": {},
     "source": [
      "### Parameter tuning for random forest"
     ]
    },
    {
     "cell_type": "code",
     "collapsed": false,
     "input": [
      "SCV = StratifiedShuffleSplit(labels, 1000, test_size=0.3, random_state=42)\n",
      "tuning_parameters = {'n_estimators': [10,20,50,100], 'min_samples_split': [1,2,4], 'max_features': [2,4,6]}\n",
      "print(\"# Tuning hyper-parameters for recall\")\n",
      "RF = GridSearchCV(RandomForestClassifier(), tuning_parameters, cv=SCV, scoring = 'recall')\n",
      "RF.fit(features, labels)\n",
      "print(\"Best parameters are:\")\n",
      "print(RF.best_params_)"
     ],
     "language": "python",
     "metadata": {},
     "outputs": [
      {
       "output_type": "stream",
       "stream": "stdout",
       "text": [
        "# Tuning hyper-parameters for recall\n",
        "Best parameters are:"
       ]
      },
      {
       "output_type": "stream",
       "stream": "stdout",
       "text": [
        "\n",
        "{'max_features': 4, 'min_samples_split': 4, 'n_estimators': 10}\n"
       ]
      }
     ],
     "prompt_number": 35
    },
    {
     "cell_type": "code",
     "collapsed": false,
     "input": [
      "tuned_parameters = {'n_estimators': [10,25,50,100,200], 'learning_rate': [0.2,0.4,0.6,0.8,1]}\n",
      "print(\"# Tuning hyper-parameters for recall\")\n",
      "Adaboost = GridSearchCV(AdaBoostClassifier(), tuned_parameters, cv=5, scoring = 'recall')\n",
      "Adaboost.fit(features_train, labels_train)\n",
      "print(\"Best parameters are:\")\n",
      "print(Adaboost.best_params_)"
     ],
     "language": "python",
     "metadata": {},
     "outputs": []
    },
    {
     "cell_type": "code",
     "collapsed": false,
     "input": [
      "Clf = AdaBoostClassifier(n_estimators = 25, learning_rate = 0.6)\n",
      "Clf.fit(features, labels)\n",
      "Clf = RF\n",
      "dump_classifier_and_data(Clf, my_dataset, selected_features_list)"
     ],
     "language": "python",
     "metadata": {},
     "outputs": [],
     "prompt_number": 64
    },
    {
     "cell_type": "code",
     "collapsed": false,
     "input": [
      "selected_features_list"
     ],
     "language": "python",
     "metadata": {},
     "outputs": [
      {
       "metadata": {},
       "output_type": "pyout",
       "prompt_number": 65,
       "text": [
        "['poi', 'bonus', 'total_stock_value', 'exercised_stock_options']"
       ]
      }
     ],
     "prompt_number": 65
    }
   ],
   "metadata": {}
  }
 ]
}