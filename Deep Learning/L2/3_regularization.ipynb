{
 "cells": [
  {
   "cell_type": "markdown",
   "metadata": {
    "colab_type": "text",
    "id": "kR-4eNdK6lYS"
   },
   "source": [
    "Deep Learning\n",
    "=============\n",
    "\n",
    "Assignment 3\n",
    "------------\n",
    "\n",
    "Previously in `2_fullyconnected.ipynb`, you trained a logistic regression and a neural network model.\n",
    "\n",
    "The goal of this assignment is to explore regularization techniques."
   ]
  },
  {
   "cell_type": "code",
   "execution_count": 1,
   "metadata": {
    "cellView": "both",
    "colab": {
     "autoexec": {
      "startup": false,
      "wait_interval": 0
     }
    },
    "colab_type": "code",
    "collapsed": true,
    "id": "JLpLa8Jt7Vu4"
   },
   "outputs": [],
   "source": [
    "# These are all the modules we'll be using later. Make sure you can import them\n",
    "# before proceeding further.\n",
    "from __future__ import print_function\n",
    "import numpy as np\n",
    "import tensorflow as tf\n",
    "from six.moves import cPickle as pickle"
   ]
  },
  {
   "cell_type": "markdown",
   "metadata": {
    "colab_type": "text",
    "id": "1HrCK6e17WzV"
   },
   "source": [
    "First reload the data we generated in _notmist.ipynb_."
   ]
  },
  {
   "cell_type": "code",
   "execution_count": 2,
   "metadata": {
    "cellView": "both",
    "colab": {
     "autoexec": {
      "startup": false,
      "wait_interval": 0
     },
     "output_extras": [
      {
       "item_id": 1
      }
     ]
    },
    "colab_type": "code",
    "collapsed": false,
    "executionInfo": {
     "elapsed": 11777,
     "status": "ok",
     "timestamp": 1449849322348,
     "user": {
      "color": "",
      "displayName": "",
      "isAnonymous": false,
      "isMe": true,
      "permissionId": "",
      "photoUrl": "",
      "sessionId": "0",
      "userId": ""
     },
     "user_tz": 480
    },
    "id": "y3-cj1bpmuxc",
    "outputId": "e03576f1-ebbe-4838-c388-f1777bcc9873"
   },
   "outputs": [
    {
     "name": "stdout",
     "output_type": "stream",
     "text": [
      "Training set (200000, 28, 28) (200000,)\n",
      "Validation set (10000, 28, 28) (10000,)\n",
      "Test set (10000, 28, 28) (10000,)\n"
     ]
    }
   ],
   "source": [
    "pickle_file = 'notMNIST.pickle'\n",
    "\n",
    "with open(pickle_file, 'rb') as f:\n",
    "  save = pickle.load(f)\n",
    "  train_dataset = save['train_dataset']\n",
    "  train_labels = save['train_labels']\n",
    "  valid_dataset = save['valid_dataset']\n",
    "  valid_labels = save['valid_labels']\n",
    "  test_dataset = save['test_dataset']\n",
    "  test_labels = save['test_labels']\n",
    "  del save  # hint to help gc free up memory\n",
    "  print('Training set', train_dataset.shape, train_labels.shape)\n",
    "  print('Validation set', valid_dataset.shape, valid_labels.shape)\n",
    "  print('Test set', test_dataset.shape, test_labels.shape)"
   ]
  },
  {
   "cell_type": "markdown",
   "metadata": {
    "colab_type": "text",
    "id": "L7aHrm6nGDMB"
   },
   "source": [
    "Reformat into a shape that's more adapted to the models we're going to train:\n",
    "- data as a flat matrix,\n",
    "- labels as float 1-hot encodings."
   ]
  },
  {
   "cell_type": "code",
   "execution_count": 3,
   "metadata": {
    "cellView": "both",
    "colab": {
     "autoexec": {
      "startup": false,
      "wait_interval": 0
     },
     "output_extras": [
      {
       "item_id": 1
      }
     ]
    },
    "colab_type": "code",
    "collapsed": false,
    "executionInfo": {
     "elapsed": 11728,
     "status": "ok",
     "timestamp": 1449849322356,
     "user": {
      "color": "",
      "displayName": "",
      "isAnonymous": false,
      "isMe": true,
      "permissionId": "",
      "photoUrl": "",
      "sessionId": "0",
      "userId": ""
     },
     "user_tz": 480
    },
    "id": "IRSyYiIIGIzS",
    "outputId": "3f8996ee-3574-4f44-c953-5c8a04636582"
   },
   "outputs": [
    {
     "name": "stdout",
     "output_type": "stream",
     "text": [
      "Training set (200000, 784) (200000, 10)\n",
      "Validation set (10000, 784) (10000, 10)\n",
      "Test set (10000, 784) (10000, 10)\n"
     ]
    }
   ],
   "source": [
    "image_size = 28\n",
    "num_labels = 10\n",
    "\n",
    "def reformat(dataset, labels):\n",
    "  dataset = dataset.reshape((-1, image_size * image_size)).astype(np.float32)\n",
    "  # Map 2 to [0.0, 1.0, 0.0 ...], 3 to [0.0, 0.0, 1.0 ...]\n",
    "  labels = (np.arange(num_labels) == labels[:,None]).astype(np.float32)\n",
    "  return dataset, labels\n",
    "train_dataset, train_labels = reformat(train_dataset, train_labels)\n",
    "valid_dataset, valid_labels = reformat(valid_dataset, valid_labels)\n",
    "test_dataset, test_labels = reformat(test_dataset, test_labels)\n",
    "print('Training set', train_dataset.shape, train_labels.shape)\n",
    "print('Validation set', valid_dataset.shape, valid_labels.shape)\n",
    "print('Test set', test_dataset.shape, test_labels.shape)"
   ]
  },
  {
   "cell_type": "code",
   "execution_count": 4,
   "metadata": {
    "cellView": "both",
    "colab": {
     "autoexec": {
      "startup": false,
      "wait_interval": 0
     }
    },
    "colab_type": "code",
    "collapsed": true,
    "id": "RajPLaL_ZW6w"
   },
   "outputs": [],
   "source": [
    "def accuracy(predictions, labels):\n",
    "  return (100.0 * np.sum(np.argmax(predictions, 1) == np.argmax(labels, 1))\n",
    "          / predictions.shape[0])"
   ]
  },
  {
   "cell_type": "markdown",
   "metadata": {
    "colab_type": "text",
    "id": "sgLbUAQ1CW-1"
   },
   "source": [
    "---\n",
    "Problem 1\n",
    "---------\n",
    "\n",
    "Introduce and tune L2 regularization for both logistic and neural network models. Remember that L2 amounts to adding a penalty on the norm of the weights to the loss. In TensorFlow, you can compute the L2 loss for a tensor `t` using `nn.l2_loss(t)`. The right amount of regularization should improve your validation / test accuracy.\n",
    "\n",
    "---"
   ]
  },
  {
   "cell_type": "markdown",
   "metadata": {},
   "source": [
    "Adding L2 regularization to logistic model"
   ]
  },
  {
   "cell_type": "code",
   "execution_count": 7,
   "metadata": {
    "collapsed": false
   },
   "outputs": [
    {
     "name": "stdout",
     "output_type": "stream",
     "text": [
      "Initialized\n",
      "Minibatch loss at step 0: 20.962673\n",
      "Minibatch accuracy: 10.2%\n",
      "Validation accuracy: 10.2%\n",
      "Minibatch loss at step 500: 2.895975\n",
      "Minibatch accuracy: 75.0%\n",
      "Validation accuracy: 75.9%\n",
      "Minibatch loss at step 1000: 1.702831\n",
      "Minibatch accuracy: 80.5%\n",
      "Validation accuracy: 78.2%\n",
      "Minibatch loss at step 1500: 1.375561\n",
      "Minibatch accuracy: 79.7%\n",
      "Validation accuracy: 79.4%\n",
      "Minibatch loss at step 2000: 0.990266\n",
      "Minibatch accuracy: 82.8%\n",
      "Validation accuracy: 81.0%\n",
      "Minibatch loss at step 2500: 0.741617\n",
      "Minibatch accuracy: 85.9%\n",
      "Validation accuracy: 81.3%\n",
      "Minibatch loss at step 3000: 0.796009\n",
      "Minibatch accuracy: 81.2%\n",
      "Validation accuracy: 82.4%\n",
      "Test accuracy: 89.0%\n"
     ]
    }
   ],
   "source": [
    "batch_size = 128\n",
    "\n",
    "strength_of_regularizer = 0.01\n",
    "\n",
    "graph = tf.Graph()\n",
    "with graph.as_default():\n",
    "\n",
    "  # Input data. For the training data, we use a placeholder that will be fed\n",
    "  # at run time with a training minibatch.\n",
    "  tf_train_dataset = tf.placeholder(tf.float32,\n",
    "                                    shape=(batch_size, image_size * image_size))\n",
    "  tf_train_labels = tf.placeholder(tf.float32, shape=(batch_size, num_labels))\n",
    "  tf_valid_dataset = tf.constant(valid_dataset)\n",
    "  tf_test_dataset = tf.constant(test_dataset)\n",
    "  \n",
    "  # Variables.\n",
    "  weights = tf.Variable(\n",
    "    tf.truncated_normal([image_size * image_size, num_labels]))\n",
    "  biases = tf.Variable(tf.zeros([num_labels]))\n",
    "  \n",
    "  # Training computation.\n",
    "  logits = tf.matmul(tf_train_dataset, weights) + biases\n",
    "  loss = tf.reduce_mean(\n",
    "    tf.nn.softmax_cross_entropy_with_logits(logits, tf_train_labels))\n",
    "\n",
    "  # Adding Regularization\n",
    "  L2_regularizer = (tf.nn.l2_loss(weights) + tf.nn.l2_loss(biases))\n",
    "\n",
    "  # Add the regularization term to the loss.\n",
    "  loss += strength_of_regularizer * L2_regularizer\n",
    "  \n",
    "  # Optimizer.\n",
    "  optimizer = tf.train.GradientDescentOptimizer(0.5).minimize(loss)\n",
    "  \n",
    "  # Predictions for the training, validation, and test data.\n",
    "  train_prediction = tf.nn.softmax(logits)\n",
    "  valid_prediction = tf.nn.softmax(\n",
    "    tf.matmul(tf_valid_dataset, weights) + biases)\n",
    "  test_prediction = tf.nn.softmax(tf.matmul(tf_test_dataset, weights) + biases)\n",
    "    \n",
    "num_steps = 3001\n",
    "\n",
    "with tf.Session(graph=graph) as session:\n",
    "  tf.initialize_all_variables().run()\n",
    "  print(\"Initialized\")\n",
    "  for step in range(num_steps):\n",
    "    # Pick an offset within the training data, which has been randomized.\n",
    "    # Note: we could use better randomization across epochs.\n",
    "    offset = (step * batch_size) % (train_labels.shape[0] - batch_size)\n",
    "    # Generate a minibatch.\n",
    "    batch_data = train_dataset[offset:(offset + batch_size), :]\n",
    "    batch_labels = train_labels[offset:(offset + batch_size), :]\n",
    "    # Prepare a dictionary telling the session where to feed the minibatch.\n",
    "    # The key of the dictionary is the placeholder node of the graph to be fed,\n",
    "    # and the value is the numpy array to feed to it.\n",
    "    feed_dict = {tf_train_dataset : batch_data, tf_train_labels : batch_labels}\n",
    "    _, l, predictions = session.run(\n",
    "      [optimizer, loss, train_prediction], feed_dict=feed_dict)\n",
    "    if (step % 500 == 0):\n",
    "      print(\"Minibatch loss at step %d: %f\" % (step, l))\n",
    "      print(\"Minibatch accuracy: %.1f%%\" % accuracy(predictions, batch_labels))\n",
    "      print(\"Validation accuracy: %.1f%%\" % accuracy(\n",
    "        valid_prediction.eval(), valid_labels))\n",
    "  print(\"Test accuracy: %.1f%%\" % accuracy(test_prediction.eval(), test_labels))"
   ]
  },
  {
   "cell_type": "markdown",
   "metadata": {},
   "source": [
    "Adding regularization to network"
   ]
  },
  {
   "cell_type": "code",
   "execution_count": 10,
   "metadata": {
    "collapsed": false
   },
   "outputs": [
    {
     "name": "stdout",
     "output_type": "stream",
     "text": [
      "Initialized\n",
      "Minibatch loss at step 0: 3470.343506\n",
      "Minibatch accuracy: 10.2%\n",
      "Validation accuracy: 31.0%\n",
      "Minibatch loss at step 500: 1159.185913\n",
      "Minibatch accuracy: 79.7%\n",
      "Validation accuracy: 80.5%\n",
      "Minibatch loss at step 1000: 422.229187\n",
      "Minibatch accuracy: 78.1%\n",
      "Validation accuracy: 82.3%\n",
      "Minibatch loss at step 1500: 155.056152\n",
      "Minibatch accuracy: 81.2%\n",
      "Validation accuracy: 84.7%\n",
      "Minibatch loss at step 2000: 57.169643\n",
      "Minibatch accuracy: 85.2%\n",
      "Validation accuracy: 86.2%\n",
      "Minibatch loss at step 2500: 21.400436\n",
      "Minibatch accuracy: 89.1%\n",
      "Validation accuracy: 86.5%\n",
      "Minibatch loss at step 3000: 8.315651\n",
      "Minibatch accuracy: 83.6%\n",
      "Validation accuracy: 85.8%\n",
      "Test accuracy: 91.8%\n"
     ]
    }
   ],
   "source": [
    "batch_size = 128\n",
    "\n",
    "num_hidden_layer_nodes = 1024\n",
    "\n",
    "strength_of_regularizer = 0.01\n",
    "\n",
    "graph = tf.Graph()\n",
    "with graph.as_default():\n",
    "\n",
    "  # Input data. For the training data, we use a placeholder that will be fed\n",
    "  # at run time with a training minibatch.\n",
    "  tf_train_dataset = tf.placeholder(tf.float32, shape=(batch_size, image_size * image_size))\n",
    "  tf_train_labels = tf.placeholder(tf.float32, shape=(batch_size, num_labels))\n",
    "  tf_valid_dataset = tf.constant(valid_dataset)\n",
    "  tf_test_dataset = tf.constant(test_dataset)\n",
    "  \n",
    "  # Variables, since we got two layers, we got more weights and biases\n",
    "  weights_layer_1 = tf.Variable(tf.truncated_normal([image_size * image_size, num_hidden_layer_nodes]))\n",
    "  biases_layer_1 = tf.Variable(tf.zeros([num_hidden_layer_nodes]))\n",
    "  weights_layer_2 = tf.Variable(tf.truncated_normal([num_hidden_layer_nodes, num_labels]))\n",
    "  biases_layer_2 = tf.Variable(tf.zeros([num_labels]))\n",
    "\n",
    "  # Training computation.\n",
    "  layer_1_nets = tf.matmul(tf_train_dataset, weights_layer_1) + biases_layer_1\n",
    "  layer_1_activations = tf.nn.relu(layer_1_nets)\n",
    "  logits = tf.matmul(layer_1_activations, weights_layer_2) + biases_layer_2\n",
    "    \n",
    "  loss = tf.reduce_mean(\n",
    "    tf.nn.softmax_cross_entropy_with_logits(logits, tf_train_labels))\n",
    "  \n",
    "  # Adding Regularization\n",
    "  L2_regularizer = (tf.nn.l2_loss(weights_layer_1) + tf.nn.l2_loss(biases_layer_1) + \n",
    "                    tf.nn.l2_loss(weights_layer_2) + tf.nn.l2_loss(biases_layer_2))\n",
    "\n",
    "  # Add the regularization term to the loss.\n",
    "  loss += strength_of_regularizer * L2_regularizer  \n",
    "    \n",
    "  # Optimizer.\n",
    "  optimizer = tf.train.GradientDescentOptimizer(0.1).minimize(loss)\n",
    "  \n",
    "  # Predictions for the training, validation, and test data.\n",
    "  train_prediction = tf.nn.softmax(logits)\n",
    "  valid_prediction = tf.nn.softmax(tf.matmul(tf.nn.relu(tf.matmul(tf_valid_dataset, weights_layer_1) + biases_layer_1), weights_layer_2) + biases_layer_2)\n",
    "  test_prediction = tf.nn.softmax(tf.matmul(tf.nn.relu(tf.matmul(tf_test_dataset, weights_layer_1) + biases_layer_1), weights_layer_2) + biases_layer_2)\n",
    "\n",
    "num_steps = 3001\n",
    "\n",
    "with tf.Session(graph=graph) as session:\n",
    "  tf.initialize_all_variables().run()\n",
    "  print(\"Initialized\")\n",
    "  for step in range(num_steps):\n",
    "    # Pick an offset within the training data, which has been randomized.\n",
    "    # Note: we could use better randomization across epochs.\n",
    "    offset = (step * batch_size) % (train_labels.shape[0] - batch_size)\n",
    "    # Generate a minibatch.\n",
    "    batch_data = train_dataset[offset:(offset + batch_size), :]\n",
    "    batch_labels = train_labels[offset:(offset + batch_size), :]\n",
    "    # Prepare a dictionary telling the session where to feed the minibatch.\n",
    "    # The key of the dictionary is the placeholder node of the graph to be fed,\n",
    "    # and the value is the numpy array to feed to it.\n",
    "    feed_dict = {tf_train_dataset : batch_data, tf_train_labels : batch_labels}\n",
    "    _, l, predictions = session.run(\n",
    "      [optimizer, loss, train_prediction], feed_dict=feed_dict)\n",
    "    if (step % 500 == 0):\n",
    "      print(\"Minibatch loss at step %d: %f\" % (step, l))\n",
    "      print(\"Minibatch accuracy: %.1f%%\" % accuracy(predictions, batch_labels))\n",
    "      print(\"Validation accuracy: %.1f%%\" % accuracy(\n",
    "        valid_prediction.eval(), valid_labels))\n",
    "  print(\"Test accuracy: %.1f%%\" % accuracy(test_prediction.eval(), test_labels))"
   ]
  },
  {
   "cell_type": "markdown",
   "metadata": {
    "colab_type": "text",
    "id": "na8xX2yHZzNF"
   },
   "source": [
    "---\n",
    "Problem 2\n",
    "---------\n",
    "Let's demonstrate an extreme case of overfitting. Restrict your training data to just a few batches. What happens?\n",
    "\n",
    "---"
   ]
  },
  {
   "cell_type": "code",
   "execution_count": 22,
   "metadata": {
    "collapsed": false
   },
   "outputs": [
    {
     "name": "stdout",
     "output_type": "stream",
     "text": [
      "Initialized\n",
      "Minibatch loss at step 0: 620.902466\n",
      "Minibatch accuracy: 14.1%\n",
      "Validation accuracy: 31.8%\n",
      "Minibatch loss at step 1: 555.204102\n",
      "Minibatch accuracy: 29.7%\n",
      "Validation accuracy: 35.3%\n",
      "Minibatch loss at step 2: 500.180145\n",
      "Minibatch accuracy: 28.9%\n",
      "Validation accuracy: 43.6%\n",
      "Minibatch loss at step 3: 523.684692\n",
      "Minibatch accuracy: 45.3%\n",
      "Validation accuracy: 47.2%\n",
      "Minibatch loss at step 4: 453.636597\n",
      "Minibatch accuracy: 50.0%\n",
      "Validation accuracy: 55.6%\n",
      "Minibatch loss at step 5: 411.323425\n",
      "Minibatch accuracy: 62.5%\n",
      "Validation accuracy: 59.8%\n",
      "Minibatch loss at step 6: 418.012390\n",
      "Minibatch accuracy: 56.2%\n",
      "Validation accuracy: 57.1%\n",
      "Minibatch loss at step 7: 429.379242\n",
      "Minibatch accuracy: 58.6%\n",
      "Validation accuracy: 57.6%\n",
      "Minibatch loss at step 8: 403.380310\n",
      "Minibatch accuracy: 57.0%\n",
      "Validation accuracy: 61.5%\n",
      "Minibatch loss at step 9: 423.297455\n",
      "Minibatch accuracy: 60.9%\n",
      "Validation accuracy: 58.8%\n",
      "Minibatch loss at step 10: 426.566956\n",
      "Minibatch accuracy: 57.8%\n",
      "Validation accuracy: 65.2%\n",
      "Minibatch loss at step 11: 377.150421\n",
      "Minibatch accuracy: 71.1%\n",
      "Validation accuracy: 69.7%\n",
      "Minibatch loss at step 12: 367.975372\n",
      "Minibatch accuracy: 68.8%\n",
      "Validation accuracy: 68.4%\n",
      "Minibatch loss at step 13: 384.041382\n",
      "Minibatch accuracy: 64.8%\n",
      "Validation accuracy: 66.4%\n",
      "Minibatch loss at step 14: 398.115601\n",
      "Minibatch accuracy: 61.7%\n",
      "Validation accuracy: 67.8%\n",
      "Minibatch loss at step 15: 403.257629\n",
      "Minibatch accuracy: 63.3%\n",
      "Validation accuracy: 67.9%\n",
      "Minibatch loss at step 16: 388.684143\n",
      "Minibatch accuracy: 64.8%\n",
      "Validation accuracy: 65.7%\n",
      "Minibatch loss at step 17: 410.004761\n",
      "Minibatch accuracy: 60.2%\n",
      "Validation accuracy: 71.6%\n",
      "Minibatch loss at step 18: 353.020874\n",
      "Minibatch accuracy: 75.0%\n",
      "Validation accuracy: 73.4%\n",
      "Minibatch loss at step 19: 381.944611\n",
      "Minibatch accuracy: 69.5%\n",
      "Validation accuracy: 72.2%\n",
      "Test accuracy: 79.1%\n"
     ]
    }
   ],
   "source": [
    "batch_size = 128\n",
    "\n",
    "num_hidden_layer_nodes = 1024\n",
    "\n",
    "strength_of_regularizer = 0.001\n",
    "\n",
    "graph = tf.Graph()\n",
    "with graph.as_default():\n",
    "\n",
    "  # Input data. For the training data, we use a placeholder that will be fed\n",
    "  # at run time with a training minibatch.\n",
    "  tf_train_dataset = tf.placeholder(tf.float32, shape=(batch_size, image_size * image_size))\n",
    "  tf_train_labels = tf.placeholder(tf.float32, shape=(batch_size, num_labels))\n",
    "  tf_valid_dataset = tf.constant(valid_dataset)\n",
    "  tf_test_dataset = tf.constant(test_dataset)\n",
    "  \n",
    "  # Variables, since we got two layers, we got more weights and biases\n",
    "  weights_layer_1 = tf.Variable(tf.truncated_normal([image_size * image_size, num_hidden_layer_nodes]))\n",
    "  biases_layer_1 = tf.Variable(tf.zeros([num_hidden_layer_nodes]))\n",
    "  weights_layer_2 = tf.Variable(tf.truncated_normal([num_hidden_layer_nodes, num_labels]))\n",
    "  biases_layer_2 = tf.Variable(tf.zeros([num_labels]))\n",
    "\n",
    "  # Training computation.\n",
    "  layer_1_nets = tf.matmul(tf_train_dataset, weights_layer_1) + biases_layer_1\n",
    "  layer_1_activations = tf.nn.relu(layer_1_nets)\n",
    "  logits = tf.matmul(layer_1_activations, weights_layer_2) + biases_layer_2\n",
    "    \n",
    "  loss = tf.reduce_mean(\n",
    "    tf.nn.softmax_cross_entropy_with_logits(logits, tf_train_labels))\n",
    "  # Adding Regularization\n",
    "  L2_regularizer = (tf.nn.l2_loss(weights_layer_1) + tf.nn.l2_loss(biases_layer_1) + \n",
    "                    tf.nn.l2_loss(weights_layer_2) + tf.nn.l2_loss(biases_layer_2))\n",
    "\n",
    "  # Add the regularization term to the loss.\n",
    "  loss += strength_of_regularizer * L2_regularizer  \n",
    "  # Optimizer.\n",
    "  optimizer = tf.train.GradientDescentOptimizer(0.1).minimize(loss)\n",
    "  \n",
    "  # Predictions for the training, validation, and test data.\n",
    "  train_prediction = tf.nn.softmax(logits)\n",
    "  valid_prediction = tf.nn.softmax(tf.matmul(tf.nn.relu(tf.matmul(tf_valid_dataset, weights_layer_1) + biases_layer_1), weights_layer_2) + biases_layer_2)\n",
    "  test_prediction = tf.nn.softmax(tf.matmul(tf.nn.relu(tf.matmul(tf_test_dataset, weights_layer_1) + biases_layer_1), weights_layer_2) + biases_layer_2)\n",
    "\n",
    "num_steps = 20\n",
    "\n",
    "with tf.Session(graph=graph) as session:\n",
    "  tf.initialize_all_variables().run()\n",
    "  print(\"Initialized\")\n",
    "  for step in range(num_steps):\n",
    "    # Pick an offset within the training data, which has been randomized.\n",
    "    # Note: we could use better randomization across epochs.\n",
    "    offset = (step * batch_size) % (train_labels.shape[0] - batch_size)\n",
    "    # Generate a minibatch.\n",
    "    batch_data = train_dataset[offset:(offset + batch_size), :]\n",
    "    batch_labels = train_labels[offset:(offset + batch_size), :]\n",
    "    # Prepare a dictionary telling the session where to feed the minibatch.\n",
    "    # The key of the dictionary is the placeholder node of the graph to be fed,\n",
    "    # and the value is the numpy array to feed to it.\n",
    "    feed_dict = {tf_train_dataset : batch_data, tf_train_labels : batch_labels}\n",
    "    _, l, predictions = session.run(\n",
    "      [optimizer, loss, train_prediction], feed_dict=feed_dict)\n",
    "    print(\"Minibatch loss at step %d: %f\" % (step, l))\n",
    "    print(\"Minibatch accuracy: %.1f%%\" % accuracy(predictions, batch_labels))\n",
    "    print(\"Validation accuracy: %.1f%%\" % accuracy(\n",
    "        valid_prediction.eval(), valid_labels))\n",
    "  print(\"Test accuracy: %.1f%%\" % accuracy(test_prediction.eval(), test_labels))"
   ]
  },
  {
   "cell_type": "markdown",
   "metadata": {
    "colab_type": "text",
    "id": "ww3SCBUdlkRc"
   },
   "source": [
    "---\n",
    "Problem 3\n",
    "---------\n",
    "Introduce Dropout on the hidden layer of the neural network. Remember: Dropout should only be introduced during training, not evaluation, otherwise your evaluation results would be stochastic as well. TensorFlow provides `nn.dropout()` for that, but you have to make sure it's only inserted during training.\n",
    "\n",
    "What happens to our extreme overfitting case?\n",
    "\n",
    "---"
   ]
  },
  {
   "cell_type": "code",
   "execution_count": 21,
   "metadata": {
    "collapsed": false
   },
   "outputs": [
    {
     "name": "stdout",
     "output_type": "stream",
     "text": [
      "Initialized\n",
      "Minibatch loss at step 0: 795.764526\n",
      "Minibatch accuracy: 10.9%\n",
      "Validation accuracy: 17.9%\n",
      "Minibatch loss at step 1: 767.735901\n",
      "Minibatch accuracy: 12.5%\n",
      "Validation accuracy: 35.2%\n",
      "Minibatch loss at step 2: 672.971313\n",
      "Minibatch accuracy: 27.3%\n",
      "Validation accuracy: 44.7%\n",
      "Minibatch loss at step 3: 628.213196\n",
      "Minibatch accuracy: 33.6%\n",
      "Validation accuracy: 49.5%\n",
      "Minibatch loss at step 4: 584.371338\n",
      "Minibatch accuracy: 38.3%\n",
      "Validation accuracy: 57.8%\n",
      "Minibatch loss at step 5: 498.990662\n",
      "Minibatch accuracy: 50.8%\n",
      "Validation accuracy: 60.8%\n",
      "Minibatch loss at step 6: 493.289154\n",
      "Minibatch accuracy: 48.4%\n",
      "Validation accuracy: 67.5%\n",
      "Minibatch loss at step 7: 484.635315\n",
      "Minibatch accuracy: 47.7%\n",
      "Validation accuracy: 68.1%\n",
      "Minibatch loss at step 8: 449.798767\n",
      "Minibatch accuracy: 55.5%\n",
      "Validation accuracy: 71.5%\n",
      "Minibatch loss at step 9: 444.690552\n",
      "Minibatch accuracy: 58.6%\n",
      "Validation accuracy: 69.8%\n",
      "Minibatch loss at step 10: 517.569214\n",
      "Minibatch accuracy: 53.1%\n",
      "Validation accuracy: 67.9%\n",
      "Minibatch loss at step 11: 475.712769\n",
      "Minibatch accuracy: 48.4%\n",
      "Validation accuracy: 68.0%\n",
      "Minibatch loss at step 12: 445.069061\n",
      "Minibatch accuracy: 60.9%\n",
      "Validation accuracy: 71.8%\n",
      "Minibatch loss at step 13: 476.958069\n",
      "Minibatch accuracy: 57.8%\n",
      "Validation accuracy: 73.6%\n",
      "Minibatch loss at step 14: 431.849701\n",
      "Minibatch accuracy: 59.4%\n",
      "Validation accuracy: 72.5%\n",
      "Minibatch loss at step 15: 491.162842\n",
      "Minibatch accuracy: 57.8%\n",
      "Validation accuracy: 75.1%\n",
      "Minibatch loss at step 16: 451.663910\n",
      "Minibatch accuracy: 64.8%\n",
      "Validation accuracy: 75.6%\n",
      "Minibatch loss at step 17: 425.141357\n",
      "Minibatch accuracy: 62.5%\n",
      "Validation accuracy: 73.6%\n",
      "Minibatch loss at step 18: 422.896118\n",
      "Minibatch accuracy: 68.8%\n",
      "Validation accuracy: 74.0%\n",
      "Minibatch loss at step 19: 439.797485\n",
      "Minibatch accuracy: 63.3%\n",
      "Validation accuracy: 74.5%\n",
      "Test accuracy: 81.1%\n"
     ]
    }
   ],
   "source": [
    "batch_size = 128\n",
    "\n",
    "num_hidden_layer_nodes = 1024\n",
    "\n",
    "strength_of_regularizer = 0.001\n",
    "\n",
    "graph = tf.Graph()\n",
    "with graph.as_default():\n",
    "\n",
    "  # Input data. For the training data, we use a placeholder that will be fed\n",
    "  # at run time with a training minibatch.\n",
    "  tf_train_dataset = tf.placeholder(tf.float32, shape=(batch_size, image_size * image_size))\n",
    "  tf_train_labels = tf.placeholder(tf.float32, shape=(batch_size, num_labels))\n",
    "  tf_valid_dataset = tf.constant(valid_dataset)\n",
    "  tf_test_dataset = tf.constant(test_dataset)\n",
    "  \n",
    "  # Variables, since we got two layers, we got more weights and biases\n",
    "  weights_layer_1 = tf.Variable(tf.truncated_normal([image_size * image_size, num_hidden_layer_nodes]))\n",
    "  biases_layer_1 = tf.Variable(tf.zeros([num_hidden_layer_nodes]))\n",
    "  weights_layer_2 = tf.Variable(tf.truncated_normal([num_hidden_layer_nodes, num_labels]))\n",
    "  biases_layer_2 = tf.Variable(tf.zeros([num_labels]))\n",
    "\n",
    "  # Training computation.\n",
    "  layer_1_nets = tf.matmul(tf_train_dataset, weights_layer_1) + biases_layer_1\n",
    "  layer_1_activations = tf.nn.dropout(tf.nn.relu(layer_1_nets), 0.5) # add dropout\n",
    "  logits = tf.matmul(layer_1_activations, weights_layer_2) + biases_layer_2\n",
    "    \n",
    "  loss = tf.reduce_mean(\n",
    "    tf.nn.softmax_cross_entropy_with_logits(logits, tf_train_labels))\n",
    "  # Adding Regularization\n",
    "  L2_regularizer = (tf.nn.l2_loss(weights_layer_1) + tf.nn.l2_loss(biases_layer_1) + \n",
    "                    tf.nn.l2_loss(weights_layer_2) + tf.nn.l2_loss(biases_layer_2))\n",
    "\n",
    "  # Add the regularization term to the loss.\n",
    "  loss += strength_of_regularizer * L2_regularizer  \n",
    "  # Optimizer.\n",
    "  optimizer = tf.train.GradientDescentOptimizer(0.1).minimize(loss)\n",
    "  \n",
    "  # Predictions for the training, validation, and test data.\n",
    "  train_prediction = tf.nn.softmax(logits)\n",
    "  valid_prediction = tf.nn.softmax(tf.matmul(tf.nn.relu(tf.matmul(tf_valid_dataset, weights_layer_1) + biases_layer_1), weights_layer_2) + biases_layer_2)\n",
    "  test_prediction = tf.nn.softmax(tf.matmul(tf.nn.relu(tf.matmul(tf_test_dataset, weights_layer_1) + biases_layer_1), weights_layer_2) + biases_layer_2)\n",
    "\n",
    "num_steps = 20\n",
    "\n",
    "with tf.Session(graph=graph) as session:\n",
    "  tf.initialize_all_variables().run()\n",
    "  print(\"Initialized\")\n",
    "  for step in range(num_steps):\n",
    "    # Pick an offset within the training data, which has been randomized.\n",
    "    # Note: we could use better randomization across epochs.\n",
    "    offset = (step * batch_size) % (train_labels.shape[0] - batch_size)\n",
    "    # Generate a minibatch.\n",
    "    batch_data = train_dataset[offset:(offset + batch_size), :]\n",
    "    batch_labels = train_labels[offset:(offset + batch_size), :]\n",
    "    # Prepare a dictionary telling the session where to feed the minibatch.\n",
    "    # The key of the dictionary is the placeholder node of the graph to be fed,\n",
    "    # and the value is the numpy array to feed to it.\n",
    "    feed_dict = {tf_train_dataset : batch_data, tf_train_labels : batch_labels}\n",
    "    _, l, predictions = session.run(\n",
    "      [optimizer, loss, train_prediction], feed_dict=feed_dict)\n",
    "    print(\"Minibatch loss at step %d: %f\" % (step, l))\n",
    "    print(\"Minibatch accuracy: %.1f%%\" % accuracy(predictions, batch_labels))\n",
    "    print(\"Validation accuracy: %.1f%%\" % accuracy(\n",
    "        valid_prediction.eval(), valid_labels))\n",
    "  print(\"Test accuracy: %.1f%%\" % accuracy(test_prediction.eval(), test_labels))"
   ]
  },
  {
   "cell_type": "markdown",
   "metadata": {
    "colab_type": "text",
    "id": "-b1hTz3VWZjw"
   },
   "source": [
    "---\n",
    "Problem 4\n",
    "---------\n",
    "\n",
    "Try to get the best performance you can using a multi-layer model! The best reported test accuracy using a deep network is [97.1%](http://yaroslavvb.blogspot.com/2011/09/notmnist-dataset.html?showComment=1391023266211#c8758720086795711595).\n",
    "\n",
    "One avenue you can explore is to add multiple layers.\n",
    "\n",
    "Another one is to use learning rate decay:\n",
    "\n",
    "    global_step = tf.Variable(0)  # count the number of steps taken.\n",
    "    learning_rate = tf.train.exponential_decay(0.5, global_step, ...)\n",
    "    optimizer = tf.train.GradientDescentOptimizer(learning_rate).minimize(loss, global_step=global_step)\n",
    " \n",
    " ---\n"
   ]
  },
  {
   "cell_type": "code",
   "execution_count": 38,
   "metadata": {
    "collapsed": false
   },
   "outputs": [
    {
     "name": "stdout",
     "output_type": "stream",
     "text": [
      "Initialized\n",
      "Minibatch loss at step 0: 2091.604004\n",
      "Minibatch accuracy: 10.9%\n",
      "Validation accuracy: 28.4%\n",
      "Minibatch loss at step 500: 151.270004\n",
      "Minibatch accuracy: 69.5%\n",
      "Validation accuracy: 81.8%\n",
      "Minibatch loss at step 1000: 19.376905\n",
      "Minibatch accuracy: 85.2%\n",
      "Validation accuracy: 85.2%\n",
      "Minibatch loss at step 1500: 3.722898\n",
      "Minibatch accuracy: 82.0%\n",
      "Validation accuracy: 85.7%\n",
      "Minibatch loss at step 2000: 1.372488\n",
      "Minibatch accuracy: 83.6%\n",
      "Validation accuracy: 85.8%\n",
      "Minibatch loss at step 2500: 0.751025\n",
      "Minibatch accuracy: 85.9%\n",
      "Validation accuracy: 85.6%\n",
      "Minibatch loss at step 3000: 0.701022\n",
      "Minibatch accuracy: 85.9%\n",
      "Validation accuracy: 85.9%\n",
      "Test accuracy: 91.8%\n"
     ]
    }
   ],
   "source": [
    "batch_size = 128\n",
    "\n",
    "num_hidden_layer_nodes = 1024\n",
    "\n",
    "strength_of_regularizer = 0.005\n",
    "\n",
    "graph = tf.Graph()\n",
    "with graph.as_default():\n",
    "\n",
    "  # Input data. For the training data, we use a placeholder that will be fed\n",
    "  # at run time with a training minibatch.\n",
    "  tf_train_dataset = tf.placeholder(tf.float32, shape=(batch_size, image_size * image_size))\n",
    "  tf_train_labels = tf.placeholder(tf.float32, shape=(batch_size, num_labels))\n",
    "  tf_valid_dataset = tf.constant(valid_dataset)\n",
    "  tf_test_dataset = tf.constant(test_dataset)\n",
    "  \n",
    "  # Variables, since we got two layers, we got more weights and biases\n",
    "  weights_layer_1 = tf.Variable(tf.truncated_normal([image_size * image_size, num_hidden_layer_nodes]))\n",
    "  biases_layer_1 = tf.Variable(tf.zeros([num_hidden_layer_nodes]))\n",
    "  weights_layer_2 = tf.Variable(tf.truncated_normal([num_hidden_layer_nodes, num_labels]))\n",
    "  biases_layer_2 = tf.Variable(tf.zeros([num_labels]))\n",
    "\n",
    "  # Training computation.\n",
    "  layer_1_nets = tf.matmul(tf_train_dataset, weights_layer_1) + biases_layer_1\n",
    "  layer_1_activations = tf.nn.dropout(tf.nn.relu(layer_1_nets),0.5)\n",
    "  logits = tf.matmul(layer_1_activations, weights_layer_2) + biases_layer_2\n",
    "    \n",
    "  loss = tf.reduce_mean(\n",
    "    tf.nn.softmax_cross_entropy_with_logits(logits, tf_train_labels))\n",
    "  \n",
    "  # Adding Regularization\n",
    "  L2_regularizer = (tf.nn.l2_loss(weights_layer_1) + tf.nn.l2_loss(biases_layer_1) + \n",
    "                    tf.nn.l2_loss(weights_layer_2) + tf.nn.l2_loss(biases_layer_2))\n",
    "\n",
    "  # Add the regularization term to the loss.\n",
    "  loss += strength_of_regularizer * L2_regularizer  \n",
    "    \n",
    "  # Optimizer. weight decay\n",
    "  global_step = tf.Variable(0)  # count the number of steps taken.\n",
    "  learning_rate = tf.train.exponential_decay(0.5, global_step, 500, 0.88)\n",
    "  optimizer = tf.train.GradientDescentOptimizer(learning_rate).minimize(loss, global_step=global_step)\n",
    "  \n",
    "  # Predictions for the training, validation, and test data.\n",
    "  train_prediction = tf.nn.softmax(logits)\n",
    "  valid_prediction = tf.nn.softmax(tf.matmul(tf.nn.relu(tf.matmul(tf_valid_dataset, weights_layer_1) + biases_layer_1), weights_layer_2) + biases_layer_2)\n",
    "  test_prediction = tf.nn.softmax(tf.matmul(tf.nn.relu(tf.matmul(tf_test_dataset, weights_layer_1) + biases_layer_1), weights_layer_2) + biases_layer_2)\n",
    "\n",
    "num_steps = 3001\n",
    "\n",
    "with tf.Session(graph=graph) as session:\n",
    "  tf.initialize_all_variables().run()\n",
    "  print(\"Initialized\")\n",
    "  for step in range(num_steps):\n",
    "    # Pick an offset within the training data, which has been randomized.\n",
    "    # Note: we could use better randomization across epochs.\n",
    "    offset = (step * batch_size) % (train_labels.shape[0] - batch_size)\n",
    "    # Generate a minibatch.\n",
    "    batch_data = train_dataset[offset:(offset + batch_size), :]\n",
    "    batch_labels = train_labels[offset:(offset + batch_size), :]\n",
    "    # Prepare a dictionary telling the session where to feed the minibatch.\n",
    "    # The key of the dictionary is the placeholder node of the graph to be fed,\n",
    "    # and the value is the numpy array to feed to it.\n",
    "    feed_dict = {tf_train_dataset : batch_data, tf_train_labels : batch_labels}\n",
    "    _, l, predictions = session.run(\n",
    "      [optimizer, loss, train_prediction], feed_dict=feed_dict)\n",
    "    if (step % 500 == 0):\n",
    "      print(\"Minibatch loss at step %d: %f\" % (step, l))\n",
    "      print(\"Minibatch accuracy: %.1f%%\" % accuracy(predictions, batch_labels))\n",
    "      print(\"Validation accuracy: %.1f%%\" % accuracy(\n",
    "        valid_prediction.eval(), valid_labels))\n",
    "  print(\"Test accuracy: %.1f%%\" % accuracy(test_prediction.eval(), test_labels))"
   ]
  }
 ],
 "metadata": {
  "colab": {
   "default_view": {},
   "name": "3_regularization.ipynb",
   "provenance": [],
   "version": "0.3.2",
   "views": {}
  },
  "kernelspec": {
   "display_name": "Python [Root]",
   "language": "python",
   "name": "Python [Root]"
  },
  "language_info": {
   "codemirror_mode": {
    "name": "ipython",
    "version": 2
   },
   "file_extension": ".py",
   "mimetype": "text/x-python",
   "name": "python",
   "nbconvert_exporter": "python",
   "pygments_lexer": "ipython2",
   "version": "2.7.12"
  }
 },
 "nbformat": 4,
 "nbformat_minor": 0
}
