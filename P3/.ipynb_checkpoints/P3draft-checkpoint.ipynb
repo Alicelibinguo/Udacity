{
 "metadata": {
  "name": "",
  "signature": "sha256:dae6a378ca7df24f4bcc489fcde41bcbd1877ff73c44724f5d6aba1e52dfe0dc"
 },
 "nbformat": 3,
 "nbformat_minor": 0,
 "worksheets": [
  {
   "cells": [
    {
     "cell_type": "code",
     "collapsed": false,
     "input": [],
     "language": "python",
     "metadata": {},
     "outputs": []
    }
   ],
   "metadata": {}
  }
 ]
}