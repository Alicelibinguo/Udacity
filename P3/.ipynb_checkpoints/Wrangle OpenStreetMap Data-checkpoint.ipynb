{
 "metadata": {
  "name": "",
  "signature": "sha256:6874d06ce54dd83a44d5ab84135e6608fdbcc0e904babd3a7eab600b71fc4df7"
 },
 "nbformat": 3,
 "nbformat_minor": 0,
 "worksheets": [
  {
   "cells": [
    {
     "cell_type": "markdown",
     "metadata": {},
     "source": [
      "+ Author: Ren Zhang\n",
      "+ email: zhang ren@bentley.edu    \n",
      "\n",
      "## References\n",
      "  \n",
      "+ I am using the OpenStreetMap data of Boston, MA area downloaded from [mapzen](https://mapzen.com/data/metro-extracts), the date I downloaded the data set is sept. 18 2015. \n",
      "+ The data file is in XML format, and [here](http://wiki.openstreetmap.org/wiki/OSM_XML) is a description of the OpenStreetMap XML format.\n",
      "\n",
      "## Problems Encountered in the Map\n",
      "\n",
      "1. There are some incorrect street names and also some abbreviated street thpes\n",
      "2. There are a few incorrect zip codes as well \n",
      "\n",
      "### Street Names\n",
      "\n",
      "Some street names are abbreviated, such as \"Adams St\", I updated these abbreviations to better names. Some street names are incorrect, such as \"Boylston Street, 5th Floor\", I also corrected them as well. See the code and results part for details.\n",
      "\n",
      "### Zip Codes\n",
      "\n",
      "The zip code of Boston area should starts with *02*. I noticed there are a couple zip codes not belonging to Boston area, such as zip code start with *012* but rather are zip codes of places near Boston. Luckly these incorrect cases are very rare. See the code and results part for details.\n",
      "\n",
      "## Data Overview\n",
      "\n",
      "Here we provide some overview of the dataset\n",
      "\n",
      "### Data file size\n",
      "\n",
      "+ boston_massachusetts.osm(The original downloaded OpenStreetMap in xml format): 401MB\n",
      "+ boston_massachusetts.osm.json(The processed OpenStreetMap in json format): 622MB\n",
      "\n",
      "### Summary statistics of the dataset\n",
      "\n",
      "+ Number of documents: 2180736\n",
      "+ Number of unique users: 1007\n",
      "+ Number of nodes: 1886049\n",
      "+ Number of ways: 294201\n",
      "\n",
      "### Some other interesting findings\n",
      "\n",
      "+ Number of methods be used to create data entry: 26\n",
      "\n",
      "The queries used to generate these results are in the code.\n",
      "\n",
      "## Other ideas about the datasets\n",
      "\n",
      "I looked at users contributed to boston OpenStreetMap most frequently. The top three users are:\n",
      "+ crschmidt, who contributed more than 56.44% \n",
      "+ jremillard-massgis, with 20.12% contributions\n",
      "+ OceanVortex, with only 4.13% constibutions but still rank the third\n",
      "\n",
      "After a bit googling, I think I find the [crschmidt](http://crschmidt.net/mapping/) who ranked the first here. \n",
      "\n",
      "I also looked at the top cuisines:\n",
      "1. pizza\n",
      "2. american\n",
      "3. chinese\n",
      "4. italian\n",
      "5. mexican\n",
      "6. indian\n",
      "7. thai\n",
      "8. sandwich\n",
      "9. japanese\n",
      "10. asian\n",
      "\n",
      "Boston is famous for the many universities in the city, We also took a look at that as well. The results are also included in the code section"
     ]
    },
    {
     "cell_type": "markdown",
     "metadata": {},
     "source": [
      "## Code and results"
     ]
    },
    {
     "cell_type": "code",
     "collapsed": false,
     "input": [
      "# load libraries\n",
      "import os\n",
      "import xml.etree.cElementTree as cET\n",
      "from collections import defaultdict\n",
      "import pprint\n",
      "import re\n",
      "import codecs\n",
      "import json\n",
      "import string\n",
      "from pymongo import MongoClient"
     ],
     "language": "python",
     "metadata": {},
     "outputs": [],
     "prompt_number": 1
    },
    {
     "cell_type": "code",
     "collapsed": false,
     "input": [
      "# set up map file path\n",
      "filename = \"boston_massachusetts.osm\" # osm filename\n",
      "path = \"d:\\GithubRepos\\Udacity\\P3\" # directory contain the osm file\n",
      "bostonOSM = os.path.join(path, filename)\n",
      "\n",
      "# some regular expression \n",
      "lower = re.compile(r'^([a-z]|_)*$') \n",
      "lower_colon = re.compile(r'^([a-z]|_)*:([a-z]|_)*$')\n",
      "problemchars = re.compile(r'[=\\+/&<>;\\'\"\\?%#$@\\,\\. \\t\\r\\n]')\n",
      "street_type_re = re.compile(r'\\b\\S+\\.?$', re.IGNORECASE)\n",
      "\n",
      "# initial version of expected street names\n",
      "expected = [\"Street\", \"Avenue\", \"Boulevard\", \"Drive\", \"Court\", \"Place\", \"Square\", \"Lane\", \"Road\", \"Trail\", \"Parkway\", \"Commons\"]"
     ],
     "language": "python",
     "metadata": {},
     "outputs": [],
     "prompt_number": 2
    },
    {
     "cell_type": "markdown",
     "metadata": {},
     "source": [
      "### Audit the Street Names\n",
      "Look at the street names, print out all the street names that is with a unexpected street type"
     ]
    },
    {
     "cell_type": "code",
     "collapsed": false,
     "input": [
      "def audit_street_type(street_types, street_name):\n",
      "    # add unexpected street name to a list\n",
      "    m = street_type_re.search(street_name)\n",
      "    if m:\n",
      "        street_type = m.group()\n",
      "        if street_type not in expected:\n",
      "            street_types[street_type].add(street_name)\n",
      "            \n",
      "def is_street_name(elem):\n",
      "    # determine whether a element is a street name\n",
      "    return (elem.attrib['k'] == \"addr:street\")\n",
      "\n",
      "def audit_street(osmfile):\n",
      "    # iter through all street name tag under node or way and audit the street name value\n",
      "    osm_file = open(osmfile, \"r\")\n",
      "    street_types = defaultdict(set)\n",
      "    for event, elem in cET.iterparse(osm_file, events=(\"start\",)):\n",
      "        if elem.tag == \"node\" or elem.tag == \"way\":\n",
      "            for tag in elem.iter(\"tag\"):\n",
      "                if is_street_name(tag):\n",
      "                    audit_street_type(street_types, tag.attrib['v'])\n",
      "    return street_types\n",
      "\n",
      "st_types = audit_street(bostonOSM)\n",
      "# print out unexpected street names\n",
      "pprint.pprint(dict(st_types))"
     ],
     "language": "python",
     "metadata": {},
     "outputs": [
      {
       "output_type": "stream",
       "stream": "stdout",
       "text": [
        "{'1100': set(['First Street, Suite 1100']),\n",
        " '1702': set(['Franklin Street, Suite 1702']),\n",
        " '3': set(['Kendall Square - 3']),\n",
        " '303': set(['First Street, Suite 303']),\n",
        " '6': set(['South Station, near Track 6']),\n",
        " '846028': set(['PO Box 846028']),\n",
        " 'Artery': set(['Southern Artery']),\n",
        " 'Ave': set(['360 Huntington Ave',\n",
        "             '738 Commonwealth Ave',\n",
        "             'Blue Hill Ave',\n",
        "             'Boston Ave',\n",
        "             'College Ave',\n",
        "             'Commonwealth Ave',\n",
        "             'Concord Ave',\n",
        "             'Francesca Ave',\n",
        "             'Harrison Ave',\n",
        "             'Highland Ave',\n",
        "             'Huntington Ave',\n",
        "             'Josephine Ave',\n",
        "             'Lexington Ave',\n",
        "             'Massachusetts Ave',\n",
        "             'Morrison Ave',\n",
        "             'Mystic Ave',\n",
        "             'Somerville Ave',\n",
        "             \"St. Paul's Ave\",\n",
        "             'Washington Ave',\n",
        "             'Western Ave',\n",
        "             'Willow Ave']),\n",
        " 'Ave.': set(['Brighton Ave.',\n",
        "              'Huntington Ave.',\n",
        "              'Massachusetts Ave.',\n",
        "              'Somerville Ave.',\n",
        "              'Spaulding Ave.']),\n",
        " 'Boylston': set(['Boylston']),\n",
        " 'Broadway': set(['Broadway', 'West Broadway']),\n",
        " 'Brook': set(['Furnace Brook']),\n",
        " 'Cambrdige': set(['Cambrdige']),\n",
        " 'Center': set(['Cambridge Center']),\n",
        " 'Circle': set(['Edgewood Circle', 'Stein Circle']),\n",
        " 'Corner': set(['Webster Street, Coolidge Corner']),\n",
        " 'Ct': set(['Kelley Ct']),\n",
        " 'Elm': set(['Elm']),\n",
        " 'Federal': set(['Federal']),\n",
        " 'Fellsway': set(['Fellsway']),\n",
        " 'Fenway': set(['Fenway']),\n",
        " 'Floor': set(['Boylston Street, 5th Floor']),\n",
        " 'HIghway': set(['American Legion HIghway']),\n",
        " 'Hall': set(['Faneuil Hall']),\n",
        " 'Hampshire': set(['Hampshire']),\n",
        " 'Highway': set(['American Legion Highway',\n",
        "                 'Cummins Highway',\n",
        "                 \"Monsignor O'Brien Highway\",\n",
        "                 'Providence Highway',\n",
        "                 'Santilli Highway']),\n",
        " 'Holland': set(['Holland']),\n",
        " 'Hwy': set([\"Monsignor O'Brien Hwy\"]),\n",
        " 'LEVEL': set(['LOMASNEY WAY, ROOF LEVEL']),\n",
        " 'Lafayette': set(['Avenue De Lafayette']),\n",
        " 'Mall': set(['Cummington Mall']),\n",
        " 'Newbury': set(['Newbury']),\n",
        " 'Park': set(['Austin Park',\n",
        "              'Batterymarch Park',\n",
        "              'Canal Park',\n",
        "              'Exeter Park',\n",
        "              'Giles Park',\n",
        "              'Malden Street Park',\n",
        "              'Monument Park']),\n",
        " 'Pkwy': set(['Birmingham Pkwy']),\n",
        " 'Pl': set(['Longfellow Pl']),\n",
        " 'Rd': set(['Abby Rd',\n",
        "            'Aberdeen Rd',\n",
        "            'Bristol Rd',\n",
        "            'Goodnough Rd',\n",
        "            'Oakland Rd',\n",
        "            'Soldiers Field Rd',\n",
        "            'Squanto Rd']),\n",
        " 'Row': set(['Assembly Row', 'East India Row', 'Professors Row']),\n",
        " 'ST': set(['Newton ST']),\n",
        " 'Sedgwick': set(['Sedgwick']),\n",
        " 'South': set(['Charles Street South']),\n",
        " 'Sq.': set(['1 Kendall Sq.']),\n",
        " 'St': set(['1629 Cambridge St',\n",
        "            '644 Beacon St',\n",
        "            'Adams St',\n",
        "            'Antwerp St',\n",
        "            'Arsenal St',\n",
        "            'Athol St',\n",
        "            'Bagnal St',\n",
        "            'Beacon St',\n",
        "            'Brentwood St',\n",
        "            'Broad St',\n",
        "            'Cambridge St',\n",
        "            'Congress St',\n",
        "            'Court St',\n",
        "            'Cummington St',\n",
        "            'Dane St',\n",
        "            'Duval St',\n",
        "            'E 4th St',\n",
        "            'Elm St',\n",
        "            'Everett St',\n",
        "            'George St',\n",
        "            'Grove St',\n",
        "            'Hampshire St',\n",
        "            'Holton St',\n",
        "            'Kirkland St',\n",
        "            'Leighton St',\n",
        "            'Litchfield St',\n",
        "            'Lothrop St',\n",
        "            'Mackin St',\n",
        "            'Maverick St',\n",
        "            'Medford St',\n",
        "            'Merrill St',\n",
        "            'Newbury St',\n",
        "            'Norfolk St',\n",
        "            'Portsmouth St',\n",
        "            'Richardson St',\n",
        "            'Salem St',\n",
        "            'Sea St',\n",
        "            'South Waverly St',\n",
        "            'Stewart St',\n",
        "            'Summer St',\n",
        "            'Ware St',\n",
        "            'Waverly St',\n",
        "            'Winter St']),\n",
        " 'St,': set(['Walnut St,']),\n",
        " 'St.': set(['Albion St.',\n",
        "             'Boylston St.',\n",
        "             'Brookline St.',\n",
        "             'Centre St.',\n",
        "             'Elm St.',\n",
        "             'Main St.',\n",
        "             'Marshall St.',\n",
        "             'Maverick St.',\n",
        "             'Pearl St.',\n",
        "             'Prospect St.',\n",
        "             \"Saint Mary's St.\",\n",
        "             'Stuart St.',\n",
        "             'Tremont St.']),\n",
        " 'Street.': set(['Hancock Street.']),\n",
        " 'Terrace': set(['Alberta Terrace', 'Norfolk Terrace', 'Westbourne Terrace']),\n",
        " 'Turnpike': set(['Boston Providence Turnpike']),\n",
        " 'Way': set(['Artisan Way',\n",
        "             'Courthouse Way',\n",
        "             'David G Mugar Way',\n",
        "             'Davidson Way',\n",
        "             'Evans Way',\n",
        "             'Harry Agganis Way',\n",
        "             'Ross Way',\n",
        "             'Yawkey Way']),\n",
        " 'Wharf': set(['Long Wharf', 'Rowes Wharf']),\n",
        " 'Windsor': set(['Windsor']),\n",
        " 'Winsor': set(['Winsor']),\n",
        " 'ave': set(['Massachusetts ave']),\n",
        " 'floor': set(['First Street, 18th floor', 'Sidney Street, 2nd floor']),\n",
        " 'place': set(['argus place']),\n",
        " 'rd.': set(['Corey rd.']),\n",
        " 'st': set(['Church st']),\n",
        " 'street': set(['Boston street'])}\n"
       ]
      }
     ],
     "prompt_number": 3
    },
    {
     "cell_type": "markdown",
     "metadata": {},
     "source": [
      "### Street Name Correction Strategy\n",
      "Based on the auditing results, I came up with the following mapping dictionary, which addressed the abbrivations and the incorrect names."
     ]
    },
    {
     "cell_type": "code",
     "collapsed": false,
     "input": [
      "# creating a dictionary for correcting street names\n",
      "mapping = { \"Ct\": \"Court\",\n",
      "            \"St\": \"Street\",\n",
      "            \"st\": \"Street\",\n",
      "            \"St.\": \"Street\",\n",
      "            \"St,\": \"Street\",\n",
      "            \"ST\": \"Street\",\n",
      "            \"street\": \"Street\",\n",
      "            \"Street.\": \"Street\",\n",
      "            \"Ave\": \"Avenue\",\n",
      "            \"Ave.\": \"Avenue\",\n",
      "            \"ave\": \"Avenue\",\n",
      "            \"Rd.\": \"Road\",   \n",
      "            \"rd.\": \"Road\",\n",
      "            \"Rd\": \"Road\",    \n",
      "            \"Hwy\": \"Highway\",\n",
      "            \"HIghway\": \"Highway\",\n",
      "            \"Pkwy\": \"Parkway\",\n",
      "            \"Pl\": \"Place\",      \n",
      "            \"place\": \"Place\",\n",
      "            \"Sedgwick\": \"Sedgwick Street\",\n",
      "            \"Sq.\": \"Square\",\n",
      "            \"Newbury\": \"Newbury Street\",\n",
      "            \"Boylston\": \"Boylston Street\",\n",
      "            \"Brook\": \"Brook Parkway\",\n",
      "            \"Cambrdige\": \"Cambrdige Center\",\n",
      "            \"Elm\": \"Elm Street\",\n",
      "            \"Webster Street, Coolidge Corner\": \"Webster Street\",\n",
      "            \"Faneuil Hall\": \"Faneuil Hall Market Street\",\n",
      "            \"Furnace Brook\": \"Furnace Brook Parkway\",\n",
      "            \"Federal\": \"Federal Street\",\n",
      "            \"South Station, near Track 6\": \"South Station, Summer Street\",\n",
      "            \"PO Box 846028\": \"846028 Surface Road\",\n",
      "            \"First Street, Suite 303\": \"First Street\",\n",
      "            \"Kendall Square - 3\": \"Kendall Square\",\n",
      "            \"Franklin Street, Suite 1702\": \"Franklin Street\",\n",
      "            \"First Street, Suite 1100\": \"First Street\",\n",
      "            \"Windsor\": \"Windsor Stearns Hill Road\",\n",
      "            \"Winsor\": \"Winsor Village Pilgrim Road\",\n",
      "            \"First Street, 18th floor\": \"First Street\",\n",
      "            \"Sidney Street, 2nd floor\": \"Sidney Street\",\n",
      "            \"Boston Providence Turnpike\": \"Boston Providence Highway\",\n",
      "            \"LOMASNEY WAY, ROOF LEVEL\": \"Lomasney Way\",\n",
      "            \"Holland\": \"Holland Albany Street\",\n",
      "            \"Hampshire\": \"Hampshire Street\",\n",
      "            \"Boylston Street, 5th Floor\": \"Boylston Street\",\n",
      "            \"Fenway\": \"Fenway Yawkey Way\",\n",
      "            \"Charles Street South\": \"Charles Street\"}\n",
      "\n",
      "# function that corrects incorrect street names\n",
      "def update_name(name, mapping):    \n",
      "    for key in mapping:\n",
      "        if key in name:\n",
      "            name = string.replace(name,key,mapping[key])\n",
      "    return name"
     ],
     "language": "python",
     "metadata": {},
     "outputs": [],
     "prompt_number": 4
    },
    {
     "cell_type": "markdown",
     "metadata": {},
     "source": [
      "### Audit the Zip Codes\n",
      "The zip codes in boston should start with *02*, audit incorrect zip codes in the data set   "
     ]
    },
    {
     "cell_type": "code",
     "collapsed": false,
     "input": [
      "def audit_zipcodes(osmfile):\n",
      "    # iter through all zip codes, collect all the zip codes that does not start with 02\n",
      "    osm_file = open(osmfile, \"r\")\n",
      "    zip_codes = {}\n",
      "    for event, elem in cET.iterparse(osm_file, events=(\"start\",)):\n",
      "        if elem.tag == \"node\" or elem.tag == \"way\":\n",
      "            for tag in elem.iter(\"tag\"):\n",
      "                if tag.attrib['k'] == \"addr:postcode\" and not tag.attrib['v'].startswith('02'):\n",
      "                    if tag.attrib['v'] not in zip_codes:\n",
      "                        zip_codes[tag.attrib['v']] = 1\n",
      "                    else:\n",
      "                        zip_codes[tag.attrib['v']] += 1\n",
      "    return zip_codes\n",
      "\n",
      "zipcodes = audit_zipcodes(bostonOSM)\n",
      "for zipcode in zipcodes:\n",
      "    print zipcode, zipcodes[zipcode]"
     ],
     "language": "python",
     "metadata": {},
     "outputs": [
      {
       "output_type": "stream",
       "stream": "stdout",
       "text": [
        "01240 1\n",
        "Mass Ave 1\n",
        "MA 5\n",
        "01250 1\n",
        "01821 1\n",
        "MA 02116 4\n",
        "01944 1\n",
        "01125 1\n",
        "01238 1\n",
        "MA 02186 1\n"
       ]
      }
     ],
     "prompt_number": 11
    },
    {
     "cell_type": "markdown",
     "metadata": {},
     "source": [
      "The mistake zip codes are not that many in our dataset, and some of them are zip code of places close to Boston in Massachusetts.    "
     ]
    },
    {
     "cell_type": "markdown",
     "metadata": {},
     "source": [
      "### Process the OpenStreetMap XML file\n",
      "The function to process the XML file, make ready for insert into MongoDB"
     ]
    },
    {
     "cell_type": "code",
     "collapsed": false,
     "input": [
      "CREATED = [ \"version\", \"changeset\", \"timestamp\", \"user\", \"uid\"]\n",
      "\n",
      "def shape_element(element):\n",
      "    node = {}\n",
      "    node[\"created\"]={}\n",
      "    node[\"address\"]={}\n",
      "    node[\"pos\"]=[]\n",
      "    refs=[]\n",
      "    \n",
      "    # we only process the node and way tags\n",
      "    if element.tag == \"node\" or element.tag == \"way\" :\n",
      "        if \"id\" in element.attrib:\n",
      "            node[\"id\"]=element.attrib[\"id\"]\n",
      "        node[\"type\"]=element.tag\n",
      "\n",
      "        if \"visible\" in element.attrib.keys():\n",
      "            node[\"visible\"]=element.attrib[\"visible\"]\n",
      "      \n",
      "        # the key-value pairs with attributes in the CREATED list are added under key \"created\"\n",
      "        for elem in CREATED:\n",
      "            if elem in element.attrib:\n",
      "                node[\"created\"][elem]=element.attrib[elem]\n",
      "                \n",
      "        # attributes for latitude and longitude are added to a \"pos\" array\n",
      "        # include latitude value        \n",
      "        if \"lat\" in element.attrib:\n",
      "            node[\"pos\"].append(float(element.attrib[\"lat\"]))\n",
      "        # include longitude value    \n",
      "        if \"lon\" in element.attrib:\n",
      "            node[\"pos\"].append(float(element.attrib[\"lon\"]))\n",
      "\n",
      "        \n",
      "        for tag in element.iter(\"tag\"):\n",
      "            if not(problemchars.search(tag.attrib['k'])):\n",
      "                if tag.attrib['k'] == \"addr:housenumber\":\n",
      "                    node[\"address\"][\"housenumber\"]=tag.attrib['v']\n",
      "                    \n",
      "                if tag.attrib['k'] == \"addr:postcode\":\n",
      "                    node[\"address\"][\"postcode\"]=tag.attrib['v']\n",
      "                \n",
      "                # handling the street attribute, update incorrect names using the strategy developed before   \n",
      "                if tag.attrib['k'] == \"addr:street\":\n",
      "                    node[\"address\"][\"street\"]=tag.attrib['v']\n",
      "                    node[\"address\"][\"street\"] = update_name(node[\"address\"][\"street\"], mapping)\n",
      "\n",
      "                if tag.attrib['k'].find(\"addr\")==-1:\n",
      "                    node[tag.attrib['k']]=tag.attrib['v']\n",
      "                    \n",
      "        for nd in element.iter(\"nd\"):\n",
      "             refs.append(nd.attrib[\"ref\"])\n",
      "                \n",
      "        if node[\"address\"] =={}:\n",
      "            node.pop(\"address\", None)\n",
      "\n",
      "        if refs != []:\n",
      "           node[\"node_refs\"]=refs\n",
      "            \n",
      "        return node\n",
      "    else:\n",
      "        return None\n",
      "\n",
      "# process the xml openstreetmap file, write a json out file and return a list of dictionaries\n",
      "def process_map(file_in, pretty = False):\n",
      "    file_out = \"{0}.json\".format(file_in)\n",
      "    data = []\n",
      "    with codecs.open(file_out, \"w\") as fo:\n",
      "        for _, element in cET.iterparse(file_in):\n",
      "            el = shape_element(element)\n",
      "            if el:\n",
      "                data.append(el)\n",
      "                if pretty:\n",
      "                    fo.write(json.dumps(el, indent=2)+\"\\n\")\n",
      "                else:\n",
      "                    fo.write(json.dumps(el) + \"\\n\")\n",
      "    return data"
     ],
     "language": "python",
     "metadata": {},
     "outputs": [],
     "prompt_number": 13
    },
    {
     "cell_type": "code",
     "collapsed": false,
     "input": [
      "# process the file\n",
      "data = process_map(bostonOSM, True)"
     ],
     "language": "python",
     "metadata": {},
     "outputs": [],
     "prompt_number": 14
    },
    {
     "cell_type": "markdown",
     "metadata": {},
     "source": [
      "### Insert the data into local MongoDB Database"
     ]
    },
    {
     "cell_type": "code",
     "collapsed": false,
     "input": [
      "client = MongoClient()\n",
      "db = client.BostonOSM\n",
      "collection = db.bostonMAP\n",
      "collection.insert(data)"
     ],
     "language": "python",
     "metadata": {},
     "outputs": []
    },
    {
     "cell_type": "code",
     "collapsed": false,
     "input": [
      "collection"
     ],
     "language": "python",
     "metadata": {},
     "outputs": [
      {
       "metadata": {},
       "output_type": "pyout",
       "prompt_number": 16,
       "text": [
        "Collection(Database(MongoClient('localhost', 27017), u'BostonOSM'), u'bostonMAP')"
       ]
      }
     ],
     "prompt_number": 16
    },
    {
     "cell_type": "markdown",
     "metadata": {},
     "source": [
      "### Summary Statistics of Data"
     ]
    },
    {
     "cell_type": "markdown",
     "metadata": {},
     "source": [
      "size of the original xml file"
     ]
    },
    {
     "cell_type": "code",
     "collapsed": false,
     "input": [
      "os.path.getsize(bostonOSM)/1024/1024"
     ],
     "language": "python",
     "metadata": {},
     "outputs": [
      {
       "metadata": {},
       "output_type": "pyout",
       "prompt_number": 23,
       "text": [
        "401L"
       ]
      }
     ],
     "prompt_number": 23
    },
    {
     "cell_type": "markdown",
     "metadata": {},
     "source": [
      "size of the processed json file"
     ]
    },
    {
     "cell_type": "code",
     "collapsed": false,
     "input": [
      "os.path.getsize(os.path.join(path, \"boston_massachusetts.osm.json\"))/1024/1024"
     ],
     "language": "python",
     "metadata": {},
     "outputs": [
      {
       "metadata": {},
       "output_type": "pyout",
       "prompt_number": 24,
       "text": [
        "622L"
       ]
      }
     ],
     "prompt_number": 24
    },
    {
     "cell_type": "markdown",
     "metadata": {},
     "source": [
      "The Number of documents"
     ]
    },
    {
     "cell_type": "code",
     "collapsed": false,
     "input": [
      "collection.find().count()"
     ],
     "language": "python",
     "metadata": {},
     "outputs": [
      {
       "metadata": {},
       "output_type": "pyout",
       "prompt_number": 17,
       "text": [
        "2180736"
       ]
      }
     ],
     "prompt_number": 17
    },
    {
     "cell_type": "markdown",
     "metadata": {},
     "source": [
      "The Number of Unique users"
     ]
    },
    {
     "cell_type": "code",
     "collapsed": false,
     "input": [
      "# Number of unique users\n",
      "len(collection.group([\"created.uid\"], {}, {\"count\":0}, \"function(o, p){p.count++}\"))"
     ],
     "language": "python",
     "metadata": {},
     "outputs": [
      {
       "metadata": {},
       "output_type": "pyout",
       "prompt_number": 53,
       "text": [
        "1007"
       ]
      }
     ],
     "prompt_number": 53
    },
    {
     "cell_type": "markdown",
     "metadata": {},
     "source": [
      "The Number of Nodes"
     ]
    },
    {
     "cell_type": "code",
     "collapsed": false,
     "input": [
      "# Number of nodes\n",
      "collection.find({\"type\":\"node\"}).count()"
     ],
     "language": "python",
     "metadata": {},
     "outputs": [
      {
       "metadata": {},
       "output_type": "pyout",
       "prompt_number": 51,
       "text": [
        "1886049"
       ]
      }
     ],
     "prompt_number": 51
    },
    {
     "cell_type": "markdown",
     "metadata": {},
     "source": [
      "The Number of Ways"
     ]
    },
    {
     "cell_type": "code",
     "collapsed": false,
     "input": [
      "# Number of ways\n",
      "collection.find({\"type\":\"way\"}).count()"
     ],
     "language": "python",
     "metadata": {},
     "outputs": [
      {
       "metadata": {},
       "output_type": "pyout",
       "prompt_number": 52,
       "text": [
        "294201"
       ]
      }
     ],
     "prompt_number": 52
    },
    {
     "cell_type": "markdown",
     "metadata": {},
     "source": [
      "The Number of Methods Used to Create Data Entry"
     ]
    },
    {
     "cell_type": "code",
     "collapsed": false,
     "input": [
      "pipeline = [{\"$group\":{\"_id\": \"$created_by\",\n",
      "                       \"count\": {\"$sum\": 1}}}]\n",
      "result = collection.aggregate(pipeline)\n",
      "print(len(result['result']))"
     ],
     "language": "python",
     "metadata": {},
     "outputs": [
      {
       "output_type": "stream",
       "stream": "stdout",
       "text": [
        "26\n"
       ]
      }
     ],
     "prompt_number": 31
    },
    {
     "cell_type": "markdown",
     "metadata": {},
     "source": [
      "### Some more exploration on the data set"
     ]
    },
    {
     "cell_type": "markdown",
     "metadata": {},
     "source": [
      "Top three users with most contributions"
     ]
    },
    {
     "cell_type": "code",
     "collapsed": false,
     "input": [
      "pipeline = [{\"$group\":{\"_id\": \"$created.user\",\n",
      "                       \"count\": {\"$sum\": 1}}},\n",
      "            {\"$sort\": {\"count\": -1}},\n",
      "            {\"$limit\": 3}]\n",
      "result = collection.aggregate(pipeline)\n",
      "result['result']"
     ],
     "language": "python",
     "metadata": {},
     "outputs": [
      {
       "metadata": {},
       "output_type": "pyout",
       "prompt_number": 32,
       "text": [
        "[{u'_id': u'crschmidt', u'count': 1230914},\n",
        " {u'_id': u'jremillard-massgis', u'count': 438724},\n",
        " {u'_id': u'OceanVortex', u'count': 90091}]"
       ]
      }
     ],
     "prompt_number": 32
    },
    {
     "cell_type": "markdown",
     "metadata": {},
     "source": [
      "Proportion of the top user contributions"
     ]
    },
    {
     "cell_type": "code",
     "collapsed": false,
     "input": [
      "pipeline = [{\"$group\":{\"_id\": \"$created.user\",\n",
      "                       \"count\": {\"$sum\": 1}}},\n",
      "            {\"$project\": {\"proportion\": {\"$divide\" :[\"$count\",collection.find().count()]}}},\n",
      "            {\"$sort\": {\"proportion\": -1}},\n",
      "            {\"$limit\": 3}]\n",
      "result = collection.aggregate(pipeline)\n",
      "result['result']"
     ],
     "language": "python",
     "metadata": {},
     "outputs": [
      {
       "metadata": {},
       "output_type": "pyout",
       "prompt_number": 33,
       "text": [
        "[{u'_id': u'crschmidt', u'proportion': 0.5644488833127899},\n",
        " {u'_id': u'jremillard-massgis', u'proportion': 0.20118161941656396},\n",
        " {u'_id': u'OceanVortex', u'proportion': 0.041312199184128665}]"
       ]
      }
     ],
     "prompt_number": 33
    },
    {
     "cell_type": "markdown",
     "metadata": {},
     "source": [
      "Most popular cuisines"
     ]
    },
    {
     "cell_type": "code",
     "collapsed": false,
     "input": [
      "pipeline = [{\"$match\":{\"amenity\":{\"$exists\":1}, \"amenity\":\"restaurant\", \"cuisine\":{\"$exists\":1}}}, \n",
      "            {\"$group\":{\"_id\":\"$cuisine\", \"count\":{\"$sum\":1}}},        \n",
      "            {\"$sort\":{\"count\":-1}}, \n",
      "            {\"$limit\":10}]\n",
      "result = collection.aggregate(pipeline)\n",
      "result['result']"
     ],
     "language": "python",
     "metadata": {},
     "outputs": [
      {
       "metadata": {},
       "output_type": "pyout",
       "prompt_number": 36,
       "text": [
        "[{u'_id': u'pizza', u'count': 36},\n",
        " {u'_id': u'american', u'count': 33},\n",
        " {u'_id': u'chinese', u'count': 31},\n",
        " {u'_id': u'italian', u'count': 26},\n",
        " {u'_id': u'mexican', u'count': 26},\n",
        " {u'_id': u'indian', u'count': 20},\n",
        " {u'_id': u'thai', u'count': 18},\n",
        " {u'_id': u'sandwich', u'count': 12},\n",
        " {u'_id': u'japanese', u'count': 12},\n",
        " {u'_id': u'asian', u'count': 11}]"
       ]
      }
     ],
     "prompt_number": 36
    },
    {
     "cell_type": "markdown",
     "metadata": {},
     "source": [
      "Universities"
     ]
    },
    {
     "cell_type": "code",
     "collapsed": false,
     "input": [
      "pipeline = [{\"$match\":{\"amenity\":{\"$exists\":1}, \"amenity\": \"university\", \"name\":{\"$exists\":1}}},\n",
      "            {\"$group\":{\"_id\":\"$name\", \"count\":{\"$sum\":1}}},\n",
      "            {\"$sort\":{\"count\":-1}}]\n",
      "result = collection.aggregate(pipeline)\n",
      "result['result']"
     ],
     "language": "python",
     "metadata": {},
     "outputs": [
      {
       "metadata": {},
       "output_type": "pyout",
       "prompt_number": 41,
       "text": [
        "[{u'_id': u'Boston University', u'count': 41},\n",
        " {u'_id': u'Massachusetts Institute of Technology', u'count': 10},\n",
        " {u'_id': u'Suffolk University', u'count': 8},\n",
        " {u'_id': u'Harvard University', u'count': 6},\n",
        " {u'_id': u'Boston University Medical Campus', u'count': 3},\n",
        " {u'_id': u'University of Massachusetts Boston', u'count': 3},\n",
        " {u'_id': u'Harvard Medical School', u'count': 2},\n",
        " {u'_id': u'Northeastern University', u'count': 2},\n",
        " {u'_id': u'Benjamin Franklin Institute of Technology', u'count': 2},\n",
        " {u'_id': u'University Hall', u'count': 2},\n",
        " {u'_id': u'Littauer Center', u'count': 2},\n",
        " {u'_id': u'Boston College', u'count': 2},\n",
        " {u'_id': u'Harvard School of Public Health', u'count': 1},\n",
        " {u'_id': u'Boston College - Newton Campus', u'count': 1},\n",
        " {u'_id': u'Harvard University Northwest Building', u'count': 1},\n",
        " {u'_id': u'Boston College (Brighton Campus)', u'count': 1},\n",
        " {u'_id': u'David Rubenstein Building', u'count': 1},\n",
        " {u'_id': u'White Hall', u'count': 1},\n",
        " {u'_id': u'Mower Hall', u'count': 1},\n",
        " {u'_id': u'Andover Newton Theological School', u'count': 1},\n",
        " {u'_id': u'Westmorely Hall', u'count': 1},\n",
        " {u'_id': u'Robinson Hall', u'count': 1},\n",
        " {u'_id': u'Eliot House', u'count': 1},\n",
        " {u'_id': u'Conant Hall', u'count': 1},\n",
        " {u'_id': u'Engineering Science Lab', u'count': 1},\n",
        " {u'_id': u'Malkin Athletic Center (MAC)', u'count': 1},\n",
        " {u'_id': u'Hastings Building', u'count': 1},\n",
        " {u'_id': u'Harvard Science Center', u'count': 1},\n",
        " {u'_id': u'Tufts University Dowling Hall', u'count': 1},\n",
        " {u'_id': u'Blackstone South', u'count': 1},\n",
        " {u'_id': u'Vanserg Building', u'count': 1},\n",
        " {u'_id': u'Knowles Center', u'count': 1},\n",
        " {u'_id': u'Claverly Hall', u'count': 1},\n",
        " {u'_id': u'Belfer Building', u'count': 1},\n",
        " {u'_id': u'Gutman Building', u'count': 1},\n",
        " {u'_id': u'Larsen Building', u'count': 1},\n",
        " {u'_id': u'Winthrop House', u'count': 1},\n",
        " {u'_id': u'CGIS Knafel', u'count': 1},\n",
        " {u'_id': u'Radcliffe University', u'count': 1},\n",
        " {u'_id': u'Tufts Dental School', u'count': 1},\n",
        " {u'_id': u'Emerson Hall', u'count': 1},\n",
        " {u'_id': u'38 Oxford', u'count': 1},\n",
        " {u'_id': u'Buckingham House', u'count': 1},\n",
        " {u'_id': u'Byerly Hall', u'count': 1},\n",
        " {u'_id': u'Mount Ida College', u'count': 1},\n",
        " {u'_id': u'Harvard School of Dental Medicine', u'count': 1},\n",
        " {u'_id': u'Harvard Hall', u'count': 1},\n",
        " {u'_id': u'Sever Hall', u'count': 1},\n",
        " {u'_id': u'Smith Campus Center', u'count': 1},\n",
        " {u'_id': u'Taubman Building', u'count': 1},\n",
        " {u'_id': u'Biological Laboratory', u'count': 1},\n",
        " {u'_id': u'Memorial Hall', u'count': 1},\n",
        " {u'_id': u'Hollis Building;Hollis Hall', u'count': 1},\n",
        " {u'_id': u'Radcliffe Institute at Harvard University', u'count': 1},\n",
        " {u'_id': u'Harvard University Extension School', u'count': 1},\n",
        " {u'_id': u'Harvard Business School', u'count': 1},\n",
        " {u'_id': u'Putnam Building', u'count': 1},\n",
        " {u'_id': u'Boston University School of Medicine', u'count': 1},\n",
        " {u'_id': u'Cambridge Innovation Center', u'count': 1},\n",
        " {u'_id': u'Myles Standish Hall', u'count': 1},\n",
        " {u'_id': u'Divinity Hall', u'count': 1},\n",
        " {u'_id': u'Farlow', u'count': 1},\n",
        " {u'_id': u'John F Kennedy School of Government', u'count': 1},\n",
        " {u'_id': u'Lowell Lecture Hall', u'count': 1},\n",
        " {u'_id': u'Rubinstein Hall', u'count': 1},\n",
        " {u'_id': u'CGIS South', u'count': 1},\n",
        " {u'_id': u'Radcliffe Institute for Advanced Studies', u'count': 1},\n",
        " {u'_id': u'Radcliffe Gym', u'count': 1},\n",
        " {u'_id': u'Picower Institute for Learning and Memory (MIT)', u'count': 1},\n",
        " {u'_id': u'Randolph Hall', u'count': 1},\n",
        " {u'_id': u'McGovern Institute for Brain Research (MIT)', u'count': 1},\n",
        " {u'_id': u'Lehman Dudley House', u'count': 1},\n",
        " {u'_id': u'Soldiers Field Park Apartments', u'count': 1},\n",
        " {u'_id': u'Longfellow Building', u'count': 1},\n",
        " {u'_id': u'Agassiz House', u'count': 1},\n",
        " {u'_id': u'University Herbaria', u'count': 1}]"
       ]
      }
     ],
     "prompt_number": 41
    },
    {
     "cell_type": "code",
     "collapsed": false,
     "input": [
      "print(len(result['result']))"
     ],
     "language": "python",
     "metadata": {},
     "outputs": [
      {
       "output_type": "stream",
       "stream": "stdout",
       "text": [
        "76\n"
       ]
      }
     ],
     "prompt_number": 42
    }
   ],
   "metadata": {}
  }
 ]
}