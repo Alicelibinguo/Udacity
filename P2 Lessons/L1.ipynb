{
 "metadata": {
  "name": "",
  "signature": "sha256:256b767d350abbe52d6f290160b8ee727c8c33a59091a7368c7a610a26d99370"
 },
 "nbformat": 3,
 "nbformat_minor": 0,
 "worksheets": [
  {
   "cells": [
    {
     "cell_type": "markdown",
     "metadata": {},
     "source": [
      "## Scratch Code for part 1"
     ]
    },
    {
     "cell_type": "markdown",
     "metadata": {},
     "source": [
      "load library"
     ]
    },
    {
     "cell_type": "code",
     "collapsed": false,
     "input": [
      "import numpy as np\n",
      "import pandas as pd"
     ],
     "language": "python",
     "metadata": {},
     "outputs": [],
     "prompt_number": 2
    },
    {
     "cell_type": "markdown",
     "metadata": {},
     "source": [
      "statistical function"
     ]
    },
    {
     "cell_type": "code",
     "collapsed": false,
     "input": [
      "numbers = [1,2,3,4,5]\n",
      "print(np.mean(numbers))\n",
      "print(np.median(numbers))\n",
      "print(np.std(numbers))"
     ],
     "language": "python",
     "metadata": {},
     "outputs": [
      {
       "output_type": "stream",
       "stream": "stdout",
       "text": [
        "3.0\n",
        "3.0\n",
        "1.41421356237\n"
       ]
      }
     ],
     "prompt_number": 5
    },
    {
     "cell_type": "markdown",
     "metadata": {},
     "source": [
      "create vector or matrix"
     ]
    },
    {
     "cell_type": "code",
     "collapsed": false,
     "input": [
      "array = np.array([1, 4, 5, 8], float)\n",
      "print array\n",
      "print \"\"\n",
      "array = np.array([[1, 2, 3], [4, 5, 6]], float)  # a 2D array/Matrix\n",
      "print array"
     ],
     "language": "python",
     "metadata": {},
     "outputs": [
      {
       "output_type": "stream",
       "stream": "stdout",
       "text": [
        "[ 1.  4.  5.  8.]\n",
        "\n",
        "[[ 1.  2.  3.]\n",
        " [ 4.  5.  6.]]\n"
       ]
      }
     ],
     "prompt_number": 6
    },
    {
     "cell_type": "markdown",
     "metadata": {},
     "source": [
      "subset a vector or matrix"
     ]
    },
    {
     "cell_type": "code",
     "collapsed": false,
     "input": [
      "array = np.array([1, 4, 5, 8], float)\n",
      "print array\n",
      "print \"\"\n",
      "print array[1]\n",
      "print \"\"\n",
      "print array[:2]\n",
      "print \"\"\n",
      "array[1] = 5.0\n",
      "print array[1]"
     ],
     "language": "python",
     "metadata": {},
     "outputs": [
      {
       "output_type": "stream",
       "stream": "stdout",
       "text": [
        "[ 1.  4.  5.  8.]\n",
        "\n",
        "4.0\n",
        "\n",
        "[ 1.  4.]\n",
        "\n",
        "5.0\n"
       ]
      }
     ],
     "prompt_number": 7
    },
    {
     "cell_type": "code",
     "collapsed": false,
     "input": [
      "two_D_array = np.array([[1, 2, 3], [4, 5, 6]], float)\n",
      "print two_D_array\n",
      "print \"\"\n",
      "print two_D_array[1][1]\n",
      "print \"\"\n",
      "print two_D_array[1, :]\n",
      "print \"\"\n",
      "print two_D_array[:, 2]"
     ],
     "language": "python",
     "metadata": {},
     "outputs": [
      {
       "output_type": "stream",
       "stream": "stdout",
       "text": [
        "[[ 1.  2.  3.]\n",
        " [ 4.  5.  6.]]\n",
        "\n",
        "5.0\n",
        "\n",
        "[ 4.  5.  6.]\n",
        "\n",
        "[ 3.  6.]\n"
       ]
      }
     ],
     "prompt_number": 8
    },
    {
     "cell_type": "markdown",
     "metadata": {},
     "source": [
      "Element wise computation"
     ]
    },
    {
     "cell_type": "code",
     "collapsed": false,
     "input": [
      "array_1 = np.array([1, 2, 3], float)\n",
      "array_2 = np.array([5, 2, 6], float)\n",
      "print array_1 + array_2\n",
      "print \"\"\n",
      "print array_1 - array_2\n",
      "print \"\"\n",
      "print array_1 * array_2"
     ],
     "language": "python",
     "metadata": {},
     "outputs": [
      {
       "output_type": "stream",
       "stream": "stdout",
       "text": [
        "[ 6.  4.  9.]\n",
        "\n",
        "[-4.  0. -3.]\n",
        "\n",
        "[  5.   4.  18.]\n"
       ]
      }
     ],
     "prompt_number": 9
    },
    {
     "cell_type": "code",
     "collapsed": false,
     "input": [
      "array_1 = np.array([[1, 2], [3, 4]], float)\n",
      "array_2 = np.array([[5, 6], [7, 8]], float)\n",
      "print array_1 + array_2\n",
      "print \"\"\n",
      "print array_1 - array_2\n",
      "print \"\"\n",
      "print array_1 * array_2"
     ],
     "language": "python",
     "metadata": {},
     "outputs": [
      {
       "output_type": "stream",
       "stream": "stdout",
       "text": [
        "[[  6.   8.]\n",
        " [ 10.  12.]]\n",
        "\n",
        "[[-4. -4.]\n",
        " [-4. -4.]]\n",
        "\n",
        "[[  5.  12.]\n",
        " [ 21.  32.]]\n"
       ]
      }
     ],
     "prompt_number": 10
    },
    {
     "cell_type": "markdown",
     "metadata": {},
     "source": [
      "Statistical function on array and dot product"
     ]
    },
    {
     "cell_type": "code",
     "collapsed": false,
     "input": [
      "array_1 = np.array([1, 2, 3], float)\n",
      "array_2 = np.array([[6], [7], [8]], float)\n",
      "print np.mean(array_1)\n",
      "print np.mean(array_2)\n",
      "print \"\"\n",
      "print np.dot(array_1, array_2)"
     ],
     "language": "python",
     "metadata": {},
     "outputs": [
      {
       "output_type": "stream",
       "stream": "stdout",
       "text": [
        "2.0\n",
        "7.0\n",
        "\n",
        "[ 44.]\n"
       ]
      }
     ],
     "prompt_number": 11
    },
    {
     "cell_type": "markdown",
     "metadata": {},
     "source": [
      "pandas series   "
     ]
    },
    {
     "cell_type": "code",
     "collapsed": false,
     "input": [
      "series = pd.Series(['Dave', 'Cheng-Han', 'Udacity', 42, -1789710578])\n",
      "print series"
     ],
     "language": "python",
     "metadata": {},
     "outputs": [
      {
       "output_type": "stream",
       "stream": "stdout",
       "text": [
        "0           Dave\n",
        "1      Cheng-Han\n",
        "2        Udacity\n",
        "3             42\n",
        "4    -1789710578\n",
        "dtype: object\n"
       ]
      }
     ],
     "prompt_number": 13
    },
    {
     "cell_type": "markdown",
     "metadata": {},
     "source": [
      "add names for the series"
     ]
    },
    {
     "cell_type": "code",
     "collapsed": false,
     "input": [
      "series = pd.Series(['Dave', 'Cheng-Han', 359, 9001],\n",
      "                    index=['Instructor', 'Curriculum Manager',\n",
      "                           'Course Number', 'Power Level'])\n",
      "print series"
     ],
     "language": "python",
     "metadata": {},
     "outputs": [
      {
       "output_type": "stream",
       "stream": "stdout",
       "text": [
        "Instructor                 Dave\n",
        "Curriculum Manager    Cheng-Han\n",
        "Course Number               359\n",
        "Power Level                9001\n",
        "dtype: object\n"
       ]
      }
     ],
     "prompt_number": 14
    },
    {
     "cell_type": "markdown",
     "metadata": {},
     "source": [
      "subset a series"
     ]
    },
    {
     "cell_type": "code",
     "collapsed": false,
     "input": [
      "series = pd.Series(['Dave', 'Cheng-Han', 359, 9001],\n",
      "                    index=['Instructor', 'Curriculum Manager',\n",
      "                            'Course Number', 'Power Level'])\n",
      "print series['Instructor']\n",
      "print \"\"\n",
      "print series[['Instructor', 'Curriculum Manager', 'Course Number']]"
     ],
     "language": "python",
     "metadata": {},
     "outputs": [
      {
       "output_type": "stream",
       "stream": "stdout",
       "text": [
        "Dave\n",
        "\n",
        "Instructor                 Dave\n",
        "Curriculum Manager    Cheng-Han\n",
        "Course Number               359\n",
        "dtype: object\n"
       ]
      }
     ],
     "prompt_number": 15
    },
    {
     "cell_type": "markdown",
     "metadata": {},
     "source": [
      "subset using condition"
     ]
    },
    {
     "cell_type": "code",
     "collapsed": false,
     "input": [
      "cuteness = pd.Series([1, 2, 3, 4, 5], index=['Cockroach', 'Fish', 'Mini Pig',\n",
      "                                             'Puppy', 'Kitten'])\n",
      "print cuteness > 3\n",
      "print \"\"\n",
      "print cuteness[cuteness > 3]"
     ],
     "language": "python",
     "metadata": {},
     "outputs": [
      {
       "output_type": "stream",
       "stream": "stdout",
       "text": [
        "Cockroach    False\n",
        "Fish         False\n",
        "Mini Pig     False\n",
        "Puppy         True\n",
        "Kitten        True\n",
        "dtype: bool\n",
        "\n",
        "Puppy     4\n",
        "Kitten    5\n",
        "dtype: int64\n"
       ]
      }
     ],
     "prompt_number": 16
    },
    {
     "cell_type": "markdown",
     "metadata": {},
     "source": [
      "create dataframe from python dictionary"
     ]
    },
    {
     "cell_type": "code",
     "collapsed": false,
     "input": [
      "data = {'year': [2010, 2011, 2012, 2011, 2012, 2010, 2011, 2012],\n",
      "        'team': ['Bears', 'Bears', 'Bears', 'Packers', 'Packers', 'Lions',\n",
      "                 'Lions', 'Lions'],\n",
      "        'wins': [11, 8, 10, 15, 11, 6, 10, 4],\n",
      "        'losses': [5, 8, 6, 1, 5, 10, 6, 12]}\n",
      "football = pd.DataFrame(data)\n",
      "print football"
     ],
     "language": "python",
     "metadata": {},
     "outputs": [
      {
       "output_type": "stream",
       "stream": "stdout",
       "text": [
        "   losses     team  wins  year\n",
        "0       5    Bears    11  2010\n",
        "1       8    Bears     8  2011\n",
        "2       6    Bears    10  2012\n",
        "3       1  Packers    15  2011\n",
        "4       5  Packers    11  2012\n",
        "5      10    Lions     6  2010\n",
        "6       6    Lions    10  2011\n",
        "7      12    Lions     4  2012\n"
       ]
      }
     ],
     "prompt_number": 17
    },
    {
     "cell_type": "markdown",
     "metadata": {},
     "source": [
      "some functions related to get to know your dataframe"
     ]
    },
    {
     "cell_type": "code",
     "collapsed": false,
     "input": [
      "print football.dtypes\n",
      "print \"\"\n",
      "print football.describe()\n",
      "print \"\"\n",
      "print football.head()\n",
      "print \"\"\n",
      "print football.tail()"
     ],
     "language": "python",
     "metadata": {},
     "outputs": [
      {
       "output_type": "stream",
       "stream": "stdout",
       "text": [
        "losses     int64\n",
        "team      object\n",
        "wins       int64\n",
        "year       int64\n",
        "dtype: object\n",
        "\n",
        "          losses       wins         year\n",
        "count   8.000000   8.000000     8.000000\n",
        "mean    6.625000   9.375000  2011.125000\n",
        "std     3.377975   3.377975     0.834523\n",
        "min     1.000000   4.000000  2010.000000\n",
        "25%     5.000000   7.500000  2010.750000\n",
        "50%     6.000000  10.000000  2011.000000\n",
        "75%     8.500000  11.000000  2012.000000\n",
        "max    12.000000  15.000000  2012.000000\n",
        "\n",
        "   losses     team  wins  year\n",
        "0       5    Bears    11  2010\n",
        "1       8    Bears     8  2011\n",
        "2       6    Bears    10  2012\n",
        "3       1  Packers    15  2011\n",
        "4       5  Packers    11  2012\n",
        "\n",
        "   losses     team  wins  year\n",
        "3       1  Packers    15  2011\n",
        "4       5  Packers    11  2012\n",
        "5      10    Lions     6  2010\n",
        "6       6    Lions    10  2011\n",
        "7      12    Lions     4  2012\n"
       ]
      }
     ],
     "prompt_number": 18
    },
    {
     "cell_type": "markdown",
     "metadata": {},
     "source": [
      "quiz dataframe"
     ]
    },
    {
     "cell_type": "code",
     "collapsed": false,
     "input": [
      "def create_dataframe():\n",
      "    '''\n",
      "    Create a pandas dataframe called 'olympic_medal_counts_df' containing\n",
      "    the data from the table of 2014 Sochi winter olympics medal counts.  \n",
      "\n",
      "    The columns for this dataframe should be called \n",
      "    'country_name', 'gold', 'silver', and 'bronze'.  \n",
      "\n",
      "    There is no need to  specify row indexes for this dataframe \n",
      "    (in this case, the rows will automatically be assigned numbered indexes).\n",
      "    \n",
      "    You do not need to call the function in your code when running it in the\n",
      "    browser - the grader will do that automatically when you submit or test it.\n",
      "    '''\n",
      "\n",
      "    countries = ['Russian Fed.', 'Norway', 'Canada', 'United States',\n",
      "                 'Netherlands', 'Germany', 'Switzerland', 'Belarus',\n",
      "                 'Austria', 'France', 'Poland', 'China', 'Korea', \n",
      "                 'Sweden', 'Czech Republic', 'Slovenia', 'Japan',\n",
      "                 'Finland', 'Great Britain', 'Ukraine', 'Slovakia',\n",
      "                 'Italy', 'Latvia', 'Australia', 'Croatia', 'Kazakhstan']\n",
      "\n",
      "    gold = [13, 11, 10, 9, 8, 8, 6, 5, 4, 4, 4, 3, 3, 2, 2, 2, 1, 1, 1, 1, 1, 0, 0, 0, 0, 0]\n",
      "    silver = [11, 5, 10, 7, 7, 6, 3, 0, 8, 4, 1, 4, 3, 7, 4, 2, 4, 3, 1, 0, 0, 2, 2, 2, 1, 0]\n",
      "    bronze = [9, 10, 5, 12, 9, 5, 2, 1, 5, 7, 1, 2, 2, 6, 2, 4, 3, 1, 2, 1, 0, 6, 2, 1, 0, 1]\n",
      "\n",
      "    olympic_medal_counts_df = pd.DataFrame({\"country_name\": countries, \n",
      "                                            \"gold\": gold,\n",
      "                                            \"silver\": silver,\n",
      "                                            \"bronze\": bronze})\n",
      "    return olympic_medal_counts_df\n",
      "\n",
      "df = create_dataframe()\n",
      "df.head()"
     ],
     "language": "python",
     "metadata": {},
     "outputs": [
      {
       "html": [
        "<div style=\"max-width:1500px;overflow:auto;\">\n",
        "<table border=\"1\" class=\"dataframe\">\n",
        "  <thead>\n",
        "    <tr style=\"text-align: right;\">\n",
        "      <th></th>\n",
        "      <th>bronze</th>\n",
        "      <th>country_name</th>\n",
        "      <th>gold</th>\n",
        "      <th>silver</th>\n",
        "    </tr>\n",
        "  </thead>\n",
        "  <tbody>\n",
        "    <tr>\n",
        "      <th>0</th>\n",
        "      <td>9</td>\n",
        "      <td>Russian Fed.</td>\n",
        "      <td>13</td>\n",
        "      <td>11</td>\n",
        "    </tr>\n",
        "    <tr>\n",
        "      <th>1</th>\n",
        "      <td>10</td>\n",
        "      <td>Norway</td>\n",
        "      <td>11</td>\n",
        "      <td>5</td>\n",
        "    </tr>\n",
        "    <tr>\n",
        "      <th>2</th>\n",
        "      <td>5</td>\n",
        "      <td>Canada</td>\n",
        "      <td>10</td>\n",
        "      <td>10</td>\n",
        "    </tr>\n",
        "    <tr>\n",
        "      <th>3</th>\n",
        "      <td>12</td>\n",
        "      <td>United States</td>\n",
        "      <td>9</td>\n",
        "      <td>7</td>\n",
        "    </tr>\n",
        "    <tr>\n",
        "      <th>4</th>\n",
        "      <td>9</td>\n",
        "      <td>Netherlands</td>\n",
        "      <td>8</td>\n",
        "      <td>7</td>\n",
        "    </tr>\n",
        "  </tbody>\n",
        "</table>\n",
        "</div>"
       ],
       "metadata": {},
       "output_type": "pyout",
       "prompt_number": 24,
       "text": [
        "   bronze   country_name  gold  silver\n",
        "0       9   Russian Fed.    13      11\n",
        "1      10         Norway    11       5\n",
        "2       5         Canada    10      10\n",
        "3      12  United States     9       7\n",
        "4       9    Netherlands     8       7"
       ]
      }
     ],
     "prompt_number": 24
    },
    {
     "cell_type": "markdown",
     "metadata": {},
     "source": [
      "get columns out"
     ]
    },
    {
     "cell_type": "code",
     "collapsed": false,
     "input": [
      "print(df[\"bronze\"])"
     ],
     "language": "python",
     "metadata": {},
     "outputs": [
      {
       "output_type": "stream",
       "stream": "stdout",
       "text": [
        "0      9\n",
        "1     10\n",
        "2      5\n",
        "3     12\n",
        "4      9\n",
        "5      5\n",
        "6      2\n",
        "7      1\n",
        "8      5\n",
        "9      7\n",
        "10     1\n",
        "11     2\n",
        "12     2\n",
        "13     6\n",
        "14     2\n",
        "15     4\n",
        "16     3\n",
        "17     1\n",
        "18     2\n",
        "19     1\n",
        "20     0\n",
        "21     6\n",
        "22     2\n",
        "23     1\n",
        "24     0\n",
        "25     1\n",
        "Name: bronze, dtype: int64\n"
       ]
      }
     ],
     "prompt_number": 26
    },
    {
     "cell_type": "code",
     "collapsed": false,
     "input": [
      "print(df[[\"bronze\", \"gold\"]])"
     ],
     "language": "python",
     "metadata": {},
     "outputs": [
      {
       "output_type": "stream",
       "stream": "stdout",
       "text": [
        "    bronze  gold\n",
        "0        9    13\n",
        "1       10    11\n",
        "2        5    10\n",
        "3       12     9\n",
        "4        9     8\n",
        "5        5     8\n",
        "6        2     6\n",
        "7        1     5\n",
        "8        5     4\n",
        "9        7     4\n",
        "10       1     4\n",
        "11       2     3\n",
        "12       2     3\n",
        "13       6     2\n",
        "14       2     2\n",
        "15       4     2\n",
        "16       3     1\n",
        "17       1     1\n",
        "18       2     1\n",
        "19       1     1\n",
        "20       0     1\n",
        "21       6     0\n",
        "22       2     0\n",
        "23       1     0\n",
        "24       0     0\n",
        "25       1     0\n"
       ]
      }
     ],
     "prompt_number": 28
    },
    {
     "cell_type": "markdown",
     "metadata": {},
     "source": [
      "get rows out"
     ]
    },
    {
     "cell_type": "code",
     "collapsed": false,
     "input": [
      "df.loc[1]"
     ],
     "language": "python",
     "metadata": {},
     "outputs": [
      {
       "metadata": {},
       "output_type": "pyout",
       "prompt_number": 30,
       "text": [
        "bronze              10\n",
        "country_name    Norway\n",
        "gold                11\n",
        "silver               5\n",
        "Name: 1, dtype: object"
       ]
      }
     ],
     "prompt_number": 30
    },
    {
     "cell_type": "code",
     "collapsed": false,
     "input": [
      "df.loc[1:5]"
     ],
     "language": "python",
     "metadata": {},
     "outputs": [
      {
       "html": [
        "<div style=\"max-width:1500px;overflow:auto;\">\n",
        "<table border=\"1\" class=\"dataframe\">\n",
        "  <thead>\n",
        "    <tr style=\"text-align: right;\">\n",
        "      <th></th>\n",
        "      <th>bronze</th>\n",
        "      <th>country_name</th>\n",
        "      <th>gold</th>\n",
        "      <th>silver</th>\n",
        "    </tr>\n",
        "  </thead>\n",
        "  <tbody>\n",
        "    <tr>\n",
        "      <th>1</th>\n",
        "      <td>10</td>\n",
        "      <td>Norway</td>\n",
        "      <td>11</td>\n",
        "      <td>5</td>\n",
        "    </tr>\n",
        "    <tr>\n",
        "      <th>2</th>\n",
        "      <td>5</td>\n",
        "      <td>Canada</td>\n",
        "      <td>10</td>\n",
        "      <td>10</td>\n",
        "    </tr>\n",
        "    <tr>\n",
        "      <th>3</th>\n",
        "      <td>12</td>\n",
        "      <td>United States</td>\n",
        "      <td>9</td>\n",
        "      <td>7</td>\n",
        "    </tr>\n",
        "    <tr>\n",
        "      <th>4</th>\n",
        "      <td>9</td>\n",
        "      <td>Netherlands</td>\n",
        "      <td>8</td>\n",
        "      <td>7</td>\n",
        "    </tr>\n",
        "    <tr>\n",
        "      <th>5</th>\n",
        "      <td>5</td>\n",
        "      <td>Germany</td>\n",
        "      <td>8</td>\n",
        "      <td>6</td>\n",
        "    </tr>\n",
        "  </tbody>\n",
        "</table>\n",
        "</div>"
       ],
       "metadata": {},
       "output_type": "pyout",
       "prompt_number": 31,
       "text": [
        "   bronze   country_name  gold  silver\n",
        "1      10         Norway    11       5\n",
        "2       5         Canada    10      10\n",
        "3      12  United States     9       7\n",
        "4       9    Netherlands     8       7\n",
        "5       5        Germany     8       6"
       ]
      }
     ],
     "prompt_number": 31
    },
    {
     "cell_type": "code",
     "collapsed": false,
     "input": [
      "df.loc[[1,3]]"
     ],
     "language": "python",
     "metadata": {},
     "outputs": [
      {
       "html": [
        "<div style=\"max-width:1500px;overflow:auto;\">\n",
        "<table border=\"1\" class=\"dataframe\">\n",
        "  <thead>\n",
        "    <tr style=\"text-align: right;\">\n",
        "      <th></th>\n",
        "      <th>bronze</th>\n",
        "      <th>country_name</th>\n",
        "      <th>gold</th>\n",
        "      <th>silver</th>\n",
        "    </tr>\n",
        "  </thead>\n",
        "  <tbody>\n",
        "    <tr>\n",
        "      <th>1</th>\n",
        "      <td>10</td>\n",
        "      <td>Norway</td>\n",
        "      <td>11</td>\n",
        "      <td>5</td>\n",
        "    </tr>\n",
        "    <tr>\n",
        "      <th>3</th>\n",
        "      <td>12</td>\n",
        "      <td>United States</td>\n",
        "      <td>9</td>\n",
        "      <td>7</td>\n",
        "    </tr>\n",
        "  </tbody>\n",
        "</table>\n",
        "</div>"
       ],
       "metadata": {},
       "output_type": "pyout",
       "prompt_number": 33,
       "text": [
        "   bronze   country_name  gold  silver\n",
        "1      10         Norway    11       5\n",
        "3      12  United States     9       7"
       ]
      }
     ],
     "prompt_number": 33
    },
    {
     "cell_type": "markdown",
     "metadata": {},
     "source": [
      "using logical to subset"
     ]
    },
    {
     "cell_type": "code",
     "collapsed": false,
     "input": [
      "df[df['gold']>= 10]"
     ],
     "language": "python",
     "metadata": {},
     "outputs": [
      {
       "html": [
        "<div style=\"max-width:1500px;overflow:auto;\">\n",
        "<table border=\"1\" class=\"dataframe\">\n",
        "  <thead>\n",
        "    <tr style=\"text-align: right;\">\n",
        "      <th></th>\n",
        "      <th>bronze</th>\n",
        "      <th>country_name</th>\n",
        "      <th>gold</th>\n",
        "      <th>silver</th>\n",
        "    </tr>\n",
        "  </thead>\n",
        "  <tbody>\n",
        "    <tr>\n",
        "      <th>0</th>\n",
        "      <td>9</td>\n",
        "      <td>Russian Fed.</td>\n",
        "      <td>13</td>\n",
        "      <td>11</td>\n",
        "    </tr>\n",
        "    <tr>\n",
        "      <th>1</th>\n",
        "      <td>10</td>\n",
        "      <td>Norway</td>\n",
        "      <td>11</td>\n",
        "      <td>5</td>\n",
        "    </tr>\n",
        "    <tr>\n",
        "      <th>2</th>\n",
        "      <td>5</td>\n",
        "      <td>Canada</td>\n",
        "      <td>10</td>\n",
        "      <td>10</td>\n",
        "    </tr>\n",
        "  </tbody>\n",
        "</table>\n",
        "</div>"
       ],
       "metadata": {},
       "output_type": "pyout",
       "prompt_number": 34,
       "text": [
        "   bronze  country_name  gold  silver\n",
        "0       9  Russian Fed.    13      11\n",
        "1      10        Norway    11       5\n",
        "2       5        Canada    10      10"
       ]
      }
     ],
     "prompt_number": 34
    },
    {
     "cell_type": "code",
     "collapsed": false,
     "input": [
      "df['country_name'][df['gold']>=10]"
     ],
     "language": "python",
     "metadata": {},
     "outputs": [
      {
       "metadata": {},
       "output_type": "pyout",
       "prompt_number": 35,
       "text": [
        "0    Russian Fed.\n",
        "1          Norway\n",
        "2          Canada\n",
        "Name: country_name, dtype: object"
       ]
      }
     ],
     "prompt_number": 35
    },
    {
     "cell_type": "markdown",
     "metadata": {},
     "source": [
      "apply on dataframe"
     ]
    },
    {
     "cell_type": "code",
     "collapsed": false,
     "input": [
      "df[[\"gold\",\"silver\",\"bronze\"]].apply(np.mean)"
     ],
     "language": "python",
     "metadata": {},
     "outputs": [
      {
       "metadata": {},
       "output_type": "pyout",
       "prompt_number": 37,
       "text": [
        "gold      3.807692\n",
        "silver    3.730769\n",
        "bronze    3.807692\n",
        "dtype: float64"
       ]
      }
     ],
     "prompt_number": 37
    },
    {
     "cell_type": "markdown",
     "metadata": {},
     "source": [
      "mapping"
     ]
    },
    {
     "cell_type": "code",
     "collapsed": false,
     "input": [
      "df[\"gold\"].map(lambda x: x**2)"
     ],
     "language": "python",
     "metadata": {},
     "outputs": [
      {
       "metadata": {},
       "output_type": "pyout",
       "prompt_number": 38,
       "text": [
        "0     169\n",
        "1     121\n",
        "2     100\n",
        "3      81\n",
        "4      64\n",
        "5      64\n",
        "6      36\n",
        "7      25\n",
        "8      16\n",
        "9      16\n",
        "10     16\n",
        "11      9\n",
        "12      9\n",
        "13      4\n",
        "14      4\n",
        "15      4\n",
        "16      1\n",
        "17      1\n",
        "18      1\n",
        "19      1\n",
        "20      1\n",
        "21      0\n",
        "22      0\n",
        "23      0\n",
        "24      0\n",
        "25      0\n",
        "Name: gold, dtype: int64"
       ]
      }
     ],
     "prompt_number": 38
    },
    {
     "cell_type": "code",
     "collapsed": false,
     "input": [
      "df[[\"gold\",\"silver\",\"bronze\"]].applymap(lambda x: x**2)"
     ],
     "language": "python",
     "metadata": {},
     "outputs": [
      {
       "html": [
        "<div style=\"max-width:1500px;overflow:auto;\">\n",
        "<table border=\"1\" class=\"dataframe\">\n",
        "  <thead>\n",
        "    <tr style=\"text-align: right;\">\n",
        "      <th></th>\n",
        "      <th>gold</th>\n",
        "      <th>silver</th>\n",
        "      <th>bronze</th>\n",
        "    </tr>\n",
        "  </thead>\n",
        "  <tbody>\n",
        "    <tr>\n",
        "      <th>0</th>\n",
        "      <td>169</td>\n",
        "      <td>121</td>\n",
        "      <td>81</td>\n",
        "    </tr>\n",
        "    <tr>\n",
        "      <th>1</th>\n",
        "      <td>121</td>\n",
        "      <td>25</td>\n",
        "      <td>100</td>\n",
        "    </tr>\n",
        "    <tr>\n",
        "      <th>2</th>\n",
        "      <td>100</td>\n",
        "      <td>100</td>\n",
        "      <td>25</td>\n",
        "    </tr>\n",
        "    <tr>\n",
        "      <th>3</th>\n",
        "      <td>81</td>\n",
        "      <td>49</td>\n",
        "      <td>144</td>\n",
        "    </tr>\n",
        "    <tr>\n",
        "      <th>4</th>\n",
        "      <td>64</td>\n",
        "      <td>49</td>\n",
        "      <td>81</td>\n",
        "    </tr>\n",
        "    <tr>\n",
        "      <th>5</th>\n",
        "      <td>64</td>\n",
        "      <td>36</td>\n",
        "      <td>25</td>\n",
        "    </tr>\n",
        "    <tr>\n",
        "      <th>6</th>\n",
        "      <td>36</td>\n",
        "      <td>9</td>\n",
        "      <td>4</td>\n",
        "    </tr>\n",
        "    <tr>\n",
        "      <th>7</th>\n",
        "      <td>25</td>\n",
        "      <td>0</td>\n",
        "      <td>1</td>\n",
        "    </tr>\n",
        "    <tr>\n",
        "      <th>8</th>\n",
        "      <td>16</td>\n",
        "      <td>64</td>\n",
        "      <td>25</td>\n",
        "    </tr>\n",
        "    <tr>\n",
        "      <th>9</th>\n",
        "      <td>16</td>\n",
        "      <td>16</td>\n",
        "      <td>49</td>\n",
        "    </tr>\n",
        "    <tr>\n",
        "      <th>10</th>\n",
        "      <td>16</td>\n",
        "      <td>1</td>\n",
        "      <td>1</td>\n",
        "    </tr>\n",
        "    <tr>\n",
        "      <th>11</th>\n",
        "      <td>9</td>\n",
        "      <td>16</td>\n",
        "      <td>4</td>\n",
        "    </tr>\n",
        "    <tr>\n",
        "      <th>12</th>\n",
        "      <td>9</td>\n",
        "      <td>9</td>\n",
        "      <td>4</td>\n",
        "    </tr>\n",
        "    <tr>\n",
        "      <th>13</th>\n",
        "      <td>4</td>\n",
        "      <td>49</td>\n",
        "      <td>36</td>\n",
        "    </tr>\n",
        "    <tr>\n",
        "      <th>14</th>\n",
        "      <td>4</td>\n",
        "      <td>16</td>\n",
        "      <td>4</td>\n",
        "    </tr>\n",
        "    <tr>\n",
        "      <th>15</th>\n",
        "      <td>4</td>\n",
        "      <td>4</td>\n",
        "      <td>16</td>\n",
        "    </tr>\n",
        "    <tr>\n",
        "      <th>16</th>\n",
        "      <td>1</td>\n",
        "      <td>16</td>\n",
        "      <td>9</td>\n",
        "    </tr>\n",
        "    <tr>\n",
        "      <th>17</th>\n",
        "      <td>1</td>\n",
        "      <td>9</td>\n",
        "      <td>1</td>\n",
        "    </tr>\n",
        "    <tr>\n",
        "      <th>18</th>\n",
        "      <td>1</td>\n",
        "      <td>1</td>\n",
        "      <td>4</td>\n",
        "    </tr>\n",
        "    <tr>\n",
        "      <th>19</th>\n",
        "      <td>1</td>\n",
        "      <td>0</td>\n",
        "      <td>1</td>\n",
        "    </tr>\n",
        "    <tr>\n",
        "      <th>20</th>\n",
        "      <td>1</td>\n",
        "      <td>0</td>\n",
        "      <td>0</td>\n",
        "    </tr>\n",
        "    <tr>\n",
        "      <th>21</th>\n",
        "      <td>0</td>\n",
        "      <td>4</td>\n",
        "      <td>36</td>\n",
        "    </tr>\n",
        "    <tr>\n",
        "      <th>22</th>\n",
        "      <td>0</td>\n",
        "      <td>4</td>\n",
        "      <td>4</td>\n",
        "    </tr>\n",
        "    <tr>\n",
        "      <th>23</th>\n",
        "      <td>0</td>\n",
        "      <td>4</td>\n",
        "      <td>1</td>\n",
        "    </tr>\n",
        "    <tr>\n",
        "      <th>24</th>\n",
        "      <td>0</td>\n",
        "      <td>1</td>\n",
        "      <td>0</td>\n",
        "    </tr>\n",
        "    <tr>\n",
        "      <th>25</th>\n",
        "      <td>0</td>\n",
        "      <td>0</td>\n",
        "      <td>1</td>\n",
        "    </tr>\n",
        "  </tbody>\n",
        "</table>\n",
        "</div>"
       ],
       "metadata": {},
       "output_type": "pyout",
       "prompt_number": 39,
       "text": [
        "    gold  silver  bronze\n",
        "0    169     121      81\n",
        "1    121      25     100\n",
        "2    100     100      25\n",
        "3     81      49     144\n",
        "4     64      49      81\n",
        "5     64      36      25\n",
        "6     36       9       4\n",
        "7     25       0       1\n",
        "8     16      64      25\n",
        "9     16      16      49\n",
        "10    16       1       1\n",
        "11     9      16       4\n",
        "12     9       9       4\n",
        "13     4      49      36\n",
        "14     4      16       4\n",
        "15     4       4      16\n",
        "16     1      16       9\n",
        "17     1       9       1\n",
        "18     1       1       4\n",
        "19     1       0       1\n",
        "20     1       0       0\n",
        "21     0       4      36\n",
        "22     0       4       4\n",
        "23     0       4       1\n",
        "24     0       1       0\n",
        "25     0       0       1"
       ]
      }
     ],
     "prompt_number": 39
    },
    {
     "cell_type": "markdown",
     "metadata": {},
     "source": [
      "Quiz"
     ]
    },
    {
     "cell_type": "code",
     "collapsed": false,
     "input": [
      "def avg_medal_count():\n",
      "    '''\n",
      "    Compute the average number of bronze medals earned by countries who \n",
      "    earned at least one gold medal.  \n",
      "    \n",
      "    Save this to a variable named avg_bronze_at_least_one_gold. You do not\n",
      "    need to call the function in your code when running it in the browser -\n",
      "    the grader will do that automatically when you submit or test it.\n",
      "    \n",
      "    HINT-1:\n",
      "    You can retrieve all of the values of a Pandas column from a \n",
      "    data frame, \"df\", as follows:\n",
      "    df['column_name']\n",
      "    \n",
      "    HINT-2:\n",
      "    The numpy.mean function can accept as an argument a single\n",
      "    Pandas column. \n",
      "    \n",
      "    For example, numpy.mean(df[\"col_name\"]) would return the \n",
      "    mean of the values located in \"col_name\" of a dataframe df.\n",
      "    '''\n",
      "\n",
      "\n",
      "    countries = ['Russian Fed.', 'Norway', 'Canada', 'United States',\n",
      "                 'Netherlands', 'Germany', 'Switzerland', 'Belarus',\n",
      "                 'Austria', 'France', 'Poland', 'China', 'Korea', \n",
      "                 'Sweden', 'Czech Republic', 'Slovenia', 'Japan',\n",
      "                 'Finland', 'Great Britain', 'Ukraine', 'Slovakia',\n",
      "                 'Italy', 'Latvia', 'Australia', 'Croatia', 'Kazakhstan']\n",
      "\n",
      "    gold = [13, 11, 10, 9, 8, 8, 6, 5, 4, 4, 4, 3, 3, 2, 2, 2, 1, 1, 1, 1, 1, 0, 0, 0, 0, 0]\n",
      "    silver = [11, 5, 10, 7, 7, 6, 3, 0, 8, 4, 1, 4, 3, 7, 4, 2, 4, 3, 1, 0, 0, 2, 2, 2, 1, 0]\n",
      "    bronze = [9, 10, 5, 12, 9, 5, 2, 1, 5, 7, 1, 2, 2, 6, 2, 4, 3, 1, 2, 1, 0, 6, 2, 1, 0, 1]\n",
      "    \n",
      "    olympic_medal_counts = {'country_name':pd.Series(countries),\n",
      "                            'gold': pd.Series(gold),\n",
      "                            'silver': pd.Series(silver),\n",
      "                            'bronze': pd.Series(bronze)}\n",
      "    df = pd.DataFrame(olympic_medal_counts)\n",
      "    \n",
      "    avg_bronze_at_least_one_gold = np.mean(df[\"bronze\"][df[\"gold\"]>=1])\n",
      "\n",
      "    return avg_bronze_at_least_one_gold\n",
      "print(avg_medal_count())"
     ],
     "language": "python",
     "metadata": {},
     "outputs": [
      {
       "output_type": "stream",
       "stream": "stdout",
       "text": [
        "4.2380952381\n"
       ]
      }
     ],
     "prompt_number": 42
    },
    {
     "cell_type": "markdown",
     "metadata": {},
     "source": [
      "Quiz "
     ]
    },
    {
     "cell_type": "code",
     "collapsed": false,
     "input": [
      "def avg_medal_count():\n",
      "    '''\n",
      "    Using the dataframe's apply method, create a new Series called \n",
      "    avg_medal_count that indicates the average number of gold, silver,\n",
      "    and bronze medals earned amongst countries who earned at \n",
      "    least one medal of any kind at the 2014 Sochi olympics.  Note that\n",
      "    the countries list already only includes countries that have earned\n",
      "    at least one medal. No additional filtering is necessary.\n",
      "    \n",
      "    You do not need to call the function in your code when running it in the\n",
      "    browser - the grader will do that automatically when you submit or test it.\n",
      "    '''\n",
      "\n",
      "    countries = ['Russian Fed.', 'Norway', 'Canada', 'United States',\n",
      "                 'Netherlands', 'Germany', 'Switzerland', 'Belarus',\n",
      "                 'Austria', 'France', 'Poland', 'China', 'Korea', \n",
      "                 'Sweden', 'Czech Republic', 'Slovenia', 'Japan',\n",
      "                 'Finland', 'Great Britain', 'Ukraine', 'Slovakia',\n",
      "                 'Italy', 'Latvia', 'Australia', 'Croatia', 'Kazakhstan']\n",
      "\n",
      "    gold = [13, 11, 10, 9, 8, 8, 6, 5, 4, 4, 4, 3, 3, 2, 2, 2, 1, 1, 1, 1, 1, 0, 0, 0, 0, 0]\n",
      "    silver = [11, 5, 10, 7, 7, 6, 3, 0, 8, 4, 1, 4, 3, 7, 4, 2, 4, 3, 1, 0, 0, 2, 2, 2, 1, 0]\n",
      "    bronze = [9, 10, 5, 12, 9, 5, 2, 1, 5, 7, 1, 2, 2, 6, 2, 4, 3, 1, 2, 1, 0, 6, 2, 1, 0, 1]\n",
      "    \n",
      "    olympic_medal_counts = {'country_name':countries,\n",
      "                            'gold': pd.Series(gold),\n",
      "                            'silver': pd.Series(silver),\n",
      "                            'bronze': pd.Series(bronze)}    \n",
      "    df = pd.DataFrame(olympic_medal_counts)\n",
      "    \n",
      "    avg_medal_count = df[[\"gold\",\"silver\",\"bronze\"]].apply(np.mean)\n",
      "    \n",
      "    return avg_medal_count\n",
      "print(avg_medal_count())"
     ],
     "language": "python",
     "metadata": {},
     "outputs": [
      {
       "output_type": "stream",
       "stream": "stdout",
       "text": [
        "gold      3.807692\n",
        "silver    3.730769\n",
        "bronze    3.807692\n",
        "dtype: float64\n"
       ]
      }
     ],
     "prompt_number": 44
    },
    {
     "cell_type": "markdown",
     "metadata": {},
     "source": [
      "Quiz"
     ]
    },
    {
     "cell_type": "code",
     "collapsed": false,
     "input": [
      "def numpy_dot():\n",
      "    '''\n",
      "    Imagine a point system in which each country is awarded 4 points for each\n",
      "    gold medal,  2 points for each silver medal, and one point for each \n",
      "    bronze medal.  \n",
      "\n",
      "    Using the numpy.dot function, create a new dataframe called \n",
      "    'olympic_points_df' that includes:\n",
      "        a) a column called 'country_name' with the country name\n",
      "        b) a column called 'points' with the total number of points the country\n",
      "           earned at the Sochi olympics.\n",
      "           \n",
      "    You do not need to call the function in your code when running it in the\n",
      "    browser - the grader will do that automatically when you submit or test it.\n",
      "    '''\n",
      "\n",
      "    countries = ['Russian Fed.', 'Norway', 'Canada', 'United States',\n",
      "                 'Netherlands', 'Germany', 'Switzerland', 'Belarus',\n",
      "                 'Austria', 'France', 'Poland', 'China', 'Korea', \n",
      "                 'Sweden', 'Czech Republic', 'Slovenia', 'Japan',\n",
      "                 'Finland', 'Great Britain', 'Ukraine', 'Slovakia',\n",
      "                 'Italy', 'Latvia', 'Australia', 'Croatia', 'Kazakhstan']\n",
      "\n",
      "    gold = [13, 11, 10, 9, 8, 8, 6, 5, 4, 4, 4, 3, 3, 2, 2, 2, 1, 1, 1, 1, 1, 0, 0, 0, 0, 0]\n",
      "    silver = [11, 5, 10, 7, 7, 6, 3, 0, 8, 4, 1, 4, 3, 7, 4, 2, 4, 3, 1, 0, 0, 2, 2, 2, 1, 0]\n",
      "    bronze = [9, 10, 5, 12, 9, 5, 2, 1, 5, 7, 1, 2, 2, 6, 2, 4, 3, 1, 2, 1, 0, 6, 2, 1, 0, 1]\n",
      "    \n",
      "    score = np.transpose(np.array([gold,silver,bronze])).dot(np.array([4,2,1]))\n",
      "    olympic_points_df = pd.DataFrame({\"country_name\": countries, \"points\": score})\n",
      "    return olympic_points_df\n",
      "\n",
      "print(numpy_dot())"
     ],
     "language": "python",
     "metadata": {},
     "outputs": [
      {
       "output_type": "stream",
       "stream": "stdout",
       "text": [
        "      country_name  points\n",
        "0     Russian Fed.      83\n",
        "1           Norway      64\n",
        "2           Canada      65\n",
        "3    United States      62\n",
        "4      Netherlands      55\n",
        "5          Germany      49\n",
        "6      Switzerland      32\n",
        "7          Belarus      21\n",
        "8          Austria      37\n",
        "9           France      31\n",
        "10          Poland      19\n",
        "11           China      22\n",
        "12           Korea      20\n",
        "13          Sweden      28\n",
        "14  Czech Republic      18\n",
        "15        Slovenia      16\n",
        "16           Japan      15\n",
        "17         Finland      11\n",
        "18   Great Britain       8\n",
        "19         Ukraine       5\n",
        "20        Slovakia       4\n",
        "21           Italy      10\n",
        "22          Latvia       6\n",
        "23       Australia       5\n",
        "24         Croatia       2\n",
        "25      Kazakhstan       1\n"
       ]
      }
     ],
     "prompt_number": 45
    },
    {
     "cell_type": "code",
     "collapsed": false,
     "input": [],
     "language": "python",
     "metadata": {},
     "outputs": []
    },
    {
     "cell_type": "code",
     "collapsed": false,
     "input": [],
     "language": "python",
     "metadata": {},
     "outputs": []
    },
    {
     "cell_type": "code",
     "collapsed": false,
     "input": [],
     "language": "python",
     "metadata": {},
     "outputs": []
    }
   ],
   "metadata": {}
  }
 ]
}