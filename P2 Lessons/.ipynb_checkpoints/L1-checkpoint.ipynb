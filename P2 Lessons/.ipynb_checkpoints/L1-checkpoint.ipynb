{
 "metadata": {
  "name": "",
  "signature": "sha256:da178d0194c352888369764ac27733656b5655af93042ed2f1e1fd82b805d68b"
 },
 "nbformat": 3,
 "nbformat_minor": 0,
 "worksheets": []
}